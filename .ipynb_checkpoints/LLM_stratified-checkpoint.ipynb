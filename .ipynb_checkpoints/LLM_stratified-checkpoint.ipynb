{
 "cells": [
  {
   "cell_type": "markdown",
   "metadata": {},
   "source": [
    "# **Sentiment Analysis using LLM (GPT-3.5)**"
   ]
  },
  {
   "cell_type": "code",
   "execution_count": 1,
   "metadata": {
    "scrolled": true
   },
   "outputs": [
    {
     "name": "stdout",
     "output_type": "stream",
     "text": [
      "Requirement already satisfied: openai in c:\\users\\saman\\anaconda3\\lib\\site-packages (0.28.1)\n",
      "Requirement already satisfied: requests>=2.20 in c:\\users\\saman\\anaconda3\\lib\\site-packages (from openai) (2.27.1)\n",
      "Requirement already satisfied: aiohttp in c:\\users\\saman\\anaconda3\\lib\\site-packages (from openai) (3.8.1)\n",
      "Requirement already satisfied: tqdm in c:\\users\\saman\\anaconda3\\lib\\site-packages (from openai) (4.64.0)\n",
      "Requirement already satisfied: charset-normalizer~=2.0.0 in c:\\users\\saman\\anaconda3\\lib\\site-packages (from requests>=2.20->openai) (2.0.4)\n",
      "Requirement already satisfied: urllib3<1.27,>=1.21.1 in c:\\users\\saman\\anaconda3\\lib\\site-packages (from requests>=2.20->openai) (1.26.9)\n",
      "Requirement already satisfied: certifi>=2017.4.17 in c:\\users\\saman\\anaconda3\\lib\\site-packages (from requests>=2.20->openai) (2021.10.8)\n",
      "Requirement already satisfied: idna<4,>=2.5 in c:\\users\\saman\\anaconda3\\lib\\site-packages (from requests>=2.20->openai) (3.3)\n",
      "Requirement already satisfied: yarl<2.0,>=1.0 in c:\\users\\saman\\anaconda3\\lib\\site-packages (from aiohttp->openai) (1.6.3)\n",
      "Requirement already satisfied: frozenlist>=1.1.1 in c:\\users\\saman\\anaconda3\\lib\\site-packages (from aiohttp->openai) (1.2.0)\n",
      "Requirement already satisfied: aiosignal>=1.1.2 in c:\\users\\saman\\anaconda3\\lib\\site-packages (from aiohttp->openai) (1.2.0)\n",
      "Requirement already satisfied: multidict<7.0,>=4.5 in c:\\users\\saman\\anaconda3\\lib\\site-packages (from aiohttp->openai) (5.1.0)\n",
      "Requirement already satisfied: attrs>=17.3.0 in c:\\users\\saman\\anaconda3\\lib\\site-packages (from aiohttp->openai) (21.4.0)\n",
      "Requirement already satisfied: async-timeout<5.0,>=4.0.0a3 in c:\\users\\saman\\anaconda3\\lib\\site-packages (from aiohttp->openai) (4.0.3)\n",
      "Requirement already satisfied: colorama in c:\\users\\saman\\anaconda3\\lib\\site-packages (from tqdm->openai) (0.4.4)\n"
     ]
    }
   ],
   "source": [
    "!pip install openai"
   ]
  },
  {
   "cell_type": "code",
   "execution_count": 2,
   "metadata": {},
   "outputs": [],
   "source": [
    "import openai\n",
    "import os\n",
    "\n",
    "import pandas as pd\n",
    "from dotenv import load_dotenv\n",
    "from sklearn.model_selection import train_test_split\n",
    "from sklearn.metrics import accuracy_score, precision_score, recall_score, f1_score,  classification_report\n",
    "\n",
    "load_dotenv()\n",
    "openai.api_key = os.environ.get(\"API_KEY\")"
   ]
  },
  {
   "cell_type": "markdown",
   "metadata": {},
   "source": [
    "### Loading Dataset "
   ]
  },
  {
   "cell_type": "code",
   "execution_count": 3,
   "metadata": {},
   "outputs": [],
   "source": [
    "# Load the dataset\n",
    "data = pd.read_csv(\"downsampled_dataset_10k.csv\")"
   ]
  },
  {
   "cell_type": "code",
   "execution_count": 4,
   "metadata": {},
   "outputs": [],
   "source": [
    "columns_to_drop = ['marketplace', 'review_id', 'product_parent', 'product_category', 'vine', 'helpful_votes']\n",
    "\n",
    "# Dropping the specified columns\n",
    "data.drop(columns=columns_to_drop, inplace=True)"
   ]
  },
  {
   "cell_type": "code",
   "execution_count": 5,
   "metadata": {
    "scrolled": false
   },
   "outputs": [
    {
     "data": {
      "text/html": [
       "<div>\n",
       "<style scoped>\n",
       "    .dataframe tbody tr th:only-of-type {\n",
       "        vertical-align: middle;\n",
       "    }\n",
       "\n",
       "    .dataframe tbody tr th {\n",
       "        vertical-align: top;\n",
       "    }\n",
       "\n",
       "    .dataframe thead th {\n",
       "        text-align: right;\n",
       "    }\n",
       "</style>\n",
       "<table border=\"1\" class=\"dataframe\">\n",
       "  <thead>\n",
       "    <tr style=\"text-align: right;\">\n",
       "      <th></th>\n",
       "      <th>customer_id</th>\n",
       "      <th>product_id</th>\n",
       "      <th>product_title</th>\n",
       "      <th>star_rating</th>\n",
       "      <th>total_votes</th>\n",
       "      <th>verified_purchase</th>\n",
       "      <th>review_headline</th>\n",
       "      <th>review_body</th>\n",
       "      <th>review_date</th>\n",
       "      <th>sentiment</th>\n",
       "    </tr>\n",
       "  </thead>\n",
       "  <tbody>\n",
       "    <tr>\n",
       "      <th>0</th>\n",
       "      <td>6108596</td>\n",
       "      <td>B00P8LFJ3Y</td>\n",
       "      <td>Lava HD-8000 OmniPro</td>\n",
       "      <td>5</td>\n",
       "      <td>0</td>\n",
       "      <td>Y</td>\n",
       "      <td>Five Stars</td>\n",
       "      <td>Great tv signal very good buy.I like it</td>\n",
       "      <td>2015-08-21</td>\n",
       "      <td>Positive</td>\n",
       "    </tr>\n",
       "    <tr>\n",
       "      <th>1</th>\n",
       "      <td>37870958</td>\n",
       "      <td>B00WBS32K4</td>\n",
       "      <td>PonoMusic Pono Portable Music Player</td>\n",
       "      <td>5</td>\n",
       "      <td>2</td>\n",
       "      <td>Y</td>\n",
       "      <td>Five Stars</td>\n",
       "      <td>Good sound. Fine Material. Simply perfect!</td>\n",
       "      <td>2015-08-29</td>\n",
       "      <td>Positive</td>\n",
       "    </tr>\n",
       "    <tr>\n",
       "      <th>2</th>\n",
       "      <td>38204831</td>\n",
       "      <td>B00XVT4DLO</td>\n",
       "      <td>DIVOIX® DV110 In-Ear Headphone Earbuds Lightwe...</td>\n",
       "      <td>5</td>\n",
       "      <td>0</td>\n",
       "      <td>Y</td>\n",
       "      <td>Five Stars</td>\n",
       "      <td>looks good as shown lots of base. BTW fast shi...</td>\n",
       "      <td>2015-08-22</td>\n",
       "      <td>Positive</td>\n",
       "    </tr>\n",
       "    <tr>\n",
       "      <th>3</th>\n",
       "      <td>26611731</td>\n",
       "      <td>B00N1KWERI</td>\n",
       "      <td>Eclipse 8GB 2.8\" Supra Fit Bluetooth MP3 with ...</td>\n",
       "      <td>5</td>\n",
       "      <td>0</td>\n",
       "      <td>Y</td>\n",
       "      <td>Love it!</td>\n",
       "      <td>This player is totally awesome! I has all the ...</td>\n",
       "      <td>2015-08-18</td>\n",
       "      <td>Positive</td>\n",
       "    </tr>\n",
       "    <tr>\n",
       "      <th>4</th>\n",
       "      <td>47611641</td>\n",
       "      <td>B004LTEUDO</td>\n",
       "      <td>Mediabridge 3.5mm Male To Male Stereo Audio Ca...</td>\n",
       "      <td>5</td>\n",
       "      <td>0</td>\n",
       "      <td>Y</td>\n",
       "      <td>High Quality Cable</td>\n",
       "      <td>Very quick delivery and high quality. Sound is...</td>\n",
       "      <td>2015-08-20</td>\n",
       "      <td>Positive</td>\n",
       "    </tr>\n",
       "  </tbody>\n",
       "</table>\n",
       "</div>"
      ],
      "text/plain": [
       "   customer_id  product_id                                      product_title  \\\n",
       "0      6108596  B00P8LFJ3Y                               Lava HD-8000 OmniPro   \n",
       "1     37870958  B00WBS32K4               PonoMusic Pono Portable Music Player   \n",
       "2     38204831  B00XVT4DLO  DIVOIX® DV110 In-Ear Headphone Earbuds Lightwe...   \n",
       "3     26611731  B00N1KWERI  Eclipse 8GB 2.8\" Supra Fit Bluetooth MP3 with ...   \n",
       "4     47611641  B004LTEUDO  Mediabridge 3.5mm Male To Male Stereo Audio Ca...   \n",
       "\n",
       "   star_rating  total_votes verified_purchase     review_headline  \\\n",
       "0            5            0                 Y          Five Stars   \n",
       "1            5            2                 Y          Five Stars   \n",
       "2            5            0                 Y          Five Stars   \n",
       "3            5            0                 Y            Love it!   \n",
       "4            5            0                 Y  High Quality Cable   \n",
       "\n",
       "                                         review_body review_date sentiment  \n",
       "0            Great tv signal very good buy.I like it  2015-08-21  Positive  \n",
       "1         Good sound. Fine Material. Simply perfect!  2015-08-29  Positive  \n",
       "2  looks good as shown lots of base. BTW fast shi...  2015-08-22  Positive  \n",
       "3  This player is totally awesome! I has all the ...  2015-08-18  Positive  \n",
       "4  Very quick delivery and high quality. Sound is...  2015-08-20  Positive  "
      ]
     },
     "execution_count": 5,
     "metadata": {},
     "output_type": "execute_result"
    }
   ],
   "source": [
    "data.head()"
   ]
  },
  {
   "cell_type": "markdown",
   "metadata": {},
   "source": [
    "### Splitting data in Train/Validation/Test Splits "
   ]
  },
  {
   "cell_type": "code",
   "execution_count": 6,
   "metadata": {},
   "outputs": [],
   "source": [
    "# split into train, val and test data \n",
    "X_train, X_test = train_test_split(data, test_size=0.2, random_state = 42, stratify=data['sentiment'])\n",
    "X_val, X_test = train_test_split(X_test, test_size=0.5, random_state = 42, stratify=X_test['sentiment'])\n"
   ]
  },
  {
   "cell_type": "code",
   "execution_count": 7,
   "metadata": {
    "scrolled": true
   },
   "outputs": [
    {
     "data": {
      "text/html": [
       "<div>\n",
       "<style scoped>\n",
       "    .dataframe tbody tr th:only-of-type {\n",
       "        vertical-align: middle;\n",
       "    }\n",
       "\n",
       "    .dataframe tbody tr th {\n",
       "        vertical-align: top;\n",
       "    }\n",
       "\n",
       "    .dataframe thead th {\n",
       "        text-align: right;\n",
       "    }\n",
       "</style>\n",
       "<table border=\"1\" class=\"dataframe\">\n",
       "  <thead>\n",
       "    <tr style=\"text-align: right;\">\n",
       "      <th></th>\n",
       "      <th>customer_id</th>\n",
       "      <th>product_id</th>\n",
       "      <th>product_title</th>\n",
       "      <th>star_rating</th>\n",
       "      <th>total_votes</th>\n",
       "      <th>verified_purchase</th>\n",
       "      <th>review_headline</th>\n",
       "      <th>review_body</th>\n",
       "      <th>review_date</th>\n",
       "      <th>sentiment</th>\n",
       "    </tr>\n",
       "  </thead>\n",
       "  <tbody>\n",
       "    <tr>\n",
       "      <th>9205</th>\n",
       "      <td>22614796</td>\n",
       "      <td>B00XYFD5WS</td>\n",
       "      <td>100 Pack Aa Batteries Extra Heavy Duty 1.5v Wh...</td>\n",
       "      <td>5</td>\n",
       "      <td>0</td>\n",
       "      <td>Y</td>\n",
       "      <td>Five Stars</td>\n",
       "      <td>Fantastic price.</td>\n",
       "      <td>2015-08-27</td>\n",
       "      <td>Positive</td>\n",
       "    </tr>\n",
       "    <tr>\n",
       "      <th>1915</th>\n",
       "      <td>107973</td>\n",
       "      <td>B00XJFU3AA</td>\n",
       "      <td>TryAceWireless Bluetooth Waterproof Shower Spe...</td>\n",
       "      <td>5</td>\n",
       "      <td>0</td>\n",
       "      <td>Y</td>\n",
       "      <td>Nice and compact. The sound is loud and crisp....</td>\n",
       "      <td>Nice and compact. The sound is loud and crisp....</td>\n",
       "      <td>2015-08-30</td>\n",
       "      <td>Positive</td>\n",
       "    </tr>\n",
       "    <tr>\n",
       "      <th>7073</th>\n",
       "      <td>8568048</td>\n",
       "      <td>B00C7YT3OQ</td>\n",
       "      <td>SAMSUNG-Compatible ValueView 3D Glasses. Recha...</td>\n",
       "      <td>5</td>\n",
       "      <td>1</td>\n",
       "      <td>Y</td>\n",
       "      <td>Great 3D Glasses</td>\n",
       "      <td>Delivery was fast  and arrived the day it said...</td>\n",
       "      <td>2015-08-18</td>\n",
       "      <td>Positive</td>\n",
       "    </tr>\n",
       "    <tr>\n",
       "      <th>2102</th>\n",
       "      <td>48034147</td>\n",
       "      <td>B00LH81W9C</td>\n",
       "      <td>PARENT-PS-U</td>\n",
       "      <td>5</td>\n",
       "      <td>0</td>\n",
       "      <td>Y</td>\n",
       "      <td>Five Stars</td>\n",
       "      <td>I love this device.  In fact, this is the seco...</td>\n",
       "      <td>2015-08-20</td>\n",
       "      <td>Positive</td>\n",
       "    </tr>\n",
       "    <tr>\n",
       "      <th>8421</th>\n",
       "      <td>37521038</td>\n",
       "      <td>B00Q2CB5VS</td>\n",
       "      <td>Onedayshop® High Quality &amp; Speed HDMI to YPBPR...</td>\n",
       "      <td>1</td>\n",
       "      <td>0</td>\n",
       "      <td>Y</td>\n",
       "      <td>Limited use</td>\n",
       "      <td>The product works beautifully when the input i...</td>\n",
       "      <td>2015-08-29</td>\n",
       "      <td>Negative</td>\n",
       "    </tr>\n",
       "  </tbody>\n",
       "</table>\n",
       "</div>"
      ],
      "text/plain": [
       "      customer_id  product_id  \\\n",
       "9205     22614796  B00XYFD5WS   \n",
       "1915       107973  B00XJFU3AA   \n",
       "7073      8568048  B00C7YT3OQ   \n",
       "2102     48034147  B00LH81W9C   \n",
       "8421     37521038  B00Q2CB5VS   \n",
       "\n",
       "                                          product_title  star_rating  \\\n",
       "9205  100 Pack Aa Batteries Extra Heavy Duty 1.5v Wh...            5   \n",
       "1915  TryAceWireless Bluetooth Waterproof Shower Spe...            5   \n",
       "7073  SAMSUNG-Compatible ValueView 3D Glasses. Recha...            5   \n",
       "2102                                        PARENT-PS-U            5   \n",
       "8421  Onedayshop® High Quality & Speed HDMI to YPBPR...            1   \n",
       "\n",
       "      total_votes verified_purchase  \\\n",
       "9205            0                 Y   \n",
       "1915            0                 Y   \n",
       "7073            1                 Y   \n",
       "2102            0                 Y   \n",
       "8421            0                 Y   \n",
       "\n",
       "                                        review_headline  \\\n",
       "9205                                         Five Stars   \n",
       "1915  Nice and compact. The sound is loud and crisp....   \n",
       "7073                                   Great 3D Glasses   \n",
       "2102                                         Five Stars   \n",
       "8421                                        Limited use   \n",
       "\n",
       "                                            review_body review_date sentiment  \n",
       "9205                                   Fantastic price.  2015-08-27  Positive  \n",
       "1915  Nice and compact. The sound is loud and crisp....  2015-08-30  Positive  \n",
       "7073  Delivery was fast  and arrived the day it said...  2015-08-18  Positive  \n",
       "2102  I love this device.  In fact, this is the seco...  2015-08-20  Positive  \n",
       "8421  The product works beautifully when the input i...  2015-08-29  Negative  "
      ]
     },
     "execution_count": 7,
     "metadata": {},
     "output_type": "execute_result"
    }
   ],
   "source": [
    "X_test.head()"
   ]
  },
  {
   "cell_type": "code",
   "execution_count": 8,
   "metadata": {},
   "outputs": [
    {
     "data": {
      "text/plain": [
       "Positive    763\n",
       "Negative    168\n",
       "Neutral      69\n",
       "Name: sentiment, dtype: int64"
      ]
     },
     "execution_count": 8,
     "metadata": {},
     "output_type": "execute_result"
    }
   ],
   "source": [
    "X_test['sentiment'].value_counts()"
   ]
  },
  {
   "cell_type": "code",
   "execution_count": 9,
   "metadata": {
    "scrolled": true
   },
   "outputs": [
    {
     "data": {
      "text/html": [
       "<div>\n",
       "<style scoped>\n",
       "    .dataframe tbody tr th:only-of-type {\n",
       "        vertical-align: middle;\n",
       "    }\n",
       "\n",
       "    .dataframe tbody tr th {\n",
       "        vertical-align: top;\n",
       "    }\n",
       "\n",
       "    .dataframe thead th {\n",
       "        text-align: right;\n",
       "    }\n",
       "</style>\n",
       "<table border=\"1\" class=\"dataframe\">\n",
       "  <thead>\n",
       "    <tr style=\"text-align: right;\">\n",
       "      <th></th>\n",
       "      <th>star_rating</th>\n",
       "      <th>review_body</th>\n",
       "      <th>sentiment</th>\n",
       "    </tr>\n",
       "  </thead>\n",
       "  <tbody>\n",
       "    <tr>\n",
       "      <th>9205</th>\n",
       "      <td>5</td>\n",
       "      <td>Fantastic price.</td>\n",
       "      <td>Positive</td>\n",
       "    </tr>\n",
       "    <tr>\n",
       "      <th>1915</th>\n",
       "      <td>5</td>\n",
       "      <td>Nice and compact. The sound is loud and crisp....</td>\n",
       "      <td>Positive</td>\n",
       "    </tr>\n",
       "    <tr>\n",
       "      <th>7073</th>\n",
       "      <td>5</td>\n",
       "      <td>Delivery was fast  and arrived the day it said...</td>\n",
       "      <td>Positive</td>\n",
       "    </tr>\n",
       "    <tr>\n",
       "      <th>2102</th>\n",
       "      <td>5</td>\n",
       "      <td>I love this device.  In fact, this is the seco...</td>\n",
       "      <td>Positive</td>\n",
       "    </tr>\n",
       "    <tr>\n",
       "      <th>8421</th>\n",
       "      <td>1</td>\n",
       "      <td>The product works beautifully when the input i...</td>\n",
       "      <td>Negative</td>\n",
       "    </tr>\n",
       "  </tbody>\n",
       "</table>\n",
       "</div>"
      ],
      "text/plain": [
       "      star_rating                                        review_body sentiment\n",
       "9205            5                                   Fantastic price.  Positive\n",
       "1915            5  Nice and compact. The sound is loud and crisp....  Positive\n",
       "7073            5  Delivery was fast  and arrived the day it said...  Positive\n",
       "2102            5  I love this device.  In fact, this is the seco...  Positive\n",
       "8421            1  The product works beautifully when the input i...  Negative"
      ]
     },
     "execution_count": 9,
     "metadata": {},
     "output_type": "execute_result"
    }
   ],
   "source": [
    "df = X_test[[\"star_rating\", \"review_body\", \"sentiment\"]]\n",
    "df.head()"
   ]
  },
  {
   "cell_type": "markdown",
   "metadata": {},
   "source": [
    "### Using OpenAI API for sentiment generation with GPT-3.5 Model "
   ]
  },
  {
   "cell_type": "code",
   "execution_count": 10,
   "metadata": {},
   "outputs": [],
   "source": [
    "\n",
    "def get_sentiments_from_reviews(df, model=\"gpt-3.5-turbo\"):\n",
    "    sentiments = []\n",
    "\n",
    "    # Iterate over each review in the DataFrame\n",
    "    for review in df[\"review_body\"]:\n",
    "        # Creating a message as required by the API\n",
    "        prompt = f\"Analyze the sentiment of this review: '{review}'. The sentiment options are [\\\"Positive\\\", \\\"Negative\\\", \\\"Neutral\\\"]. Provide your answer without any explanation.\"\n",
    "        messages = [{\"role\": \"user\", \"content\": prompt}]\n",
    "\n",
    "        # Calling the ChatCompletion API\n",
    "        response = openai.ChatCompletion.create(\n",
    "            model=model,\n",
    "            messages=messages,\n",
    "            temperature=0,\n",
    "        )\n",
    "\n",
    "        # Extracting sentiment from the response and appending to the list\n",
    "        sentiment = response.choices[0].message[\"content\"]\n",
    "        sentiments.append(sentiment)\n",
    "\n",
    "    return sentiments\n",
    "\n",
    "\n",
    "# Get sentiments for each review\n",
    "sentiments = get_sentiments_from_reviews(df)\n"
   ]
  },
  {
   "cell_type": "code",
   "execution_count": 13,
   "metadata": {},
   "outputs": [
    {
     "name": "stdout",
     "output_type": "stream",
     "text": [
      "['Negative', 'Positive', 'Positive', 'Positive', 'Positive', 'Positive', 'Positive', 'Positive', 'Positive', 'Negative', 'Negative', 'Negative', 'Positive', 'Positive', 'Positive', 'Negative', 'Positive', 'Positive', 'Positive', 'Negative', 'Positive', 'Positive', 'Positive', 'Positive', 'Positive', 'Negative', 'Positive', 'Positive', 'Positive', 'Negative', 'Negative', 'Negative', 'Positive', 'Negative', 'Positive', 'Neutral', 'Positive', 'Negative', 'Positive', 'Positive', 'Positive', 'Positive', 'Negative', 'Positive', 'Positive', 'Negative', 'Negative', 'Positive', 'Positive', 'Negative', 'Positive', 'Positive', 'Positive', 'Positive', 'Positive', 'Positive', 'Neutral', 'Positive', 'Positive', 'Positive', 'Positive', 'Positive', 'Positive', 'Positive', 'Negative', 'Negative', 'Positive', 'Positive', 'Negative', 'Positive', 'Negative', 'Positive', 'Positive', 'Negative', 'Negative', 'Positive', 'Positive', 'Positive', 'Negative', 'Negative', 'Positive', 'Positive', 'Positive', 'Negative', 'Positive', 'Positive', 'Negative', 'Positive', 'Positive', 'Positive', 'Positive', 'Negative', 'Neutral', 'Negative', 'Negative', 'Positive', 'Positive', 'Negative', 'Negative', 'Positive', 'Negative', 'Negative', 'Positive', 'Negative', 'Positive', 'Negative', 'Positive', 'Positive', 'Positive', 'Negative', 'Positive', 'Positive', 'Neutral', 'Positive', 'Positive', 'Positive', 'Negative', 'Positive', 'Positive', 'Positive', 'Negative', 'Positive', 'Positive', 'Positive', 'Negative', 'Negative', 'Positive', 'Positive', 'Negative', 'Positive', 'Negative', 'Positive', 'Positive', 'Positive', 'Positive', 'Positive', 'Positive', 'Positive', 'Positive', 'Negative', 'Positive', 'Positive', 'Positive', 'Negative', 'Positive', 'Positive', 'Positive', 'Positive', 'Positive', 'Positive', 'Positive', 'Positive', 'Negative', 'Negative', 'Positive', 'Positive', 'Positive', 'Positive', 'Positive', 'Negative', 'Positive', 'Positive', 'Negative', 'Positive', 'Positive', 'Positive', 'Positive', 'Positive', 'Negative', 'Positive', 'Positive', 'Positive', 'Positive', 'Positive', 'Neutral', 'Positive', 'Positive', 'Positive', 'Positive', 'Positive', 'Positive', 'Negative', 'Positive', 'Positive', 'Positive', 'Positive', 'Negative', 'Positive', 'Negative', 'Positive', 'Negative', 'Negative', 'Positive', 'Positive', 'Positive', 'Positive', 'Negative', 'Positive']\n"
     ]
    }
   ],
   "source": [
    "#print(sentiments)"
   ]
  },
  {
   "cell_type": "code",
   "execution_count": 11,
   "metadata": {
    "scrolled": true
   },
   "outputs": [
    {
     "name": "stderr",
     "output_type": "stream",
     "text": [
      "C:\\Users\\saman\\AppData\\Local\\Temp\\ipykernel_16204\\3242724470.py:1: SettingWithCopyWarning: \n",
      "A value is trying to be set on a copy of a slice from a DataFrame.\n",
      "Try using .loc[row_indexer,col_indexer] = value instead\n",
      "\n",
      "See the caveats in the documentation: https://pandas.pydata.org/pandas-docs/stable/user_guide/indexing.html#returning-a-view-versus-a-copy\n",
      "  df[\"generated_sentiment\"] = sentiments\n"
     ]
    }
   ],
   "source": [
    "# Adding generated sentiments as column in test data\n",
    "df[\"generated_sentiment\"] = sentiments"
   ]
  },
  {
   "cell_type": "code",
   "execution_count": 12,
   "metadata": {},
   "outputs": [
    {
     "data": {
      "text/html": [
       "<div>\n",
       "<style scoped>\n",
       "    .dataframe tbody tr th:only-of-type {\n",
       "        vertical-align: middle;\n",
       "    }\n",
       "\n",
       "    .dataframe tbody tr th {\n",
       "        vertical-align: top;\n",
       "    }\n",
       "\n",
       "    .dataframe thead th {\n",
       "        text-align: right;\n",
       "    }\n",
       "</style>\n",
       "<table border=\"1\" class=\"dataframe\">\n",
       "  <thead>\n",
       "    <tr style=\"text-align: right;\">\n",
       "      <th></th>\n",
       "      <th>star_rating</th>\n",
       "      <th>review_body</th>\n",
       "      <th>sentiment</th>\n",
       "      <th>generated_sentiment</th>\n",
       "    </tr>\n",
       "  </thead>\n",
       "  <tbody>\n",
       "    <tr>\n",
       "      <th>9205</th>\n",
       "      <td>5</td>\n",
       "      <td>Fantastic price.</td>\n",
       "      <td>Positive</td>\n",
       "      <td>Positive</td>\n",
       "    </tr>\n",
       "    <tr>\n",
       "      <th>1915</th>\n",
       "      <td>5</td>\n",
       "      <td>Nice and compact. The sound is loud and crisp....</td>\n",
       "      <td>Positive</td>\n",
       "      <td>Positive</td>\n",
       "    </tr>\n",
       "    <tr>\n",
       "      <th>7073</th>\n",
       "      <td>5</td>\n",
       "      <td>Delivery was fast  and arrived the day it said...</td>\n",
       "      <td>Positive</td>\n",
       "      <td>Positive</td>\n",
       "    </tr>\n",
       "    <tr>\n",
       "      <th>2102</th>\n",
       "      <td>5</td>\n",
       "      <td>I love this device.  In fact, this is the seco...</td>\n",
       "      <td>Positive</td>\n",
       "      <td>Positive</td>\n",
       "    </tr>\n",
       "    <tr>\n",
       "      <th>8421</th>\n",
       "      <td>1</td>\n",
       "      <td>The product works beautifully when the input i...</td>\n",
       "      <td>Negative</td>\n",
       "      <td>Negative</td>\n",
       "    </tr>\n",
       "    <tr>\n",
       "      <th>...</th>\n",
       "      <td>...</td>\n",
       "      <td>...</td>\n",
       "      <td>...</td>\n",
       "      <td>...</td>\n",
       "    </tr>\n",
       "    <tr>\n",
       "      <th>3357</th>\n",
       "      <td>5</td>\n",
       "      <td>Works fine.</td>\n",
       "      <td>Positive</td>\n",
       "      <td>Positive</td>\n",
       "    </tr>\n",
       "    <tr>\n",
       "      <th>2157</th>\n",
       "      <td>5</td>\n",
       "      <td>Great product.</td>\n",
       "      <td>Positive</td>\n",
       "      <td>Positive</td>\n",
       "    </tr>\n",
       "    <tr>\n",
       "      <th>9632</th>\n",
       "      <td>5</td>\n",
       "      <td>Work</td>\n",
       "      <td>Positive</td>\n",
       "      <td>Neutral</td>\n",
       "    </tr>\n",
       "    <tr>\n",
       "      <th>245</th>\n",
       "      <td>5</td>\n",
       "      <td>Use it near the pool. Great sound and can answ...</td>\n",
       "      <td>Positive</td>\n",
       "      <td>Positive</td>\n",
       "    </tr>\n",
       "    <tr>\n",
       "      <th>6190</th>\n",
       "      <td>5</td>\n",
       "      <td>I love it wonderful product and the price is r...</td>\n",
       "      <td>Positive</td>\n",
       "      <td>Positive</td>\n",
       "    </tr>\n",
       "  </tbody>\n",
       "</table>\n",
       "<p>1000 rows × 4 columns</p>\n",
       "</div>"
      ],
      "text/plain": [
       "      star_rating                                        review_body  \\\n",
       "9205            5                                   Fantastic price.   \n",
       "1915            5  Nice and compact. The sound is loud and crisp....   \n",
       "7073            5  Delivery was fast  and arrived the day it said...   \n",
       "2102            5  I love this device.  In fact, this is the seco...   \n",
       "8421            1  The product works beautifully when the input i...   \n",
       "...           ...                                                ...   \n",
       "3357            5                                        Works fine.   \n",
       "2157            5                                     Great product.   \n",
       "9632            5                                               Work   \n",
       "245             5  Use it near the pool. Great sound and can answ...   \n",
       "6190            5  I love it wonderful product and the price is r...   \n",
       "\n",
       "     sentiment generated_sentiment  \n",
       "9205  Positive            Positive  \n",
       "1915  Positive            Positive  \n",
       "7073  Positive            Positive  \n",
       "2102  Positive            Positive  \n",
       "8421  Negative            Negative  \n",
       "...        ...                 ...  \n",
       "3357  Positive            Positive  \n",
       "2157  Positive            Positive  \n",
       "9632  Positive             Neutral  \n",
       "245   Positive            Positive  \n",
       "6190  Positive            Positive  \n",
       "\n",
       "[1000 rows x 4 columns]"
      ]
     },
     "execution_count": 12,
     "metadata": {},
     "output_type": "execute_result"
    }
   ],
   "source": [
    "df"
   ]
  },
  {
   "cell_type": "code",
   "execution_count": 13,
   "metadata": {},
   "outputs": [],
   "source": [
    "# Saving results as excel file for analysis\n",
    "df.to_excel(\"llm_result.xlsx\")"
   ]
  },
  {
   "cell_type": "code",
   "execution_count": 14,
   "metadata": {},
   "outputs": [
    {
     "name": "stdout",
     "output_type": "stream",
     "text": [
      "Accuracy of GPT-3.5: 0.875\n",
      "\n",
      "Precision of GPT-3.5: 0.8731753007796367\n",
      "\n",
      "Recall of GPT-3.5: 0.875\n",
      "\n",
      "F1-score of GPT-3.5: 0.8680025145643393\n",
      "\n",
      "Classification Report:\n",
      "               precision    recall  f1-score   support\n",
      "\n",
      "    Negative       0.67      0.98      0.80       168\n",
      "     Neutral       0.18      0.10      0.13        69\n",
      "    Positive       0.98      0.92      0.95       763\n",
      "\n",
      "    accuracy                           0.88      1000\n",
      "   macro avg       0.61      0.67      0.63      1000\n",
      "weighted avg       0.87      0.88      0.87      1000\n",
      "\n"
     ]
    }
   ],
   "source": [
    "\n",
    "# Calculate accuracy\n",
    "accuracy = accuracy_score(df[\"sentiment\"], df[\"generated_sentiment\"])\n",
    "\n",
    "# Calculate precision\n",
    "precision = precision_score(df[\"sentiment\"], df[\"generated_sentiment\"], average='weighted')\n",
    "\n",
    "# Calculate recall\n",
    "recall = recall_score(df[\"sentiment\"], df[\"generated_sentiment\"], average='weighted')\n",
    "\n",
    "# Calculate F1-score\n",
    "f1 = f1_score(df[\"sentiment\"], df[\"generated_sentiment\"], average='weighted')\n",
    "\n",
    "\n",
    "# Generate the classification report\n",
    "report = classification_report(df[\"sentiment\"], df[\"generated_sentiment\"])\n",
    "\n",
    "\n",
    "# Print the scores & classification report\n",
    "print(\"Accuracy of GPT-3.5:\", accuracy)\n",
    "print(\"\\nPrecision of GPT-3.5:\", precision)\n",
    "print(\"\\nRecall of GPT-3.5:\", recall)\n",
    "print(\"\\nF1-score of GPT-3.5:\", f1)\n",
    "print(\"\\nClassification Report:\\n\", report)"
   ]
  },
  {
   "cell_type": "code",
   "execution_count": null,
   "metadata": {},
   "outputs": [],
   "source": []
  },
  {
   "cell_type": "code",
   "execution_count": null,
   "metadata": {},
   "outputs": [],
   "source": []
  },
  {
   "cell_type": "code",
   "execution_count": null,
   "metadata": {},
   "outputs": [],
   "source": []
  }
 ],
 "metadata": {
  "kernelspec": {
   "display_name": "Python 3 (ipykernel)",
   "language": "python",
   "name": "python3"
  },
  "language_info": {
   "codemirror_mode": {
    "name": "ipython",
    "version": 3
   },
   "file_extension": ".py",
   "mimetype": "text/x-python",
   "name": "python",
   "nbconvert_exporter": "python",
   "pygments_lexer": "ipython3",
   "version": "3.9.12"
  }
 },
 "nbformat": 4,
 "nbformat_minor": 2
}
