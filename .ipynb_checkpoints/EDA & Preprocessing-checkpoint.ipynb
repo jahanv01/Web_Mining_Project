{
 "cells": [
  {
   "cell_type": "markdown",
   "metadata": {},
   "source": [
    "# **Exploratory Data Analysis of Downsampled Dataset**"
   ]
  },
  {
   "cell_type": "markdown",
   "metadata": {},
   "source": [
    "### Importing packages "
   ]
  },
  {
   "cell_type": "code",
   "execution_count": 1,
   "metadata": {},
   "outputs": [
    {
     "name": "stderr",
     "output_type": "stream",
     "text": [
      "[nltk_data] Downloading package punkt to\n",
      "[nltk_data]     C:\\Users\\saman\\AppData\\Roaming\\nltk_data...\n",
      "[nltk_data]   Package punkt is already up-to-date!\n",
      "[nltk_data] Downloading package wordnet to\n",
      "[nltk_data]     C:\\Users\\saman\\AppData\\Roaming\\nltk_data...\n",
      "[nltk_data]   Package wordnet is already up-to-date!\n",
      "[nltk_data] Downloading package stopwords to\n",
      "[nltk_data]     C:\\Users\\saman\\AppData\\Roaming\\nltk_data...\n",
      "[nltk_data]   Package stopwords is already up-to-date!\n"
     ]
    },
    {
     "data": {
      "text/plain": [
       "True"
      ]
     },
     "execution_count": 1,
     "metadata": {},
     "output_type": "execute_result"
    }
   ],
   "source": [
    "import pandas as pd\n",
    "import numpy as np\n",
    "import matplotlib.pyplot as plt\n",
    "import seaborn as sns\n",
    "from datetime import datetime\n",
    "import nltk\n",
    "from nltk.corpus import stopwords\n",
    "from nltk.tokenize import word_tokenize\n",
    "from nltk.stem import WordNetLemmatizer\n",
    "from nltk.stem import PorterStemmer\n",
    "import string\n",
    "import re\n",
    "\n",
    "# Download NLTK resources\n",
    "nltk.download('punkt')\n",
    "nltk.download('wordnet')\n",
    "nltk.download('stopwords')"
   ]
  },
  {
   "cell_type": "markdown",
   "metadata": {},
   "source": [
    "### Loading dataset "
   ]
  },
  {
   "cell_type": "code",
   "execution_count": 2,
   "metadata": {},
   "outputs": [],
   "source": [
    "# Load the dataset\n",
    "df = pd.read_csv(\"downsampled_dataset_10k.csv\")"
   ]
  },
  {
   "cell_type": "markdown",
   "metadata": {},
   "source": [
    "## **Exploratory Data Analysis**"
   ]
  },
  {
   "cell_type": "code",
   "execution_count": 3,
   "metadata": {},
   "outputs": [
    {
     "name": "stdout",
     "output_type": "stream",
     "text": [
      "(9999, 16)\n"
     ]
    },
    {
     "data": {
      "text/html": [
       "<div>\n",
       "<style scoped>\n",
       "    .dataframe tbody tr th:only-of-type {\n",
       "        vertical-align: middle;\n",
       "    }\n",
       "\n",
       "    .dataframe tbody tr th {\n",
       "        vertical-align: top;\n",
       "    }\n",
       "\n",
       "    .dataframe thead th {\n",
       "        text-align: right;\n",
       "    }\n",
       "</style>\n",
       "<table border=\"1\" class=\"dataframe\">\n",
       "  <thead>\n",
       "    <tr style=\"text-align: right;\">\n",
       "      <th></th>\n",
       "      <th>marketplace</th>\n",
       "      <th>customer_id</th>\n",
       "      <th>review_id</th>\n",
       "      <th>product_id</th>\n",
       "      <th>product_parent</th>\n",
       "      <th>product_title</th>\n",
       "      <th>product_category</th>\n",
       "      <th>star_rating</th>\n",
       "      <th>helpful_votes</th>\n",
       "      <th>total_votes</th>\n",
       "      <th>vine</th>\n",
       "      <th>verified_purchase</th>\n",
       "      <th>review_headline</th>\n",
       "      <th>review_body</th>\n",
       "      <th>review_date</th>\n",
       "      <th>sentiment</th>\n",
       "    </tr>\n",
       "  </thead>\n",
       "  <tbody>\n",
       "    <tr>\n",
       "      <th>0</th>\n",
       "      <td>US</td>\n",
       "      <td>6108596</td>\n",
       "      <td>RN8YG8Q0AS227</td>\n",
       "      <td>B00P8LFJ3Y</td>\n",
       "      <td>406643994</td>\n",
       "      <td>Lava HD-8000 OmniPro</td>\n",
       "      <td>Electronics</td>\n",
       "      <td>5</td>\n",
       "      <td>0</td>\n",
       "      <td>0</td>\n",
       "      <td>N</td>\n",
       "      <td>Y</td>\n",
       "      <td>Five Stars</td>\n",
       "      <td>Great tv signal very good buy.I like it</td>\n",
       "      <td>2015-08-21</td>\n",
       "      <td>Positive</td>\n",
       "    </tr>\n",
       "    <tr>\n",
       "      <th>1</th>\n",
       "      <td>US</td>\n",
       "      <td>37870958</td>\n",
       "      <td>R1U4X7M4TMY84A</td>\n",
       "      <td>B00WBS32K4</td>\n",
       "      <td>527761468</td>\n",
       "      <td>PonoMusic Pono Portable Music Player</td>\n",
       "      <td>Electronics</td>\n",
       "      <td>5</td>\n",
       "      <td>1</td>\n",
       "      <td>2</td>\n",
       "      <td>N</td>\n",
       "      <td>Y</td>\n",
       "      <td>Five Stars</td>\n",
       "      <td>Good sound. Fine Material. Simply perfect!</td>\n",
       "      <td>2015-08-29</td>\n",
       "      <td>Positive</td>\n",
       "    </tr>\n",
       "    <tr>\n",
       "      <th>2</th>\n",
       "      <td>US</td>\n",
       "      <td>38204831</td>\n",
       "      <td>R291XVGVS56XGR</td>\n",
       "      <td>B00XVT4DLO</td>\n",
       "      <td>80192107</td>\n",
       "      <td>DIVOIX® DV110 In-Ear Headphone Earbuds Lightwe...</td>\n",
       "      <td>Electronics</td>\n",
       "      <td>5</td>\n",
       "      <td>0</td>\n",
       "      <td>0</td>\n",
       "      <td>N</td>\n",
       "      <td>Y</td>\n",
       "      <td>Five Stars</td>\n",
       "      <td>looks good as shown lots of base. BTW fast shi...</td>\n",
       "      <td>2015-08-22</td>\n",
       "      <td>Positive</td>\n",
       "    </tr>\n",
       "    <tr>\n",
       "      <th>3</th>\n",
       "      <td>US</td>\n",
       "      <td>26611731</td>\n",
       "      <td>R2Y9PUSXVAMOUU</td>\n",
       "      <td>B00N1KWERI</td>\n",
       "      <td>97589125</td>\n",
       "      <td>Eclipse 8GB 2.8\" Supra Fit Bluetooth MP3 with ...</td>\n",
       "      <td>Electronics</td>\n",
       "      <td>5</td>\n",
       "      <td>0</td>\n",
       "      <td>0</td>\n",
       "      <td>N</td>\n",
       "      <td>Y</td>\n",
       "      <td>Love it!</td>\n",
       "      <td>This player is totally awesome! I has all the ...</td>\n",
       "      <td>2015-08-18</td>\n",
       "      <td>Positive</td>\n",
       "    </tr>\n",
       "    <tr>\n",
       "      <th>4</th>\n",
       "      <td>US</td>\n",
       "      <td>47611641</td>\n",
       "      <td>R1O2U9QMV39FK2</td>\n",
       "      <td>B004LTEUDO</td>\n",
       "      <td>533949740</td>\n",
       "      <td>Mediabridge 3.5mm Male To Male Stereo Audio Ca...</td>\n",
       "      <td>Electronics</td>\n",
       "      <td>5</td>\n",
       "      <td>0</td>\n",
       "      <td>0</td>\n",
       "      <td>N</td>\n",
       "      <td>Y</td>\n",
       "      <td>High Quality Cable</td>\n",
       "      <td>Very quick delivery and high quality. Sound is...</td>\n",
       "      <td>2015-08-20</td>\n",
       "      <td>Positive</td>\n",
       "    </tr>\n",
       "  </tbody>\n",
       "</table>\n",
       "</div>"
      ],
      "text/plain": [
       "  marketplace  customer_id       review_id  product_id  product_parent  \\\n",
       "0          US      6108596   RN8YG8Q0AS227  B00P8LFJ3Y       406643994   \n",
       "1          US     37870958  R1U4X7M4TMY84A  B00WBS32K4       527761468   \n",
       "2          US     38204831  R291XVGVS56XGR  B00XVT4DLO        80192107   \n",
       "3          US     26611731  R2Y9PUSXVAMOUU  B00N1KWERI        97589125   \n",
       "4          US     47611641  R1O2U9QMV39FK2  B004LTEUDO       533949740   \n",
       "\n",
       "                                       product_title product_category  \\\n",
       "0                               Lava HD-8000 OmniPro      Electronics   \n",
       "1               PonoMusic Pono Portable Music Player      Electronics   \n",
       "2  DIVOIX® DV110 In-Ear Headphone Earbuds Lightwe...      Electronics   \n",
       "3  Eclipse 8GB 2.8\" Supra Fit Bluetooth MP3 with ...      Electronics   \n",
       "4  Mediabridge 3.5mm Male To Male Stereo Audio Ca...      Electronics   \n",
       "\n",
       "   star_rating  helpful_votes  total_votes vine verified_purchase  \\\n",
       "0            5              0            0    N                 Y   \n",
       "1            5              1            2    N                 Y   \n",
       "2            5              0            0    N                 Y   \n",
       "3            5              0            0    N                 Y   \n",
       "4            5              0            0    N                 Y   \n",
       "\n",
       "      review_headline                                        review_body  \\\n",
       "0          Five Stars            Great tv signal very good buy.I like it   \n",
       "1          Five Stars         Good sound. Fine Material. Simply perfect!   \n",
       "2          Five Stars  looks good as shown lots of base. BTW fast shi...   \n",
       "3            Love it!  This player is totally awesome! I has all the ...   \n",
       "4  High Quality Cable  Very quick delivery and high quality. Sound is...   \n",
       "\n",
       "  review_date sentiment  \n",
       "0  2015-08-21  Positive  \n",
       "1  2015-08-29  Positive  \n",
       "2  2015-08-22  Positive  \n",
       "3  2015-08-18  Positive  \n",
       "4  2015-08-20  Positive  "
      ]
     },
     "execution_count": 3,
     "metadata": {},
     "output_type": "execute_result"
    }
   ],
   "source": [
    "print(df.shape)\n",
    "df.head()"
   ]
  },
  {
   "cell_type": "code",
   "execution_count": 4,
   "metadata": {},
   "outputs": [
    {
     "name": "stdout",
     "output_type": "stream",
     "text": [
      "marketplace          object\n",
      "customer_id           int64\n",
      "review_id            object\n",
      "product_id           object\n",
      "product_parent        int64\n",
      "product_title        object\n",
      "product_category     object\n",
      "star_rating           int64\n",
      "helpful_votes         int64\n",
      "total_votes           int64\n",
      "vine                 object\n",
      "verified_purchase    object\n",
      "review_headline      object\n",
      "review_body          object\n",
      "review_date          object\n",
      "sentiment            object\n",
      "dtype: object\n"
     ]
    }
   ],
   "source": [
    "print(df.dtypes)"
   ]
  },
  {
   "cell_type": "markdown",
   "metadata": {},
   "source": [
    "### Checking for missing values "
   ]
  },
  {
   "cell_type": "code",
   "execution_count": 5,
   "metadata": {
    "scrolled": false
   },
   "outputs": [
    {
     "name": "stdout",
     "output_type": "stream",
     "text": [
      "marketplace          False\n",
      "customer_id          False\n",
      "review_id            False\n",
      "product_id           False\n",
      "product_parent       False\n",
      "product_title        False\n",
      "product_category     False\n",
      "star_rating          False\n",
      "helpful_votes        False\n",
      "total_votes          False\n",
      "vine                 False\n",
      "verified_purchase    False\n",
      "review_headline      False\n",
      "review_body          False\n",
      "review_date          False\n",
      "sentiment            False\n",
      "dtype: bool\n"
     ]
    }
   ],
   "source": [
    "print(df.isnull().any())"
   ]
  },
  {
   "cell_type": "markdown",
   "metadata": {},
   "source": [
    "### Histogram of reviews by date "
   ]
  },
  {
   "cell_type": "code",
   "execution_count": 6,
   "metadata": {},
   "outputs": [
    {
     "data": {
      "image/png": "[encoded data removed]",
      "text/plain": [
       "<Figure size 432x288 with 1 Axes>"
      ]
     },
     "metadata": {
      "needs_background": "light"
     },
     "output_type": "display_data"
    }
   ],
   "source": [
    "# histogram of number of reviews per date\n",
    "df[\"review_date\"] = pd.to_datetime(df[\"review_date\"])\n",
    "fig, ax = plt.subplots()\n",
    "df[\"review_date\"].dt.day.plot(kind=\"hist\", title=\"number of reviews per date\", ax=ax)\n",
    "\n",
    "plt.show()"
   ]
  },
  {
   "cell_type": "markdown",
   "metadata": {},
   "source": [
    "### Exploring customer and product attributes "
   ]
  },
  {
   "cell_type": "code",
   "execution_count": 7,
   "metadata": {},
   "outputs": [
    {
     "data": {
      "text/plain": [
       "count    9574.000000\n",
       "mean        1.044391\n",
       "std         0.245323\n",
       "min         1.000000\n",
       "25%         1.000000\n",
       "50%         1.000000\n",
       "75%         1.000000\n",
       "max         5.000000\n",
       "Name: customer_id, dtype: float64"
      ]
     },
     "execution_count": 7,
     "metadata": {},
     "output_type": "execute_result"
    }
   ],
   "source": [
    "# number of reviews per customer\n",
    "df[\"customer_id\"].value_counts().describe()"
   ]
  },
  {
   "cell_type": "code",
   "execution_count": 8,
   "metadata": {},
   "outputs": [
    {
     "data": {
      "text/plain": [
       "45305078    5\n",
       "20936189    5\n",
       "16432268    5\n",
       "36808864    4\n",
       "26345164    4\n",
       "           ..\n",
       "35817660    1\n",
       "747608      1\n",
       "17660980    1\n",
       "51977438    1\n",
       "10766225    1\n",
       "Name: customer_id, Length: 9574, dtype: int64"
      ]
     },
     "execution_count": 8,
     "metadata": {},
     "output_type": "execute_result"
    }
   ],
   "source": [
    "df[\"customer_id\"].value_counts()"
   ]
  },
  {
   "cell_type": "code",
   "execution_count": 9,
   "metadata": {},
   "outputs": [
    {
     "name": "stdout",
     "output_type": "stream",
     "text": [
      "Number of unique customers:  9574\n"
     ]
    }
   ],
   "source": [
    "unique_customers = df[\"customer_id\"].nunique()\n",
    "print(\"Number of unique customers: \", unique_customers)\n"
   ]
  },
  {
   "cell_type": "code",
   "execution_count": 10,
   "metadata": {},
   "outputs": [
    {
     "data": {
      "text/plain": [
       "B003EM8008    51\n",
       "B003L1ZYYM    43\n",
       "B00F5NE2KG    41\n",
       "B00MITLPX2    27\n",
       "B00NXET2MM    26\n",
       "              ..\n",
       "B00RD58T3U     1\n",
       "B005YXXTDS     1\n",
       "B00192CBMI     1\n",
       "B0064SZ5K2     1\n",
       "B002J9WTXQ     1\n",
       "Name: product_id, Length: 6179, dtype: int64"
      ]
     },
     "execution_count": 10,
     "metadata": {},
     "output_type": "execute_result"
    }
   ],
   "source": [
    "# number of reviews per product\n",
    "df[\"product_id\"].value_counts()"
   ]
  },
  {
   "cell_type": "code",
   "execution_count": 11,
   "metadata": {},
   "outputs": [
    {
     "data": {
      "text/plain": [
       "count    6179.000000\n",
       "mean        1.618223\n",
       "std         2.037222\n",
       "min         1.000000\n",
       "25%         1.000000\n",
       "50%         1.000000\n",
       "75%         1.000000\n",
       "max        51.000000\n",
       "Name: product_id, dtype: float64"
      ]
     },
     "execution_count": 11,
     "metadata": {},
     "output_type": "execute_result"
    }
   ],
   "source": [
    "df[\"product_id\"].value_counts().describe()"
   ]
  },
  {
   "cell_type": "code",
   "execution_count": 12,
   "metadata": {},
   "outputs": [
    {
     "name": "stdout",
     "output_type": "stream",
     "text": [
      "Number of unique products:  6179\n"
     ]
    }
   ],
   "source": [
    "unique_products = df[\"product_id\"].nunique()\n",
    "print(\"Number of unique products: \", unique_products)"
   ]
  },
  {
   "cell_type": "code",
   "execution_count": 13,
   "metadata": {},
   "outputs": [
    {
     "data": {
      "image/png": "[encoded data removed]",
      "text/plain": [
       "<Figure size 432x288 with 1 Axes>"
      ]
     },
     "metadata": {},
     "output_type": "display_data"
    }
   ],
   "source": [
    "# number of verified vs. unverified purchases\n",
    "df[\"verified_purchase\"].value_counts().plot(kind=\"pie\", autopct='%1.1f%%', title=\"share of verified vs. unverified purchases\")\n",
    "\n",
    "plt.show()"
   ]
  },
  {
   "cell_type": "markdown",
   "metadata": {},
   "source": [
    "### Distribution of Rating "
   ]
  },
  {
   "cell_type": "code",
   "execution_count": 14,
   "metadata": {},
   "outputs": [
    {
     "data": {
      "image/png": "[encoded data removed]",
      "text/plain": [
       "<Figure size 432x288 with 1 Axes>"
      ]
     },
     "metadata": {
      "needs_background": "light"
     },
     "output_type": "display_data"
    }
   ],
   "source": [
    "# distribution of rating\n",
    "sns.countplot(x=df['star_rating'])\n",
    "\n",
    "plt.title('Distribution of rating scores')\n",
    "plt.xlabel('Rating')\n",
    "plt.ylabel('Count')\n",
    "plt.show()"
   ]
  },
  {
   "cell_type": "code",
   "execution_count": 15,
   "metadata": {
    "scrolled": true
   },
   "outputs": [
    {
     "data": {
      "image/png": "[encoded data removed]",
      "text/plain": [
       "<Figure size 432x288 with 1 Axes>"
      ]
     },
     "metadata": {},
     "output_type": "display_data"
    }
   ],
   "source": [
    "# pie chart for number of reviews per star rating\n",
    "df[\"star_rating\"].value_counts().sort_index().plot(kind=\"pie\", autopct='%1.1f%%', title=\"share of reviews per star rating\")\n",
    "\n",
    "plt.show()"
   ]
  },
  {
   "cell_type": "markdown",
   "metadata": {},
   "source": [
    "### Distribution of Sentiment Labels "
   ]
  },
  {
   "cell_type": "code",
   "execution_count": 16,
   "metadata": {},
   "outputs": [
    {
     "name": "stdout",
     "output_type": "stream",
     "text": [
      "Positive    0.763576\n",
      "Negative    0.168017\n",
      "Neutral     0.068407\n",
      "Name: sentiment, dtype: float64\n"
     ]
    }
   ],
   "source": [
    "# Calculate sentiment distribution\n",
    "sentiment_distribution = df['sentiment'].value_counts(normalize = True)\n",
    "print(sentiment_distribution)"
   ]
  },
  {
   "cell_type": "code",
   "execution_count": 17,
   "metadata": {
    "scrolled": true
   },
   "outputs": [
    {
     "data": {
      "image/png": "[encoded data removed]",
      "text/plain": [
       "<Figure size 432x288 with 1 Axes>"
      ]
     },
     "metadata": {
      "needs_background": "light"
     },
     "output_type": "display_data"
    }
   ],
   "source": [
    "# Plot the sentiment distribution\n",
    "sns.countplot(x=df['sentiment'])\n",
    "\n",
    "plt.title('Distribution of Sentiment Labels')\n",
    "plt.xlabel('Sentiment')\n",
    "plt.ylabel('Count')\n",
    "plt.show()"
   ]
  },
  {
   "cell_type": "code",
   "execution_count": 18,
   "metadata": {
    "scrolled": true
   },
   "outputs": [
    {
     "data": {
      "image/png": "[encoded data removed]",
      "text/plain": [
       "<Figure size 432x288 with 1 Axes>"
      ]
     },
     "metadata": {},
     "output_type": "display_data"
    }
   ],
   "source": [
    "# Sentiment Distribution\n",
    "df[\"sentiment\"].value_counts().plot(kind=\"pie\", autopct='%1.1f%%', title=\"Distribution of Sentiment Labels\")\n",
    "\n",
    "plt.show()"
   ]
  },
  {
   "cell_type": "markdown",
   "metadata": {},
   "source": [
    "### Word Counts per Review "
   ]
  },
  {
   "cell_type": "code",
   "execution_count": 19,
   "metadata": {},
   "outputs": [],
   "source": [
    "df_tokens = df.copy()\n",
    "df_tokens[\"tokens_review\"] = df_tokens[\"review_body\"].map(word_tokenize)\n",
    "\n",
    "df_tokens[\"num_tokens_review\"] = df_tokens[\"tokens_review\"].map(len)"
   ]
  },
  {
   "cell_type": "code",
   "execution_count": 20,
   "metadata": {},
   "outputs": [
    {
     "name": "stdout",
     "output_type": "stream",
     "text": [
      "Average number of words in review: 48 words\n",
      "Max number of words in review: 3545 words\n"
     ]
    },
    {
     "data": {
      "image/png": "[encoded data removed]",
      "text/plain": [
       "<Figure size 576x432 with 1 Axes>"
      ]
     },
     "metadata": {
      "needs_background": "light"
     },
     "output_type": "display_data"
    }
   ],
   "source": [
    "print(f\"Average number of words in review: {int(df_tokens['num_tokens_review'].mean())} words\")\n",
    "\n",
    "print(f\"Max number of words in review: {int(df_tokens['num_tokens_review'].max())} words\")\n",
    "\n",
    "fig, ax = plt.subplots(figsize=(8, 6)) \n",
    "\n",
    "df_tokens.groupby(\"sentiment\").num_tokens_review.mean().plot.bar(\n",
    "    x=\"sentiment\", y=\"num_tokens_review\", ax=ax, rot=0 )\n",
    "\n",
    "ax.set_title(\"Average number of words in review per sentiment\")\n",
    "\n",
    "plt.show()\n"
   ]
  },
  {
   "cell_type": "markdown",
   "metadata": {},
   "source": [
    "# **Text Preprocessing**\n"
   ]
  },
  {
   "cell_type": "code",
   "execution_count": 23,
   "metadata": {
    "scrolled": true
   },
   "outputs": [
    {
     "data": {
      "text/html": [
       "<div>\n",
       "<style scoped>\n",
       "    .dataframe tbody tr th:only-of-type {\n",
       "        vertical-align: middle;\n",
       "    }\n",
       "\n",
       "    .dataframe tbody tr th {\n",
       "        vertical-align: top;\n",
       "    }\n",
       "\n",
       "    .dataframe thead th {\n",
       "        text-align: right;\n",
       "    }\n",
       "</style>\n",
       "<table border=\"1\" class=\"dataframe\">\n",
       "  <thead>\n",
       "    <tr style=\"text-align: right;\">\n",
       "      <th></th>\n",
       "      <th>review_body</th>\n",
       "      <th>sentiment</th>\n",
       "    </tr>\n",
       "  </thead>\n",
       "  <tbody>\n",
       "    <tr>\n",
       "      <th>0</th>\n",
       "      <td>Great tv signal very good buy.I like it</td>\n",
       "      <td>Positive</td>\n",
       "    </tr>\n",
       "    <tr>\n",
       "      <th>1</th>\n",
       "      <td>Good sound. Fine Material. Simply perfect!</td>\n",
       "      <td>Positive</td>\n",
       "    </tr>\n",
       "    <tr>\n",
       "      <th>2</th>\n",
       "      <td>looks good as shown lots of base. BTW fast shi...</td>\n",
       "      <td>Positive</td>\n",
       "    </tr>\n",
       "    <tr>\n",
       "      <th>3</th>\n",
       "      <td>This player is totally awesome! I has all the ...</td>\n",
       "      <td>Positive</td>\n",
       "    </tr>\n",
       "    <tr>\n",
       "      <th>4</th>\n",
       "      <td>Very quick delivery and high quality. Sound is...</td>\n",
       "      <td>Positive</td>\n",
       "    </tr>\n",
       "  </tbody>\n",
       "</table>\n",
       "</div>"
      ],
      "text/plain": [
       "                                         review_body sentiment\n",
       "0            Great tv signal very good buy.I like it  Positive\n",
       "1         Good sound. Fine Material. Simply perfect!  Positive\n",
       "2  looks good as shown lots of base. BTW fast shi...  Positive\n",
       "3  This player is totally awesome! I has all the ...  Positive\n",
       "4  Very quick delivery and high quality. Sound is...  Positive"
      ]
     },
     "execution_count": 23,
     "metadata": {},
     "output_type": "execute_result"
    }
   ],
   "source": [
    "# Actually we only need the content(i.e. review) & the sentiment for classification\n",
    "df = df[[\"review_body\", \"sentiment\"]]\n",
    "df.head()"
   ]
  },
  {
   "cell_type": "code",
   "execution_count": 24,
   "metadata": {},
   "outputs": [
    {
     "data": {
      "text/plain": [
       "\"These Philips in-ear headphones are a good, solid choice if you need something portable for general listening when  traveling or working out.<br />They are well constructed and include three sizes of silicone earbud covers. I have not had any problems with these staying in place but I don't usually use them during intense workouts.<br />Small sliders help prevent the cords from getting tangled.<br />The sound is definitely an improvement over any OEM or budget earbuds that I own - these provide good, decent, sound quality for the average user listening to music or watching movies.<br />I did not notice any enhanced base at all, which really wasn't a concern for me but a surprise since they are promoted as having a strong bass boost.<br />But I still like the quality of construction, fit and portability and think these are a good choice for general listening.\""
      ]
     },
     "execution_count": 24,
     "metadata": {},
     "output_type": "execute_result"
    }
   ],
   "source": [
    "df.review_body[150]"
   ]
  },
  {
   "cell_type": "code",
   "execution_count": 25,
   "metadata": {},
   "outputs": [
    {
     "data": {
      "text/plain": [
       "'Great product great price wonderful seller, Thanks'"
      ]
     },
     "execution_count": 25,
     "metadata": {},
     "output_type": "execute_result"
    }
   ],
   "source": [
    "df.review_body[99]"
   ]
  },
  {
   "cell_type": "code",
   "execution_count": 27,
   "metadata": {
    "scrolled": true
   },
   "outputs": [
    {
     "data": {
      "text/plain": [
       "'It works okay.'"
      ]
     },
     "execution_count": 27,
     "metadata": {},
     "output_type": "execute_result"
    }
   ],
   "source": [
    "df.review_body[1550]"
   ]
  },
  {
   "cell_type": "code",
   "execution_count": 28,
   "metadata": {},
   "outputs": [],
   "source": [
    "# Text normalization\n",
    "def normalize_text(text):\n",
    "    # Convert text to lowercase\n",
    "    text = text.lower()\n",
    "    return text\n",
    "\n",
    "# Removing punctuation (not used)\n",
    "def remove_punctuation(text):\n",
    "    text = str(text)\n",
    "    punctuations = string.punctuation\n",
    "    return text.translate(str.maketrans('', '', punctuations))\n",
    "\n",
    "# Removing special characters (not used)\n",
    "def remove_spec_char(text):\n",
    "    text = str(text)\n",
    "    text = re.sub('[^a-zA-Z0-9]', ' ', text)\n",
    "    text = re.sub('\\s+', ' ', text)\n",
    "    return text\n",
    "\n",
    "# Tokenization & Stopword removal\n",
    "def remove_stopwords(text):\n",
    "    stop_words = set(stopwords.words('english'))\n",
    "    tokens = word_tokenize(text)\n",
    "    return ' '.join([word for word in tokens if word not in stop_words])\n",
    "\n",
    "# Lemmatization (not used)\n",
    "def lemmatize_text(text):\n",
    "    tokens = word_tokenize(text)\n",
    "    lemmatizer = WordNetLemmatizer()\n",
    "    return ' '.join([lemmatizer.lemmatize(word) for word in tokens])\n",
    "    #return lemmatized_tokens\n",
    "\n",
    "# Stemming \n",
    "def stem_words(text):\n",
    "    ps = PorterStemmer()\n",
    "    return ' '.join([ps.stem(word) for word in text.split()])\n"
   ]
  },
  {
   "cell_type": "code",
   "execution_count": 29,
   "metadata": {},
   "outputs": [],
   "source": [
    "# Apply preprocessing steps\n",
    "\n",
    "# lowercase words, remove punctuation & special characters\n",
    "df[\"review_body\"] = df[\"review_body\"].apply(normalize_text)\n",
    "#df[\"review_body\"] = df[\"review_body\"].apply(remove_punctuation)\n",
    "#df[\"review_body\"] = df[\"review_body\"].apply(remove_spec_char)\n",
    "\n",
    "#tokenization and stopwords removal, stemming or lemmatization\n",
    "df[\"review_body\"] = df[\"review_body\"].apply(remove_stopwords)\n",
    "#df[\"review_body\"] = df[\"review_body\"].apply(lemmatize_text)\n",
    "df[\"review_body\"] = df[\"review_body\"].apply(stem_words)"
   ]
  },
  {
   "cell_type": "code",
   "execution_count": 30,
   "metadata": {},
   "outputs": [
    {
     "data": {
      "text/html": [
       "<div>\n",
       "<style scoped>\n",
       "    .dataframe tbody tr th:only-of-type {\n",
       "        vertical-align: middle;\n",
       "    }\n",
       "\n",
       "    .dataframe tbody tr th {\n",
       "        vertical-align: top;\n",
       "    }\n",
       "\n",
       "    .dataframe thead th {\n",
       "        text-align: right;\n",
       "    }\n",
       "</style>\n",
       "<table border=\"1\" class=\"dataframe\">\n",
       "  <thead>\n",
       "    <tr style=\"text-align: right;\">\n",
       "      <th></th>\n",
       "      <th>review_body</th>\n",
       "      <th>sentiment</th>\n",
       "    </tr>\n",
       "  </thead>\n",
       "  <tbody>\n",
       "    <tr>\n",
       "      <th>0</th>\n",
       "      <td>great tv signal good buy.i like</td>\n",
       "      <td>Positive</td>\n",
       "    </tr>\n",
       "    <tr>\n",
       "      <th>1</th>\n",
       "      <td>good sound . fine materi . simpli perfect !</td>\n",
       "      <td>Positive</td>\n",
       "    </tr>\n",
       "    <tr>\n",
       "      <th>2</th>\n",
       "      <td>look good shown lot base . btw fast ship recei...</td>\n",
       "      <td>Positive</td>\n",
       "    </tr>\n",
       "    <tr>\n",
       "      <th>3</th>\n",
       "      <td>player total awesom ! featur need , ( somehow ...</td>\n",
       "      <td>Positive</td>\n",
       "    </tr>\n",
       "    <tr>\n",
       "      <th>4</th>\n",
       "      <td>quick deliveri high qualiti . sound great cabl...</td>\n",
       "      <td>Positive</td>\n",
       "    </tr>\n",
       "    <tr>\n",
       "      <th>5</th>\n",
       "      <td>awesom</td>\n",
       "      <td>Positive</td>\n",
       "    </tr>\n",
       "    <tr>\n",
       "      <th>6</th>\n",
       "      <td>extrem nice qualiti , especi price . boyfriend...</td>\n",
       "      <td>Positive</td>\n",
       "    </tr>\n",
       "    <tr>\n",
       "      <th>7</th>\n",
       "      <td>ident one verizon somehow misplac , fraction c...</td>\n",
       "      <td>Positive</td>\n",
       "    </tr>\n",
       "    <tr>\n",
       "      <th>8</th>\n",
       "      <td>handi sound realli awesom ! perfect phone game...</td>\n",
       "      <td>Positive</td>\n",
       "    </tr>\n",
       "    <tr>\n",
       "      <th>9</th>\n",
       "      <td>work great !</td>\n",
       "      <td>Positive</td>\n",
       "    </tr>\n",
       "  </tbody>\n",
       "</table>\n",
       "</div>"
      ],
      "text/plain": [
       "                                         review_body sentiment\n",
       "0                    great tv signal good buy.i like  Positive\n",
       "1        good sound . fine materi . simpli perfect !  Positive\n",
       "2  look good shown lot base . btw fast ship recei...  Positive\n",
       "3  player total awesom ! featur need , ( somehow ...  Positive\n",
       "4  quick deliveri high qualiti . sound great cabl...  Positive\n",
       "5                                             awesom  Positive\n",
       "6  extrem nice qualiti , especi price . boyfriend...  Positive\n",
       "7  ident one verizon somehow misplac , fraction c...  Positive\n",
       "8  handi sound realli awesom ! perfect phone game...  Positive\n",
       "9                                       work great !  Positive"
      ]
     },
     "execution_count": 30,
     "metadata": {},
     "output_type": "execute_result"
    }
   ],
   "source": [
    "df.head(10)"
   ]
  },
  {
   "cell_type": "code",
   "execution_count": null,
   "metadata": {},
   "outputs": [],
   "source": []
  },
  {
   "cell_type": "code",
   "execution_count": null,
   "metadata": {},
   "outputs": [],
   "source": []
  }
 ],
 "metadata": {
  "kernelspec": {
   "display_name": "Python 3 (ipykernel)",
   "language": "python",
   "name": "python3"
  },
  "language_info": {
   "codemirror_mode": {
    "name": "ipython",
    "version": 3
   },
   "file_extension": ".py",
   "mimetype": "text/x-python",
   "name": "python",
   "nbconvert_exporter": "python",
   "pygments_lexer": "ipython3",
   "version": "3.9.12"
  }
 },
 "nbformat": 4,
 "nbformat_minor": 2
}
