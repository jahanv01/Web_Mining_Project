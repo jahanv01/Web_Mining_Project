{
 "cells": [
  {
   "cell_type": "markdown",
   "metadata": {
    "id": "zx4TpvbR3Fbc"
   },
   "source": [
    "# **ML Classifiers with Tf-Idf Vectorization & Oversampling**"
   ]
  },
  {
   "cell_type": "code",
   "execution_count": null,
   "metadata": {
    "colab": {
     "base_uri": "https://localhost:8080/"
    },
    "executionInfo": {
     "elapsed": 21875,
     "status": "ok",
     "timestamp": 1715904250243,
     "user": {
      "displayName": "Saman Khursheed",
      "userId": "05089754281541587262"
     },
     "user_tz": -120
    },
    "id": "RsR4xObW3Fbf",
    "outputId": "5f73b8c1-4d00-4f26-df94-698453f6e197"
   },
   "outputs": [
    {
     "name": "stdout",
     "output_type": "stream",
     "text": [
      "Mounted at /content/drive/\n",
      "/content/drive/.shortcut-targets-by-id/1EZ3t7HMzSmWcvRl80eFHiMW9UP3zMZxI/WEB_MINING_PROJECT/ML_CLASSIFIERS\n"
     ]
    }
   ],
   "source": [
    "try:\n",
    "    from google.colab import drive\n",
    "    drive.mount('/content/drive/')\n",
    "    %cd 'drive/My Drive/WEB_MINING_PROJECT/ML_CLASSIFIERS'\n",
    "except ImportError as e:\n",
    "    pass"
   ]
  },
  {
   "cell_type": "code",
   "execution_count": 20,
   "metadata": {
    "id": "mPhzbQcy3Fbh",
    "outputId": "97722a8d-0a9b-4ed6-cb1a-39240d144af5"
   },
   "outputs": [
    {
     "name": "stdout",
     "output_type": "stream",
     "text": [
      "Requirement already satisfied: optuna in c:\\users\\saman\\anaconda3\\lib\\site-packages (3.6.1)\n",
      "Requirement already satisfied: tqdm in c:\\users\\saman\\anaconda3\\lib\\site-packages (from optuna) (4.64.0)\n",
      "Requirement already satisfied: PyYAML in c:\\users\\saman\\anaconda3\\lib\\site-packages (from optuna) (6.0)\n",
      "Requirement already satisfied: colorlog in c:\\users\\saman\\anaconda3\\lib\\site-packages (from optuna) (6.8.2)\n",
      "Requirement already satisfied: numpy in c:\\users\\saman\\anaconda3\\lib\\site-packages (from optuna) (1.21.5)\n",
      "Requirement already satisfied: alembic>=1.5.0 in c:\\users\\saman\\anaconda3\\lib\\site-packages (from optuna) (1.13.1)\n",
      "Requirement already satisfied: sqlalchemy>=1.3.0 in c:\\users\\saman\\anaconda3\\lib\\site-packages (from optuna) (1.4.32)\n",
      "Requirement already satisfied: packaging>=20.0 in c:\\users\\saman\\anaconda3\\lib\\site-packages (from optuna) (21.3)\n",
      "Requirement already satisfied: Mako in c:\\users\\saman\\anaconda3\\lib\\site-packages (from alembic>=1.5.0->optuna) (1.3.3)\n",
      "Requirement already satisfied: typing-extensions>=4 in c:\\users\\saman\\anaconda3\\lib\\site-packages (from alembic>=1.5.0->optuna) (4.5.0)\n",
      "Requirement already satisfied: pyparsing!=3.0.5,>=2.0.2 in c:\\users\\saman\\anaconda3\\lib\\site-packages (from packaging>=20.0->optuna) (3.0.4)\n",
      "Requirement already satisfied: greenlet!=0.4.17 in c:\\users\\saman\\anaconda3\\lib\\site-packages (from sqlalchemy>=1.3.0->optuna) (1.1.1)\n",
      "Requirement already satisfied: colorama in c:\\users\\saman\\anaconda3\\lib\\site-packages (from colorlog->optuna) (0.4.4)\n",
      "Requirement already satisfied: MarkupSafe>=0.9.2 in c:\\users\\saman\\anaconda3\\lib\\site-packages (from Mako->alembic>=1.5.0->optuna) (2.0.1)\n",
      "Requirement already satisfied: imblearn in c:\\users\\saman\\anaconda3\\lib\\site-packages (0.0)\n",
      "Requirement already satisfied: imbalanced-learn in c:\\users\\saman\\anaconda3\\lib\\site-packages (from imblearn) (0.9.1)\n",
      "Requirement already satisfied: scipy>=1.3.2 in c:\\users\\saman\\anaconda3\\lib\\site-packages (from imbalanced-learn->imblearn) (1.7.3)\n",
      "Requirement already satisfied: scikit-learn>=1.1.0 in c:\\users\\saman\\anaconda3\\lib\\site-packages (from imbalanced-learn->imblearn) (1.1.3)\n",
      "Requirement already satisfied: numpy>=1.17.3 in c:\\users\\saman\\anaconda3\\lib\\site-packages (from imbalanced-learn->imblearn) (1.21.5)\n",
      "Requirement already satisfied: joblib>=1.0.0 in c:\\users\\saman\\anaconda3\\lib\\site-packages (from imbalanced-learn->imblearn) (1.1.0)\n",
      "Requirement already satisfied: threadpoolctl>=2.0.0 in c:\\users\\saman\\anaconda3\\lib\\site-packages (from imbalanced-learn->imblearn) (2.2.0)\n"
     ]
    }
   ],
   "source": [
    "! pip install optuna\n",
    "! pip install imblearn"
   ]
  },
  {
   "cell_type": "code",
   "execution_count": 21,
   "metadata": {
    "id": "oWoJkUj63Fbi",
    "outputId": "dfc86137-fa6a-4406-a5a3-12cdac67de60",
    "scrolled": true
   },
   "outputs": [
    {
     "name": "stderr",
     "output_type": "stream",
     "text": [
      "[nltk_data] Downloading package punkt to\n",
      "[nltk_data]     C:\\Users\\saman\\AppData\\Roaming\\nltk_data...\n",
      "[nltk_data]   Package punkt is already up-to-date!\n",
      "[nltk_data] Downloading package wordnet to\n",
      "[nltk_data]     C:\\Users\\saman\\AppData\\Roaming\\nltk_data...\n",
      "[nltk_data]   Package wordnet is already up-to-date!\n",
      "[nltk_data] Downloading package stopwords to\n",
      "[nltk_data]     C:\\Users\\saman\\AppData\\Roaming\\nltk_data...\n",
      "[nltk_data]   Package stopwords is already up-to-date!\n"
     ]
    }
   ],
   "source": [
    "import pandas as pd\n",
    "import nltk\n",
    "import random\n",
    "import numpy as np\n",
    "from nltk.corpus import stopwords\n",
    "from nltk.tokenize import word_tokenize\n",
    "from nltk.stem import WordNetLemmatizer\n",
    "from nltk.stem import PorterStemmer\n",
    "\n",
    "# Download NLTK resources\n",
    "nltk.download('punkt')\n",
    "nltk.download('wordnet')\n",
    "nltk.download('stopwords')\n",
    "\n",
    "from sklearn.model_selection import train_test_split\n",
    "from sklearn.feature_extraction.text import TfidfVectorizer, CountVectorizer\n",
    "from sklearn.svm import SVC\n",
    "from sklearn.naive_bayes import MultinomialNB\n",
    "from sklearn.ensemble import RandomForestClassifier\n",
    "from sklearn.metrics import classification_report, accuracy_score, confusion_matrix, f1_score, make_scorer\n",
    "from imblearn.pipeline import Pipeline\n",
    "from imblearn.over_sampling import RandomOverSampler, ADASYN, SMOTE\n",
    "from imblearn.under_sampling import RandomUnderSampler, NearMiss\n",
    "import optuna\n",
    "\n",
    "#not needed\n",
    "\n",
    "from sklearn.utils.multiclass import unique_labels\n",
    "from sklearn.pipeline import make_pipeline\n",
    "from sklearn.model_selection import train_test_split, StratifiedKFold, cross_val_predict, GridSearchCV\n",
    "from sklearn.linear_model import LogisticRegression\n",
    "\n",
    "\n",
    "\n"
   ]
  },
  {
   "cell_type": "markdown",
   "metadata": {
    "id": "VMGqItiB3Fbj"
   },
   "source": [
    "### Loading Downsampled Dataset"
   ]
  },
  {
   "cell_type": "code",
   "execution_count": 22,
   "metadata": {
    "id": "IGm15LIS3Fbj"
   },
   "outputs": [],
   "source": [
    "# Load the dataset\n",
    "df = pd.read_csv(\"downsampled_dataset_10k.csv\")"
   ]
  },
  {
   "cell_type": "markdown",
   "metadata": {
    "id": "IOuNCi9p3Fbj"
   },
   "source": [
    "## **Text Preprocessing**"
   ]
  },
  {
   "cell_type": "code",
   "execution_count": 23,
   "metadata": {
    "id": "42JL0S8-3Fbk",
    "outputId": "73795187-88ae-47d4-9c03-2f771db5e35b"
   },
   "outputs": [
    {
     "data": {
      "text/html": [
       "<div>\n",
       "<style scoped>\n",
       "    .dataframe tbody tr th:only-of-type {\n",
       "        vertical-align: middle;\n",
       "    }\n",
       "\n",
       "    .dataframe tbody tr th {\n",
       "        vertical-align: top;\n",
       "    }\n",
       "\n",
       "    .dataframe thead th {\n",
       "        text-align: right;\n",
       "    }\n",
       "</style>\n",
       "<table border=\"1\" class=\"dataframe\">\n",
       "  <thead>\n",
       "    <tr style=\"text-align: right;\">\n",
       "      <th></th>\n",
       "      <th>review_body</th>\n",
       "      <th>sentiment</th>\n",
       "    </tr>\n",
       "  </thead>\n",
       "  <tbody>\n",
       "    <tr>\n",
       "      <th>0</th>\n",
       "      <td>Great tv signal very good buy.I like it</td>\n",
       "      <td>Positive</td>\n",
       "    </tr>\n",
       "    <tr>\n",
       "      <th>1</th>\n",
       "      <td>Good sound. Fine Material. Simply perfect!</td>\n",
       "      <td>Positive</td>\n",
       "    </tr>\n",
       "    <tr>\n",
       "      <th>2</th>\n",
       "      <td>looks good as shown lots of base. BTW fast shi...</td>\n",
       "      <td>Positive</td>\n",
       "    </tr>\n",
       "    <tr>\n",
       "      <th>3</th>\n",
       "      <td>This player is totally awesome! I has all the ...</td>\n",
       "      <td>Positive</td>\n",
       "    </tr>\n",
       "    <tr>\n",
       "      <th>4</th>\n",
       "      <td>Very quick delivery and high quality. Sound is...</td>\n",
       "      <td>Positive</td>\n",
       "    </tr>\n",
       "    <tr>\n",
       "      <th>5</th>\n",
       "      <td>Awesome</td>\n",
       "      <td>Positive</td>\n",
       "    </tr>\n",
       "    <tr>\n",
       "      <th>6</th>\n",
       "      <td>Extremely nice quality, especially for the pri...</td>\n",
       "      <td>Positive</td>\n",
       "    </tr>\n",
       "    <tr>\n",
       "      <th>7</th>\n",
       "      <td>Identical to the one from Verizon that we some...</td>\n",
       "      <td>Positive</td>\n",
       "    </tr>\n",
       "    <tr>\n",
       "      <th>8</th>\n",
       "      <td>These are so handy and sound really awesome! P...</td>\n",
       "      <td>Positive</td>\n",
       "    </tr>\n",
       "    <tr>\n",
       "      <th>9</th>\n",
       "      <td>Works great!</td>\n",
       "      <td>Positive</td>\n",
       "    </tr>\n",
       "  </tbody>\n",
       "</table>\n",
       "</div>"
      ],
      "text/plain": [
       "                                         review_body sentiment\n",
       "0            Great tv signal very good buy.I like it  Positive\n",
       "1         Good sound. Fine Material. Simply perfect!  Positive\n",
       "2  looks good as shown lots of base. BTW fast shi...  Positive\n",
       "3  This player is totally awesome! I has all the ...  Positive\n",
       "4  Very quick delivery and high quality. Sound is...  Positive\n",
       "5                                            Awesome  Positive\n",
       "6  Extremely nice quality, especially for the pri...  Positive\n",
       "7  Identical to the one from Verizon that we some...  Positive\n",
       "8  These are so handy and sound really awesome! P...  Positive\n",
       "9                                       Works great!  Positive"
      ]
     },
     "execution_count": 23,
     "metadata": {},
     "output_type": "execute_result"
    }
   ],
   "source": [
    "# Actually we only need the content(i.e. review) & the sentiment for classification\n",
    "df = df[[\"review_body\", \"sentiment\"]]\n",
    "df.head(10)"
   ]
  },
  {
   "cell_type": "code",
   "execution_count": 24,
   "metadata": {
    "id": "vC8maeUg3Fbk",
    "scrolled": true
   },
   "outputs": [],
   "source": [
    "# Text normalization\n",
    "def normalize_text(text):\n",
    "    # Convert text to lowercase\n",
    "    text = text.lower()\n",
    "    return text\n",
    "\n",
    "# Removing punctuation (not used)\n",
    "def remove_punctuation(text):\n",
    "    text = str(text)\n",
    "    punctuations = string.punctuation\n",
    "    return text.translate(str.maketrans('', '', punctuations))\n",
    "\n",
    "# Removing special characters (not used)\n",
    "def remove_spec_char(text):\n",
    "    text = str(text)\n",
    "    text = re.sub('[^a-zA-Z0-9]', ' ', text)\n",
    "    text = re.sub('\\s+', ' ', text)\n",
    "    return text\n",
    "\n",
    "# Tokenization & Stopword removal\n",
    "def remove_stopwords(text):\n",
    "    stop_words = set(stopwords.words('english'))\n",
    "    tokens = word_tokenize(text)\n",
    "    return ' '.join([word for word in tokens if word not in stop_words])\n",
    "\n",
    "# Lemmatization (not used)\n",
    "def lemmatize_text(text):\n",
    "    tokens = word_tokenize(text)\n",
    "    lemmatizer = WordNetLemmatizer()\n",
    "    return ' '.join([lemmatizer.lemmatize(word) for word in tokens])\n",
    "    #return lemmatized_tokens\n",
    "\n",
    "# Stemming\n",
    "def stem_words(text):\n",
    "    ps = PorterStemmer()\n",
    "    return ' '.join([ps.stem(word) for word in text.split()])\n"
   ]
  },
  {
   "cell_type": "code",
   "execution_count": 25,
   "metadata": {
    "id": "BYNHtvRr3Fbk"
   },
   "outputs": [],
   "source": [
    "# Apply preprocessing steps\n",
    "\n",
    "# lowercase words, remove punctuation & special characters\n",
    "df[\"review_body\"] = df[\"review_body\"].apply(normalize_text)\n",
    "#df[\"review_body\"] = df[\"review_body\"].apply(remove_punctuation)\n",
    "#df[\"review_body\"] = df[\"review_body\"].apply(remove_spec_char)\n",
    "\n",
    "#tokenization and stopwords removal, stemming or lemmatization\n",
    "df[\"review_body\"] = df[\"review_body\"].apply(remove_stopwords)\n",
    "#df[\"review_body\"] = df[\"review_body\"].apply(lemmatize_text)\n",
    "df[\"review_body\"] = df[\"review_body\"].apply(stem_words)"
   ]
  },
  {
   "cell_type": "code",
   "execution_count": 26,
   "metadata": {
    "id": "TOr3LMfy3Fbk",
    "outputId": "0a8666f6-773b-4ed5-c50a-2b6cfe9c33b3",
    "scrolled": true
   },
   "outputs": [
    {
     "data": {
      "text/html": [
       "<div>\n",
       "<style scoped>\n",
       "    .dataframe tbody tr th:only-of-type {\n",
       "        vertical-align: middle;\n",
       "    }\n",
       "\n",
       "    .dataframe tbody tr th {\n",
       "        vertical-align: top;\n",
       "    }\n",
       "\n",
       "    .dataframe thead th {\n",
       "        text-align: right;\n",
       "    }\n",
       "</style>\n",
       "<table border=\"1\" class=\"dataframe\">\n",
       "  <thead>\n",
       "    <tr style=\"text-align: right;\">\n",
       "      <th></th>\n",
       "      <th>review_body</th>\n",
       "      <th>sentiment</th>\n",
       "    </tr>\n",
       "  </thead>\n",
       "  <tbody>\n",
       "    <tr>\n",
       "      <th>0</th>\n",
       "      <td>great tv signal good buy.i like</td>\n",
       "      <td>Positive</td>\n",
       "    </tr>\n",
       "    <tr>\n",
       "      <th>1</th>\n",
       "      <td>good sound . fine materi . simpli perfect !</td>\n",
       "      <td>Positive</td>\n",
       "    </tr>\n",
       "    <tr>\n",
       "      <th>2</th>\n",
       "      <td>look good shown lot base . btw fast ship recei...</td>\n",
       "      <td>Positive</td>\n",
       "    </tr>\n",
       "    <tr>\n",
       "      <th>3</th>\n",
       "      <td>player total awesom ! featur need , ( somehow ...</td>\n",
       "      <td>Positive</td>\n",
       "    </tr>\n",
       "    <tr>\n",
       "      <th>4</th>\n",
       "      <td>quick deliveri high qualiti . sound great cabl...</td>\n",
       "      <td>Positive</td>\n",
       "    </tr>\n",
       "    <tr>\n",
       "      <th>5</th>\n",
       "      <td>awesom</td>\n",
       "      <td>Positive</td>\n",
       "    </tr>\n",
       "    <tr>\n",
       "      <th>6</th>\n",
       "      <td>extrem nice qualiti , especi price . boyfriend...</td>\n",
       "      <td>Positive</td>\n",
       "    </tr>\n",
       "    <tr>\n",
       "      <th>7</th>\n",
       "      <td>ident one verizon somehow misplac , fraction c...</td>\n",
       "      <td>Positive</td>\n",
       "    </tr>\n",
       "    <tr>\n",
       "      <th>8</th>\n",
       "      <td>handi sound realli awesom ! perfect phone game...</td>\n",
       "      <td>Positive</td>\n",
       "    </tr>\n",
       "    <tr>\n",
       "      <th>9</th>\n",
       "      <td>work great !</td>\n",
       "      <td>Positive</td>\n",
       "    </tr>\n",
       "  </tbody>\n",
       "</table>\n",
       "</div>"
      ],
      "text/plain": [
       "                                         review_body sentiment\n",
       "0                    great tv signal good buy.i like  Positive\n",
       "1        good sound . fine materi . simpli perfect !  Positive\n",
       "2  look good shown lot base . btw fast ship recei...  Positive\n",
       "3  player total awesom ! featur need , ( somehow ...  Positive\n",
       "4  quick deliveri high qualiti . sound great cabl...  Positive\n",
       "5                                             awesom  Positive\n",
       "6  extrem nice qualiti , especi price . boyfriend...  Positive\n",
       "7  ident one verizon somehow misplac , fraction c...  Positive\n",
       "8  handi sound realli awesom ! perfect phone game...  Positive\n",
       "9                                       work great !  Positive"
      ]
     },
     "execution_count": 26,
     "metadata": {},
     "output_type": "execute_result"
    }
   ],
   "source": [
    "df.head(10)"
   ]
  },
  {
   "cell_type": "markdown",
   "metadata": {
    "id": "v4hSyqAq3Fbl"
   },
   "source": [
    "## Train/Validation/Test Split"
   ]
  },
  {
   "cell_type": "code",
   "execution_count": 27,
   "metadata": {
    "id": "F9hV52RX3Fbl",
    "outputId": "0f354e16-2fd9-4905-af6c-cb994c9ec531"
   },
   "outputs": [
    {
     "name": "stdout",
     "output_type": "stream",
     "text": [
      "y_train: (7999,)/ x_train: (7999,)\n",
      "y_train: (1000,)/ x_train: (1000,)\n",
      "y_test: (1000,)/ x_test: (1000,)\n"
     ]
    }
   ],
   "source": [
    "# split into train, val and test data\n",
    "X_train, X_test = train_test_split(df, test_size=0.2, random_state = 42, stratify=df['sentiment'])\n",
    "X_val, X_test = train_test_split(X_test, test_size=0.5, random_state = 42, stratify=X_test['sentiment'])\n",
    "\n",
    "\n",
    "y_train = X_train['sentiment']\n",
    "y_val = X_val['sentiment']\n",
    "y_test = X_test['sentiment']\n",
    "\n",
    "\n",
    "X_train.drop(columns = ['sentiment'], inplace= True)\n",
    "X_val.drop(columns = ['sentiment'], inplace= True)\n",
    "X_test.drop(columns = ['sentiment'], inplace= True)\n",
    "X_train = X_train['review_body']\n",
    "X_val = X_val['review_body']\n",
    "X_test = X_test['review_body']\n",
    "\n",
    "\n",
    "print (f\"y_train: {y_train.shape}/ x_train: {X_train.shape}\")\n",
    "print (f\"y_train: {y_val.shape}/ x_train: {X_val.shape}\")\n",
    "print (f\"y_test: {y_test.shape}/ x_test: {X_test.shape}\")\n",
    "\n"
   ]
  },
  {
   "cell_type": "code",
   "execution_count": 29,
   "metadata": {},
   "outputs": [
    {
     "name": "stdout",
     "output_type": "stream",
     "text": [
      "Weighted F1-score baseline: 0.6604299489506523\n",
      "Macro F1-score baseline: 0.2885233503497826\n"
     ]
    }
   ],
   "source": [
    "\n",
    "# Baseline for comparison: predict positive for every review\n",
    "majority_class = \"Positive\"  \n",
    "y_pred_baseline = [majority_class for _ in range(len(y_test))]\n",
    "\n",
    "# Calculate F1-score for the baseline\n",
    "f1_weighted_baseline = f1_score(y_test, y_pred_baseline, average='weighted')\n",
    "f1_macro_baseline = f1_score(y_test, y_pred_baseline, average='macro')\n",
    "\n",
    "print(f\"Weighted F1-score baseline: {f1_weighted_baseline}\")\n",
    "print(f\"Macro F1-score baseline: {f1_macro_baseline}\")\n"
   ]
  },
  {
   "cell_type": "markdown",
   "metadata": {
    "id": "UWEKnabZ3Fbm"
   },
   "source": [
    "## Tf-Idf Vectorization  "
   ]
  },
  {
   "cell_type": "code",
   "execution_count": null,
   "metadata": {
    "id": "LD3I_w4I3Fbm"
   },
   "outputs": [],
   "source": [
    "# Vectorize the text data using TF-IDF\n",
    "tfidf_vectorizer = TfidfVectorizer()\n",
    "X_train_tfidf = tfidf_vectorizer.fit_transform(X_train)\n",
    "X_val_tfidf = tfidf_vectorizer.transform(X_val)\n",
    "X_test_tfidf = tfidf_vectorizer.transform(X_test)\n"
   ]
  },
  {
   "cell_type": "markdown",
   "metadata": {
    "id": "r9pPbHm83Fbm"
   },
   "source": [
    "## Balancing Methods (used in Pipeline)"
   ]
  },
  {
   "cell_type": "code",
   "execution_count": null,
   "metadata": {
    "id": "avk8LBol3Fbm"
   },
   "outputs": [],
   "source": [
    "# Define oversampling and undersampling techniques\n",
    "oversampler = RandomOverSampler(random_state=42)\n",
    "undersampler = RandomUnderSampler(random_state=42)\n",
    "balancing = undersampler"
   ]
  },
  {
   "cell_type": "markdown",
   "metadata": {
    "id": "BwfXMeyZ3Fbm"
   },
   "source": [
    "## Naive Bayes"
   ]
  },
  {
   "cell_type": "code",
   "execution_count": null,
   "metadata": {
    "id": "XtRSkBUC3Fbm",
    "outputId": "3f6ddbcb-f33f-436c-a12e-81f014a882ac",
    "scrolled": true
   },
   "outputs": [
    {
     "name": "stderr",
     "output_type": "stream",
     "text": [
      "[I 2024-05-17 01:36:54,042] A new study created in memory with name: no-name-41685eb1-0534-44d1-9469-fdc246e041fb\n",
      "[I 2024-05-17 01:36:54,132] Trial 0 finished with value: 0.703905504212597 and parameters: {'alpha': 10.029664438753695}. Best is trial 0 with value: 0.703905504212597.\n",
      "[I 2024-05-17 01:36:54,148] Trial 1 finished with value: 0.7258671528459518 and parameters: {'alpha': 652.5640778399356}. Best is trial 1 with value: 0.7258671528459518.\n",
      "[I 2024-05-17 01:36:54,166] Trial 2 finished with value: 0.6695934210526315 and parameters: {'alpha': 0.05098742194981309}. Best is trial 1 with value: 0.7258671528459518.\n",
      "[I 2024-05-17 01:36:54,186] Trial 3 finished with value: 0.7262660496383572 and parameters: {'alpha': 524.1392540483456}. Best is trial 3 with value: 0.7262660496383572.\n",
      "[I 2024-05-17 01:36:54,205] Trial 4 finished with value: 0.6646316737151898 and parameters: {'alpha': 0.03664979670855345}. Best is trial 3 with value: 0.7262660496383572.\n",
      "[I 2024-05-17 01:36:54,220] Trial 5 finished with value: 0.7208459692991867 and parameters: {'alpha': 103.61511532995029}. Best is trial 3 with value: 0.7262660496383572.\n",
      "[I 2024-05-17 01:36:54,236] Trial 6 finished with value: 0.6391532218142248 and parameters: {'alpha': 0.0017664846053106243}. Best is trial 3 with value: 0.7262660496383572.\n",
      "[I 2024-05-17 01:36:54,251] Trial 7 finished with value: 0.7261719136867282 and parameters: {'alpha': 416.58524070776656}. Best is trial 3 with value: 0.7262660496383572.\n",
      "[I 2024-05-17 01:36:54,266] Trial 8 finished with value: 0.686551694021288 and parameters: {'alpha': 0.940940609743498}. Best is trial 3 with value: 0.7262660496383572.\n",
      "[I 2024-05-17 01:36:54,283] Trial 9 finished with value: 0.7223279570682937 and parameters: {'alpha': 133.73953606159458}. Best is trial 3 with value: 0.7262660496383572.\n",
      "[I 2024-05-17 01:36:54,307] Trial 10 finished with value: 0.6931372530253238 and parameters: {'alpha': 5.2814142253954905}. Best is trial 3 with value: 0.7262660496383572.\n",
      "[I 2024-05-17 01:36:54,334] Trial 11 finished with value: 0.7258671528459518 and parameters: {'alpha': 757.3341781890337}. Best is trial 3 with value: 0.7262660496383572.\n",
      "[I 2024-05-17 01:36:54,350] Trial 12 finished with value: 0.7193039737653094 and parameters: {'alpha': 47.58153148978205}. Best is trial 3 with value: 0.7262660496383572.\n",
      "[I 2024-05-17 01:36:54,374] Trial 13 finished with value: 0.7258671528459518 and parameters: {'alpha': 913.2161900492747}. Best is trial 3 with value: 0.7262660496383572.\n",
      "[I 2024-05-17 01:36:54,400] Trial 14 finished with value: 0.68596556898255 and parameters: {'alpha': 0.8955040812436466}. Best is trial 3 with value: 0.7262660496383572.\n",
      "[I 2024-05-17 01:36:54,421] Trial 15 finished with value: 0.7047855776287076 and parameters: {'alpha': 15.476313045194683}. Best is trial 3 with value: 0.7262660496383572.\n",
      "[I 2024-05-17 01:36:54,440] Trial 16 finished with value: 0.7215873015873016 and parameters: {'alpha': 126.96182464287385}. Best is trial 3 with value: 0.7262660496383572.\n",
      "[I 2024-05-17 01:36:54,466] Trial 17 finished with value: 0.6780278152977914 and parameters: {'alpha': 0.10500296668520673}. Best is trial 3 with value: 0.7262660496383572.\n",
      "[I 2024-05-17 01:36:54,485] Trial 18 finished with value: 0.6929546686343965 and parameters: {'alpha': 3.7764426922476004}. Best is trial 3 with value: 0.7262660496383572.\n",
      "[I 2024-05-17 01:36:54,506] Trial 19 finished with value: 0.6371740209026656 and parameters: {'alpha': 0.0014241269835523341}. Best is trial 3 with value: 0.7262660496383572.\n",
      "[I 2024-05-17 01:36:54,536] Trial 20 finished with value: 0.718621852503459 and parameters: {'alpha': 36.93781485539678}. Best is trial 3 with value: 0.7262660496383572.\n",
      "[I 2024-05-17 01:36:54,552] Trial 21 finished with value: 0.7265712133185832 and parameters: {'alpha': 362.085767198368}. Best is trial 21 with value: 0.7265712133185832.\n",
      "[I 2024-05-17 01:36:54,578] Trial 22 finished with value: 0.726562274575382 and parameters: {'alpha': 259.4357753267729}. Best is trial 21 with value: 0.7265712133185832.\n",
      "[I 2024-05-17 01:36:54,600] Trial 23 finished with value: 0.726562274575382 and parameters: {'alpha': 226.36881506614827}. Best is trial 21 with value: 0.7265712133185832.\n",
      "[I 2024-05-17 01:36:54,616] Trial 24 finished with value: 0.7248714442159483 and parameters: {'alpha': 192.55516229157809}. Best is trial 21 with value: 0.7265712133185832.\n",
      "[I 2024-05-17 01:36:54,649] Trial 25 finished with value: 0.7189626087576536 and parameters: {'alpha': 38.934241402833685}. Best is trial 21 with value: 0.7265712133185832.\n",
      "[I 2024-05-17 01:36:54,670] Trial 26 finished with value: 0.726562274575382 and parameters: {'alpha': 237.7255444792219}. Best is trial 21 with value: 0.7265712133185832.\n",
      "[I 2024-05-17 01:36:54,687] Trial 27 finished with value: 0.6898569420775159 and parameters: {'alpha': 2.9107658900004676}. Best is trial 21 with value: 0.7265712133185832.\n",
      "[I 2024-05-17 01:36:54,716] Trial 28 finished with value: 0.7081349967710436 and parameters: {'alpha': 20.155815726660244}. Best is trial 21 with value: 0.7265712133185832.\n",
      "[I 2024-05-17 01:36:54,735] Trial 29 finished with value: 0.7202028507126781 and parameters: {'alpha': 75.47232736224962}. Best is trial 21 with value: 0.7265712133185832.\n",
      "[I 2024-05-17 01:36:54,761] Trial 30 finished with value: 0.726562274575382 and parameters: {'alpha': 273.04928582838386}. Best is trial 21 with value: 0.7265712133185832.\n",
      "[I 2024-05-17 01:36:54,782] Trial 31 finished with value: 0.7011923081137369 and parameters: {'alpha': 9.611942098353353}. Best is trial 21 with value: 0.7265712133185832.\n",
      "[I 2024-05-17 01:36:54,807] Trial 32 finished with value: 0.7258346629213484 and parameters: {'alpha': 348.95254970614974}. Best is trial 21 with value: 0.7265712133185832.\n",
      "[I 2024-05-17 01:36:54,836] Trial 33 finished with value: 0.7258247108463639 and parameters: {'alpha': 207.8066476765717}. Best is trial 21 with value: 0.7265712133185832.\n",
      "[I 2024-05-17 01:36:54,854] Trial 34 finished with value: 0.7208217534734389 and parameters: {'alpha': 56.64511018289804}. Best is trial 21 with value: 0.7265712133185832.\n",
      "[I 2024-05-17 01:36:54,882] Trial 35 finished with value: 0.7258671528459518 and parameters: {'alpha': 773.5448447078888}. Best is trial 21 with value: 0.7265712133185832.\n",
      "[I 2024-05-17 01:36:54,907] Trial 36 finished with value: 0.7265712133185832 and parameters: {'alpha': 374.8971347006793}. Best is trial 21 with value: 0.7265712133185832.\n",
      "[I 2024-05-17 01:36:54,923] Trial 37 finished with value: 0.6847504476290299 and parameters: {'alpha': 0.2594781662269329}. Best is trial 21 with value: 0.7265712133185832.\n",
      "[I 2024-05-17 01:36:54,950] Trial 38 finished with value: 0.6416507593687052 and parameters: {'alpha': 0.005590062994648297}. Best is trial 21 with value: 0.7265712133185832.\n",
      "[I 2024-05-17 01:36:54,970] Trial 39 finished with value: 0.7265712133185832 and parameters: {'alpha': 352.9137545610639}. Best is trial 21 with value: 0.7265712133185832.\n",
      "[I 2024-05-17 01:36:54,995] Trial 40 finished with value: 0.708897699472694 and parameters: {'alpha': 20.72938031556883}. Best is trial 21 with value: 0.7265712133185832.\n",
      "[I 2024-05-17 01:36:55,018] Trial 41 finished with value: 0.7253157586222323 and parameters: {'alpha': 454.204376522809}. Best is trial 21 with value: 0.7265712133185832.\n",
      "[I 2024-05-17 01:36:55,040] Trial 42 finished with value: 0.7208459692991867 and parameters: {'alpha': 107.00923028600404}. Best is trial 21 with value: 0.7265712133185832.\n",
      "[I 2024-05-17 01:36:55,064] Trial 43 finished with value: 0.7262660496383572 and parameters: {'alpha': 552.2287953595215}. Best is trial 21 with value: 0.7265712133185832.\n",
      "[I 2024-05-17 01:36:55,087] Trial 44 finished with value: 0.7265712133185832 and parameters: {'alpha': 356.6685784997513}. Best is trial 21 with value: 0.7265712133185832.\n",
      "[I 2024-05-17 01:36:55,116] Trial 45 finished with value: 0.7258671528459518 and parameters: {'alpha': 917.973219791808}. Best is trial 21 with value: 0.7265712133185832.\n",
      "[I 2024-05-17 01:36:55,134] Trial 46 finished with value: 0.7201039544724938 and parameters: {'alpha': 88.99891253755845}. Best is trial 21 with value: 0.7265712133185832.\n",
      "[I 2024-05-17 01:36:55,153] Trial 47 finished with value: 0.7253157586222323 and parameters: {'alpha': 450.94656152576226}. Best is trial 21 with value: 0.7265712133185832.\n"
     ]
    },
    {
     "name": "stderr",
     "output_type": "stream",
     "text": [
      "[I 2024-05-17 01:36:55,183] Trial 48 finished with value: 0.7248714442159483 and parameters: {'alpha': 150.37284565756605}. Best is trial 21 with value: 0.7265712133185832.\n",
      "[I 2024-05-17 01:36:55,202] Trial 49 finished with value: 0.6524317356958662 and parameters: {'alpha': 0.016384693199358955}. Best is trial 21 with value: 0.7265712133185832.\n",
      "[I 2024-05-17 01:36:55,232] Trial 50 finished with value: 0.7251350224994982 and parameters: {'alpha': 980.156035043917}. Best is trial 21 with value: 0.7265712133185832.\n",
      "[I 2024-05-17 01:36:55,249] Trial 51 finished with value: 0.726562274575382 and parameters: {'alpha': 280.4218621339425}. Best is trial 21 with value: 0.7265712133185832.\n",
      "[I 2024-05-17 01:36:55,273] Trial 52 finished with value: 0.7261719136867282 and parameters: {'alpha': 429.28470026387646}. Best is trial 21 with value: 0.7265712133185832.\n",
      "[I 2024-05-17 01:36:55,300] Trial 53 finished with value: 0.7194750890114234 and parameters: {'alpha': 72.56973157889675}. Best is trial 21 with value: 0.7265712133185832.\n",
      "[I 2024-05-17 01:36:55,324] Trial 54 finished with value: 0.7248714442159483 and parameters: {'alpha': 153.0268551683365}. Best is trial 21 with value: 0.7265712133185832.\n",
      "[I 2024-05-17 01:36:55,349] Trial 55 finished with value: 0.7180918656299425 and parameters: {'alpha': 34.095455657375815}. Best is trial 21 with value: 0.7265712133185832.\n",
      "[I 2024-05-17 01:36:55,367] Trial 56 finished with value: 0.7258346629213484 and parameters: {'alpha': 325.79212408552985}. Best is trial 21 with value: 0.7265712133185832.\n",
      "[I 2024-05-17 01:36:55,389] Trial 57 finished with value: 0.7258671528459518 and parameters: {'alpha': 635.4498639982269}. Best is trial 21 with value: 0.7265712133185832.\n",
      "[I 2024-05-17 01:36:55,416] Trial 58 finished with value: 0.7248714442159483 and parameters: {'alpha': 161.83666274199743}. Best is trial 21 with value: 0.7265712133185832.\n",
      "[I 2024-05-17 01:36:55,440] Trial 59 finished with value: 0.6885182538412116 and parameters: {'alpha': 1.7875277790312427}. Best is trial 21 with value: 0.7265712133185832.\n",
      "[I 2024-05-17 01:36:55,457] Trial 60 finished with value: 0.684843832787393 and parameters: {'alpha': 0.46349166816883813}. Best is trial 21 with value: 0.7265712133185832.\n",
      "[I 2024-05-17 01:36:55,486] Trial 61 finished with value: 0.7258247108463639 and parameters: {'alpha': 212.80715809236767}. Best is trial 21 with value: 0.7265712133185832.\n",
      "[I 2024-05-17 01:36:55,503] Trial 62 finished with value: 0.726562274575382 and parameters: {'alpha': 261.7992842002571}. Best is trial 21 with value: 0.7265712133185832.\n",
      "[I 2024-05-17 01:36:55,532] Trial 63 finished with value: 0.7201039544724938 and parameters: {'alpha': 85.00492718705122}. Best is trial 21 with value: 0.7265712133185832.\n",
      "[I 2024-05-17 01:36:55,551] Trial 64 finished with value: 0.7258671528459518 and parameters: {'alpha': 570.8248737370254}. Best is trial 21 with value: 0.7265712133185832.\n",
      "[I 2024-05-17 01:36:55,575] Trial 65 finished with value: 0.7208217534734389 and parameters: {'alpha': 55.87798757248074}. Best is trial 21 with value: 0.7265712133185832.\n",
      "[I 2024-05-17 01:36:55,599] Trial 66 finished with value: 0.7016062275268328 and parameters: {'alpha': 9.55399529423254}. Best is trial 21 with value: 0.7265712133185832.\n",
      "[I 2024-05-17 01:36:55,619] Trial 67 finished with value: 0.7160918195260361 and parameters: {'alpha': 29.89872656957357}. Best is trial 21 with value: 0.7265712133185832.\n",
      "[I 2024-05-17 01:36:55,649] Trial 68 finished with value: 0.7215873015873016 and parameters: {'alpha': 120.67973665634595}. Best is trial 21 with value: 0.7265712133185832.\n",
      "[I 2024-05-17 01:36:55,673] Trial 69 finished with value: 0.726562274575382 and parameters: {'alpha': 296.87860990311907}. Best is trial 21 with value: 0.7265712133185832.\n",
      "[I 2024-05-17 01:36:55,699] Trial 70 finished with value: 0.726562274575382 and parameters: {'alpha': 227.6819091697534}. Best is trial 21 with value: 0.7265712133185832.\n",
      "[I 2024-05-17 01:36:55,718] Trial 71 finished with value: 0.7265712133185832 and parameters: {'alpha': 366.3950292895342}. Best is trial 21 with value: 0.7265712133185832.\n",
      "[I 2024-05-17 01:36:55,736] Trial 72 finished with value: 0.7258671528459518 and parameters: {'alpha': 651.6655683741297}. Best is trial 21 with value: 0.7265712133185832.\n",
      "[I 2024-05-17 01:36:55,761] Trial 73 finished with value: 0.7265712133185832 and parameters: {'alpha': 400.79653241922836}. Best is trial 21 with value: 0.7265712133185832.\n",
      "[I 2024-05-17 01:36:55,785] Trial 74 finished with value: 0.7261719136867282 and parameters: {'alpha': 434.7312367307779}. Best is trial 21 with value: 0.7265712133185832.\n",
      "[I 2024-05-17 01:36:55,803] Trial 75 finished with value: 0.7251350224994982 and parameters: {'alpha': 956.8613943330488}. Best is trial 21 with value: 0.7265712133185832.\n",
      "[I 2024-05-17 01:36:55,832] Trial 76 finished with value: 0.7215873015873016 and parameters: {'alpha': 124.41972287505884}. Best is trial 21 with value: 0.7265712133185832.\n",
      "[I 2024-05-17 01:36:55,866] Trial 77 finished with value: 0.7248714442159483 and parameters: {'alpha': 191.23099301952772}. Best is trial 21 with value: 0.7265712133185832.\n",
      "[I 2024-05-17 01:36:55,896] Trial 78 finished with value: 0.7258671528459518 and parameters: {'alpha': 628.7011659879432}. Best is trial 21 with value: 0.7265712133185832.\n",
      "[I 2024-05-17 01:36:55,916] Trial 79 finished with value: 0.7261719136867282 and parameters: {'alpha': 414.04918531385164}. Best is trial 21 with value: 0.7265712133185832.\n",
      "[I 2024-05-17 01:36:55,936] Trial 80 finished with value: 0.7215651958077853 and parameters: {'alpha': 58.649093304742365}. Best is trial 21 with value: 0.7265712133185832.\n",
      "[I 2024-05-17 01:36:55,954] Trial 81 finished with value: 0.7258346629213484 and parameters: {'alpha': 327.9994005430768}. Best is trial 21 with value: 0.7265712133185832.\n",
      "[I 2024-05-17 01:36:55,982] Trial 82 finished with value: 0.725610023542022 and parameters: {'alpha': 197.74028124801197}. Best is trial 21 with value: 0.7265712133185832.\n",
      "[I 2024-05-17 01:36:56,009] Trial 83 finished with value: 0.7258346629213484 and parameters: {'alpha': 312.77501499330003}. Best is trial 21 with value: 0.7265712133185832.\n",
      "[I 2024-05-17 01:36:56,032] Trial 84 finished with value: 0.7208459692991867 and parameters: {'alpha': 100.21842758678699}. Best is trial 21 with value: 0.7265712133185832.\n",
      "[I 2024-05-17 01:36:56,049] Trial 85 finished with value: 0.7262660496383572 and parameters: {'alpha': 500.5809076196267}. Best is trial 21 with value: 0.7265712133185832.\n",
      "[I 2024-05-17 01:36:56,068] Trial 86 finished with value: 0.7248714442159483 and parameters: {'alpha': 155.2711790498074}. Best is trial 21 with value: 0.7265712133185832.\n",
      "[I 2024-05-17 01:36:56,099] Trial 87 finished with value: 0.726562274575382 and parameters: {'alpha': 235.91123438262537}. Best is trial 21 with value: 0.7265712133185832.\n",
      "[I 2024-05-17 01:36:56,120] Trial 88 finished with value: 0.7258671528459518 and parameters: {'alpha': 741.0709611519749}. Best is trial 21 with value: 0.7265712133185832.\n",
      "[I 2024-05-17 01:36:56,142] Trial 89 finished with value: 0.7265712133185832 and parameters: {'alpha': 395.8306970960131}. Best is trial 21 with value: 0.7265712133185832.\n",
      "[I 2024-05-17 01:36:56,165] Trial 90 finished with value: 0.6678004439327081 and parameters: {'alpha': 0.06998155100769825}. Best is trial 21 with value: 0.7265712133185832.\n",
      "[I 2024-05-17 01:36:56,183] Trial 91 finished with value: 0.7261719136867282 and parameters: {'alpha': 432.5544047384114}. Best is trial 21 with value: 0.7265712133185832.\n",
      "[I 2024-05-17 01:36:56,207] Trial 92 finished with value: 0.7258346629213484 and parameters: {'alpha': 339.6391470682992}. Best is trial 21 with value: 0.7265712133185832.\n",
      "[I 2024-05-17 01:36:56,238] Trial 93 finished with value: 0.7258671528459518 and parameters: {'alpha': 726.9915633909073}. Best is trial 21 with value: 0.7265712133185832.\n",
      "[I 2024-05-17 01:36:56,264] Trial 94 finished with value: 0.7215873015873016 and parameters: {'alpha': 123.46389752734547}. Best is trial 21 with value: 0.7265712133185832.\n",
      "[I 2024-05-17 01:36:56,292] Trial 95 finished with value: 0.7202028507126781 and parameters: {'alpha': 76.1879913165781}. Best is trial 21 with value: 0.7265712133185832.\n"
     ]
    },
    {
     "name": "stderr",
     "output_type": "stream",
     "text": [
      "[I 2024-05-17 01:36:56,325] Trial 96 finished with value: 0.7248714442159483 and parameters: {'alpha': 192.9500306543533}. Best is trial 21 with value: 0.7265712133185832.\n",
      "[I 2024-05-17 01:36:56,365] Trial 97 finished with value: 0.7262660496383572 and parameters: {'alpha': 548.511035180162}. Best is trial 21 with value: 0.7265712133185832.\n",
      "[I 2024-05-17 01:36:56,386] Trial 98 finished with value: 0.7251350224994982 and parameters: {'alpha': 977.7407150828973}. Best is trial 21 with value: 0.7265712133185832.\n",
      "[I 2024-05-17 01:36:56,416] Trial 99 finished with value: 0.726562274575382 and parameters: {'alpha': 253.4294598643823}. Best is trial 21 with value: 0.7265712133185832.\n"
     ]
    },
    {
     "name": "stdout",
     "output_type": "stream",
     "text": [
      "Best Naive Bayes Hyperparameters: {'alpha': 362.085767198368}\n",
      "Naive Bayes F1 Score: 0.7265712133185832\n"
     ]
    }
   ],
   "source": [
    "# Define the objective function for hyperparameter optimization\n",
    "def objective_nb(trial):\n",
    "    alpha = trial.suggest_float('alpha', 1e-3, 1e3, log = True)\n",
    "    clf = MultinomialNB(alpha=alpha)\n",
    "    clf.fit(X_train_tfidf_resampled, y_train_resampled)\n",
    "    f1 = f1_score(y_val, clf.predict(X_val_tfidf), average=\"weighted\")\n",
    "    return f1\n",
    "\n",
    "\n",
    "# Define the hyperparameter optimization study\n",
    "study_nb = optuna.create_study(direction='maximize')\n",
    "\n",
    "# Define Naive Bayes pipeline with oversampling\n",
    "nb_pipeline = Pipeline([\n",
    "    ('balancing', balancing ),\n",
    "    ('classifier', MultinomialNB())\n",
    "])\n",
    "\n",
    "\n",
    "# Fit and optimize Naive Bayes pipeline\n",
    "nb_pipeline.fit(X_train_tfidf, y_train)\n",
    "X_train_tfidf_resampled, y_train_resampled = balancing.fit_resample(X_train_tfidf, y_train)\n",
    "study_nb.optimize(objective_nb, n_trials=100)\n",
    "\n",
    "\n",
    "\n",
    "# Print the best hyperparameters and corresponding accuracies\n",
    "print(\"Best Naive Bayes Hyperparameters:\", study_nb.best_params)\n",
    "print(\"Naive Bayes F1 Score:\", study_nb.best_value)\n",
    "\n"
   ]
  },
  {
   "cell_type": "markdown",
   "metadata": {
    "id": "aTdadtfN3Fbn"
   },
   "source": [
    "### Evaluating model on Test set with best parameters"
   ]
  },
  {
   "cell_type": "code",
   "execution_count": null,
   "metadata": {
    "id": "ghxsFjXh3Fbn",
    "outputId": "0ac4a096-3746-4758-8726-ede92c5371cf"
   },
   "outputs": [
    {
     "name": "stdout",
     "output_type": "stream",
     "text": [
      "Naive Bayes F1 score on test set: 0.7223285974416853\n",
      "\n",
      "NB Classification Report:\n",
      "              precision    recall  f1-score   support\n",
      "\n",
      "    Negative       0.53      0.65      0.58       168\n",
      "     Neutral       0.16      0.54      0.25        69\n",
      "    Positive       0.93      0.69      0.80       763\n",
      "\n",
      "    accuracy                           0.68      1000\n",
      "   macro avg       0.54      0.63      0.54      1000\n",
      "weighted avg       0.81      0.68      0.72      1000\n",
      "\n"
     ]
    }
   ],
   "source": [
    "# Get the best hyperparameters\n",
    "best_alpha = study_nb.best_params['alpha']\n",
    "\n",
    "# Train the model with the best hyperparameters\n",
    "nb_model = MultinomialNB(alpha=best_alpha)\n",
    "nb_model.fit(X_train_tfidf_resampled, y_train_resampled)\n",
    "\n",
    "# Evaluate the final model on the test set\n",
    "nb_pred = nb_model.predict(X_test_tfidf)\n",
    "\n",
    "f1_test = f1_score(y_test, nb_pred, average='weighted')\n",
    "print(\"Naive Bayes F1 score on test set:\", f1_test)\n",
    "print(\"\\nNB Classification Report:\")\n",
    "print(classification_report(y_test, nb_pred))"
   ]
  },
  {
   "cell_type": "code",
   "execution_count": null,
   "metadata": {
    "id": "uWFXYJy13Fbn"
   },
   "outputs": [],
   "source": []
  },
  {
   "cell_type": "markdown",
   "metadata": {
    "id": "RLvfTZtz3Fbn"
   },
   "source": [
    "## SVM"
   ]
  },
  {
   "cell_type": "code",
   "execution_count": null,
   "metadata": {
    "id": "lBpqUmgo3Fbn",
    "outputId": "cd1031d0-91d3-499a-a6a0-144b65f1b0f5"
   },
   "outputs": [
    {
     "name": "stderr",
     "output_type": "stream",
     "text": [
      "[I 2024-05-17 01:37:44,851] A new study created in memory with name: no-name-dab9881c-d21a-4237-ad8a-820228b8ffbd\n",
      "[I 2024-05-17 01:37:47,980] Trial 0 finished with value: 0.10167357192217474 and parameters: {'C': 0.2417124620110078, 'gamma': 7.284492352331535}. Best is trial 0 with value: 0.10167357192217474.\n",
      "[I 2024-05-17 01:37:49,772] Trial 1 finished with value: 0.14502938739917154 and parameters: {'C': 4.225113027888637, 'gamma': 191.85844859256895}. Best is trial 1 with value: 0.14502938739917154.\n",
      "[I 2024-05-17 01:37:51,495] Trial 2 finished with value: 0.10167357192217474 and parameters: {'C': 0.21318647594739587, 'gamma': 15.945659438348027}. Best is trial 1 with value: 0.14502938739917154.\n",
      "[I 2024-05-17 01:37:53,267] Trial 3 finished with value: 0.6946415272917568 and parameters: {'C': 407.50319594661806, 'gamma': 0.021096389957872014}. Best is trial 3 with value: 0.6946415272917568.\n",
      "[I 2024-05-17 01:37:55,025] Trial 4 finished with value: 0.6963924030292153 and parameters: {'C': 1.4903119964053635, 'gamma': 1.6692887306490345}. Best is trial 4 with value: 0.6963924030292153.\n",
      "[I 2024-05-17 01:37:56,762] Trial 5 finished with value: 0.18130922235540908 and parameters: {'C': 15.275826119321879, 'gamma': 11.430163514151824}. Best is trial 4 with value: 0.6963924030292153.\n",
      "[I 2024-05-17 01:37:58,465] Trial 6 finished with value: 0.12267372618663663 and parameters: {'C': 0.4263415779755636, 'gamma': 4.9231467992704285}. Best is trial 4 with value: 0.6963924030292153.\n",
      "[I 2024-05-17 01:38:00,229] Trial 7 finished with value: 0.26406353090537854 and parameters: {'C': 0.387484323931027, 'gamma': 0.051627504896353205}. Best is trial 4 with value: 0.6963924030292153.\n",
      "[I 2024-05-17 01:38:02,203] Trial 8 finished with value: 0.09978889126526724 and parameters: {'C': 0.06950271001227265, 'gamma': 643.2452465282267}. Best is trial 4 with value: 0.6963924030292153.\n",
      "[I 2024-05-17 01:38:03,904] Trial 9 finished with value: 0.7047555712566238 and parameters: {'C': 41.09931150302777, 'gamma': 0.13275163099954126}. Best is trial 9 with value: 0.7047555712566238.\n",
      "[I 2024-05-17 01:38:05,613] Trial 10 finished with value: 0.7048479739080323 and parameters: {'C': 109.76119292318299, 'gamma': 0.26227077797778436}. Best is trial 10 with value: 0.7048479739080323.\n",
      "[I 2024-05-17 01:38:07,329] Trial 11 finished with value: 0.706969298639899 and parameters: {'C': 128.0427414124217, 'gamma': 0.35055844481606846}. Best is trial 11 with value: 0.706969298639899.\n",
      "[I 2024-05-17 01:38:09,065] Trial 12 finished with value: 0.7076206924534408 and parameters: {'C': 852.2144424642864, 'gamma': 0.37827547245700355}. Best is trial 12 with value: 0.7076206924534408.\n",
      "[I 2024-05-17 01:38:10,765] Trial 13 finished with value: 0.7059775844640425 and parameters: {'C': 901.4551677770934, 'gamma': 0.44272760158250724}. Best is trial 12 with value: 0.7076206924534408.\n",
      "[I 2024-05-17 01:38:12,420] Trial 14 finished with value: 0.702526647049976 and parameters: {'C': 150.25764727197327, 'gamma': 1.1909177243701097}. Best is trial 12 with value: 0.7076206924534408.\n",
      "[I 2024-05-17 01:38:14,113] Trial 15 finished with value: 0.2708988701580673 and parameters: {'C': 0.015571553074631215, 'gamma': 0.013282711346451804}. Best is trial 12 with value: 0.7076206924534408.\n",
      "[I 2024-05-17 01:38:15,820] Trial 16 finished with value: 0.7180119881366218 and parameters: {'C': 15.987833294458467, 'gamma': 0.0725428760193121}. Best is trial 16 with value: 0.7180119881366218.\n",
      "[I 2024-05-17 01:38:17,225] Trial 17 finished with value: 0.7173721238472893 and parameters: {'C': 9.653364306438277, 'gamma': 0.06867636753083912}. Best is trial 16 with value: 0.7180119881366218.\n",
      "[I 2024-05-17 01:38:18,816] Trial 18 finished with value: 0.6942712999370062 and parameters: {'C': 7.170693517399775, 'gamma': 0.040876118982152584}. Best is trial 16 with value: 0.7180119881366218.\n",
      "[I 2024-05-17 01:38:20,486] Trial 19 finished with value: 0.7136142330517182 and parameters: {'C': 23.084177763586055, 'gamma': 0.08424283156797852}. Best is trial 16 with value: 0.7180119881366218.\n",
      "[I 2024-05-17 01:38:22,212] Trial 20 finished with value: 0.14502938739917154 and parameters: {'C': 1.643457834813827, 'gamma': 54.19910893618486}. Best is trial 16 with value: 0.7180119881366218.\n",
      "[I 2024-05-17 01:38:23,910] Trial 21 finished with value: 0.7103239813879031 and parameters: {'C': 26.5236801624637, 'gamma': 0.08719306804990411}. Best is trial 16 with value: 0.7180119881366218.\n",
      "[I 2024-05-17 01:38:25,520] Trial 22 finished with value: 0.6258246449138812 and parameters: {'C': 11.390252139179948, 'gamma': 0.011561535591616868}. Best is trial 16 with value: 0.7180119881366218.\n",
      "[I 2024-05-17 01:38:27,110] Trial 23 finished with value: 0.6918426628806076 and parameters: {'C': 2.5950166574366236, 'gamma': 0.12121999061712267}. Best is trial 16 with value: 0.7180119881366218.\n",
      "[I 2024-05-17 01:38:28,964] Trial 24 finished with value: 0.7039803002399483 and parameters: {'C': 23.426798512346537, 'gamma': 1.009675691396004}. Best is trial 16 with value: 0.7180119881366218.\n",
      "[I 2024-05-17 01:38:30,735] Trial 25 finished with value: 0.7117635550700956 and parameters: {'C': 59.801184346999506, 'gamma': 0.027925341847609322}. Best is trial 16 with value: 0.7180119881366218.\n",
      "[I 2024-05-17 01:38:32,363] Trial 26 finished with value: 0.705597871448601 and parameters: {'C': 6.192642116265592, 'gamma': 0.06497481385040167}. Best is trial 16 with value: 0.7180119881366218.\n",
      "[I 2024-05-17 01:38:34,135] Trial 27 finished with value: 0.6323135696232832 and parameters: {'C': 1.066311458229172, 'gamma': 0.17420781356475323}. Best is trial 16 with value: 0.7180119881366218.\n",
      "[I 2024-05-17 01:38:35,996] Trial 28 finished with value: 0.6297495935819489 and parameters: {'C': 59.62368675206397, 'gamma': 2.4603326545090973}. Best is trial 16 with value: 0.7180119881366218.\n",
      "[I 2024-05-17 01:38:37,860] Trial 29 finished with value: 0.7108422487529428 and parameters: {'C': 12.581691207610374, 'gamma': 0.6329351436033065}. Best is trial 16 with value: 0.7180119881366218.\n",
      "[I 2024-05-17 01:38:39,666] Trial 30 finished with value: 0.6932205775242876 and parameters: {'C': 263.59435668583126, 'gamma': 0.02882570576539906}. Best is trial 16 with value: 0.7180119881366218.\n",
      "[I 2024-05-17 01:38:41,526] Trial 31 finished with value: 0.7066114702055544 and parameters: {'C': 59.65394420820618, 'gamma': 0.03442770803756862}. Best is trial 16 with value: 0.7180119881366218.\n",
      "[I 2024-05-17 01:38:43,191] Trial 32 finished with value: 0.6873011774113729 and parameters: {'C': 3.8057444118978028, 'gamma': 0.07589835809222559}. Best is trial 16 with value: 0.7180119881366218.\n",
      "[I 2024-05-17 01:38:44,820] Trial 33 finished with value: 0.7175809124128747 and parameters: {'C': 32.61255217706856, 'gamma': 0.0196448817359504}. Best is trial 16 with value: 0.7180119881366218.\n",
      "[I 2024-05-17 01:38:46,460] Trial 34 finished with value: 0.7142766068746845 and parameters: {'C': 25.153140557170957, 'gamma': 0.017343853790549098}. Best is trial 16 with value: 0.7180119881366218.\n",
      "[I 2024-05-17 01:38:48,142] Trial 35 finished with value: 0.6320801695295265 and parameters: {'C': 8.954191214741849, 'gamma': 0.015605881539138706}. Best is trial 16 with value: 0.7180119881366218.\n",
      "[I 2024-05-17 01:38:49,966] Trial 36 finished with value: 0.5127715879284379 and parameters: {'C': 3.5106914482487745, 'gamma': 0.020207115964151114}. Best is trial 16 with value: 0.7180119881366218.\n",
      "[I 2024-05-17 01:38:51,720] Trial 37 finished with value: 0.7060728256293677 and parameters: {'C': 36.384003109605295, 'gamma': 0.1940416730636119}. Best is trial 16 with value: 0.7180119881366218.\n",
      "[I 2024-05-17 01:38:53,477] Trial 38 finished with value: 0.6836616445241102 and parameters: {'C': 296.48547540664725, 'gamma': 0.03871700084962268}. Best is trial 16 with value: 0.7180119881366218.\n",
      "[I 2024-05-17 01:38:55,009] Trial 39 finished with value: 0.7021670659213773 and parameters: {'C': 15.303604886891543, 'gamma': 0.02098481287156537}. Best is trial 16 with value: 0.7180119881366218.\n",
      "[I 2024-05-17 01:38:56,706] Trial 40 finished with value: 0.2706653942708452 and parameters: {'C': 0.7169198295888943, 'gamma': 0.010111165805051553}. Best is trial 16 with value: 0.7180119881366218.\n"
     ]
    },
    {
     "name": "stderr",
     "output_type": "stream",
     "text": [
      "[I 2024-05-17 01:38:58,362] Trial 41 finished with value: 0.7175412000689477 and parameters: {'C': 20.65515391742699, 'gamma': 0.08515745589658238}. Best is trial 16 with value: 0.7180119881366218.\n",
      "[I 2024-05-17 01:39:00,141] Trial 42 finished with value: 0.15025439036071642 and parameters: {'C': 5.86042490982766, 'gamma': 32.05589095699013}. Best is trial 16 with value: 0.7180119881366218.\n",
      "[I 2024-05-17 01:39:01,808] Trial 43 finished with value: 0.7031357584568804 and parameters: {'C': 84.12602860349212, 'gamma': 0.05331030185453462}. Best is trial 16 with value: 0.7180119881366218.\n",
      "[I 2024-05-17 01:39:03,484] Trial 44 finished with value: 0.7117615209054995 and parameters: {'C': 18.08537635213769, 'gamma': 0.15334605343028357}. Best is trial 16 with value: 0.7180119881366218.\n",
      "[I 2024-05-17 01:39:05,536] Trial 45 finished with value: 0.14502938739917154 and parameters: {'C': 38.45404625283643, 'gamma': 966.5339017855636}. Best is trial 16 with value: 0.7180119881366218.\n",
      "[I 2024-05-17 01:39:07,290] Trial 46 finished with value: 0.2260700675169496 and parameters: {'C': 194.8160934791902, 'gamma': 7.267582778783339}. Best is trial 16 with value: 0.7180119881366218.\n",
      "[I 2024-05-17 01:39:08,880] Trial 47 finished with value: 0.7104104102878138 and parameters: {'C': 2.2676321322405584, 'gamma': 0.23436408860276986}. Best is trial 16 with value: 0.7180119881366218.\n",
      "[I 2024-05-17 01:39:10,581] Trial 48 finished with value: 0.6921674845184619 and parameters: {'C': 82.98402875758445, 'gamma': 0.10760343687974515}. Best is trial 16 with value: 0.7180119881366218.\n",
      "[I 2024-05-17 01:39:12,220] Trial 49 finished with value: 0.5973457857543552 and parameters: {'C': 5.074078879440587, 'gamma': 0.021276490657966496}. Best is trial 16 with value: 0.7180119881366218.\n",
      "[I 2024-05-17 01:39:13,906] Trial 50 finished with value: 0.7151842031127362 and parameters: {'C': 9.732249290214336, 'gamma': 0.5982251221803261}. Best is trial 16 with value: 0.7180119881366218.\n",
      "[I 2024-05-17 01:39:15,638] Trial 51 finished with value: 0.7147689503600045 and parameters: {'C': 9.646542514237968, 'gamma': 0.5100176404381216}. Best is trial 16 with value: 0.7180119881366218.\n",
      "[I 2024-05-17 01:39:17,374] Trial 52 finished with value: 0.7137994012823099 and parameters: {'C': 9.109657602412225, 'gamma': 0.6191559680792261}. Best is trial 16 with value: 0.7180119881366218.\n",
      "[I 2024-05-17 01:39:19,157] Trial 53 finished with value: 0.10881797470939135 and parameters: {'C': 0.15113010388890344, 'gamma': 3.745892587404589}. Best is trial 16 with value: 0.7180119881366218.\n",
      "[I 2024-05-17 01:39:20,929] Trial 54 finished with value: 0.6956477899765521 and parameters: {'C': 9.646855257698215, 'gamma': 1.5844376774750601}. Best is trial 16 with value: 0.7180119881366218.\n",
      "[I 2024-05-17 01:39:22,666] Trial 55 finished with value: 0.7128245926512302 and parameters: {'C': 16.612833938435287, 'gamma': 0.31947996311505333}. Best is trial 16 with value: 0.7180119881366218.\n",
      "[I 2024-05-17 01:39:24,382] Trial 56 finished with value: 0.7081748762362872 and parameters: {'C': 30.97347982562142, 'gamma': 0.8384115974984648}. Best is trial 16 with value: 0.7180119881366218.\n",
      "[I 2024-05-17 01:39:26,176] Trial 57 finished with value: 0.7180940601078531 and parameters: {'C': 4.187729490690201, 'gamma': 0.4520434486055753}. Best is trial 57 with value: 0.7180940601078531.\n",
      "[I 2024-05-17 01:39:27,879] Trial 58 finished with value: 0.6294276893858326 and parameters: {'C': 2.568093487351521, 'gamma': 0.05658489275807217}. Best is trial 57 with value: 0.7180940601078531.\n",
      "[I 2024-05-17 01:39:29,535] Trial 59 finished with value: 0.621680316537027 and parameters: {'C': 1.2757024443815212, 'gamma': 0.11933638164486927}. Best is trial 57 with value: 0.7180940601078531.\n",
      "[I 2024-05-17 01:39:31,334] Trial 60 finished with value: 0.7167636916972849 and parameters: {'C': 4.736760212178551, 'gamma': 0.28220141110119074}. Best is trial 57 with value: 0.7180940601078531.\n",
      "[I 2024-05-17 01:39:32,992] Trial 61 finished with value: 0.718784225738378 and parameters: {'C': 4.085328127135709, 'gamma': 0.2356581945381542}. Best is trial 61 with value: 0.718784225738378.\n",
      "[I 2024-05-17 01:39:34,625] Trial 62 finished with value: 0.6303131786001627 and parameters: {'C': 1.8181772356272863, 'gamma': 0.08461056419058627}. Best is trial 61 with value: 0.718784225738378.\n",
      "[I 2024-05-17 01:39:36,340] Trial 63 finished with value: 0.7165047173433381 and parameters: {'C': 4.367203140423282, 'gamma': 0.2334403848843599}. Best is trial 61 with value: 0.718784225738378.\n",
      "[I 2024-05-17 01:39:37,997] Trial 64 finished with value: 0.5882550406561726 and parameters: {'C': 0.501957626112234, 'gamma': 0.3870983268652899}. Best is trial 61 with value: 0.718784225738378.\n",
      "[I 2024-05-17 01:39:39,603] Trial 65 finished with value: 0.6866491671910581 and parameters: {'C': 6.001667356256174, 'gamma': 0.045333904336112965}. Best is trial 61 with value: 0.718784225738378.\n",
      "[I 2024-05-17 01:39:41,462] Trial 66 finished with value: 0.14502938739917154 and parameters: {'C': 18.75345862941246, 'gamma': 154.39506220182162}. Best is trial 61 with value: 0.718784225738378.\n",
      "[I 2024-05-17 01:39:43,125] Trial 67 finished with value: 0.6057233381828508 and parameters: {'C': 1.0060380262562199, 'gamma': 0.14071661512390324}. Best is trial 61 with value: 0.718784225738378.\n",
      "[I 2024-05-17 01:39:44,914] Trial 68 finished with value: 0.72099052006044 and parameters: {'C': 3.317823847039238, 'gamma': 0.29433457006637037}. Best is trial 68 with value: 0.72099052006044.\n",
      "[I 2024-05-17 01:39:46,664] Trial 69 finished with value: 0.4552342105631392 and parameters: {'C': 1.9258877041515643, 'gamma': 0.031300533670497226}. Best is trial 68 with value: 0.72099052006044.\n",
      "[I 2024-05-17 01:39:48,330] Trial 70 finished with value: 0.7030653741552824 and parameters: {'C': 47.72697263481303, 'gamma': 0.06901456388780318}. Best is trial 68 with value: 0.72099052006044.\n",
      "[I 2024-05-17 01:39:50,042] Trial 71 finished with value: 0.7196746379015384 and parameters: {'C': 2.8216174398089793, 'gamma': 0.32722866122861477}. Best is trial 68 with value: 0.72099052006044.\n",
      "[I 2024-05-17 01:39:51,589] Trial 72 finished with value: 0.7117879036454887 and parameters: {'C': 3.3675810302874245, 'gamma': 0.16879742505496195}. Best is trial 68 with value: 0.72099052006044.\n",
      "[I 2024-05-17 01:39:53,295] Trial 73 finished with value: 0.7170523829964992 and parameters: {'C': 13.974783134801077, 'gamma': 0.09205914394430421}. Best is trial 68 with value: 0.72099052006044.\n",
      "[I 2024-05-17 01:39:55,073] Trial 74 finished with value: 0.7026180545431803 and parameters: {'C': 7.275025254085399, 'gamma': 1.2224346155685066}. Best is trial 68 with value: 0.72099052006044.\n",
      "[I 2024-05-17 01:39:56,880] Trial 75 finished with value: 0.6575176975710406 and parameters: {'C': 2.6851296470191235, 'gamma': 2.1113471549198115}. Best is trial 68 with value: 0.72099052006044.\n",
      "[I 2024-05-17 01:39:58,569] Trial 76 finished with value: 0.6782727431565907 and parameters: {'C': 0.908143912616992, 'gamma': 0.8311482795335018}. Best is trial 68 with value: 0.72099052006044.\n",
      "[I 2024-05-17 01:40:00,343] Trial 77 finished with value: 0.23454955736481417 and parameters: {'C': 0.012145093795864094, 'gamma': 0.43073712681703613}. Best is trial 68 with value: 0.72099052006044.\n",
      "[I 2024-05-17 01:40:02,056] Trial 78 finished with value: 0.7178173611670832 and parameters: {'C': 7.340753301845604, 'gamma': 0.2334045665875078}. Best is trial 68 with value: 0.72099052006044.\n",
      "[I 2024-05-17 01:40:03,788] Trial 79 finished with value: 0.7190100774797268 and parameters: {'C': 7.176122076930997, 'gamma': 0.20512605639422976}. Best is trial 68 with value: 0.72099052006044.\n",
      "[I 2024-05-17 01:40:05,435] Trial 80 finished with value: 0.721240920685427 and parameters: {'C': 3.272081284949519, 'gamma': 0.21397283963498995}. Best is trial 80 with value: 0.721240920685427.\n",
      "[I 2024-05-17 01:40:06,990] Trial 81 finished with value: 0.6778911823258086 and parameters: {'C': 1.4603866600403508, 'gamma': 0.21418979115656528}. Best is trial 80 with value: 0.721240920685427.\n",
      "[I 2024-05-17 01:40:08,625] Trial 82 finished with value: 0.7189110664118812 and parameters: {'C': 3.1282639482045083, 'gamma': 0.3063672923726648}. Best is trial 80 with value: 0.721240920685427.\n"
     ]
    },
    {
     "name": "stderr",
     "output_type": "stream",
     "text": [
      "[I 2024-05-17 01:40:10,339] Trial 83 finished with value: 0.7231435562099351 and parameters: {'C': 3.244943670359999, 'gamma': 0.32275268372223187}. Best is trial 83 with value: 0.7231435562099351.\n",
      "[I 2024-05-17 01:40:12,029] Trial 84 finished with value: 0.7182871896686763 and parameters: {'C': 4.204239116490919, 'gamma': 0.3533330203396009}. Best is trial 83 with value: 0.7231435562099351.\n",
      "[I 2024-05-17 01:40:13,657] Trial 85 finished with value: 0.721199539913134 and parameters: {'C': 3.2571596076152294, 'gamma': 0.3010947255414965}. Best is trial 83 with value: 0.7231435562099351.\n",
      "[I 2024-05-17 01:40:15,306] Trial 86 finished with value: 0.7179363701316671 and parameters: {'C': 3.052589277735507, 'gamma': 0.29953832247819995}. Best is trial 83 with value: 0.7231435562099351.\n",
      "[I 2024-05-17 01:40:17,051] Trial 87 finished with value: 0.7163171438906627 and parameters: {'C': 2.033428996379969, 'gamma': 0.8164948136799991}. Best is trial 83 with value: 0.7231435562099351.\n",
      "[I 2024-05-17 01:40:18,648] Trial 88 finished with value: 0.688596391572957 and parameters: {'C': 1.2806793009968975, 'gamma': 0.3475674819101015}. Best is trial 83 with value: 0.7231435562099351.\n",
      "[I 2024-05-17 01:40:20,584] Trial 89 finished with value: 0.5574893241816457 and parameters: {'C': 0.5566334689909335, 'gamma': 1.2995690185790898}. Best is trial 83 with value: 0.7231435562099351.\n",
      "[I 2024-05-17 01:40:22,406] Trial 90 finished with value: 0.7202601860376227 and parameters: {'C': 3.757018005864437, 'gamma': 0.16737804293322234}. Best is trial 83 with value: 0.7231435562099351.\n",
      "[I 2024-05-17 01:40:24,028] Trial 91 finished with value: 0.7134566720748401 and parameters: {'C': 3.255422465938104, 'gamma': 0.16671086457404705}. Best is trial 83 with value: 0.7231435562099351.\n",
      "[I 2024-05-17 01:40:25,742] Trial 92 finished with value: 0.7165145875957483 and parameters: {'C': 5.470954612890806, 'gamma': 0.5209059207445775}. Best is trial 83 with value: 0.7231435562099351.\n",
      "[I 2024-05-17 01:40:27,286] Trial 93 finished with value: 0.6736788849548712 and parameters: {'C': 2.2898928685751962, 'gamma': 0.11329647609313818}. Best is trial 83 with value: 0.7231435562099351.\n",
      "[I 2024-05-17 01:40:28,961] Trial 94 finished with value: 0.41450014404745084 and parameters: {'C': 0.3095287595046858, 'gamma': 0.27388986343455146}. Best is trial 83 with value: 0.7231435562099351.\n",
      "[I 2024-05-17 01:40:30,469] Trial 95 finished with value: 0.7181552976289173 and parameters: {'C': 3.8876596385485316, 'gamma': 0.19638761464518092}. Best is trial 83 with value: 0.7231435562099351.\n",
      "[I 2024-05-17 01:40:32,278] Trial 96 finished with value: 0.7137370914344658 and parameters: {'C': 7.210665092536189, 'gamma': 0.7034332624021412}. Best is trial 83 with value: 0.7231435562099351.\n",
      "[I 2024-05-17 01:40:34,005] Trial 97 finished with value: 0.6319565907607642 and parameters: {'C': 0.7287499507122335, 'gamma': 0.3436483716541938}. Best is trial 83 with value: 0.7231435562099351.\n",
      "[I 2024-05-17 01:40:35,640] Trial 98 finished with value: 0.6540176496286588 and parameters: {'C': 1.6531299563818336, 'gamma': 0.12665215838835375}. Best is trial 83 with value: 0.7231435562099351.\n",
      "[I 2024-05-17 01:40:37,203] Trial 99 finished with value: 0.6965938101387854 and parameters: {'C': 2.6082829354201373, 'gamma': 0.14992182901329407}. Best is trial 83 with value: 0.7231435562099351.\n"
     ]
    },
    {
     "name": "stdout",
     "output_type": "stream",
     "text": [
      "Best SVM Hyperparameters: {'C': 3.244943670359999, 'gamma': 0.32275268372223187}\n",
      "SVM F1 Score: 0.7231435562099351\n"
     ]
    }
   ],
   "source": [
    "# Define the objective function for hyperparameter optimization\n",
    "def objective_svm(trial):\n",
    "    C = trial.suggest_float('C', 1e-2, 1e3, log = True)\n",
    "    gamma = trial.suggest_float('gamma', 1e-2, 1e3, log = True)\n",
    "    clf = SVC(C=C, gamma=gamma, random_state=42)\n",
    "    clf.fit(X_train_tfidf_resampled, y_train_resampled)\n",
    "    f1 = f1_score(y_val, clf.predict(X_val_tfidf), average=\"weighted\")\n",
    "    return f1\n",
    "\n",
    "# Define the hyperparameter optimization study\n",
    "study_svm = optuna.create_study(direction='maximize')\n",
    "\n",
    "# Define SVM pipeline with oversampling\n",
    "svm_pipeline = Pipeline([\n",
    "    ('balancing', balancing),\n",
    "    ('classifier', SVC(random_state=42))\n",
    "])\n",
    "\n",
    "# Fit and optimize SVM pipeline\n",
    "svm_pipeline.fit(X_train_tfidf, y_train)\n",
    "X_train_tfidf_resampled, y_train_resampled = balancing.fit_resample(X_train_tfidf, y_train)\n",
    "study_svm.optimize(objective_svm, n_trials=100)\n",
    "\n",
    "\n",
    "# Print the best hyperparameters and corresponding accuracies\n",
    "print(\"Best SVM Hyperparameters:\", study_svm.best_params)\n",
    "print(\"SVM F1 Score:\", study_svm.best_value)\n",
    "\n"
   ]
  },
  {
   "cell_type": "markdown",
   "metadata": {
    "id": "BvR4oF1K3Fbp"
   },
   "source": [
    "### Evaluating model on Test set with best parameters"
   ]
  },
  {
   "cell_type": "code",
   "execution_count": null,
   "metadata": {
    "id": "G6FZigvp3Fbp",
    "outputId": "5303fb93-8f5a-4d30-b90f-d2d80cb0c284",
    "scrolled": true
   },
   "outputs": [
    {
     "name": "stdout",
     "output_type": "stream",
     "text": [
      "SVM F1 score on test set: 0.7167626169819719\n",
      "\n",
      "SVM Classification Report:\n",
      "              precision    recall  f1-score   support\n",
      "\n",
      "    Negative       0.59      0.69      0.64       168\n",
      "     Neutral       0.14      0.57      0.23        69\n",
      "    Positive       0.95      0.66      0.78       763\n",
      "\n",
      "    accuracy                           0.66      1000\n",
      "   macro avg       0.56      0.64      0.55      1000\n",
      "weighted avg       0.83      0.66      0.72      1000\n",
      "\n"
     ]
    }
   ],
   "source": [
    "# Get the best hyperparameters and retrain the model on the training set\n",
    "best_svm_params = study_svm.best_params\n",
    "svm_model = SVC(**best_svm_params, random_state=42)\n",
    "svm_model.fit(X_train_tfidf_resampled, y_train_resampled)\n",
    "\n",
    "# Evaluate the model on the test set\n",
    "svm_pred = svm_model.predict(X_test_tfidf)\n",
    "\n",
    "f1_test = f1_score(y_test, svm_pred, average='weighted')\n",
    "print(\"SVM F1 score on test set:\", f1_test)\n",
    "print(\"\\nSVM Classification Report:\")\n",
    "print(classification_report(y_test, svm_pred))"
   ]
  },
  {
   "cell_type": "markdown",
   "metadata": {
    "id": "nwhIkwQR3Fbq"
   },
   "source": [
    "## Random Forest"
   ]
  },
  {
   "cell_type": "code",
   "execution_count": null,
   "metadata": {
    "id": "9KaoB-7s3Fbq",
    "outputId": "09440665-0e0f-41bd-d4d3-c16f410e705c",
    "scrolled": true
   },
   "outputs": [
    {
     "name": "stderr",
     "output_type": "stream",
     "text": [
      "[I 2024-05-17 01:44:30,742] A new study created in memory with name: no-name-e20d8bd6-59cb-472d-b460-d0704f995f12\n",
      "[I 2024-05-17 01:44:46,876] Trial 0 finished with value: 0.7187586755007453 and parameters: {'n_estimators': 63, 'max_depth': 40, 'min_samples_split': 14, 'min_samples_leaf': 8}. Best is trial 0 with value: 0.7187586755007453.\n",
      "[I 2024-05-17 01:44:48,595] Trial 1 finished with value: 0.7241253603427285 and parameters: {'n_estimators': 137, 'max_depth': 15, 'min_samples_split': 16, 'min_samples_leaf': 1}. Best is trial 1 with value: 0.7241253603427285.\n",
      "[I 2024-05-17 01:44:49,784] Trial 2 finished with value: 0.7139346767238228 and parameters: {'n_estimators': 120, 'max_depth': 26, 'min_samples_split': 19, 'min_samples_leaf': 10}. Best is trial 1 with value: 0.7241253603427285.\n",
      "[I 2024-05-17 01:44:52,662] Trial 3 finished with value: 0.7277510559687963 and parameters: {'n_estimators': 157, 'max_depth': 49, 'min_samples_split': 14, 'min_samples_leaf': 4}. Best is trial 3 with value: 0.7277510559687963.\n",
      "[I 2024-05-17 01:44:53,742] Trial 4 finished with value: 0.7295444318882984 and parameters: {'n_estimators': 85, 'max_depth': 18, 'min_samples_split': 14, 'min_samples_leaf': 2}. Best is trial 4 with value: 0.7295444318882984.\n",
      "[I 2024-05-17 01:44:54,007] Trial 5 finished with value: 0.7164204360152523 and parameters: {'n_estimators': 53, 'max_depth': 6, 'min_samples_split': 7, 'min_samples_leaf': 9}. Best is trial 4 with value: 0.7295444318882984.\n",
      "[I 2024-05-17 01:44:56,133] Trial 6 finished with value: 0.7331511766598511 and parameters: {'n_estimators': 162, 'max_depth': 24, 'min_samples_split': 8, 'min_samples_leaf': 5}. Best is trial 6 with value: 0.7331511766598511.\n",
      "[I 2024-05-17 01:44:57,821] Trial 7 finished with value: 0.7430127833933715 and parameters: {'n_estimators': 166, 'max_depth': 16, 'min_samples_split': 12, 'min_samples_leaf': 4}. Best is trial 7 with value: 0.7430127833933715.\n",
      "[I 2024-05-17 01:44:59,868] Trial 8 finished with value: 0.7181979942936787 and parameters: {'n_estimators': 199, 'max_depth': 19, 'min_samples_split': 16, 'min_samples_leaf': 7}. Best is trial 7 with value: 0.7430127833933715.\n",
      "[I 2024-05-17 01:45:01,056] Trial 9 finished with value: 0.7253491934686602 and parameters: {'n_estimators': 191, 'max_depth': 8, 'min_samples_split': 20, 'min_samples_leaf': 9}. Best is trial 7 with value: 0.7430127833933715.\n",
      "[I 2024-05-17 01:45:03,169] Trial 10 finished with value: 0.7324163082318565 and parameters: {'n_estimators': 107, 'max_depth': 35, 'min_samples_split': 2, 'min_samples_leaf': 3}. Best is trial 7 with value: 0.7430127833933715.\n",
      "[I 2024-05-17 01:45:05,647] Trial 11 finished with value: 0.732145713376646 and parameters: {'n_estimators': 168, 'max_depth': 28, 'min_samples_split': 8, 'min_samples_leaf': 5}. Best is trial 7 with value: 0.7430127833933715.\n",
      "[I 2024-05-17 01:45:07,763] Trial 12 finished with value: 0.7241180578014258 and parameters: {'n_estimators': 164, 'max_depth': 25, 'min_samples_split': 9, 'min_samples_leaf': 6}. Best is trial 7 with value: 0.7430127833933715.\n",
      "[I 2024-05-17 01:45:09,017] Trial 13 finished with value: 0.7374941793919151 and parameters: {'n_estimators': 142, 'max_depth': 12, 'min_samples_split': 4, 'min_samples_leaf': 5}. Best is trial 7 with value: 0.7430127833933715.\n",
      "[I 2024-05-17 01:45:10,256] Trial 14 finished with value: 0.7350970477965034 and parameters: {'n_estimators': 139, 'max_depth': 11, 'min_samples_split': 3, 'min_samples_leaf': 3}. Best is trial 7 with value: 0.7430127833933715.\n",
      "[I 2024-05-17 01:45:11,290] Trial 15 finished with value: 0.7328923866658421 and parameters: {'n_estimators': 108, 'max_depth': 13, 'min_samples_split': 5, 'min_samples_leaf': 4}. Best is trial 7 with value: 0.7430127833933715.\n",
      "[I 2024-05-17 01:45:12,904] Trial 16 finished with value: 0.725034430895452 and parameters: {'n_estimators': 140, 'max_depth': 20, 'min_samples_split': 11, 'min_samples_leaf': 6}. Best is trial 7 with value: 0.7430127833933715.\n",
      "[I 2024-05-17 01:45:13,766] Trial 17 finished with value: 0.7159837236386527 and parameters: {'n_estimators': 181, 'max_depth': 5, 'min_samples_split': 11, 'min_samples_leaf': 7}. Best is trial 7 with value: 0.7430127833933715.\n",
      "[I 2024-05-17 01:45:16,742] Trial 18 finished with value: 0.7270727883803912 and parameters: {'n_estimators': 177, 'max_depth': 32, 'min_samples_split': 5, 'min_samples_leaf': 4}. Best is trial 7 with value: 0.7430127833933715.\n",
      "[I 2024-05-17 01:45:18,374] Trial 19 finished with value: 0.7200063350023459 and parameters: {'n_estimators': 149, 'max_depth': 11, 'min_samples_split': 10, 'min_samples_leaf': 1}. Best is trial 7 with value: 0.7430127833933715.\n",
      "[I 2024-05-17 01:45:19,784] Trial 20 finished with value: 0.7303529793931076 and parameters: {'n_estimators': 120, 'max_depth': 16, 'min_samples_split': 6, 'min_samples_leaf': 3}. Best is trial 7 with value: 0.7430127833933715.\n",
      "[I 2024-05-17 01:45:20,928] Trial 21 finished with value: 0.7283625249398542 and parameters: {'n_estimators': 137, 'max_depth': 10, 'min_samples_split': 3, 'min_samples_leaf': 3}. Best is trial 7 with value: 0.7430127833933715.\n",
      "[I 2024-05-17 01:45:22,417] Trial 22 finished with value: 0.7288464136865171 and parameters: {'n_estimators': 142, 'max_depth': 12, 'min_samples_split': 3, 'min_samples_leaf': 2}. Best is trial 7 with value: 0.7430127833933715.\n",
      "[I 2024-05-17 01:45:23,988] Trial 23 finished with value: 0.7264936549933837 and parameters: {'n_estimators': 127, 'max_depth': 21, 'min_samples_split': 4, 'min_samples_leaf': 5}. Best is trial 7 with value: 0.7430127833933715.\n",
      "[I 2024-05-17 01:45:25,087] Trial 24 finished with value: 0.7277700484857237 and parameters: {'n_estimators': 152, 'max_depth': 9, 'min_samples_split': 12, 'min_samples_leaf': 4}. Best is trial 7 with value: 0.7430127833933715.\n",
      "[I 2024-05-17 01:45:26,262] Trial 25 finished with value: 0.725334945054945 and parameters: {'n_estimators': 101, 'max_depth': 14, 'min_samples_split': 2, 'min_samples_leaf': 2}. Best is trial 7 with value: 0.7430127833933715.\n",
      "[I 2024-05-17 01:45:27,828] Trial 26 finished with value: 0.729817623257652 and parameters: {'n_estimators': 129, 'max_depth': 22, 'min_samples_split': 6, 'min_samples_leaf': 6}. Best is trial 7 with value: 0.7430127833933715.\n",
      "[I 2024-05-17 01:45:29,754] Trial 27 finished with value: 0.7265930266565424 and parameters: {'n_estimators': 171, 'max_depth': 17, 'min_samples_split': 12, 'min_samples_leaf': 3}. Best is trial 7 with value: 0.7430127833933715.\n",
      "[I 2024-05-17 01:45:30,256] Trial 28 finished with value: 0.719822228349416 and parameters: {'n_estimators': 95, 'max_depth': 5, 'min_samples_split': 4, 'min_samples_leaf': 5}. Best is trial 7 with value: 0.7430127833933715.\n",
      "[I 2024-05-17 01:45:31,342] Trial 29 finished with value: 0.7258304377073571 and parameters: {'n_estimators': 81, 'max_depth': 43, 'min_samples_split': 16, 'min_samples_leaf': 7}. Best is trial 7 with value: 0.7430127833933715.\n",
      "[I 2024-05-17 01:45:32,732] Trial 30 finished with value: 0.7405376914689893 and parameters: {'n_estimators': 188, 'max_depth': 9, 'min_samples_split': 9, 'min_samples_leaf': 4}. Best is trial 7 with value: 0.7430127833933715.\n",
      "[I 2024-05-17 01:45:33,952] Trial 31 finished with value: 0.7376394742384431 and parameters: {'n_estimators': 186, 'max_depth': 8, 'min_samples_split': 13, 'min_samples_leaf': 4}. Best is trial 7 with value: 0.7430127833933715.\n",
      "[I 2024-05-17 01:45:35,190] Trial 32 finished with value: 0.7376394742384431 and parameters: {'n_estimators': 186, 'max_depth': 8, 'min_samples_split': 13, 'min_samples_leaf': 4}. Best is trial 7 with value: 0.7430127833933715.\n",
      "[I 2024-05-17 01:45:36,429] Trial 33 finished with value: 0.7412800065946364 and parameters: {'n_estimators': 187, 'max_depth': 8, 'min_samples_split': 13, 'min_samples_leaf': 4}. Best is trial 7 with value: 0.7430127833933715.\n",
      "[I 2024-05-17 01:45:38,342] Trial 34 finished with value: 0.7316252199196296 and parameters: {'n_estimators': 196, 'max_depth': 14, 'min_samples_split': 16, 'min_samples_leaf': 4}. Best is trial 7 with value: 0.7430127833933715.\n",
      "[I 2024-05-17 01:45:39,588] Trial 35 finished with value: 0.7341979717944453 and parameters: {'n_estimators': 178, 'max_depth': 7, 'min_samples_split': 15, 'min_samples_leaf': 2}. Best is trial 7 with value: 0.7430127833933715.\n"
     ]
    },
    {
     "name": "stderr",
     "output_type": "stream",
     "text": [
      "[I 2024-05-17 01:45:42,327] Trial 36 finished with value: 0.7282200188367852 and parameters: {'n_estimators': 190, 'max_depth': 15, 'min_samples_split': 13, 'min_samples_leaf': 1}. Best is trial 7 with value: 0.7430127833933715.\n",
      "[I 2024-05-17 01:45:43,652] Trial 37 finished with value: 0.7287086527234755 and parameters: {'n_estimators': 173, 'max_depth': 9, 'min_samples_split': 10, 'min_samples_leaf': 4}. Best is trial 7 with value: 0.7430127833933715.\n",
      "[I 2024-05-17 01:45:44,815] Trial 38 finished with value: 0.7152432726947215 and parameters: {'n_estimators': 185, 'max_depth': 5, 'min_samples_split': 14, 'min_samples_leaf': 3}. Best is trial 7 with value: 0.7430127833933715.\n",
      "[I 2024-05-17 01:45:46,990] Trial 39 finished with value: 0.7353335888501741 and parameters: {'n_estimators': 199, 'max_depth': 17, 'min_samples_split': 17, 'min_samples_leaf': 5}. Best is trial 7 with value: 0.7430127833933715.\n",
      "[I 2024-05-17 01:45:49,510] Trial 40 finished with value: 0.7238848167292755 and parameters: {'n_estimators': 158, 'max_depth': 48, 'min_samples_split': 18, 'min_samples_leaf': 6}. Best is trial 7 with value: 0.7430127833933715.\n",
      "[I 2024-05-17 01:45:50,961] Trial 41 finished with value: 0.7396143339142259 and parameters: {'n_estimators': 189, 'max_depth': 8, 'min_samples_split': 13, 'min_samples_leaf': 4}. Best is trial 7 with value: 0.7430127833933715.\n",
      "[I 2024-05-17 01:45:52,372] Trial 42 finished with value: 0.7371246253488377 and parameters: {'n_estimators': 193, 'max_depth': 7, 'min_samples_split': 13, 'min_samples_leaf': 4}. Best is trial 7 with value: 0.7430127833933715.\n",
      "[I 2024-05-17 01:45:54,146] Trial 43 finished with value: 0.7352828046809532 and parameters: {'n_estimators': 184, 'max_depth': 10, 'min_samples_split': 12, 'min_samples_leaf': 5}. Best is trial 7 with value: 0.7430127833933715.\n",
      "[I 2024-05-17 01:45:55,430] Trial 44 finished with value: 0.7255447305192669 and parameters: {'n_estimators': 169, 'max_depth': 7, 'min_samples_split': 15, 'min_samples_leaf': 3}. Best is trial 7 with value: 0.7430127833933715.\n",
      "[I 2024-05-17 01:45:58,754] Trial 45 finished with value: 0.7269460330341652 and parameters: {'n_estimators': 191, 'max_depth': 29, 'min_samples_split': 9, 'min_samples_leaf': 4}. Best is trial 7 with value: 0.7430127833933715.\n",
      "[I 2024-05-17 01:46:00,468] Trial 46 finished with value: 0.7235387980795935 and parameters: {'n_estimators': 200, 'max_depth': 13, 'min_samples_split': 10, 'min_samples_leaf': 10}. Best is trial 7 with value: 0.7430127833933715.\n",
      "[I 2024-05-17 01:46:03,184] Trial 47 finished with value: 0.7391916285153695 and parameters: {'n_estimators': 166, 'max_depth': 23, 'min_samples_split': 14, 'min_samples_leaf': 2}. Best is trial 7 with value: 0.7430127833933715.\n",
      "[I 2024-05-17 01:46:05,817] Trial 48 finished with value: 0.73953923005796 and parameters: {'n_estimators': 163, 'max_depth': 22, 'min_samples_split': 14, 'min_samples_leaf': 2}. Best is trial 7 with value: 0.7430127833933715.\n",
      "[I 2024-05-17 01:46:10,217] Trial 49 finished with value: 0.731697737892047 and parameters: {'n_estimators': 158, 'max_depth': 19, 'min_samples_split': 9, 'min_samples_leaf': 1}. Best is trial 7 with value: 0.7430127833933715.\n",
      "[I 2024-05-17 01:46:13,574] Trial 50 finished with value: 0.7374907675305147 and parameters: {'n_estimators': 176, 'max_depth': 25, 'min_samples_split': 15, 'min_samples_leaf': 2}. Best is trial 7 with value: 0.7430127833933715.\n",
      "[I 2024-05-17 01:46:16,097] Trial 51 finished with value: 0.7391261904830105 and parameters: {'n_estimators': 167, 'max_depth': 23, 'min_samples_split': 14, 'min_samples_leaf': 2}. Best is trial 7 with value: 0.7430127833933715.\n",
      "[I 2024-05-17 01:46:18,474] Trial 52 finished with value: 0.7419517237023796 and parameters: {'n_estimators': 153, 'max_depth': 27, 'min_samples_split': 11, 'min_samples_leaf': 3}. Best is trial 7 with value: 0.7430127833933715.\n",
      "[I 2024-05-17 01:46:20,915] Trial 53 finished with value: 0.7395365091489878 and parameters: {'n_estimators': 147, 'max_depth': 30, 'min_samples_split': 11, 'min_samples_leaf': 3}. Best is trial 7 with value: 0.7430127833933715.\n",
      "[I 2024-05-17 01:46:23,595] Trial 54 finished with value: 0.7417174210980988 and parameters: {'n_estimators': 160, 'max_depth': 27, 'min_samples_split': 11, 'min_samples_leaf': 3}. Best is trial 7 with value: 0.7430127833933715.\n",
      "[I 2024-05-17 01:46:26,679] Trial 55 finished with value: 0.7379177294356105 and parameters: {'n_estimators': 155, 'max_depth': 35, 'min_samples_split': 8, 'min_samples_leaf': 3}. Best is trial 7 with value: 0.7430127833933715.\n",
      "[I 2024-05-17 01:46:29,419] Trial 56 finished with value: 0.7288027573304354 and parameters: {'n_estimators': 180, 'max_depth': 27, 'min_samples_split': 11, 'min_samples_leaf': 5}. Best is trial 7 with value: 0.7430127833933715.\n",
      "[I 2024-05-17 01:46:32,754] Trial 57 finished with value: 0.7383859053507792 and parameters: {'n_estimators': 173, 'max_depth': 31, 'min_samples_split': 12, 'min_samples_leaf': 3}. Best is trial 7 with value: 0.7430127833933715.\n",
      "[I 2024-05-17 01:46:35,017] Trial 58 finished with value: 0.7289509215581664 and parameters: {'n_estimators': 132, 'max_depth': 33, 'min_samples_split': 10, 'min_samples_leaf': 4}. Best is trial 7 with value: 0.7430127833933715.\n",
      "[I 2024-05-17 01:46:38,732] Trial 59 finished with value: 0.7331726497523422 and parameters: {'n_estimators': 147, 'max_depth': 38, 'min_samples_split': 8, 'min_samples_leaf': 3}. Best is trial 7 with value: 0.7430127833933715.\n",
      "[I 2024-05-17 01:46:41,394] Trial 60 finished with value: 0.7362338755081077 and parameters: {'n_estimators': 181, 'max_depth': 19, 'min_samples_split': 7, 'min_samples_leaf': 5}. Best is trial 7 with value: 0.7430127833933715.\n",
      "[I 2024-05-17 01:46:43,332] Trial 61 finished with value: 0.7262715775800872 and parameters: {'n_estimators': 165, 'max_depth': 26, 'min_samples_split': 11, 'min_samples_leaf': 9}. Best is trial 7 with value: 0.7430127833933715.\n",
      "[I 2024-05-17 01:46:46,117] Trial 62 finished with value: 0.7314876293233358 and parameters: {'n_estimators': 161, 'max_depth': 28, 'min_samples_split': 12, 'min_samples_leaf': 2}. Best is trial 7 with value: 0.7430127833933715.\n",
      "[I 2024-05-17 01:46:47,367] Trial 63 finished with value: 0.7292497839674053 and parameters: {'n_estimators': 153, 'max_depth': 11, 'min_samples_split': 13, 'min_samples_leaf': 4}. Best is trial 7 with value: 0.7430127833933715.\n",
      "[I 2024-05-17 01:46:49,494] Trial 64 finished with value: 0.7355076136554392 and parameters: {'n_estimators': 120, 'max_depth': 25, 'min_samples_split': 9, 'min_samples_leaf': 3}. Best is trial 7 with value: 0.7430127833933715.\n",
      "[I 2024-05-17 01:46:51,812] Trial 65 finished with value: 0.7390032720291668 and parameters: {'n_estimators': 162, 'max_depth': 21, 'min_samples_split': 11, 'min_samples_leaf': 3}. Best is trial 7 with value: 0.7430127833933715.\n",
      "[I 2024-05-17 01:46:54,837] Trial 66 finished with value: 0.7310105660393269 and parameters: {'n_estimators': 175, 'max_depth': 16, 'min_samples_split': 12, 'min_samples_leaf': 1}. Best is trial 7 with value: 0.7430127833933715.\n",
      "[I 2024-05-17 01:46:58,396] Trial 67 finished with value: 0.7383618593191713 and parameters: {'n_estimators': 194, 'max_depth': 27, 'min_samples_split': 10, 'min_samples_leaf': 2}. Best is trial 7 with value: 0.7430127833933715.\n",
      "[I 2024-05-17 01:46:59,831] Trial 68 finished with value: 0.7374291455946184 and parameters: {'n_estimators': 144, 'max_depth': 12, 'min_samples_split': 13, 'min_samples_leaf': 4}. Best is trial 7 with value: 0.7430127833933715.\n",
      "[I 2024-05-17 01:47:00,474] Trial 69 finished with value: 0.7288724832914975 and parameters: {'n_estimators': 62, 'max_depth': 10, 'min_samples_split': 15, 'min_samples_leaf': 4}. Best is trial 7 with value: 0.7430127833933715.\n",
      "[I 2024-05-17 01:47:03,133] Trial 70 finished with value: 0.7332063056452532 and parameters: {'n_estimators': 187, 'max_depth': 21, 'min_samples_split': 11, 'min_samples_leaf': 5}. Best is trial 7 with value: 0.7430127833933715.\n",
      "[I 2024-05-17 01:47:05,756] Trial 71 finished with value: 0.7405651210418528 and parameters: {'n_estimators': 147, 'max_depth': 30, 'min_samples_split': 12, 'min_samples_leaf': 3}. Best is trial 7 with value: 0.7430127833933715.\n"
     ]
    },
    {
     "name": "stderr",
     "output_type": "stream",
     "text": [
      "[I 2024-05-17 01:47:06,767] Trial 72 finished with value: 0.7264266863067997 and parameters: {'n_estimators': 152, 'max_depth': 6, 'min_samples_split': 14, 'min_samples_leaf': 3}. Best is trial 7 with value: 0.7430127833933715.\n",
      "[I 2024-05-17 01:47:09,260] Trial 73 finished with value: 0.7296672291604501 and parameters: {'n_estimators': 135, 'max_depth': 33, 'min_samples_split': 12, 'min_samples_leaf': 4}. Best is trial 7 with value: 0.7430127833933715.\n",
      "[I 2024-05-17 01:47:12,055] Trial 74 finished with value: 0.7379883870862652 and parameters: {'n_estimators': 160, 'max_depth': 30, 'min_samples_split': 14, 'min_samples_leaf': 3}. Best is trial 7 with value: 0.7430127833933715.\n",
      "[I 2024-05-17 01:47:15,447] Trial 75 finished with value: 0.7296567845147411 and parameters: {'n_estimators': 171, 'max_depth': 29, 'min_samples_split': 10, 'min_samples_leaf': 2}. Best is trial 7 with value: 0.7430127833933715.\n",
      "[I 2024-05-17 01:47:17,224] Trial 76 finished with value: 0.7243458585927323 and parameters: {'n_estimators': 112, 'max_depth': 24, 'min_samples_split': 13, 'min_samples_leaf': 4}. Best is trial 7 with value: 0.7430127833933715.\n",
      "[I 2024-05-17 01:47:20,813] Trial 77 finished with value: 0.7363416567506968 and parameters: {'n_estimators': 189, 'max_depth': 35, 'min_samples_split': 13, 'min_samples_leaf': 3}. Best is trial 7 with value: 0.7430127833933715.\n",
      "[I 2024-05-17 01:47:22,144] Trial 78 finished with value: 0.7339000408985568 and parameters: {'n_estimators': 183, 'max_depth': 9, 'min_samples_split': 12, 'min_samples_leaf': 4}. Best is trial 7 with value: 0.7430127833933715.\n",
      "[I 2024-05-17 01:47:24,032] Trial 79 finished with value: 0.7272267010867789 and parameters: {'n_estimators': 150, 'max_depth': 14, 'min_samples_split': 11, 'min_samples_leaf': 2}. Best is trial 7 with value: 0.7430127833933715.\n",
      "[I 2024-05-17 01:47:26,766] Trial 80 finished with value: 0.7339444903806859 and parameters: {'n_estimators': 196, 'max_depth': 23, 'min_samples_split': 17, 'min_samples_leaf': 5}. Best is trial 7 with value: 0.7430127833933715.\n",
      "[I 2024-05-17 01:47:29,582] Trial 81 finished with value: 0.7331276377267864 and parameters: {'n_estimators': 147, 'max_depth': 31, 'min_samples_split': 9, 'min_samples_leaf': 3}. Best is trial 7 with value: 0.7430127833933715.\n",
      "[I 2024-05-17 01:47:32,318] Trial 82 finished with value: 0.741510435744089 and parameters: {'n_estimators': 143, 'max_depth': 29, 'min_samples_split': 11, 'min_samples_leaf': 3}. Best is trial 7 with value: 0.7430127833933715.\n",
      "[I 2024-05-17 01:47:34,698] Trial 83 finished with value: 0.7343450428783951 and parameters: {'n_estimators': 135, 'max_depth': 26, 'min_samples_split': 11, 'min_samples_leaf': 3}. Best is trial 7 with value: 0.7430127833933715.\n",
      "[I 2024-05-17 01:47:37,355] Trial 84 finished with value: 0.7340493183664365 and parameters: {'n_estimators': 157, 'max_depth': 28, 'min_samples_split': 10, 'min_samples_leaf': 4}. Best is trial 7 with value: 0.7430127833933715.\n",
      "[I 2024-05-17 01:47:39,836] Trial 85 finished with value: 0.7377862733701445 and parameters: {'n_estimators': 142, 'max_depth': 18, 'min_samples_split': 12, 'min_samples_leaf': 1}. Best is trial 7 with value: 0.7430127833933715.\n",
      "[I 2024-05-17 01:47:42,934] Trial 86 finished with value: 0.7340344179075527 and parameters: {'n_estimators': 163, 'max_depth': 33, 'min_samples_split': 13, 'min_samples_leaf': 2}. Best is trial 7 with value: 0.7430127833933715.\n",
      "[I 2024-05-17 01:47:45,789] Trial 87 finished with value: 0.7336296376767508 and parameters: {'n_estimators': 168, 'max_depth': 29, 'min_samples_split': 15, 'min_samples_leaf': 3}. Best is trial 7 with value: 0.7430127833933715.\n",
      "[I 2024-05-17 01:47:48,835] Trial 88 finished with value: 0.7251774631766216 and parameters: {'n_estimators': 155, 'max_depth': 37, 'min_samples_split': 7, 'min_samples_leaf': 4}. Best is trial 7 with value: 0.7430127833933715.\n",
      "[I 2024-05-17 01:47:49,967] Trial 89 finished with value: 0.7277333333333332 and parameters: {'n_estimators': 178, 'max_depth': 6, 'min_samples_split': 14, 'min_samples_leaf': 6}. Best is trial 7 with value: 0.7430127833933715.\n",
      "[I 2024-05-17 01:47:52,328] Trial 90 finished with value: 0.7365573182639051 and parameters: {'n_estimators': 144, 'max_depth': 24, 'min_samples_split': 10, 'min_samples_leaf': 3}. Best is trial 7 with value: 0.7430127833933715.\n",
      "[I 2024-05-17 01:47:55,495] Trial 91 finished with value: 0.7268672869206475 and parameters: {'n_estimators': 139, 'max_depth': 31, 'min_samples_split': 11, 'min_samples_leaf': 2}. Best is trial 7 with value: 0.7430127833933715.\n",
      "[I 2024-05-17 01:47:58,344] Trial 92 finished with value: 0.7422741775358598 and parameters: {'n_estimators': 148, 'max_depth': 30, 'min_samples_split': 12, 'min_samples_leaf': 3}. Best is trial 7 with value: 0.7430127833933715.\n",
      "[I 2024-05-17 01:48:00,750] Trial 93 finished with value: 0.7388901734104046 and parameters: {'n_estimators': 150, 'max_depth': 26, 'min_samples_split': 12, 'min_samples_leaf': 3}. Best is trial 7 with value: 0.7430127833933715.\n",
      "[I 2024-05-17 01:48:02,674] Trial 94 finished with value: 0.7299908230574339 and parameters: {'n_estimators': 125, 'max_depth': 32, 'min_samples_split': 20, 'min_samples_leaf': 4}. Best is trial 7 with value: 0.7430127833933715.\n",
      "[I 2024-05-17 01:48:05,270] Trial 95 finished with value: 0.7430456474111872 and parameters: {'n_estimators': 158, 'max_depth': 30, 'min_samples_split': 13, 'min_samples_leaf': 3}. Best is trial 95 with value: 0.7430456474111872.\n",
      "[I 2024-05-17 01:48:08,061] Trial 96 finished with value: 0.7401466981178532 and parameters: {'n_estimators': 159, 'max_depth': 34, 'min_samples_split': 12, 'min_samples_leaf': 3}. Best is trial 95 with value: 0.7430456474111872.\n",
      "[I 2024-05-17 01:48:10,744] Trial 97 finished with value: 0.7372342369784844 and parameters: {'n_estimators': 155, 'max_depth': 34, 'min_samples_split': 12, 'min_samples_leaf': 3}. Best is trial 95 with value: 0.7430456474111872.\n",
      "[I 2024-05-17 01:48:13,804] Trial 98 finished with value: 0.7418812042111292 and parameters: {'n_estimators': 159, 'max_depth': 37, 'min_samples_split': 9, 'min_samples_leaf': 3}. Best is trial 95 with value: 0.7430456474111872.\n",
      "[I 2024-05-17 01:48:16,709] Trial 99 finished with value: 0.7376076706685996 and parameters: {'n_estimators': 145, 'max_depth': 37, 'min_samples_split': 9, 'min_samples_leaf': 3}. Best is trial 95 with value: 0.7430456474111872.\n"
     ]
    },
    {
     "name": "stdout",
     "output_type": "stream",
     "text": [
      "Best Random Forest Hyperparameters: {'n_estimators': 158, 'max_depth': 30, 'min_samples_split': 13, 'min_samples_leaf': 3}\n",
      "Random Forest F1 Score: 0.7430456474111872\n"
     ]
    }
   ],
   "source": [
    "\n",
    "# Define the objective function for hyperparameter optimization\n",
    "\n",
    "def objective_rf(trial):\n",
    "    n_estimators = trial.suggest_int('n_estimators', 50, 200)\n",
    "    max_depth = trial.suggest_int('max_depth', 5, 50)\n",
    "    min_samples_split = trial.suggest_int('min_samples_split', 2, 20)\n",
    "    min_samples_leaf = trial.suggest_int('min_samples_leaf', 1, 10)\n",
    "    clf = RandomForestClassifier(n_estimators=n_estimators, max_depth=max_depth,\n",
    "                                  min_samples_split=min_samples_split, min_samples_leaf=min_samples_leaf,\n",
    "                                  random_state=42)\n",
    "    clf.fit(X_train_tfidf_resampled, y_train_resampled)\n",
    "    f1 = f1_score(y_val, clf.predict(X_val_tfidf), average=\"weighted\")\n",
    "    return f1\n",
    "\n",
    "# Define the hyperparameter optimization study\n",
    "study_rf = optuna.create_study(direction='maximize')\n",
    "\n",
    "\n",
    "# Define Random Forest pipeline with oversampling\n",
    "rf_pipeline = Pipeline([\n",
    "    ('balancing', balancing),\n",
    "    ('classifier', RandomForestClassifier(random_state=42))\n",
    "])\n",
    "\n",
    "\n",
    "# Fit and optimize Random Forest pipeline\n",
    "rf_pipeline.fit(X_train_tfidf, y_train)\n",
    "X_train_tfidf_resampled, y_train_resampled = balancing.fit_resample(X_train_tfidf, y_train)\n",
    "study_rf.optimize(objective_rf, n_trials=100)\n",
    "\n",
    "# Print the best hyperparameters and corresponding accuracies\n",
    "print(\"Best Random Forest Hyperparameters:\", study_rf.best_params)\n",
    "print(\"Random Forest F1 Score:\", study_rf.best_value)\n"
   ]
  },
  {
   "cell_type": "markdown",
   "metadata": {
    "id": "Mnf6YzYd3Fbr"
   },
   "source": [
    "### Evaluating model on Test set with best parameters"
   ]
  },
  {
   "cell_type": "code",
   "execution_count": null,
   "metadata": {
    "id": "z8SiXcYq3Fbr",
    "outputId": "9903a826-5cb9-4219-e086-45b87954f9b4"
   },
   "outputs": [
    {
     "name": "stdout",
     "output_type": "stream",
     "text": [
      "Random Forest F1 score on test set: 0.7474046589852413\n",
      "\n",
      "Random Forest Classification Report:\n",
      "              precision    recall  f1-score   support\n",
      "\n",
      "    Negative       0.59      0.62      0.60       168\n",
      "     Neutral       0.16      0.46      0.24        69\n",
      "    Positive       0.92      0.75      0.83       763\n",
      "\n",
      "    accuracy                           0.71      1000\n",
      "   macro avg       0.56      0.61      0.56      1000\n",
      "weighted avg       0.81      0.71      0.75      1000\n",
      "\n"
     ]
    }
   ],
   "source": [
    "# Get the best hyperparameters and retrain the model on the training set\n",
    "best_rf_params = study_rf.best_params\n",
    "rf_model = RandomForestClassifier(**best_rf_params, random_state=42)\n",
    "rf_model.fit(X_train_tfidf_resampled, y_train_resampled)\n",
    "\n",
    "# Evaluate the model on the test set\n",
    "rf_pred = rf_model.predict(X_test_tfidf)\n",
    "\n",
    "f1_test = f1_score(y_test, rf_pred, average='weighted')\n",
    "print(\"Random Forest F1 score on test set:\", f1_test)\n",
    "print(\"\\nRandom Forest Classification Report:\")\n",
    "print(classification_report(y_test, rf_pred))"
   ]
  },
  {
   "cell_type": "code",
   "execution_count": null,
   "metadata": {
    "id": "N_EZ8FXg3Fbs"
   },
   "outputs": [],
   "source": []
  },
  {
   "cell_type": "code",
   "execution_count": null,
   "metadata": {
    "id": "Q4rqE6q73Fbs"
   },
   "outputs": [],
   "source": []
  },
  {
   "cell_type": "code",
   "execution_count": null,
   "metadata": {
    "id": "ddtxuiWd3Fbs"
   },
   "outputs": [],
   "source": []
  },
  {
   "cell_type": "code",
   "execution_count": null,
   "metadata": {
    "id": "lqjHlDzr3Fbs"
   },
   "outputs": [],
   "source": []
  }
 ],
 "metadata": {
  "colab": {
   "provenance": []
  },
  "kernelspec": {
   "display_name": "Python 3 (ipykernel)",
   "language": "python",
   "name": "python3"
  },
  "language_info": {
   "codemirror_mode": {
    "name": "ipython",
    "version": 3
   },
   "file_extension": ".py",
   "mimetype": "text/x-python",
   "name": "python",
   "nbconvert_exporter": "python",
   "pygments_lexer": "ipython3",
   "version": "3.9.12"
  }
 },
 "nbformat": 4,
 "nbformat_minor": 1
}
