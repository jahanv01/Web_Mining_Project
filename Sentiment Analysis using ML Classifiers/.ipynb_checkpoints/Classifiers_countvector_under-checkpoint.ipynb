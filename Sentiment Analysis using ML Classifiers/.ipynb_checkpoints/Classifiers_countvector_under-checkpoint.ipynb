{
 "cells": [
  {
   "cell_type": "markdown",
   "metadata": {
    "id": "_ueV0YJA2J_G"
   },
   "source": [
    "# **ML Classifiers with Count Vectorization & Undersampling**"
   ]
  },
  {
   "cell_type": "code",
   "execution_count": 1,
   "metadata": {
    "colab": {
     "base_uri": "https://localhost:8080/"
    },
    "executionInfo": {
     "elapsed": 20949,
     "status": "ok",
     "timestamp": 1715904058577,
     "user": {
      "displayName": "Saman Khursheed",
      "userId": "05089754281541587262"
     },
     "user_tz": -120
    },
    "id": "XUO6-DGW2WKD",
    "outputId": "b5390a67-65fd-473b-a597-144e0ece237b"
   },
   "outputs": [
    {
     "name": "stdout",
     "output_type": "stream",
     "text": [
      "Mounted at /content/drive/\n",
      "/content/drive/.shortcut-targets-by-id/1EZ3t7HMzSmWcvRl80eFHiMW9UP3zMZxI/WEB_MINING_PROJECT/ML_CLASSIFIERS\n"
     ]
    }
   ],
   "source": [
    "try:\n",
    "    from google.colab import drive\n",
    "    drive.mount('/content/drive/')\n",
    "    %cd 'drive/My Drive/WEB_MINING_PROJECT/ML_CLASSIFIERS'\n",
    "except ImportError as e:\n",
    "    pass"
   ]
  },
  {
   "cell_type": "code",
   "execution_count": 17,
   "metadata": {
    "id": "R0idtNPZ2J_J",
    "outputId": "5003f332-2848-4355-f1ae-f5ac1f3b353c",
    "scrolled": true
   },
   "outputs": [
    {
     "name": "stdout",
     "output_type": "stream",
     "text": [
      "Requirement already satisfied: optuna in c:\\users\\saman\\anaconda3\\lib\\site-packages (3.6.1)\n",
      "Requirement already satisfied: packaging>=20.0 in c:\\users\\saman\\anaconda3\\lib\\site-packages (from optuna) (21.3)\n",
      "Requirement already satisfied: sqlalchemy>=1.3.0 in c:\\users\\saman\\anaconda3\\lib\\site-packages (from optuna) (1.4.32)\n",
      "Requirement already satisfied: PyYAML in c:\\users\\saman\\anaconda3\\lib\\site-packages (from optuna) (6.0)\n",
      "Requirement already satisfied: numpy in c:\\users\\saman\\anaconda3\\lib\\site-packages (from optuna) (1.21.5)\n",
      "Requirement already satisfied: colorlog in c:\\users\\saman\\anaconda3\\lib\\site-packages (from optuna) (6.8.2)\n",
      "Requirement already satisfied: tqdm in c:\\users\\saman\\anaconda3\\lib\\site-packages (from optuna) (4.64.0)\n",
      "Requirement already satisfied: alembic>=1.5.0 in c:\\users\\saman\\anaconda3\\lib\\site-packages (from optuna) (1.13.1)\n",
      "Requirement already satisfied: Mako in c:\\users\\saman\\anaconda3\\lib\\site-packages (from alembic>=1.5.0->optuna) (1.3.3)\n",
      "Requirement already satisfied: typing-extensions>=4 in c:\\users\\saman\\anaconda3\\lib\\site-packages (from alembic>=1.5.0->optuna) (4.5.0)\n",
      "Requirement already satisfied: pyparsing!=3.0.5,>=2.0.2 in c:\\users\\saman\\anaconda3\\lib\\site-packages (from packaging>=20.0->optuna) (3.0.4)\n",
      "Requirement already satisfied: greenlet!=0.4.17 in c:\\users\\saman\\anaconda3\\lib\\site-packages (from sqlalchemy>=1.3.0->optuna) (1.1.1)\n",
      "Requirement already satisfied: colorama in c:\\users\\saman\\anaconda3\\lib\\site-packages (from colorlog->optuna) (0.4.4)\n",
      "Requirement already satisfied: MarkupSafe>=0.9.2 in c:\\users\\saman\\anaconda3\\lib\\site-packages (from Mako->alembic>=1.5.0->optuna) (2.0.1)\n",
      "Requirement already satisfied: imblearn in c:\\users\\saman\\anaconda3\\lib\\site-packages (0.0)\n",
      "Requirement already satisfied: imbalanced-learn in c:\\users\\saman\\anaconda3\\lib\\site-packages (from imblearn) (0.9.1)\n",
      "Requirement already satisfied: joblib>=1.0.0 in c:\\users\\saman\\anaconda3\\lib\\site-packages (from imbalanced-learn->imblearn) (1.1.0)\n",
      "Requirement already satisfied: threadpoolctl>=2.0.0 in c:\\users\\saman\\anaconda3\\lib\\site-packages (from imbalanced-learn->imblearn) (2.2.0)\n",
      "Requirement already satisfied: numpy>=1.17.3 in c:\\users\\saman\\anaconda3\\lib\\site-packages (from imbalanced-learn->imblearn) (1.21.5)\n",
      "Requirement already satisfied: scikit-learn>=1.1.0 in c:\\users\\saman\\anaconda3\\lib\\site-packages (from imbalanced-learn->imblearn) (1.1.3)\n",
      "Requirement already satisfied: scipy>=1.3.2 in c:\\users\\saman\\anaconda3\\lib\\site-packages (from imbalanced-learn->imblearn) (1.7.3)\n"
     ]
    }
   ],
   "source": [
    "! pip install optuna\n",
    "! pip install imblearn"
   ]
  },
  {
   "cell_type": "code",
   "execution_count": 18,
   "metadata": {
    "id": "dhF2of7U2J_L",
    "outputId": "8e2c5a18-22ee-4c33-d2be-76b9faad1650",
    "scrolled": true
   },
   "outputs": [
    {
     "name": "stderr",
     "output_type": "stream",
     "text": [
      "[nltk_data] Downloading package punkt to\n",
      "[nltk_data]     C:\\Users\\saman\\AppData\\Roaming\\nltk_data...\n",
      "[nltk_data]   Package punkt is already up-to-date!\n",
      "[nltk_data] Downloading package wordnet to\n",
      "[nltk_data]     C:\\Users\\saman\\AppData\\Roaming\\nltk_data...\n",
      "[nltk_data]   Package wordnet is already up-to-date!\n",
      "[nltk_data] Downloading package stopwords to\n",
      "[nltk_data]     C:\\Users\\saman\\AppData\\Roaming\\nltk_data...\n",
      "[nltk_data]   Package stopwords is already up-to-date!\n"
     ]
    }
   ],
   "source": [
    "import pandas as pd\n",
    "import nltk\n",
    "import random\n",
    "import numpy as np\n",
    "from nltk.corpus import stopwords\n",
    "from nltk.tokenize import word_tokenize\n",
    "from nltk.stem import WordNetLemmatizer\n",
    "from nltk.stem import PorterStemmer\n",
    "\n",
    "# Download NLTK resources\n",
    "nltk.download('punkt')\n",
    "nltk.download('wordnet')\n",
    "nltk.download('stopwords')\n",
    "\n",
    "from sklearn.model_selection import train_test_split\n",
    "from sklearn.feature_extraction.text import TfidfVectorizer, CountVectorizer\n",
    "from sklearn.svm import SVC\n",
    "from sklearn.naive_bayes import MultinomialNB\n",
    "from sklearn.ensemble import RandomForestClassifier\n",
    "from sklearn.metrics import classification_report, accuracy_score, confusion_matrix, f1_score, make_scorer\n",
    "from imblearn.pipeline import Pipeline\n",
    "from imblearn.over_sampling import RandomOverSampler, ADASYN, SMOTE\n",
    "from imblearn.under_sampling import RandomUnderSampler, NearMiss\n",
    "import optuna\n",
    "\n",
    "#not needed\n",
    "\n",
    "from sklearn.utils.multiclass import unique_labels\n",
    "from sklearn.pipeline import make_pipeline\n",
    "from sklearn.model_selection import train_test_split, StratifiedKFold, cross_val_predict, GridSearchCV\n",
    "from sklearn.linear_model import LogisticRegression\n",
    "\n",
    "\n",
    "\n"
   ]
  },
  {
   "cell_type": "markdown",
   "metadata": {
    "id": "C9a3_4Pa2J_M"
   },
   "source": [
    "### Loading Downsampled Dataset"
   ]
  },
  {
   "cell_type": "code",
   "execution_count": 19,
   "metadata": {
    "id": "pLw1MK-12J_M"
   },
   "outputs": [],
   "source": [
    "# Load the dataset\n",
    "df = pd.read_csv(\"downsampled_dataset_10k.csv\")"
   ]
  },
  {
   "cell_type": "markdown",
   "metadata": {
    "id": "VQqBPpPn2J_N"
   },
   "source": [
    "# **Text Preprocessing**"
   ]
  },
  {
   "cell_type": "code",
   "execution_count": 20,
   "metadata": {
    "id": "URS3IKHh2J_N",
    "outputId": "dfb0a8f3-842c-4611-8886-52fd2e967a6c"
   },
   "outputs": [
    {
     "data": {
      "text/html": [
       "<div>\n",
       "<style scoped>\n",
       "    .dataframe tbody tr th:only-of-type {\n",
       "        vertical-align: middle;\n",
       "    }\n",
       "\n",
       "    .dataframe tbody tr th {\n",
       "        vertical-align: top;\n",
       "    }\n",
       "\n",
       "    .dataframe thead th {\n",
       "        text-align: right;\n",
       "    }\n",
       "</style>\n",
       "<table border=\"1\" class=\"dataframe\">\n",
       "  <thead>\n",
       "    <tr style=\"text-align: right;\">\n",
       "      <th></th>\n",
       "      <th>review_body</th>\n",
       "      <th>sentiment</th>\n",
       "    </tr>\n",
       "  </thead>\n",
       "  <tbody>\n",
       "    <tr>\n",
       "      <th>0</th>\n",
       "      <td>Great tv signal very good buy.I like it</td>\n",
       "      <td>Positive</td>\n",
       "    </tr>\n",
       "    <tr>\n",
       "      <th>1</th>\n",
       "      <td>Good sound. Fine Material. Simply perfect!</td>\n",
       "      <td>Positive</td>\n",
       "    </tr>\n",
       "    <tr>\n",
       "      <th>2</th>\n",
       "      <td>looks good as shown lots of base. BTW fast shi...</td>\n",
       "      <td>Positive</td>\n",
       "    </tr>\n",
       "    <tr>\n",
       "      <th>3</th>\n",
       "      <td>This player is totally awesome! I has all the ...</td>\n",
       "      <td>Positive</td>\n",
       "    </tr>\n",
       "    <tr>\n",
       "      <th>4</th>\n",
       "      <td>Very quick delivery and high quality. Sound is...</td>\n",
       "      <td>Positive</td>\n",
       "    </tr>\n",
       "    <tr>\n",
       "      <th>5</th>\n",
       "      <td>Awesome</td>\n",
       "      <td>Positive</td>\n",
       "    </tr>\n",
       "    <tr>\n",
       "      <th>6</th>\n",
       "      <td>Extremely nice quality, especially for the pri...</td>\n",
       "      <td>Positive</td>\n",
       "    </tr>\n",
       "    <tr>\n",
       "      <th>7</th>\n",
       "      <td>Identical to the one from Verizon that we some...</td>\n",
       "      <td>Positive</td>\n",
       "    </tr>\n",
       "    <tr>\n",
       "      <th>8</th>\n",
       "      <td>These are so handy and sound really awesome! P...</td>\n",
       "      <td>Positive</td>\n",
       "    </tr>\n",
       "    <tr>\n",
       "      <th>9</th>\n",
       "      <td>Works great!</td>\n",
       "      <td>Positive</td>\n",
       "    </tr>\n",
       "  </tbody>\n",
       "</table>\n",
       "</div>"
      ],
      "text/plain": [
       "                                         review_body sentiment\n",
       "0            Great tv signal very good buy.I like it  Positive\n",
       "1         Good sound. Fine Material. Simply perfect!  Positive\n",
       "2  looks good as shown lots of base. BTW fast shi...  Positive\n",
       "3  This player is totally awesome! I has all the ...  Positive\n",
       "4  Very quick delivery and high quality. Sound is...  Positive\n",
       "5                                            Awesome  Positive\n",
       "6  Extremely nice quality, especially for the pri...  Positive\n",
       "7  Identical to the one from Verizon that we some...  Positive\n",
       "8  These are so handy and sound really awesome! P...  Positive\n",
       "9                                       Works great!  Positive"
      ]
     },
     "execution_count": 20,
     "metadata": {},
     "output_type": "execute_result"
    }
   ],
   "source": [
    "# Actually we only need the content(i.e. review) & the sentiment for classification\n",
    "df = df[[\"review_body\", \"sentiment\"]]\n",
    "df.head(10)"
   ]
  },
  {
   "cell_type": "code",
   "execution_count": 21,
   "metadata": {
    "id": "TzHGGQtA2J_N",
    "scrolled": true
   },
   "outputs": [],
   "source": [
    "# Text normalization\n",
    "def normalize_text(text):\n",
    "    # Convert text to lowercase\n",
    "    text = text.lower()\n",
    "    return text\n",
    "\n",
    "# Removing punctuation (not used)\n",
    "def remove_punctuation(text):\n",
    "    text = str(text)\n",
    "    punctuations = string.punctuation\n",
    "    return text.translate(str.maketrans('', '', punctuations))\n",
    "\n",
    "# Removing special characters (not used)\n",
    "def remove_spec_char(text):\n",
    "    text = str(text)\n",
    "    text = re.sub('[^a-zA-Z0-9]', ' ', text)\n",
    "    text = re.sub('\\s+', ' ', text)\n",
    "    return text\n",
    "\n",
    "# Tokenization & Stopword removal\n",
    "def remove_stopwords(text):\n",
    "    stop_words = set(stopwords.words('english'))\n",
    "    tokens = word_tokenize(text)\n",
    "    return ' '.join([word for word in tokens if word not in stop_words])\n",
    "\n",
    "# Lemmatization (not used)\n",
    "def lemmatize_text(text):\n",
    "    tokens = word_tokenize(text)\n",
    "    lemmatizer = WordNetLemmatizer()\n",
    "    return ' '.join([lemmatizer.lemmatize(word) for word in tokens])\n",
    "    #return lemmatized_tokens\n",
    "\n",
    "# Stemming\n",
    "def stem_words(text):\n",
    "    ps = PorterStemmer()\n",
    "    return ' '.join([ps.stem(word) for word in text.split()])\n"
   ]
  },
  {
   "cell_type": "code",
   "execution_count": 22,
   "metadata": {
    "id": "lKYXts0L2J_O"
   },
   "outputs": [],
   "source": [
    "# Apply preprocessing steps\n",
    "\n",
    "# lowercase words, remove punctuation & special characters\n",
    "df[\"review_body\"] = df[\"review_body\"].apply(normalize_text)\n",
    "#df[\"review_body\"] = df[\"review_body\"].apply(remove_punctuation)\n",
    "#df[\"review_body\"] = df[\"review_body\"].apply(remove_spec_char)\n",
    "\n",
    "#tokenization and stopwords removal, stemming or lemmatization\n",
    "df[\"review_body\"] = df[\"review_body\"].apply(remove_stopwords)\n",
    "#df[\"review_body\"] = df[\"review_body\"].apply(lemmatize_text)\n",
    "df[\"review_body\"] = df[\"review_body\"].apply(stem_words)"
   ]
  },
  {
   "cell_type": "code",
   "execution_count": 23,
   "metadata": {
    "id": "nsp02dAK2J_O",
    "outputId": "9adf59e9-e1a2-4031-abff-d34c3486f5ee",
    "scrolled": true
   },
   "outputs": [
    {
     "data": {
      "text/html": [
       "<div>\n",
       "<style scoped>\n",
       "    .dataframe tbody tr th:only-of-type {\n",
       "        vertical-align: middle;\n",
       "    }\n",
       "\n",
       "    .dataframe tbody tr th {\n",
       "        vertical-align: top;\n",
       "    }\n",
       "\n",
       "    .dataframe thead th {\n",
       "        text-align: right;\n",
       "    }\n",
       "</style>\n",
       "<table border=\"1\" class=\"dataframe\">\n",
       "  <thead>\n",
       "    <tr style=\"text-align: right;\">\n",
       "      <th></th>\n",
       "      <th>review_body</th>\n",
       "      <th>sentiment</th>\n",
       "    </tr>\n",
       "  </thead>\n",
       "  <tbody>\n",
       "    <tr>\n",
       "      <th>0</th>\n",
       "      <td>great tv signal good buy.i like</td>\n",
       "      <td>Positive</td>\n",
       "    </tr>\n",
       "    <tr>\n",
       "      <th>1</th>\n",
       "      <td>good sound . fine materi . simpli perfect !</td>\n",
       "      <td>Positive</td>\n",
       "    </tr>\n",
       "    <tr>\n",
       "      <th>2</th>\n",
       "      <td>look good shown lot base . btw fast ship recei...</td>\n",
       "      <td>Positive</td>\n",
       "    </tr>\n",
       "    <tr>\n",
       "      <th>3</th>\n",
       "      <td>player total awesom ! featur need , ( somehow ...</td>\n",
       "      <td>Positive</td>\n",
       "    </tr>\n",
       "    <tr>\n",
       "      <th>4</th>\n",
       "      <td>quick deliveri high qualiti . sound great cabl...</td>\n",
       "      <td>Positive</td>\n",
       "    </tr>\n",
       "    <tr>\n",
       "      <th>5</th>\n",
       "      <td>awesom</td>\n",
       "      <td>Positive</td>\n",
       "    </tr>\n",
       "    <tr>\n",
       "      <th>6</th>\n",
       "      <td>extrem nice qualiti , especi price . boyfriend...</td>\n",
       "      <td>Positive</td>\n",
       "    </tr>\n",
       "    <tr>\n",
       "      <th>7</th>\n",
       "      <td>ident one verizon somehow misplac , fraction c...</td>\n",
       "      <td>Positive</td>\n",
       "    </tr>\n",
       "    <tr>\n",
       "      <th>8</th>\n",
       "      <td>handi sound realli awesom ! perfect phone game...</td>\n",
       "      <td>Positive</td>\n",
       "    </tr>\n",
       "    <tr>\n",
       "      <th>9</th>\n",
       "      <td>work great !</td>\n",
       "      <td>Positive</td>\n",
       "    </tr>\n",
       "  </tbody>\n",
       "</table>\n",
       "</div>"
      ],
      "text/plain": [
       "                                         review_body sentiment\n",
       "0                    great tv signal good buy.i like  Positive\n",
       "1        good sound . fine materi . simpli perfect !  Positive\n",
       "2  look good shown lot base . btw fast ship recei...  Positive\n",
       "3  player total awesom ! featur need , ( somehow ...  Positive\n",
       "4  quick deliveri high qualiti . sound great cabl...  Positive\n",
       "5                                             awesom  Positive\n",
       "6  extrem nice qualiti , especi price . boyfriend...  Positive\n",
       "7  ident one verizon somehow misplac , fraction c...  Positive\n",
       "8  handi sound realli awesom ! perfect phone game...  Positive\n",
       "9                                       work great !  Positive"
      ]
     },
     "execution_count": 23,
     "metadata": {},
     "output_type": "execute_result"
    }
   ],
   "source": [
    "df.head(10)"
   ]
  },
  {
   "cell_type": "markdown",
   "metadata": {
    "id": "RscsbCEI2J_P"
   },
   "source": [
    "## Train/Validation/Test Split"
   ]
  },
  {
   "cell_type": "code",
   "execution_count": 24,
   "metadata": {
    "id": "uMncvsk22J_P",
    "outputId": "00b2ef81-121b-439d-ff2c-aee93c03e977"
   },
   "outputs": [
    {
     "name": "stdout",
     "output_type": "stream",
     "text": [
      "y_train: (7999,)/ x_train: (7999,)\n",
      "y_train: (1000,)/ x_train: (1000,)\n",
      "y_test: (1000,)/ x_test: (1000,)\n"
     ]
    }
   ],
   "source": [
    "# split into train, val and test data\n",
    "X_train, X_test = train_test_split(df, test_size=0.2, random_state = 42, stratify=df['sentiment'])\n",
    "X_val, X_test = train_test_split(X_test, test_size=0.5, random_state = 42, stratify=X_test['sentiment'])\n",
    "\n",
    "\n",
    "y_train = X_train['sentiment']\n",
    "y_val = X_val['sentiment']\n",
    "y_test = X_test['sentiment']\n",
    "\n",
    "\n",
    "X_train.drop(columns = ['sentiment'], inplace= True)\n",
    "X_val.drop(columns = ['sentiment'], inplace= True)\n",
    "X_test.drop(columns = ['sentiment'], inplace= True)\n",
    "X_train = X_train['review_body']\n",
    "X_val = X_val['review_body']\n",
    "X_test = X_test['review_body']\n",
    "\n",
    "\n",
    "print (f\"y_train: {y_train.shape}/ x_train: {X_train.shape}\")\n",
    "print (f\"y_train: {y_val.shape}/ x_train: {X_val.shape}\")\n",
    "print (f\"y_test: {y_test.shape}/ x_test: {X_test.shape}\")\n",
    "\n"
   ]
  },
  {
   "cell_type": "markdown",
   "metadata": {
    "id": "eXzNbDhS2J_Q"
   },
   "source": [
    "## Count Vectorization  "
   ]
  },
  {
   "cell_type": "code",
   "execution_count": 25,
   "metadata": {
    "id": "mC7bj4ja2J_Q",
    "outputId": "facb1597-7ab9-4097-8bdb-93c34e64dde9"
   },
   "outputs": [
    {
     "name": "stdout",
     "output_type": "stream",
     "text": [
      "number of terms: 9115\n"
     ]
    }
   ],
   "source": [
    "# count vectors\n",
    "count_vectorizer = CountVectorizer()\n",
    "\n",
    "X_train_count = count_vectorizer.fit_transform(X_train)\n",
    "X_val_count = count_vectorizer.transform(X_val)\n",
    "X_test_count = count_vectorizer.transform(X_test)\n",
    "\n",
    "print(f\"number of terms: {len(count_vectorizer.get_feature_names_out())}\")"
   ]
  },
  {
   "cell_type": "markdown",
   "metadata": {
    "id": "1HN-TcI82J_Q"
   },
   "source": [
    "## Balancing Methods (used in Pipeline)"
   ]
  },
  {
   "cell_type": "code",
   "execution_count": 26,
   "metadata": {
    "id": "k1kxdmWm2J_Q"
   },
   "outputs": [],
   "source": [
    "# Define oversampling and undersampling techniques\n",
    "oversampler = RandomOverSampler(random_state=42)\n",
    "undersampler = RandomUnderSampler(random_state=42)\n",
    "balancing = undersampler"
   ]
  },
  {
   "cell_type": "markdown",
   "metadata": {
    "id": "z9JbtvZz2J_R"
   },
   "source": [
    "## Naive Bayes"
   ]
  },
  {
   "cell_type": "code",
   "execution_count": 27,
   "metadata": {
    "id": "BcJFluGr2J_R",
    "outputId": "9d40335c-466a-49c4-e998-5a2ea8a63a31",
    "scrolled": true
   },
   "outputs": [
    {
     "name": "stderr",
     "output_type": "stream",
     "text": [
      "[I 2024-05-17 02:19:18,900] A new study created in memory with name: no-name-32d32098-98bb-402c-8fcf-a080da826843\n",
      "[I 2024-05-17 02:19:19,025] Trial 0 finished with value: 0.34682376675559007 and parameters: {'alpha': 104.37826058477347}. Best is trial 0 with value: 0.34682376675559007.\n",
      "[I 2024-05-17 02:19:19,048] Trial 1 finished with value: 0.6784910371712016 and parameters: {'alpha': 0.023476782634126624}. Best is trial 1 with value: 0.6784910371712016.\n",
      "[I 2024-05-17 02:19:19,077] Trial 2 finished with value: 0.4329253991606772 and parameters: {'alpha': 12.459254561487965}. Best is trial 1 with value: 0.6784910371712016.\n",
      "[I 2024-05-17 02:19:19,092] Trial 3 finished with value: 0.682445451227079 and parameters: {'alpha': 0.03366653594260328}. Best is trial 3 with value: 0.682445451227079.\n",
      "[I 2024-05-17 02:19:19,109] Trial 4 finished with value: 0.6695508992306336 and parameters: {'alpha': 0.004847445363016423}. Best is trial 3 with value: 0.682445451227079.\n",
      "[I 2024-05-17 02:19:19,131] Trial 5 finished with value: 0.6871982508799073 and parameters: {'alpha': 0.046777933535086365}. Best is trial 5 with value: 0.6871982508799073.\n",
      "[I 2024-05-17 02:19:19,149] Trial 6 finished with value: 0.6772097319953564 and parameters: {'alpha': 0.0109945166376066}. Best is trial 5 with value: 0.6871982508799073.\n",
      "[I 2024-05-17 02:19:19,162] Trial 7 finished with value: 0.5368524021377207 and parameters: {'alpha': 2.3969208950235856}. Best is trial 5 with value: 0.6871982508799073.\n",
      "[I 2024-05-17 02:19:19,183] Trial 8 finished with value: 0.3689272680996614 and parameters: {'alpha': 52.036974079244516}. Best is trial 5 with value: 0.6871982508799073.\n",
      "[I 2024-05-17 02:19:19,201] Trial 9 finished with value: 0.39992811873472206 and parameters: {'alpha': 23.407243582184343}. Best is trial 5 with value: 0.6871982508799073.\n",
      "[I 2024-05-17 02:19:19,246] Trial 10 finished with value: 0.6944661497841067 and parameters: {'alpha': 0.2661993052486607}. Best is trial 10 with value: 0.6944661497841067.\n",
      "[I 2024-05-17 02:19:19,270] Trial 11 finished with value: 0.6976259596646632 and parameters: {'alpha': 0.2547794788755}. Best is trial 11 with value: 0.6976259596646632.\n",
      "[I 2024-05-17 02:19:19,303] Trial 12 finished with value: 0.6718623040171496 and parameters: {'alpha': 0.42706361537424437}. Best is trial 11 with value: 0.6976259596646632.\n",
      "[I 2024-05-17 02:19:19,323] Trial 13 finished with value: 0.32528341708014874 and parameters: {'alpha': 829.3243539228096}. Best is trial 11 with value: 0.6976259596646632.\n",
      "[I 2024-05-17 02:19:19,352] Trial 14 finished with value: 0.6858822388649884 and parameters: {'alpha': 0.3183420977012572}. Best is trial 11 with value: 0.6976259596646632.\n",
      "[I 2024-05-17 02:19:19,377] Trial 15 finished with value: 0.551578348000444 and parameters: {'alpha': 2.0369898933830024}. Best is trial 11 with value: 0.6976259596646632.\n",
      "[I 2024-05-17 02:19:19,402] Trial 16 finished with value: 0.705816976498255 and parameters: {'alpha': 0.1745429466157523}. Best is trial 16 with value: 0.705816976498255.\n",
      "[I 2024-05-17 02:19:19,419] Trial 17 finished with value: 0.6968284430061742 and parameters: {'alpha': 0.09365406414147984}. Best is trial 16 with value: 0.705816976498255.\n",
      "[I 2024-05-17 02:19:19,452] Trial 18 finished with value: 0.6703807188278714 and parameters: {'alpha': 0.0033030984568823618}. Best is trial 16 with value: 0.705816976498255.\n",
      "[I 2024-05-17 02:19:19,474] Trial 19 finished with value: 0.6623989576818845 and parameters: {'alpha': 0.00129167852612402}. Best is trial 16 with value: 0.705816976498255.\n",
      "[I 2024-05-17 02:19:19,502] Trial 20 finished with value: 0.472810922972039 and parameters: {'alpha': 5.512219669292329}. Best is trial 16 with value: 0.705816976498255.\n",
      "[I 2024-05-17 02:19:19,523] Trial 21 finished with value: 0.705816976498255 and parameters: {'alpha': 0.17038173363798126}. Best is trial 16 with value: 0.705816976498255.\n",
      "[I 2024-05-17 02:19:19,556] Trial 22 finished with value: 0.7009235819715406 and parameters: {'alpha': 0.13926750239008698}. Best is trial 16 with value: 0.705816976498255.\n",
      "[I 2024-05-17 02:19:19,576] Trial 23 finished with value: 0.7007902200816107 and parameters: {'alpha': 0.11798484740825495}. Best is trial 16 with value: 0.705816976498255.\n",
      "[I 2024-05-17 02:19:19,603] Trial 24 finished with value: 0.6442208681544642 and parameters: {'alpha': 0.7229206903286061}. Best is trial 16 with value: 0.705816976498255.\n",
      "[I 2024-05-17 02:19:19,627] Trial 25 finished with value: 0.6775454269440497 and parameters: {'alpha': 0.013970458657518591}. Best is trial 16 with value: 0.705816976498255.\n",
      "[I 2024-05-17 02:19:19,653] Trial 26 finished with value: 0.6002005481663492 and parameters: {'alpha': 1.2292378426965502}. Best is trial 16 with value: 0.705816976498255.\n",
      "[I 2024-05-17 02:19:19,678] Trial 27 finished with value: 0.6901467944927867 and parameters: {'alpha': 0.06593006154855915}. Best is trial 16 with value: 0.705816976498255.\n",
      "[I 2024-05-17 02:19:19,710] Trial 28 finished with value: 0.7007334019023183 and parameters: {'alpha': 0.13464123720588803}. Best is trial 16 with value: 0.705816976498255.\n",
      "[I 2024-05-17 02:19:19,747] Trial 29 finished with value: 0.4721136686558681 and parameters: {'alpha': 5.799799292578582}. Best is trial 16 with value: 0.705816976498255.\n",
      "[I 2024-05-17 02:19:19,777] Trial 30 finished with value: 0.62700823424968 and parameters: {'alpha': 0.9285965715750893}. Best is trial 16 with value: 0.705816976498255.\n",
      "[I 2024-05-17 02:19:19,809] Trial 31 finished with value: 0.7014892547880827 and parameters: {'alpha': 0.13252816848159737}. Best is trial 16 with value: 0.705816976498255.\n",
      "[I 2024-05-17 02:19:19,836] Trial 32 finished with value: 0.6773662133576467 and parameters: {'alpha': 0.016174462415922502}. Best is trial 16 with value: 0.705816976498255.\n",
      "[I 2024-05-17 02:19:19,873] Trial 33 finished with value: 0.7022348440622745 and parameters: {'alpha': 0.1462545736053272}. Best is trial 16 with value: 0.705816976498255.\n",
      "[I 2024-05-17 02:19:19,902] Trial 34 finished with value: 0.6850897746959428 and parameters: {'alpha': 0.03534235828596291}. Best is trial 16 with value: 0.705816976498255.\n",
      "[I 2024-05-17 02:19:19,926] Trial 35 finished with value: 0.6693130452522821 and parameters: {'alpha': 0.47598267477018436}. Best is trial 16 with value: 0.705816976498255.\n",
      "[I 2024-05-17 02:19:19,958] Trial 36 finished with value: 0.6833890281952221 and parameters: {'alpha': 0.034050684531063885}. Best is trial 16 with value: 0.705816976498255.\n",
      "[I 2024-05-17 02:19:19,991] Trial 37 finished with value: 0.7043200170893364 and parameters: {'alpha': 0.20287906977791184}. Best is trial 16 with value: 0.705816976498255.\n",
      "[I 2024-05-17 02:19:20,019] Trial 38 finished with value: 0.5302398773118475 and parameters: {'alpha': 2.621520973302096}. Best is trial 16 with value: 0.705816976498255.\n",
      "[I 2024-05-17 02:19:20,048] Trial 39 finished with value: 0.6745459421666931 and parameters: {'alpha': 0.009248033271024296}. Best is trial 16 with value: 0.705816976498255.\n",
      "[I 2024-05-17 02:19:20,075] Trial 40 finished with value: 0.6886358940198838 and parameters: {'alpha': 0.056895907982220835}. Best is trial 16 with value: 0.705816976498255.\n",
      "[I 2024-05-17 02:19:20,090] Trial 41 finished with value: 0.7008421052631579 and parameters: {'alpha': 0.22704756983749477}. Best is trial 16 with value: 0.705816976498255.\n",
      "[I 2024-05-17 02:19:20,120] Trial 42 finished with value: 0.6602789855072464 and parameters: {'alpha': 0.574181550186836}. Best is trial 16 with value: 0.705816976498255.\n",
      "[I 2024-05-17 02:19:20,145] Trial 43 finished with value: 0.7052631394975275 and parameters: {'alpha': 0.17592593538917742}. Best is trial 16 with value: 0.705816976498255.\n",
      "[I 2024-05-17 02:19:20,177] Trial 44 finished with value: 0.6893917381948177 and parameters: {'alpha': 0.06151325219392714}. Best is trial 16 with value: 0.705816976498255.\n",
      "[I 2024-05-17 02:19:20,203] Trial 45 finished with value: 0.6801997374434773 and parameters: {'alpha': 0.025366921575207778}. Best is trial 16 with value: 0.705816976498255.\n",
      "[I 2024-05-17 02:19:20,225] Trial 46 finished with value: 0.702816711613821 and parameters: {'alpha': 0.21193399507956814}. Best is trial 16 with value: 0.705816976498255.\n"
     ]
    },
    {
     "name": "stderr",
     "output_type": "stream",
     "text": [
      "[I 2024-05-17 02:19:20,253] Trial 47 finished with value: 0.595795811019026 and parameters: {'alpha': 1.3520295488997198}. Best is trial 16 with value: 0.705816976498255.\n",
      "[I 2024-05-17 02:19:20,277] Trial 48 finished with value: 0.6961834734297196 and parameters: {'alpha': 0.26083758369505583}. Best is trial 16 with value: 0.705816976498255.\n",
      "[I 2024-05-17 02:19:20,308] Trial 49 finished with value: 0.3370131751792321 and parameters: {'alpha': 296.24889756278725}. Best is trial 16 with value: 0.705816976498255.\n",
      "[I 2024-05-17 02:19:20,335] Trial 50 finished with value: 0.6718623040171496 and parameters: {'alpha': 0.42530393882159545}. Best is trial 16 with value: 0.705816976498255.\n",
      "[I 2024-05-17 02:19:20,358] Trial 51 finished with value: 0.7048658131071138 and parameters: {'alpha': 0.19649167020921743}. Best is trial 16 with value: 0.705816976498255.\n",
      "[I 2024-05-17 02:19:20,385] Trial 52 finished with value: 0.702816711613821 and parameters: {'alpha': 0.21028956767790577}. Best is trial 16 with value: 0.705816976498255.\n",
      "[I 2024-05-17 02:19:20,410] Trial 53 finished with value: 0.6938213929682683 and parameters: {'alpha': 0.07759893685545527}. Best is trial 16 with value: 0.705816976498255.\n",
      "[I 2024-05-17 02:19:20,439] Trial 54 finished with value: 0.6731803459993226 and parameters: {'alpha': 0.006524823084994327}. Best is trial 16 with value: 0.705816976498255.\n",
      "[I 2024-05-17 02:19:20,463] Trial 55 finished with value: 0.6747000626316687 and parameters: {'alpha': 0.3860440714762836}. Best is trial 16 with value: 0.705816976498255.\n",
      "[I 2024-05-17 02:19:20,487] Trial 56 finished with value: 0.638284899403431 and parameters: {'alpha': 0.7533698057382588}. Best is trial 16 with value: 0.705816976498255.\n",
      "[I 2024-05-17 02:19:20,522] Trial 57 finished with value: 0.540164241486068 and parameters: {'alpha': 2.3126599377068504}. Best is trial 16 with value: 0.705816976498255.\n",
      "[I 2024-05-17 02:19:20,553] Trial 58 finished with value: 0.702816711613821 and parameters: {'alpha': 0.20639431577100908}. Best is trial 16 with value: 0.705816976498255.\n",
      "[I 2024-05-17 02:19:20,577] Trial 59 finished with value: 0.6871982508799073 and parameters: {'alpha': 0.04698770837067556}. Best is trial 16 with value: 0.705816976498255.\n",
      "[I 2024-05-17 02:19:20,609] Trial 60 finished with value: 0.696077789869154 and parameters: {'alpha': 0.09268318590866301}. Best is trial 16 with value: 0.705816976498255.\n",
      "[I 2024-05-17 02:19:20,636] Trial 61 finished with value: 0.7056680926916222 and parameters: {'alpha': 0.1815187485298581}. Best is trial 16 with value: 0.705816976498255.\n",
      "[I 2024-05-17 02:19:20,666] Trial 62 finished with value: 0.6858822388649884 and parameters: {'alpha': 0.3194575038117045}. Best is trial 16 with value: 0.705816976498255.\n",
      "[I 2024-05-17 02:19:20,693] Trial 63 finished with value: 0.703470535700785 and parameters: {'alpha': 0.1602066994053968}. Best is trial 16 with value: 0.705816976498255.\n",
      "[I 2024-05-17 02:19:20,719] Trial 64 finished with value: 0.6968284430061742 and parameters: {'alpha': 0.09819140987616362}. Best is trial 16 with value: 0.705816976498255.\n",
      "[I 2024-05-17 02:19:20,743] Trial 65 finished with value: 0.587043076609277 and parameters: {'alpha': 1.4439359953874025}. Best is trial 16 with value: 0.705816976498255.\n",
      "[I 2024-05-17 02:19:20,778] Trial 66 finished with value: 0.703470535700785 and parameters: {'alpha': 0.1564097523201096}. Best is trial 16 with value: 0.705816976498255.\n",
      "[I 2024-05-17 02:19:20,802] Trial 67 finished with value: 0.6773662133576467 and parameters: {'alpha': 0.0212014271362196}. Best is trial 16 with value: 0.705816976498255.\n",
      "[I 2024-05-17 02:19:20,842] Trial 68 finished with value: 0.6564189963512029 and parameters: {'alpha': 0.6277456370238228}. Best is trial 16 with value: 0.705816976498255.\n",
      "[I 2024-05-17 02:19:20,878] Trial 69 finished with value: 0.6871982508799073 and parameters: {'alpha': 0.0477868452613576}. Best is trial 16 with value: 0.705816976498255.\n",
      "[I 2024-05-17 02:19:20,902] Trial 70 finished with value: 0.48944772027688166 and parameters: {'alpha': 4.040808746811105}. Best is trial 16 with value: 0.705816976498255.\n",
      "[I 2024-05-17 02:19:20,926] Trial 71 finished with value: 0.703470535700785 and parameters: {'alpha': 0.15467442237521636}. Best is trial 16 with value: 0.705816976498255.\n",
      "[I 2024-05-17 02:19:20,952] Trial 72 finished with value: 0.6743851255785708 and parameters: {'alpha': 0.3492455925991328}. Best is trial 16 with value: 0.705816976498255.\n",
      "[I 2024-05-17 02:19:20,975] Trial 73 finished with value: 0.6968284430061742 and parameters: {'alpha': 0.09715643986335536}. Best is trial 16 with value: 0.705816976498255.\n",
      "[I 2024-05-17 02:19:21,011] Trial 74 finished with value: 0.6262744938313755 and parameters: {'alpha': 0.9161440566927497}. Best is trial 16 with value: 0.705816976498255.\n",
      "[I 2024-05-17 02:19:21,049] Trial 75 finished with value: 0.702522079349709 and parameters: {'alpha': 0.1532791496400297}. Best is trial 16 with value: 0.705816976498255.\n",
      "[I 2024-05-17 02:19:21,077] Trial 76 finished with value: 0.6938213929682683 and parameters: {'alpha': 0.0771192277194245}. Best is trial 16 with value: 0.705816976498255.\n",
      "[I 2024-05-17 02:19:21,108] Trial 77 finished with value: 0.6858169937236345 and parameters: {'alpha': 0.0379052720082858}. Best is trial 16 with value: 0.705816976498255.\n",
      "[I 2024-05-17 02:19:21,136] Trial 78 finished with value: 0.6627075610744281 and parameters: {'alpha': 0.5385107991662322}. Best is trial 16 with value: 0.705816976498255.\n",
      "[I 2024-05-17 02:19:21,168] Trial 79 finished with value: 0.7058183148763977 and parameters: {'alpha': 0.18966123526617917}. Best is trial 79 with value: 0.7058183148763977.\n",
      "[I 2024-05-17 02:19:21,193] Trial 80 finished with value: 0.6881848285048285 and parameters: {'alpha': 0.29955461529630245}. Best is trial 79 with value: 0.7058183148763977.\n",
      "[I 2024-05-17 02:19:21,219] Trial 81 finished with value: 0.705816976498255 and parameters: {'alpha': 0.17471363604761486}. Best is trial 79 with value: 0.7058183148763977.\n",
      "[I 2024-05-17 02:19:21,251] Trial 82 finished with value: 0.7052631394975275 and parameters: {'alpha': 0.18047776172771754}. Best is trial 79 with value: 0.7058183148763977.\n",
      "[I 2024-05-17 02:19:21,277] Trial 83 finished with value: 0.6960429344480115 and parameters: {'alpha': 0.10947288205097289}. Best is trial 79 with value: 0.7058183148763977.\n",
      "[I 2024-05-17 02:19:21,305] Trial 84 finished with value: 0.6952278044911813 and parameters: {'alpha': 0.2642942501779318}. Best is trial 79 with value: 0.7058183148763977.\n",
      "[I 2024-05-17 02:19:21,332] Trial 85 finished with value: 0.6893917381948177 and parameters: {'alpha': 0.06503297129334583}. Best is trial 79 with value: 0.7058183148763977.\n",
      "[I 2024-05-17 02:19:21,355] Trial 86 finished with value: 0.6698994873163374 and parameters: {'alpha': 0.45963069580116706}. Best is trial 79 with value: 0.7058183148763977.\n",
      "[I 2024-05-17 02:19:21,386] Trial 87 finished with value: 0.6801997374434773 and parameters: {'alpha': 0.0247824416266491}. Best is trial 79 with value: 0.7058183148763977.\n",
      "[I 2024-05-17 02:19:21,411] Trial 88 finished with value: 0.7058183148763977 and parameters: {'alpha': 0.19356906700232915}. Best is trial 79 with value: 0.7058183148763977.\n",
      "[I 2024-05-17 02:19:21,438] Trial 89 finished with value: 0.6193505895804188 and parameters: {'alpha': 0.9847050374057047}. Best is trial 79 with value: 0.7058183148763977.\n",
      "[I 2024-05-17 02:19:21,469] Trial 90 finished with value: 0.7007334019023183 and parameters: {'alpha': 0.1218362085879529}. Best is trial 79 with value: 0.7058183148763977.\n",
      "[I 2024-05-17 02:19:21,499] Trial 91 finished with value: 0.7035687516673514 and parameters: {'alpha': 0.20467416317337486}. Best is trial 79 with value: 0.7058183148763977.\n",
      "[I 2024-05-17 02:19:21,524] Trial 92 finished with value: 0.6743851255785708 and parameters: {'alpha': 0.3504551077004093}. Best is trial 79 with value: 0.7058183148763977.\n",
      "[I 2024-05-17 02:19:21,569] Trial 93 finished with value: 0.7042227881714941 and parameters: {'alpha': 0.19998699468438952}. Best is trial 79 with value: 0.7058183148763977.\n",
      "[I 2024-05-17 02:19:21,593] Trial 94 finished with value: 0.692313374927502 and parameters: {'alpha': 0.07605999474966704}. Best is trial 79 with value: 0.7058183148763977.\n"
     ]
    },
    {
     "name": "stderr",
     "output_type": "stream",
     "text": [
      "[I 2024-05-17 02:19:21,620] Trial 95 finished with value: 0.6547380967536724 and parameters: {'alpha': 0.6509926242594879}. Best is trial 79 with value: 0.7058183148763977.\n",
      "[I 2024-05-17 02:19:21,660] Trial 96 finished with value: 0.35755066111808675 and parameters: {'alpha': 66.41579800485185}. Best is trial 79 with value: 0.7058183148763977.\n",
      "[I 2024-05-17 02:19:21,694] Trial 97 finished with value: 0.697218773895741 and parameters: {'alpha': 0.2515238234214491}. Best is trial 79 with value: 0.7058183148763977.\n",
      "[I 2024-05-17 02:19:21,724] Trial 98 finished with value: 0.6718623040171496 and parameters: {'alpha': 0.42354045841598664}. Best is trial 79 with value: 0.7058183148763977.\n",
      "[I 2024-05-17 02:19:21,756] Trial 99 finished with value: 0.6871982508799073 and parameters: {'alpha': 0.054477228419215394}. Best is trial 79 with value: 0.7058183148763977.\n"
     ]
    },
    {
     "name": "stdout",
     "output_type": "stream",
     "text": [
      "Best Naive Bayes Hyperparameters: {'alpha': 0.18966123526617917}\n",
      "Naive Bayes F1 Score: 0.7058183148763977\n"
     ]
    }
   ],
   "source": [
    "# Define the objective function for hyperparameter optimization\n",
    "def objective_nb(trial):\n",
    "    alpha = trial.suggest_float('alpha', 1e-3, 1e3, log = True)\n",
    "    clf = MultinomialNB(alpha=alpha)\n",
    "    clf.fit(X_train_count_resampled, y_train_resampled)\n",
    "    f1 = f1_score(y_val, clf.predict(X_val_count), average=\"weighted\")\n",
    "    return f1\n",
    "\n",
    "\n",
    "# Define the hyperparameter optimization study\n",
    "study_nb = optuna.create_study(direction='maximize')\n",
    "\n",
    "# Define Naive Bayes pipeline with oversampling\n",
    "nb_pipeline = Pipeline([\n",
    "    ('balancing', balancing ),\n",
    "    ('classifier', MultinomialNB())\n",
    "])\n",
    "\n",
    "\n",
    "# Fit and optimize Naive Bayes pipeline\n",
    "nb_pipeline.fit(X_train_count, y_train)\n",
    "X_train_count_resampled, y_train_resampled = balancing.fit_resample(X_train_count, y_train)\n",
    "study_nb.optimize(objective_nb, n_trials=100)\n",
    "\n",
    "\n",
    "\n",
    "# Print the best hyperparameters and corresponding accuracies\n",
    "print(\"Best Naive Bayes Hyperparameters:\", study_nb.best_params)\n",
    "print(\"Naive Bayes F1 Score:\", study_nb.best_value)\n",
    "\n"
   ]
  },
  {
   "cell_type": "markdown",
   "metadata": {
    "id": "pIhnC4xc2J_R"
   },
   "source": [
    "### Evaluating best model on test set"
   ]
  },
  {
   "cell_type": "code",
   "execution_count": 28,
   "metadata": {
    "id": "wCC_HnQS2J_S",
    "outputId": "0431fa06-b56a-4a08-fb22-27f93e4b0802"
   },
   "outputs": [
    {
     "name": "stdout",
     "output_type": "stream",
     "text": [
      "Naive Bayes F1 score on test set: 0.6972236893902174\n",
      "\n",
      "NB Classification Report:\n",
      "              precision    recall  f1-score   support\n",
      "\n",
      "    Negative       0.50      0.63      0.56       168\n",
      "     Neutral       0.14      0.52      0.22        69\n",
      "    Positive       0.94      0.65      0.77       763\n",
      "\n",
      "    accuracy                           0.64      1000\n",
      "   macro avg       0.53      0.60      0.52      1000\n",
      "weighted avg       0.81      0.64      0.70      1000\n",
      "\n"
     ]
    }
   ],
   "source": [
    "# Get the best hyperparameters\n",
    "best_alpha = study_nb.best_params['alpha']\n",
    "\n",
    "# Train the model with the best hyperparameters\n",
    "nb_model = MultinomialNB(alpha=best_alpha)\n",
    "nb_model.fit(X_train_count_resampled, y_train_resampled)\n",
    "\n",
    "# Evaluate the final model on the test set\n",
    "nb_pred = nb_model.predict(X_test_count)\n",
    "\n",
    "f1_test = f1_score(y_test, nb_pred, average='weighted')\n",
    "print(\"Naive Bayes F1 score on test set:\", f1_test)\n",
    "print(\"\\nNB Classification Report:\")\n",
    "print(classification_report(y_test, nb_pred))"
   ]
  },
  {
   "cell_type": "markdown",
   "metadata": {
    "id": "055fSTOo2J_T"
   },
   "source": [
    "## SVM"
   ]
  },
  {
   "cell_type": "code",
   "execution_count": 29,
   "metadata": {
    "id": "5uOHE43H2J_U",
    "outputId": "2ad34953-7eaa-4a64-c0fb-134d9104a07d"
   },
   "outputs": [
    {
     "name": "stderr",
     "output_type": "stream",
     "text": [
      "[I 2024-05-17 02:19:41,033] A new study created in memory with name: no-name-7b0e9126-01a1-4799-b8ff-d441f6e894ea\n",
      "[I 2024-05-17 02:19:44,165] Trial 0 finished with value: 0.4997032933436426 and parameters: {'C': 443.7222373331844, 'gamma': 0.4520785539824102}. Best is trial 0 with value: 0.4997032933436426.\n",
      "[I 2024-05-17 02:19:46,018] Trial 1 finished with value: 0.6346936426891764 and parameters: {'C': 0.1506338171734979, 'gamma': 0.06782996124063874}. Best is trial 1 with value: 0.6346936426891764.\n",
      "[I 2024-05-17 02:19:48,257] Trial 2 finished with value: 0.14333766608193596 and parameters: {'C': 1.4872654682681017, 'gamma': 123.21695955059664}. Best is trial 1 with value: 0.6346936426891764.\n",
      "[I 2024-05-17 02:19:50,133] Trial 3 finished with value: 0.568788260642829 and parameters: {'C': 192.228531728834, 'gamma': 0.21493831929969673}. Best is trial 1 with value: 0.6346936426891764.\n",
      "[I 2024-05-17 02:19:52,103] Trial 4 finished with value: 0.14333766608193596 and parameters: {'C': 0.5422295100397804, 'gamma': 109.28370870226888}. Best is trial 1 with value: 0.6346936426891764.\n",
      "[I 2024-05-17 02:19:53,875] Trial 5 finished with value: 0.18440431615038672 and parameters: {'C': 743.6718866905163, 'gamma': 3.709289670044552}. Best is trial 1 with value: 0.6346936426891764.\n",
      "[I 2024-05-17 02:19:55,589] Trial 6 finished with value: 0.6422776428492076 and parameters: {'C': 0.1369968003414704, 'gamma': 0.05566376210494071}. Best is trial 6 with value: 0.6422776428492076.\n",
      "[I 2024-05-17 02:19:57,556] Trial 7 finished with value: 0.14333766608193596 and parameters: {'C': 20.162880421114597, 'gamma': 27.665607928828894}. Best is trial 6 with value: 0.6422776428492076.\n",
      "[I 2024-05-17 02:19:59,316] Trial 8 finished with value: 0.14333766608193596 and parameters: {'C': 0.8585812692380475, 'gamma': 3.6452164864198733}. Best is trial 6 with value: 0.6422776428492076.\n",
      "[I 2024-05-17 02:20:00,972] Trial 9 finished with value: 0.6933733262207195 and parameters: {'C': 21.45830067100692, 'gamma': 0.02486586497945047}. Best is trial 9 with value: 0.6933733262207195.\n",
      "[I 2024-05-17 02:20:02,994] Trial 10 finished with value: 0.14333766608193596 and parameters: {'C': 17.382921181452797, 'gamma': 916.0230838374027}. Best is trial 9 with value: 0.6933733262207195.\n",
      "[I 2024-05-17 02:20:04,656] Trial 11 finished with value: 0.6486326220543 and parameters: {'C': 0.010412531274258284, 'gamma': 0.012761924287016157}. Best is trial 9 with value: 0.6933733262207195.\n",
      "[I 2024-05-17 02:20:06,380] Trial 12 finished with value: 0.6536532915506466 and parameters: {'C': 0.018476614965828593, 'gamma': 0.011813123513534734}. Best is trial 9 with value: 0.6933733262207195.\n",
      "[I 2024-05-17 02:20:07,854] Trial 13 finished with value: 0.7188762626788363 and parameters: {'C': 20.553662160561863, 'gamma': 0.011828917951465909}. Best is trial 13 with value: 0.7188762626788363.\n",
      "[I 2024-05-17 02:20:09,607] Trial 14 finished with value: 0.4718082000463035 and parameters: {'C': 18.428468574811763, 'gamma': 0.5631828338757362}. Best is trial 13 with value: 0.7188762626788363.\n",
      "[I 2024-05-17 02:20:11,323] Trial 15 finished with value: 0.6319734329478157 and parameters: {'C': 55.899752159697115, 'gamma': 0.05664218084577575}. Best is trial 13 with value: 0.7188762626788363.\n",
      "[I 2024-05-17 02:20:12,834] Trial 16 finished with value: 0.7290286437492265 and parameters: {'C': 5.9394417178383945, 'gamma': 0.013409253305668178}. Best is trial 16 with value: 0.7290286437492265.\n",
      "[I 2024-05-17 02:20:14,615] Trial 17 finished with value: 0.3932416461405368 and parameters: {'C': 4.117463177669333, 'gamma': 0.9574904276534365}. Best is trial 16 with value: 0.7290286437492265.\n",
      "[I 2024-05-17 02:20:16,367] Trial 18 finished with value: 0.6300434633308805 and parameters: {'C': 3.9564445792532195, 'gamma': 0.14307557614602912}. Best is trial 16 with value: 0.7290286437492265.\n",
      "[I 2024-05-17 02:20:18,006] Trial 19 finished with value: 0.6975962473499895 and parameters: {'C': 102.92930507720577, 'gamma': 0.01157368836367976}. Best is trial 16 with value: 0.7290286437492265.\n",
      "[I 2024-05-17 02:20:19,791] Trial 20 finished with value: 0.26695845964671433 and parameters: {'C': 7.216560596055933, 'gamma': 2.0695195349706457}. Best is trial 16 with value: 0.7290286437492265.\n",
      "[I 2024-05-17 02:20:21,451] Trial 21 finished with value: 0.6662255445055927 and parameters: {'C': 67.92103866004452, 'gamma': 0.029863625954605896}. Best is trial 16 with value: 0.7290286437492265.\n",
      "[I 2024-05-17 02:20:22,993] Trial 22 finished with value: 0.7033193108852147 and parameters: {'C': 78.00819632482087, 'gamma': 0.011944806017995937}. Best is trial 16 with value: 0.7290286437492265.\n",
      "[I 2024-05-17 02:20:24,799] Trial 23 finished with value: 0.6271809016688783 and parameters: {'C': 7.882339948942934, 'gamma': 0.12325125048105855}. Best is trial 16 with value: 0.7290286437492265.\n",
      "[I 2024-05-17 02:20:26,461] Trial 24 finished with value: 0.6465436876754768 and parameters: {'C': 220.41522396142003, 'gamma': 0.029412561244917458}. Best is trial 16 with value: 0.7290286437492265.\n",
      "[I 2024-05-17 02:20:28,212] Trial 25 finished with value: 0.5484251808594189 and parameters: {'C': 45.46065553637892, 'gamma': 0.26622574370363317}. Best is trial 16 with value: 0.7290286437492265.\n",
      "[I 2024-05-17 02:20:29,842] Trial 26 finished with value: 0.6887020943515972 and parameters: {'C': 179.4349747158054, 'gamma': 0.010479522031859487}. Best is trial 16 with value: 0.7290286437492265.\n",
      "[I 2024-05-17 02:20:31,874] Trial 27 finished with value: 0.14333766608193596 and parameters: {'C': 2.440816902646972, 'gamma': 14.99873995135274}. Best is trial 16 with value: 0.7290286437492265.\n",
      "[I 2024-05-17 02:20:33,645] Trial 28 finished with value: 0.6589724274250762 and parameters: {'C': 7.652033638214909, 'gamma': 0.07072321799224075}. Best is trial 16 with value: 0.7290286437492265.\n",
      "[I 2024-05-17 02:20:35,331] Trial 29 finished with value: 0.6398357825121663 and parameters: {'C': 550.2222101499253, 'gamma': 0.029542908861247757}. Best is trial 16 with value: 0.7290286437492265.\n",
      "[I 2024-05-17 02:20:37,085] Trial 30 finished with value: 0.4827686979079938 and parameters: {'C': 35.19761272295782, 'gamma': 0.5006614678531678}. Best is trial 16 with value: 0.7290286437492265.\n",
      "[I 2024-05-17 02:20:38,660] Trial 31 finished with value: 0.6780829577946539 and parameters: {'C': 105.79683452407014, 'gamma': 0.018718122082797585}. Best is trial 16 with value: 0.7290286437492265.\n",
      "[I 2024-05-17 02:20:40,116] Trial 32 finished with value: 0.6727191552458865 and parameters: {'C': 325.71184988832454, 'gamma': 0.01072040735735289}. Best is trial 16 with value: 0.7290286437492265.\n",
      "[I 2024-05-17 02:20:41,835] Trial 33 finished with value: 0.6239368839035984 and parameters: {'C': 116.75292410403057, 'gamma': 0.05545405636826323}. Best is trial 16 with value: 0.7290286437492265.\n",
      "[I 2024-05-17 02:20:43,579] Trial 34 finished with value: 0.6380721079878663 and parameters: {'C': 11.641572745335852, 'gamma': 0.08994194977522406}. Best is trial 16 with value: 0.7290286437492265.\n",
      "[I 2024-05-17 02:20:45,226] Trial 35 finished with value: 0.672660855705826 and parameters: {'C': 95.73792690243366, 'gamma': 0.0229090357105232}. Best is trial 16 with value: 0.7290286437492265.\n",
      "[I 2024-05-17 02:20:46,980] Trial 36 finished with value: 0.5539836321245654 and parameters: {'C': 33.50459949160965, 'gamma': 0.24455807142161942}. Best is trial 16 with value: 0.7290286437492265.\n",
      "[I 2024-05-17 02:20:48,657] Trial 37 finished with value: 0.6393503803888421 and parameters: {'C': 941.3096092045519, 'gamma': 0.019870623687209175}. Best is trial 16 with value: 0.7290286437492265.\n",
      "[I 2024-05-17 02:20:50,304] Trial 38 finished with value: 0.6904854446751922 and parameters: {'C': 1.0847431400008802, 'gamma': 0.04603622878067986}. Best is trial 16 with value: 0.7290286437492265.\n",
      "[I 2024-05-17 02:20:51,980] Trial 39 finished with value: 0.5984191758123277 and parameters: {'C': 0.33012485297651906, 'gamma': 0.1329456875232622}. Best is trial 16 with value: 0.7290286437492265.\n",
      "[I 2024-05-17 02:20:53,618] Trial 40 finished with value: 0.6347173354808322 and parameters: {'C': 288.7310526317229, 'gamma': 0.03922453292586478}. Best is trial 16 with value: 0.7290286437492265.\n"
     ]
    },
    {
     "name": "stderr",
     "output_type": "stream",
     "text": [
      "[I 2024-05-17 02:20:55,254] Trial 41 finished with value: 0.7077583724397135 and parameters: {'C': 26.765765562519736, 'gamma': 0.016826885607149823}. Best is trial 16 with value: 0.7290286437492265.\n",
      "[I 2024-05-17 02:20:56,798] Trial 42 finished with value: 0.7287827418561094 and parameters: {'C': 2.322027846712701, 'gamma': 0.016467137739960353}. Best is trial 16 with value: 0.7290286437492265.\n",
      "[I 2024-05-17 02:20:58,332] Trial 43 finished with value: 0.727647819200861 and parameters: {'C': 2.961045099363011, 'gamma': 0.019331179376284265}. Best is trial 16 with value: 0.7290286437492265.\n",
      "[I 2024-05-17 02:20:59,901] Trial 44 finished with value: 0.7245747739089766 and parameters: {'C': 1.9769035890987032, 'gamma': 0.019675810392378777}. Best is trial 16 with value: 0.7290286437492265.\n",
      "[I 2024-05-17 02:21:01,834] Trial 45 finished with value: 0.11571242528516032 and parameters: {'C': 0.4696108539023888, 'gamma': 13.750168644299501}. Best is trial 16 with value: 0.7290286437492265.\n",
      "[I 2024-05-17 02:21:03,544] Trial 46 finished with value: 0.6675493819309855 and parameters: {'C': 2.131513348627204, 'gamma': 0.08427353958629087}. Best is trial 16 with value: 0.7290286437492265.\n",
      "[I 2024-05-17 02:21:05,549] Trial 47 finished with value: 0.09969693189791419 and parameters: {'C': 0.15286647876942652, 'gamma': 399.320122159876}. Best is trial 16 with value: 0.7290286437492265.\n",
      "[I 2024-05-17 02:21:07,168] Trial 48 finished with value: 0.7004919517321688 and parameters: {'C': 1.4299367620882761, 'gamma': 0.03848528578150137}. Best is trial 16 with value: 0.7290286437492265.\n",
      "[I 2024-05-17 02:21:08,766] Trial 49 finished with value: 0.7199035715742073 and parameters: {'C': 0.6990177495942028, 'gamma': 0.017531355974718804}. Best is trial 16 with value: 0.7290286437492265.\n",
      "[I 2024-05-17 02:21:10,558] Trial 50 finished with value: 0.5929710882408996 and parameters: {'C': 0.8186500589936636, 'gamma': 0.19609111683475677}. Best is trial 16 with value: 0.7290286437492265.\n",
      "[I 2024-05-17 02:21:12,138] Trial 51 finished with value: 0.7155183456973773 and parameters: {'C': 4.799925617680541, 'gamma': 0.021380525146668425}. Best is trial 16 with value: 0.7290286437492265.\n",
      "[I 2024-05-17 02:21:13,784] Trial 52 finished with value: 0.6957222859351846 and parameters: {'C': 0.25229723851129404, 'gamma': 0.01730775535340558}. Best is trial 16 with value: 0.7290286437492265.\n",
      "[I 2024-05-17 02:21:15,492] Trial 53 finished with value: 0.6926360959065428 and parameters: {'C': 2.3500597677325925, 'gamma': 0.04278171150587037}. Best is trial 16 with value: 0.7290286437492265.\n",
      "[I 2024-05-17 02:21:17,099] Trial 54 finished with value: 0.7158146989518239 and parameters: {'C': 0.6533263851977276, 'gamma': 0.016133400460333246}. Best is trial 16 with value: 0.7290286437492265.\n",
      "[I 2024-05-17 02:21:18,789] Trial 55 finished with value: 0.6478267268811388 and parameters: {'C': 0.05668744752710219, 'gamma': 0.02765637210517544}. Best is trial 16 with value: 0.7290286437492265.\n",
      "[I 2024-05-17 02:21:20,541] Trial 56 finished with value: 0.36092073926748097 and parameters: {'C': 11.958104315172916, 'gamma': 1.0891840629428409}. Best is trial 16 with value: 0.7290286437492265.\n",
      "[I 2024-05-17 02:21:22,278] Trial 57 finished with value: 0.6583362455591636 and parameters: {'C': 5.379290281037408, 'gamma': 0.07863163175159178}. Best is trial 16 with value: 0.7290286437492265.\n",
      "[I 2024-05-17 02:21:24,329] Trial 58 finished with value: 0.14333766608193596 and parameters: {'C': 1.4972000976942468, 'gamma': 61.83938031621671}. Best is trial 16 with value: 0.7290286437492265.\n",
      "[I 2024-05-17 02:21:25,821] Trial 59 finished with value: 0.7406143928420125 and parameters: {'C': 3.5439169973048896, 'gamma': 0.010708528878128986}. Best is trial 59 with value: 0.7406143928420125.\n",
      "[I 2024-05-17 02:21:27,388] Trial 60 finished with value: 0.73087216941031 and parameters: {'C': 2.823450305249693, 'gamma': 0.014703666541942172}. Best is trial 59 with value: 0.7406143928420125.\n",
      "[I 2024-05-17 02:21:28,876] Trial 61 finished with value: 0.7276541242582603 and parameters: {'C': 3.359759165959703, 'gamma': 0.015232973348977679}. Best is trial 59 with value: 0.7406143928420125.\n",
      "[I 2024-05-17 02:21:30,548] Trial 62 finished with value: 0.702004986793093 and parameters: {'C': 3.194788531923998, 'gamma': 0.0312518225719546}. Best is trial 59 with value: 0.7406143928420125.\n",
      "[I 2024-05-17 02:21:32,082] Trial 63 finished with value: 0.7455341411745338 and parameters: {'C': 1.7685527440132454, 'gamma': 0.01014035458486931}. Best is trial 63 with value: 0.7455341411745338.\n",
      "[I 2024-05-17 02:21:33,807] Trial 64 finished with value: 0.7241763790521748 and parameters: {'C': 13.683644564386842, 'gamma': 0.012626400309155758}. Best is trial 63 with value: 0.7455341411745338.\n",
      "[I 2024-05-17 02:21:35,319] Trial 65 finished with value: 0.7386360149595113 and parameters: {'C': 3.122486641327734, 'gamma': 0.010536146973230442}. Best is trial 63 with value: 0.7455341411745338.\n",
      "[I 2024-05-17 02:21:36,735] Trial 66 finished with value: 0.7399927190404763 and parameters: {'C': 7.242221335281493, 'gamma': 0.010073086666822736}. Best is trial 63 with value: 0.7455341411745338.\n",
      "[I 2024-05-17 02:21:38,239] Trial 67 finished with value: 0.7301465587420718 and parameters: {'C': 7.526522568893574, 'gamma': 0.011202787242782635}. Best is trial 63 with value: 0.7455341411745338.\n",
      "[I 2024-05-17 02:21:39,671] Trial 68 finished with value: 0.7411921503080117 and parameters: {'C': 6.852300942129947, 'gamma': 0.010301070051527457}. Best is trial 63 with value: 0.7455341411745338.\n",
      "[I 2024-05-17 02:21:41,143] Trial 69 finished with value: 0.7299610864470037 and parameters: {'C': 8.649637804643447, 'gamma': 0.011334270981204314}. Best is trial 63 with value: 0.7455341411745338.\n",
      "[I 2024-05-17 02:21:42,698] Trial 70 finished with value: 0.7456375541714538 and parameters: {'C': 1.2936392359323001, 'gamma': 0.010214283300733826}. Best is trial 70 with value: 0.7456375541714538.\n",
      "[I 2024-05-17 02:21:44,256] Trial 71 finished with value: 0.7425850357749615 and parameters: {'C': 1.3735738433501081, 'gamma': 0.010917503491968924}. Best is trial 70 with value: 0.7456375541714538.\n",
      "[I 2024-05-17 02:21:45,839] Trial 72 finished with value: 0.7439850505719793 and parameters: {'C': 1.2488253429651883, 'gamma': 0.010116387707270871}. Best is trial 70 with value: 0.7456375541714538.\n",
      "[I 2024-05-17 02:21:47,467] Trial 73 finished with value: 0.7116487506501715 and parameters: {'C': 1.060808719624054, 'gamma': 0.028491807164448865}. Best is trial 70 with value: 0.7456375541714538.\n",
      "[I 2024-05-17 02:21:49,002] Trial 74 finished with value: 0.746288820878101 and parameters: {'C': 1.2463864804887763, 'gamma': 0.010718573861398862}. Best is trial 74 with value: 0.746288820878101.\n",
      "[I 2024-05-17 02:21:50,553] Trial 75 finished with value: 0.7456319826652221 and parameters: {'C': 1.588176893151104, 'gamma': 0.010247411461331587}. Best is trial 74 with value: 0.746288820878101.\n",
      "[I 2024-05-17 02:21:52,277] Trial 76 finished with value: 0.681476555962348 and parameters: {'C': 1.3890852478785252, 'gamma': 0.06237976594858312}. Best is trial 74 with value: 0.746288820878101.\n",
      "[I 2024-05-17 02:21:53,924] Trial 77 finished with value: 0.6886945282994712 and parameters: {'C': 0.3760670591236097, 'gamma': 0.025148368073258785}. Best is trial 74 with value: 0.746288820878101.\n",
      "[I 2024-05-17 02:21:55,559] Trial 78 finished with value: 0.7036384120897283 and parameters: {'C': 1.030830486377725, 'gamma': 0.038773621022369836}. Best is trial 74 with value: 0.746288820878101.\n",
      "[I 2024-05-17 02:21:57,246] Trial 79 finished with value: 0.6751125680786172 and parameters: {'C': 0.4824759578832398, 'gamma': 0.0548332039150807}. Best is trial 74 with value: 0.746288820878101.\n",
      "[I 2024-05-17 02:21:58,814] Trial 80 finished with value: 0.7203294889091258 and parameters: {'C': 1.6745022210536173, 'gamma': 0.02344012160987852}. Best is trial 74 with value: 0.746288820878101.\n",
      "[I 2024-05-17 02:22:00,349] Trial 81 finished with value: 0.7327729917675972 and parameters: {'C': 4.511799794314533, 'gamma': 0.013403303860076377}. Best is trial 74 with value: 0.746288820878101.\n",
      "[I 2024-05-17 02:22:01,917] Trial 82 finished with value: 0.7367947253265615 and parameters: {'C': 1.0387272024936565, 'gamma': 0.010172585856737647}. Best is trial 74 with value: 0.746288820878101.\n"
     ]
    },
    {
     "name": "stderr",
     "output_type": "stream",
     "text": [
      "[I 2024-05-17 02:22:03,563] Trial 83 finished with value: 0.7022527349279573 and parameters: {'C': 1.8617177349318812, 'gamma': 0.034064653051583446}. Best is trial 74 with value: 0.746288820878101.\n",
      "[I 2024-05-17 02:22:05,400] Trial 84 finished with value: 0.15283591500451882 and parameters: {'C': 5.968872934064419, 'gamma': 5.5579277298827385}. Best is trial 74 with value: 0.746288820878101.\n",
      "[I 2024-05-17 02:22:07,013] Trial 85 finished with value: 0.7164055198499394 and parameters: {'C': 0.6850296620455192, 'gamma': 0.014315875642548477}. Best is trial 74 with value: 0.746288820878101.\n",
      "[I 2024-05-17 02:22:08,673] Trial 86 finished with value: 0.7138979726774288 and parameters: {'C': 3.862049309929031, 'gamma': 0.027263807641946122}. Best is trial 74 with value: 0.746288820878101.\n",
      "[I 2024-05-17 02:22:10,172] Trial 87 finished with value: 0.7348717241379309 and parameters: {'C': 9.657208621817851, 'gamma': 0.010051833842330094}. Best is trial 74 with value: 0.746288820878101.\n",
      "[I 2024-05-17 02:22:11,767] Trial 88 finished with value: 0.720203412144118 and parameters: {'C': 1.2851051282664288, 'gamma': 0.02283742964082889}. Best is trial 74 with value: 0.746288820878101.\n",
      "[I 2024-05-17 02:22:13,449] Trial 89 finished with value: 0.6913395001206976 and parameters: {'C': 0.2296745586082532, 'gamma': 0.014599129442631724}. Best is trial 74 with value: 0.746288820878101.\n",
      "[I 2024-05-17 02:22:15,052] Trial 90 finished with value: 0.7265062283220499 and parameters: {'C': 0.9066064479318447, 'gamma': 0.010032076689655988}. Best is trial 74 with value: 0.746288820878101.\n",
      "[I 2024-05-17 02:22:16,588] Trial 91 finished with value: 0.7242679950409747 and parameters: {'C': 2.6818825052537933, 'gamma': 0.021183524036235118}. Best is trial 74 with value: 0.746288820878101.\n",
      "[I 2024-05-17 02:22:18,089] Trial 92 finished with value: 0.731357652499352 and parameters: {'C': 6.151670164852864, 'gamma': 0.01345060509511309}. Best is trial 74 with value: 0.746288820878101.\n",
      "[I 2024-05-17 02:22:19,664] Trial 93 finished with value: 0.726390382235265 and parameters: {'C': 1.817510191107771, 'gamma': 0.018037723251955542}. Best is trial 74 with value: 0.746288820878101.\n",
      "[I 2024-05-17 02:22:21,297] Trial 94 finished with value: 0.7147119095068234 and parameters: {'C': 0.5471156747312499, 'gamma': 0.013101274234960663}. Best is trial 74 with value: 0.746288820878101.\n",
      "[I 2024-05-17 02:22:22,930] Trial 95 finished with value: 0.6925017486689333 and parameters: {'C': 1.2484520548342566, 'gamma': 0.04398797760987419}. Best is trial 74 with value: 0.746288820878101.\n",
      "[I 2024-05-17 02:22:24,414] Trial 96 finished with value: 0.7416887050204696 and parameters: {'C': 3.887561304075162, 'gamma': 0.010060072976248056}. Best is trial 74 with value: 0.746288820878101.\n",
      "[I 2024-05-17 02:22:25,968] Trial 97 finished with value: 0.7231205502534926 and parameters: {'C': 4.421367897995056, 'gamma': 0.019318414315784443}. Best is trial 74 with value: 0.746288820878101.\n",
      "[I 2024-05-17 02:22:27,658] Trial 98 finished with value: 0.6859811564177418 and parameters: {'C': 16.365727957170048, 'gamma': 0.03257634943429423}. Best is trial 74 with value: 0.746288820878101.\n",
      "[I 2024-05-17 02:22:29,212] Trial 99 finished with value: 0.7188133916151098 and parameters: {'C': 2.236121243086319, 'gamma': 0.023834276524851983}. Best is trial 74 with value: 0.746288820878101.\n"
     ]
    },
    {
     "name": "stdout",
     "output_type": "stream",
     "text": [
      "Best SVM Hyperparameters: {'C': 1.2463864804887763, 'gamma': 0.010718573861398862}\n",
      "SVM F1 Score: 0.746288820878101\n"
     ]
    }
   ],
   "source": [
    "# Define the objective function for hyperparameter optimization\n",
    "def objective_svm(trial):\n",
    "    C = trial.suggest_float('C', 1e-2, 1e3, log = True)\n",
    "    gamma = trial.suggest_float('gamma', 1e-2, 1e3, log = True)\n",
    "    clf = SVC(C=C, gamma=gamma, random_state=42)\n",
    "    clf.fit(X_train_count_resampled, y_train_resampled)\n",
    "    f1 = f1_score(y_val, clf.predict(X_val_count), average=\"weighted\")\n",
    "    return f1\n",
    "\n",
    "# Define the hyperparameter optimization study\n",
    "study_svm = optuna.create_study(direction='maximize')\n",
    "\n",
    "# Define SVM pipeline with oversampling\n",
    "svm_pipeline = Pipeline([\n",
    "    ('balancing', balancing),\n",
    "    ('classifier', SVC(random_state=42))\n",
    "])\n",
    "\n",
    "# Fit and optimize SVM pipeline\n",
    "svm_pipeline.fit(X_train_count, y_train)\n",
    "X_train_count_resampled, y_train_resampled = balancing.fit_resample(X_train_count, y_train)\n",
    "study_svm.optimize(objective_svm, n_trials=100)\n",
    "\n",
    "\n",
    "# Print the best hyperparameters and corresponding accuracies\n",
    "print(\"Best SVM Hyperparameters:\", study_svm.best_params)\n",
    "print(\"SVM F1 Score:\", study_svm.best_value)\n",
    "\n"
   ]
  },
  {
   "cell_type": "markdown",
   "metadata": {
    "id": "rnwi7xUw2J_U"
   },
   "source": [
    "### Evaluating best model on test set"
   ]
  },
  {
   "cell_type": "code",
   "execution_count": 30,
   "metadata": {
    "id": "dtJNURG62J_U",
    "outputId": "ccef1bd2-bdfd-4d5c-d7e0-5b7af135a05c"
   },
   "outputs": [
    {
     "name": "stdout",
     "output_type": "stream",
     "text": [
      "SVM F1 score on test set: 0.7464067696259112\n",
      "\n",
      "SVM Classification Report:\n",
      "              precision    recall  f1-score   support\n",
      "\n",
      "    Negative       0.63      0.59      0.61       168\n",
      "     Neutral       0.13      0.36      0.19        69\n",
      "    Positive       0.89      0.77      0.83       763\n",
      "\n",
      "    accuracy                           0.71      1000\n",
      "   macro avg       0.55      0.57      0.54      1000\n",
      "weighted avg       0.80      0.71      0.75      1000\n",
      "\n"
     ]
    }
   ],
   "source": [
    "# Get the best hyperparameters and retrain the model on the training set\n",
    "best_svm_params = study_svm.best_params\n",
    "svm_model = SVC(**best_svm_params, random_state=42)\n",
    "svm_model.fit(X_train_count_resampled, y_train_resampled)\n",
    "\n",
    "# Evaluate the model on the test set\n",
    "svm_pred = svm_model.predict(X_test_count)\n",
    "\n",
    "f1_test = f1_score(y_test, svm_pred, average='weighted')\n",
    "print(\"SVM F1 score on test set:\", f1_test)\n",
    "print(\"\\nSVM Classification Report:\")\n",
    "print(classification_report(y_test, svm_pred))"
   ]
  },
  {
   "cell_type": "markdown",
   "metadata": {
    "id": "9v576CYV2J_U"
   },
   "source": [
    "## Random Forest"
   ]
  },
  {
   "cell_type": "code",
   "execution_count": 31,
   "metadata": {
    "id": "CcpvWv1C2J_V",
    "outputId": "03608890-be4f-4560-9ee6-d48db5629c23",
    "scrolled": true
   },
   "outputs": [
    {
     "name": "stderr",
     "output_type": "stream",
     "text": [
      "[I 2024-05-17 02:25:49,384] A new study created in memory with name: no-name-619f58d7-e8be-4e00-a8a2-06d1a3d5ef2b\n",
      "[I 2024-05-17 02:26:07,630] Trial 0 finished with value: 0.7420753633685284 and parameters: {'n_estimators': 184, 'max_depth': 23, 'min_samples_split': 3, 'min_samples_leaf': 6}. Best is trial 0 with value: 0.7420753633685284.\n",
      "[I 2024-05-17 02:26:08,189] Trial 1 finished with value: 0.7278914275515465 and parameters: {'n_estimators': 81, 'max_depth': 11, 'min_samples_split': 11, 'min_samples_leaf': 10}. Best is trial 0 with value: 0.7420753633685284.\n",
      "[I 2024-05-17 02:26:09,131] Trial 2 finished with value: 0.7291871800409415 and parameters: {'n_estimators': 109, 'max_depth': 35, 'min_samples_split': 4, 'min_samples_leaf': 9}. Best is trial 0 with value: 0.7420753633685284.\n",
      "[I 2024-05-17 02:26:10,136] Trial 3 finished with value: 0.7475344309348314 and parameters: {'n_estimators': 68, 'max_depth': 34, 'min_samples_split': 18, 'min_samples_leaf': 4}. Best is trial 3 with value: 0.7475344309348314.\n",
      "[I 2024-05-17 02:26:11,667] Trial 4 finished with value: 0.7571985356306064 and parameters: {'n_estimators': 111, 'max_depth': 25, 'min_samples_split': 14, 'min_samples_leaf': 3}. Best is trial 4 with value: 0.7571985356306064.\n",
      "[I 2024-05-17 02:26:12,231] Trial 5 finished with value: 0.7316296359864368 and parameters: {'n_estimators': 57, 'max_depth': 30, 'min_samples_split': 19, 'min_samples_leaf': 8}. Best is trial 4 with value: 0.7571985356306064.\n",
      "[I 2024-05-17 02:26:14,702] Trial 6 finished with value: 0.7396501086418817 and parameters: {'n_estimators': 146, 'max_depth': 19, 'min_samples_split': 13, 'min_samples_leaf': 1}. Best is trial 4 with value: 0.7571985356306064.\n",
      "[I 2024-05-17 02:26:15,204] Trial 7 finished with value: 0.7239618088103782 and parameters: {'n_estimators': 55, 'max_depth': 42, 'min_samples_split': 18, 'min_samples_leaf': 9}. Best is trial 4 with value: 0.7571985356306064.\n",
      "[I 2024-05-17 02:26:16,107] Trial 8 finished with value: 0.745119821918972 and parameters: {'n_estimators': 85, 'max_depth': 18, 'min_samples_split': 19, 'min_samples_leaf': 4}. Best is trial 4 with value: 0.7571985356306064.\n",
      "[I 2024-05-17 02:26:18,202] Trial 9 finished with value: 0.7453414627471279 and parameters: {'n_estimators': 101, 'max_depth': 40, 'min_samples_split': 13, 'min_samples_leaf': 2}. Best is trial 4 with value: 0.7571985356306064.\n",
      "[I 2024-05-17 02:26:19,221] Trial 10 finished with value: 0.7493039613578671 and parameters: {'n_estimators': 143, 'max_depth': 7, 'min_samples_split': 8, 'min_samples_leaf': 3}. Best is trial 4 with value: 0.7571985356306064.\n",
      "[I 2024-05-17 02:26:19,984] Trial 11 finished with value: 0.7345200270728317 and parameters: {'n_estimators': 141, 'max_depth': 5, 'min_samples_split': 8, 'min_samples_leaf': 3}. Best is trial 4 with value: 0.7571985356306064.\n",
      "[I 2024-05-17 02:26:22,535] Trial 12 finished with value: 0.7457051680347523 and parameters: {'n_estimators': 172, 'max_depth': 49, 'min_samples_split': 7, 'min_samples_leaf': 5}. Best is trial 4 with value: 0.7571985356306064.\n",
      "[I 2024-05-17 02:26:23,693] Trial 13 finished with value: 0.7382564102564104 and parameters: {'n_estimators': 128, 'max_depth': 10, 'min_samples_split': 15, 'min_samples_leaf': 1}. Best is trial 4 with value: 0.7571985356306064.\n",
      "[I 2024-05-17 02:26:25,725] Trial 14 finished with value: 0.7409754798132862 and parameters: {'n_estimators': 158, 'max_depth': 25, 'min_samples_split': 9, 'min_samples_leaf': 6}. Best is trial 4 with value: 0.7571985356306064.\n",
      "[I 2024-05-17 02:26:27,111] Trial 15 finished with value: 0.7468710595073232 and parameters: {'n_estimators': 116, 'max_depth': 13, 'min_samples_split': 6, 'min_samples_leaf': 3}. Best is trial 4 with value: 0.7571985356306064.\n",
      "[I 2024-05-17 02:26:28,241] Trial 16 finished with value: 0.7323658506988494 and parameters: {'n_estimators': 200, 'max_depth': 5, 'min_samples_split': 15, 'min_samples_leaf': 3}. Best is trial 4 with value: 0.7571985356306064.\n",
      "[I 2024-05-17 02:26:29,825] Trial 17 finished with value: 0.7486694667930958 and parameters: {'n_estimators': 130, 'max_depth': 18, 'min_samples_split': 10, 'min_samples_leaf': 5}. Best is trial 4 with value: 0.7571985356306064.\n",
      "[I 2024-05-17 02:26:31,665] Trial 18 finished with value: 0.7465223952621899 and parameters: {'n_estimators': 95, 'max_depth': 30, 'min_samples_split': 12, 'min_samples_leaf': 2}. Best is trial 4 with value: 0.7571985356306064.\n",
      "[I 2024-05-17 02:26:33,610] Trial 19 finished with value: 0.7427547896287335 and parameters: {'n_estimators': 160, 'max_depth': 49, 'min_samples_split': 5, 'min_samples_leaf': 7}. Best is trial 4 with value: 0.7571985356306064.\n",
      "[I 2024-05-17 02:26:34,811] Trial 20 finished with value: 0.7457696858961662 and parameters: {'n_estimators': 119, 'max_depth': 14, 'min_samples_split': 16, 'min_samples_leaf': 4}. Best is trial 4 with value: 0.7571985356306064.\n",
      "[I 2024-05-17 02:26:36,408] Trial 21 finished with value: 0.7477819431547095 and parameters: {'n_estimators': 128, 'max_depth': 19, 'min_samples_split': 9, 'min_samples_leaf': 5}. Best is trial 4 with value: 0.7571985356306064.\n",
      "[I 2024-05-17 02:26:38,907] Trial 22 finished with value: 0.741665812616962 and parameters: {'n_estimators': 139, 'max_depth': 23, 'min_samples_split': 10, 'min_samples_leaf': 2}. Best is trial 4 with value: 0.7571985356306064.\n",
      "[I 2024-05-17 02:26:40,161] Trial 23 finished with value: 0.7413633565825348 and parameters: {'n_estimators': 155, 'max_depth': 9, 'min_samples_split': 11, 'min_samples_leaf': 5}. Best is trial 4 with value: 0.7571985356306064.\n",
      "[I 2024-05-17 02:26:41,796] Trial 24 finished with value: 0.7503638777043631 and parameters: {'n_estimators': 134, 'max_depth': 16, 'min_samples_split': 2, 'min_samples_leaf': 4}. Best is trial 4 with value: 0.7571985356306064.\n",
      "[I 2024-05-17 02:26:43,462] Trial 25 finished with value: 0.7528127267868109 and parameters: {'n_estimators': 103, 'max_depth': 15, 'min_samples_split': 4, 'min_samples_leaf': 3}. Best is trial 4 with value: 0.7571985356306064.\n",
      "[I 2024-05-17 02:26:44,903] Trial 26 finished with value: 0.7418763784795788 and parameters: {'n_estimators': 104, 'max_depth': 15, 'min_samples_split': 2, 'min_samples_leaf': 4}. Best is trial 4 with value: 0.7571985356306064.\n",
      "[I 2024-05-17 02:26:46,934] Trial 27 finished with value: 0.7487779268051363 and parameters: {'n_estimators': 89, 'max_depth': 25, 'min_samples_split': 2, 'min_samples_leaf': 2}. Best is trial 4 with value: 0.7571985356306064.\n",
      "[I 2024-05-17 02:26:49,968] Trial 28 finished with value: 0.7438552928578969 and parameters: {'n_estimators': 111, 'max_depth': 21, 'min_samples_split': 4, 'min_samples_leaf': 1}. Best is trial 4 with value: 0.7571985356306064.\n",
      "[I 2024-05-17 02:26:50,691] Trial 29 finished with value: 0.742533905608409 and parameters: {'n_estimators': 68, 'max_depth': 16, 'min_samples_split': 3, 'min_samples_leaf': 6}. Best is trial 4 with value: 0.7571985356306064.\n",
      "[I 2024-05-17 02:26:51,558] Trial 30 finished with value: 0.7322101406367387 and parameters: {'n_estimators': 73, 'max_depth': 28, 'min_samples_split': 6, 'min_samples_leaf': 7}. Best is trial 4 with value: 0.7571985356306064.\n",
      "[I 2024-05-17 02:26:52,700] Trial 31 finished with value: 0.7400783736550917 and parameters: {'n_estimators': 135, 'max_depth': 8, 'min_samples_split': 4, 'min_samples_leaf': 3}. Best is trial 4 with value: 0.7571985356306064.\n",
      "[I 2024-05-17 02:26:54,267] Trial 32 finished with value: 0.7495978744948404 and parameters: {'n_estimators': 149, 'max_depth': 12, 'min_samples_split': 6, 'min_samples_leaf': 3}. Best is trial 4 with value: 0.7571985356306064.\n",
      "[I 2024-05-17 02:26:56,008] Trial 33 finished with value: 0.7448423319907125 and parameters: {'n_estimators': 170, 'max_depth': 12, 'min_samples_split': 3, 'min_samples_leaf': 4}. Best is trial 4 with value: 0.7571985356306064.\n",
      "[I 2024-05-17 02:26:58,131] Trial 34 finished with value: 0.7517409617641062 and parameters: {'n_estimators': 118, 'max_depth': 23, 'min_samples_split': 5, 'min_samples_leaf': 2}. Best is trial 4 with value: 0.7571985356306064.\n",
      "[I 2024-05-17 02:27:00,358] Trial 35 finished with value: 0.7488787037819832 and parameters: {'n_estimators': 118, 'max_depth': 23, 'min_samples_split': 2, 'min_samples_leaf': 2}. Best is trial 4 with value: 0.7571985356306064.\n"
     ]
    },
    {
     "name": "stderr",
     "output_type": "stream",
     "text": [
      "[I 2024-05-17 02:27:02,043] Trial 36 finished with value: 0.7394322905383609 and parameters: {'n_estimators': 96, 'max_depth': 34, 'min_samples_split': 5, 'min_samples_leaf': 4}. Best is trial 4 with value: 0.7571985356306064.\n",
      "[I 2024-05-17 02:27:05,886] Trial 37 finished with value: 0.7419482248409862 and parameters: {'n_estimators': 107, 'max_depth': 26, 'min_samples_split': 5, 'min_samples_leaf': 1}. Best is trial 4 with value: 0.7571985356306064.\n",
      "[I 2024-05-17 02:27:08,690] Trial 38 finished with value: 0.738697310736308 and parameters: {'n_estimators': 123, 'max_depth': 31, 'min_samples_split': 3, 'min_samples_leaf': 2}. Best is trial 4 with value: 0.7571985356306064.\n",
      "[I 2024-05-17 02:27:09,367] Trial 39 finished with value: 0.7251254189905916 and parameters: {'n_estimators': 79, 'max_depth': 21, 'min_samples_split': 16, 'min_samples_leaf': 10}. Best is trial 4 with value: 0.7571985356306064.\n",
      "[I 2024-05-17 02:27:10,710] Trial 40 finished with value: 0.7509902200455736 and parameters: {'n_estimators': 111, 'max_depth': 16, 'min_samples_split': 4, 'min_samples_leaf': 3}. Best is trial 4 with value: 0.7571985356306064.\n",
      "[I 2024-05-17 02:27:12,743] Trial 41 finished with value: 0.7596463083169482 and parameters: {'n_estimators': 112, 'max_depth': 22, 'min_samples_split': 4, 'min_samples_leaf': 3}. Best is trial 41 with value: 0.7596463083169482.\n",
      "[I 2024-05-17 02:27:14,568] Trial 42 finished with value: 0.753272462356562 and parameters: {'n_estimators': 110, 'max_depth': 21, 'min_samples_split': 4, 'min_samples_leaf': 3}. Best is trial 41 with value: 0.7596463083169482.\n",
      "[I 2024-05-17 02:27:16,235] Trial 43 finished with value: 0.7523289303805096 and parameters: {'n_estimators': 97, 'max_depth': 22, 'min_samples_split': 13, 'min_samples_leaf': 2}. Best is trial 41 with value: 0.7596463083169482.\n",
      "[I 2024-05-17 02:27:18,237] Trial 44 finished with value: 0.7405549077819639 and parameters: {'n_estimators': 97, 'max_depth': 21, 'min_samples_split': 13, 'min_samples_leaf': 1}. Best is trial 41 with value: 0.7596463083169482.\n",
      "[I 2024-05-17 02:27:20,108] Trial 45 finished with value: 0.751286196919249 and parameters: {'n_estimators': 90, 'max_depth': 28, 'min_samples_split': 14, 'min_samples_leaf': 3}. Best is trial 41 with value: 0.7596463083169482.\n",
      "[I 2024-05-17 02:27:21,779] Trial 46 finished with value: 0.7477820543680145 and parameters: {'n_estimators': 102, 'max_depth': 19, 'min_samples_split': 12, 'min_samples_leaf': 2}. Best is trial 41 with value: 0.7596463083169482.\n",
      "[I 2024-05-17 02:27:24,050] Trial 47 finished with value: 0.7509892689224434 and parameters: {'n_estimators': 85, 'max_depth': 32, 'min_samples_split': 7, 'min_samples_leaf': 3}. Best is trial 41 with value: 0.7596463083169482.\n",
      "[I 2024-05-17 02:27:25,228] Trial 48 finished with value: 0.7494494873376802 and parameters: {'n_estimators': 78, 'max_depth': 26, 'min_samples_split': 18, 'min_samples_leaf': 4}. Best is trial 41 with value: 0.7596463083169482.\n",
      "[I 2024-05-17 02:27:27,298] Trial 49 finished with value: 0.7446207543030331 and parameters: {'n_estimators': 110, 'max_depth': 21, 'min_samples_split': 14, 'min_samples_leaf': 1}. Best is trial 41 with value: 0.7596463083169482.\n",
      "[I 2024-05-17 02:27:28,118] Trial 50 finished with value: 0.7572625969021837 and parameters: {'n_estimators': 60, 'max_depth': 18, 'min_samples_split': 12, 'min_samples_leaf': 3}. Best is trial 41 with value: 0.7596463083169482.\n",
      "[I 2024-05-17 02:27:28,947] Trial 51 finished with value: 0.7490074369182443 and parameters: {'n_estimators': 53, 'max_depth': 24, 'min_samples_split': 12, 'min_samples_leaf': 3}. Best is trial 41 with value: 0.7596463083169482.\n",
      "[I 2024-05-17 02:27:30,414] Trial 52 finished with value: 0.7468196170036026 and parameters: {'n_estimators': 100, 'max_depth': 18, 'min_samples_split': 14, 'min_samples_leaf': 2}. Best is trial 41 with value: 0.7596463083169482.\n",
      "[I 2024-05-17 02:27:31,726] Trial 53 finished with value: 0.7479213160830052 and parameters: {'n_estimators': 60, 'max_depth': 40, 'min_samples_split': 11, 'min_samples_leaf': 3}. Best is trial 41 with value: 0.7596463083169482.\n",
      "[I 2024-05-17 02:27:33,569] Trial 54 finished with value: 0.7486311674388862 and parameters: {'n_estimators': 124, 'max_depth': 20, 'min_samples_split': 13, 'min_samples_leaf': 4}. Best is trial 41 with value: 0.7596463083169482.\n",
      "[I 2024-05-17 02:27:34,323] Trial 55 finished with value: 0.7327369478776729 and parameters: {'n_estimators': 69, 'max_depth': 17, 'min_samples_split': 16, 'min_samples_leaf': 9}. Best is trial 41 with value: 0.7596463083169482.\n",
      "[I 2024-05-17 02:27:35,356] Trial 56 finished with value: 0.7425014505494505 and parameters: {'n_estimators': 92, 'max_depth': 14, 'min_samples_split': 10, 'min_samples_leaf': 5}. Best is trial 41 with value: 0.7596463083169482.\n",
      "[I 2024-05-17 02:27:37,380] Trial 57 finished with value: 0.7451531134920304 and parameters: {'n_estimators': 113, 'max_depth': 29, 'min_samples_split': 20, 'min_samples_leaf': 2}. Best is trial 41 with value: 0.7596463083169482.\n",
      "[I 2024-05-17 02:27:38,950] Trial 58 finished with value: 0.7556203232898728 and parameters: {'n_estimators': 105, 'max_depth': 22, 'min_samples_split': 15, 'min_samples_leaf': 3}. Best is trial 41 with value: 0.7596463083169482.\n",
      "[I 2024-05-17 02:27:40,591] Trial 59 finished with value: 0.7468956872435297 and parameters: {'n_estimators': 85, 'max_depth': 26, 'min_samples_split': 7, 'min_samples_leaf': 3}. Best is trial 41 with value: 0.7596463083169482.\n",
      "[I 2024-05-17 02:27:42,111] Trial 60 finished with value: 0.746140657916059 and parameters: {'n_estimators': 107, 'max_depth': 19, 'min_samples_split': 15, 'min_samples_leaf': 4}. Best is trial 41 with value: 0.7596463083169482.\n",
      "[I 2024-05-17 02:27:44,165] Trial 61 finished with value: 0.7533858318214072 and parameters: {'n_estimators': 121, 'max_depth': 24, 'min_samples_split': 12, 'min_samples_leaf': 3}. Best is trial 41 with value: 0.7596463083169482.\n",
      "[I 2024-05-17 02:27:46,157] Trial 62 finished with value: 0.7533858318214072 and parameters: {'n_estimators': 121, 'max_depth': 24, 'min_samples_split': 12, 'min_samples_leaf': 3}. Best is trial 41 with value: 0.7596463083169482.\n",
      "[I 2024-05-17 02:27:48,612] Trial 63 finished with value: 0.7503713536039514 and parameters: {'n_estimators': 131, 'max_depth': 24, 'min_samples_split': 12, 'min_samples_leaf': 3}. Best is trial 41 with value: 0.7596463083169482.\n",
      "[I 2024-05-17 02:27:50,488] Trial 64 finished with value: 0.7461744453542323 and parameters: {'n_estimators': 124, 'max_depth': 27, 'min_samples_split': 11, 'min_samples_leaf': 4}. Best is trial 41 with value: 0.7596463083169482.\n",
      "[I 2024-05-17 02:27:52,257] Trial 65 finished with value: 0.7420460771886455 and parameters: {'n_estimators': 120, 'max_depth': 24, 'min_samples_split': 9, 'min_samples_leaf': 4}. Best is trial 41 with value: 0.7596463083169482.\n",
      "[I 2024-05-17 02:27:54,183] Trial 66 finished with value: 0.7565065864567392 and parameters: {'n_estimators': 114, 'max_depth': 22, 'min_samples_split': 17, 'min_samples_leaf': 3}. Best is trial 41 with value: 0.7596463083169482.\n",
      "[I 2024-05-17 02:27:55,195] Trial 67 finished with value: 0.744741120802434 and parameters: {'n_estimators': 61, 'max_depth': 29, 'min_samples_split': 18, 'min_samples_leaf': 3}. Best is trial 41 with value: 0.7596463083169482.\n",
      "[I 2024-05-17 02:27:57,806] Trial 68 finished with value: 0.7428562745865789 and parameters: {'n_estimators': 140, 'max_depth': 25, 'min_samples_split': 17, 'min_samples_leaf': 2}. Best is trial 41 with value: 0.7596463083169482.\n",
      "[I 2024-05-17 02:27:59,836] Trial 69 finished with value: 0.7421283228326162 and parameters: {'n_estimators': 116, 'max_depth': 46, 'min_samples_split': 17, 'min_samples_leaf': 5}. Best is trial 41 with value: 0.7596463083169482.\n",
      "[I 2024-05-17 02:28:01,831] Trial 70 finished with value: 0.744727027160818 and parameters: {'n_estimators': 128, 'max_depth': 23, 'min_samples_split': 15, 'min_samples_leaf': 4}. Best is trial 41 with value: 0.7596463083169482.\n",
      "[I 2024-05-17 02:28:03,665] Trial 71 finished with value: 0.7536436112906701 and parameters: {'n_estimators': 135, 'max_depth': 22, 'min_samples_split': 14, 'min_samples_leaf': 3}. Best is trial 41 with value: 0.7596463083169482.\n"
     ]
    },
    {
     "name": "stderr",
     "output_type": "stream",
     "text": [
      "[I 2024-05-17 02:28:05,302] Trial 72 finished with value: 0.7487904102310705 and parameters: {'n_estimators': 133, 'max_depth': 18, 'min_samples_split': 14, 'min_samples_leaf': 3}. Best is trial 41 with value: 0.7596463083169482.\n",
      "[I 2024-05-17 02:28:07,688] Trial 73 finished with value: 0.7573251687134184 and parameters: {'n_estimators': 151, 'max_depth': 22, 'min_samples_split': 13, 'min_samples_leaf': 3}. Best is trial 41 with value: 0.7596463083169482.\n",
      "[I 2024-05-17 02:28:09,897] Trial 74 finished with value: 0.7415996911656317 and parameters: {'n_estimators': 148, 'max_depth': 22, 'min_samples_split': 15, 'min_samples_leaf': 2}. Best is trial 41 with value: 0.7596463083169482.\n",
      "[I 2024-05-17 02:28:11,904] Trial 75 finished with value: 0.7564111182934712 and parameters: {'n_estimators': 161, 'max_depth': 20, 'min_samples_split': 17, 'min_samples_leaf': 3}. Best is trial 41 with value: 0.7596463083169482.\n",
      "[I 2024-05-17 02:28:13,835] Trial 76 finished with value: 0.7472107394847698 and parameters: {'n_estimators': 167, 'max_depth': 19, 'min_samples_split': 17, 'min_samples_leaf': 4}. Best is trial 41 with value: 0.7596463083169482.\n",
      "[I 2024-05-17 02:28:16,043] Trial 77 finished with value: 0.742500027024477 and parameters: {'n_estimators': 153, 'max_depth': 20, 'min_samples_split': 19, 'min_samples_leaf': 2}. Best is trial 41 with value: 0.7596463083169482.\n",
      "[I 2024-05-17 02:28:17,986] Trial 78 finished with value: 0.7505195700201879 and parameters: {'n_estimators': 182, 'max_depth': 17, 'min_samples_split': 16, 'min_samples_leaf': 4}. Best is trial 41 with value: 0.7596463083169482.\n",
      "[I 2024-05-17 02:28:19,884] Trial 79 finished with value: 0.7545272396906061 and parameters: {'n_estimators': 143, 'max_depth': 22, 'min_samples_split': 13, 'min_samples_leaf': 3}. Best is trial 41 with value: 0.7596463083169482.\n",
      "[I 2024-05-17 02:28:21,657] Trial 80 finished with value: 0.7397330651673037 and parameters: {'n_estimators': 161, 'max_depth': 27, 'min_samples_split': 13, 'min_samples_leaf': 7}. Best is trial 41 with value: 0.7596463083169482.\n",
      "[I 2024-05-17 02:28:23,791] Trial 81 finished with value: 0.748449648473502 and parameters: {'n_estimators': 137, 'max_depth': 21, 'min_samples_split': 14, 'min_samples_leaf': 3}. Best is trial 41 with value: 0.7596463083169482.\n",
      "[I 2024-05-17 02:28:25,790] Trial 82 finished with value: 0.7531655893126482 and parameters: {'n_estimators': 145, 'max_depth': 22, 'min_samples_split': 15, 'min_samples_leaf': 3}. Best is trial 41 with value: 0.7596463083169482.\n",
      "[I 2024-05-17 02:28:28,004] Trial 83 finished with value: 0.7578098426381159 and parameters: {'n_estimators': 166, 'max_depth': 20, 'min_samples_split': 16, 'min_samples_leaf': 3}. Best is trial 41 with value: 0.7596463083169482.\n",
      "[I 2024-05-17 02:28:30,813] Trial 84 finished with value: 0.7504382135761941 and parameters: {'n_estimators': 177, 'max_depth': 20, 'min_samples_split': 16, 'min_samples_leaf': 2}. Best is trial 41 with value: 0.7596463083169482.\n",
      "[I 2024-05-17 02:28:33,173] Trial 85 finished with value: 0.7490912902509438 and parameters: {'n_estimators': 165, 'max_depth': 17, 'min_samples_split': 18, 'min_samples_leaf': 3}. Best is trial 41 with value: 0.7596463083169482.\n",
      "[I 2024-05-17 02:28:34,966] Trial 86 finished with value: 0.7446557663050805 and parameters: {'n_estimators': 153, 'max_depth': 20, 'min_samples_split': 17, 'min_samples_leaf': 4}. Best is trial 41 with value: 0.7596463083169482.\n",
      "[I 2024-05-17 02:28:37,184] Trial 87 finished with value: 0.7425291541197203 and parameters: {'n_estimators': 196, 'max_depth': 15, 'min_samples_split': 15, 'min_samples_leaf': 2}. Best is trial 41 with value: 0.7596463083169482.\n",
      "[I 2024-05-17 02:28:39,591] Trial 88 finished with value: 0.755031196805377 and parameters: {'n_estimators': 162, 'max_depth': 25, 'min_samples_split': 16, 'min_samples_leaf': 3}. Best is trial 41 with value: 0.7596463083169482.\n",
      "[I 2024-05-17 02:28:41,847] Trial 89 finished with value: 0.7434306756959426 and parameters: {'n_estimators': 173, 'max_depth': 25, 'min_samples_split': 16, 'min_samples_leaf': 4}. Best is trial 41 with value: 0.7596463083169482.\n",
      "[I 2024-05-17 02:28:44,232] Trial 90 finished with value: 0.7494672946236272 and parameters: {'n_estimators': 162, 'max_depth': 26, 'min_samples_split': 19, 'min_samples_leaf': 3}. Best is trial 41 with value: 0.7596463083169482.\n",
      "[I 2024-05-17 02:28:46,468] Trial 91 finished with value: 0.7558194908545647 and parameters: {'n_estimators': 157, 'max_depth': 23, 'min_samples_split': 13, 'min_samples_leaf': 3}. Best is trial 41 with value: 0.7596463083169482.\n",
      "[I 2024-05-17 02:28:48,621] Trial 92 finished with value: 0.7589031741702132 and parameters: {'n_estimators': 156, 'max_depth': 23, 'min_samples_split': 17, 'min_samples_leaf': 3}. Best is trial 41 with value: 0.7596463083169482.\n",
      "[I 2024-05-17 02:28:50,782] Trial 93 finished with value: 0.7569458120286776 and parameters: {'n_estimators': 157, 'max_depth': 23, 'min_samples_split': 17, 'min_samples_leaf': 3}. Best is trial 41 with value: 0.7596463083169482.\n",
      "[I 2024-05-17 02:28:52,855] Trial 94 finished with value: 0.7546601188945774 and parameters: {'n_estimators': 157, 'max_depth': 23, 'min_samples_split': 18, 'min_samples_leaf': 3}. Best is trial 41 with value: 0.7596463083169482.\n",
      "[I 2024-05-17 02:28:54,843] Trial 95 finished with value: 0.74301284974096 and parameters: {'n_estimators': 150, 'max_depth': 19, 'min_samples_split': 17, 'min_samples_leaf': 2}. Best is trial 41 with value: 0.7596463083169482.\n",
      "[I 2024-05-17 02:28:57,135] Trial 96 finished with value: 0.7406390497584764 and parameters: {'n_estimators': 170, 'max_depth': 18, 'min_samples_split': 18, 'min_samples_leaf': 2}. Best is trial 41 with value: 0.7596463083169482.\n",
      "[I 2024-05-17 02:28:59,583] Trial 97 finished with value: 0.7550981896559976 and parameters: {'n_estimators': 157, 'max_depth': 27, 'min_samples_split': 17, 'min_samples_leaf': 3}. Best is trial 41 with value: 0.7596463083169482.\n",
      "[I 2024-05-17 02:29:01,428] Trial 98 finished with value: 0.7467404983169931 and parameters: {'n_estimators': 151, 'max_depth': 20, 'min_samples_split': 20, 'min_samples_leaf': 4}. Best is trial 41 with value: 0.7596463083169482.\n",
      "[I 2024-05-17 02:29:03,643] Trial 99 finished with value: 0.7464739685094258 and parameters: {'n_estimators': 177, 'max_depth': 23, 'min_samples_split': 19, 'min_samples_leaf': 4}. Best is trial 41 with value: 0.7596463083169482.\n"
     ]
    },
    {
     "name": "stdout",
     "output_type": "stream",
     "text": [
      "Best Random Forest Hyperparameters: {'n_estimators': 112, 'max_depth': 22, 'min_samples_split': 4, 'min_samples_leaf': 3}\n",
      "Random Forest F1 Score: 0.7596463083169482\n"
     ]
    }
   ],
   "source": [
    "\n",
    "# Define the objective function for hyperparameter optimization\n",
    "\n",
    "def objective_rf(trial):\n",
    "    n_estimators = trial.suggest_int('n_estimators', 50, 200)\n",
    "    max_depth = trial.suggest_int('max_depth', 5, 50)\n",
    "    min_samples_split = trial.suggest_int('min_samples_split', 2, 20)\n",
    "    min_samples_leaf = trial.suggest_int('min_samples_leaf', 1, 10)\n",
    "    clf = RandomForestClassifier(n_estimators=n_estimators, max_depth=max_depth,\n",
    "                                  min_samples_split=min_samples_split, min_samples_leaf=min_samples_leaf,\n",
    "                                  random_state=42)\n",
    "    clf.fit(X_train_count_resampled, y_train_resampled)\n",
    "    f1 = f1_score(y_val, clf.predict(X_val_count), average=\"weighted\")\n",
    "    return f1\n",
    "\n",
    "# Define the hyperparameter optimization study\n",
    "study_rf = optuna.create_study(direction='maximize')\n",
    "\n",
    "\n",
    "# Define Random Forest pipeline with oversampling\n",
    "rf_pipeline = Pipeline([\n",
    "    ('balancing', balancing),\n",
    "    ('classifier', RandomForestClassifier(random_state=42))\n",
    "])\n",
    "\n",
    "\n",
    "# Fit and optimize Random Forest pipeline\n",
    "rf_pipeline.fit(X_train_count, y_train)\n",
    "X_train_count_resampled, y_train_resampled = balancing.fit_resample(X_train_count, y_train)\n",
    "study_rf.optimize(objective_rf, n_trials=100)\n",
    "\n",
    "# Print the best hyperparameters and corresponding accuracies\n",
    "print(\"Best Random Forest Hyperparameters:\", study_rf.best_params)\n",
    "print(\"Random Forest F1 Score:\", study_rf.best_value)\n"
   ]
  },
  {
   "cell_type": "markdown",
   "metadata": {
    "id": "8YTlhjTj2J_V"
   },
   "source": [
    "### Evaluating best model on test set"
   ]
  },
  {
   "cell_type": "code",
   "execution_count": 32,
   "metadata": {
    "id": "VVF5QevQ2J_W",
    "outputId": "56730a0b-1213-4af5-88d0-8390a609a7fd"
   },
   "outputs": [
    {
     "name": "stdout",
     "output_type": "stream",
     "text": [
      "Random Forest F1 score on test set: 0.7583059768458279\n",
      "\n",
      "Random Forest Classification Report:\n",
      "              precision    recall  f1-score   support\n",
      "\n",
      "    Negative       0.66      0.56      0.61       168\n",
      "     Neutral       0.15      0.39      0.22        69\n",
      "    Positive       0.89      0.79      0.84       763\n",
      "\n",
      "    accuracy                           0.73      1000\n",
      "   macro avg       0.57      0.58      0.55      1000\n",
      "weighted avg       0.80      0.73      0.76      1000\n",
      "\n"
     ]
    }
   ],
   "source": [
    "# Get the best hyperparameters and retrain the model on the training set\n",
    "best_rf_params = study_rf.best_params\n",
    "rf_model = RandomForestClassifier(**best_rf_params, random_state=42)\n",
    "rf_model.fit(X_train_count_resampled, y_train_resampled)\n",
    "\n",
    "# Evaluate the model on the test set\n",
    "rf_pred = rf_model.predict(X_test_count)\n",
    "\n",
    "f1_test = f1_score(y_test, rf_pred, average='weighted')\n",
    "print(\"Random Forest F1 score on test set:\", f1_test)\n",
    "print(\"\\nRandom Forest Classification Report:\")\n",
    "print(classification_report(y_test, rf_pred))"
   ]
  },
  {
   "cell_type": "code",
   "execution_count": null,
   "metadata": {
    "id": "n-zqvmIC2J_W"
   },
   "outputs": [],
   "source": []
  },
  {
   "cell_type": "code",
   "execution_count": null,
   "metadata": {
    "id": "ySSDArT42J_W"
   },
   "outputs": [],
   "source": []
  },
  {
   "cell_type": "code",
   "execution_count": null,
   "metadata": {
    "id": "0AvOBSGq2J_W"
   },
   "outputs": [],
   "source": []
  },
  {
   "cell_type": "code",
   "execution_count": null,
   "metadata": {
    "id": "0MlccbAv2J_W"
   },
   "outputs": [],
   "source": []
  }
 ],
 "metadata": {
  "colab": {
   "provenance": []
  },
  "kernelspec": {
   "display_name": "Python 3 (ipykernel)",
   "language": "python",
   "name": "python3"
  },
  "language_info": {
   "codemirror_mode": {
    "name": "ipython",
    "version": 3
   },
   "file_extension": ".py",
   "mimetype": "text/x-python",
   "name": "python",
   "nbconvert_exporter": "python",
   "pygments_lexer": "ipython3",
   "version": "3.9.12"
  }
 },
 "nbformat": 4,
 "nbformat_minor": 1
}
