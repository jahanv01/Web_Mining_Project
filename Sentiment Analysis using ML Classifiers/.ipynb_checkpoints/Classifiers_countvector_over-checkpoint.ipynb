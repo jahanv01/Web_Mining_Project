{
 "cells": [
  {
   "cell_type": "markdown",
   "metadata": {
    "id": "okZL93GJi2cM"
   },
   "source": [
    "# **ML Classifiers with Count Vectorization & Oversampling**"
   ]
  },
  {
   "cell_type": "code",
   "execution_count": 1,
   "metadata": {
    "colab": {
     "base_uri": "https://localhost:8080/"
    },
    "executionInfo": {
     "elapsed": 1747,
     "status": "ok",
     "timestamp": 1715881054833,
     "user": {
      "displayName": "Jahanvi Panchal",
      "userId": "01209420393961994162"
     },
     "user_tz": -120
    },
    "id": "9qQS71L_cwLZ",
    "outputId": "be866fd1-5ab6-4b90-a353-491b9ddc782b"
   },
   "outputs": [
    {
     "name": "stdout",
     "output_type": "stream",
     "text": [
      "Drive already mounted at /content/drive/; to attempt to forcibly remount, call drive.mount(\"/content/drive/\", force_remount=True).\n",
      "/content/drive/My Drive/WEB_MINING_PROJECT/ML_CLASSIFIERS\n"
     ]
    }
   ],
   "source": [
    "try:\n",
    "    from google.colab import drive\n",
    "    drive.mount('/content/drive/')\n",
    "    %cd 'drive/My Drive/WEB_MINING_PROJECT/ML_CLASSIFIERS'\n",
    "except ImportError as e:\n",
    "    pass"
   ]
  },
  {
   "cell_type": "code",
   "execution_count": 2,
   "metadata": {
    "colab": {
     "base_uri": "https://localhost:8080/"
    },
    "executionInfo": {
     "elapsed": 10950,
     "status": "ok",
     "timestamp": 1715881071208,
     "user": {
      "displayName": "Jahanvi Panchal",
      "userId": "01209420393961994162"
     },
     "user_tz": -120
    },
    "id": "5OSbTP2ti2ch",
    "outputId": "d38b0faa-5706-48eb-debd-2e836acfdd89"
   },
   "outputs": [
    {
     "name": "stdout",
     "output_type": "stream",
     "text": [
      "Requirement already satisfied: optuna in /usr/local/lib/python3.10/dist-packages (3.6.1)\n",
      "Requirement already satisfied: alembic>=1.5.0 in /usr/local/lib/python3.10/dist-packages (from optuna) (1.13.1)\n",
      "Requirement already satisfied: colorlog in /usr/local/lib/python3.10/dist-packages (from optuna) (6.8.2)\n",
      "Requirement already satisfied: numpy in /usr/local/lib/python3.10/dist-packages (from optuna) (1.25.2)\n",
      "Requirement already satisfied: packaging>=20.0 in /usr/local/lib/python3.10/dist-packages (from optuna) (24.0)\n",
      "Requirement already satisfied: sqlalchemy>=1.3.0 in /usr/local/lib/python3.10/dist-packages (from optuna) (2.0.30)\n",
      "Requirement already satisfied: tqdm in /usr/local/lib/python3.10/dist-packages (from optuna) (4.66.4)\n",
      "Requirement already satisfied: PyYAML in /usr/local/lib/python3.10/dist-packages (from optuna) (6.0.1)\n",
      "Requirement already satisfied: Mako in /usr/local/lib/python3.10/dist-packages (from alembic>=1.5.0->optuna) (1.3.5)\n",
      "Requirement already satisfied: typing-extensions>=4 in /usr/local/lib/python3.10/dist-packages (from alembic>=1.5.0->optuna) (4.11.0)\n",
      "Requirement already satisfied: greenlet!=0.4.17 in /usr/local/lib/python3.10/dist-packages (from sqlalchemy>=1.3.0->optuna) (3.0.3)\n",
      "Requirement already satisfied: MarkupSafe>=0.9.2 in /usr/local/lib/python3.10/dist-packages (from Mako->alembic>=1.5.0->optuna) (2.1.5)\n",
      "Requirement already satisfied: imblearn in /usr/local/lib/python3.10/dist-packages (0.0)\n",
      "Requirement already satisfied: imbalanced-learn in /usr/local/lib/python3.10/dist-packages (from imblearn) (0.10.1)\n",
      "Requirement already satisfied: numpy>=1.17.3 in /usr/local/lib/python3.10/dist-packages (from imbalanced-learn->imblearn) (1.25.2)\n",
      "Requirement already satisfied: scipy>=1.3.2 in /usr/local/lib/python3.10/dist-packages (from imbalanced-learn->imblearn) (1.11.4)\n",
      "Requirement already satisfied: scikit-learn>=1.0.2 in /usr/local/lib/python3.10/dist-packages (from imbalanced-learn->imblearn) (1.2.2)\n",
      "Requirement already satisfied: joblib>=1.1.1 in /usr/local/lib/python3.10/dist-packages (from imbalanced-learn->imblearn) (1.4.2)\n",
      "Requirement already satisfied: threadpoolctl>=2.0.0 in /usr/local/lib/python3.10/dist-packages (from imbalanced-learn->imblearn) (3.5.0)\n"
     ]
    }
   ],
   "source": [
    "! pip install optuna\n",
    "! pip install imblearn"
   ]
  },
  {
   "cell_type": "code",
   "execution_count": 3,
   "metadata": {
    "colab": {
     "base_uri": "https://localhost:8080/"
    },
    "executionInfo": {
     "elapsed": 1540,
     "status": "ok",
     "timestamp": 1715881075749,
     "user": {
      "displayName": "Jahanvi Panchal",
      "userId": "01209420393961994162"
     },
     "user_tz": -120
    },
    "id": "pZXo0-wci2cx",
    "outputId": "a23135a7-d783-4721-e4aa-09bb5b3c1e13",
    "scrolled": true
   },
   "outputs": [
    {
     "name": "stderr",
     "output_type": "stream",
     "text": [
      "[nltk_data] Downloading package punkt to /root/nltk_data...\n",
      "[nltk_data]   Package punkt is already up-to-date!\n",
      "[nltk_data] Downloading package wordnet to /root/nltk_data...\n",
      "[nltk_data]   Package wordnet is already up-to-date!\n",
      "[nltk_data] Downloading package stopwords to /root/nltk_data...\n",
      "[nltk_data]   Package stopwords is already up-to-date!\n"
     ]
    }
   ],
   "source": [
    "import pandas as pd\n",
    "import nltk\n",
    "import random\n",
    "import numpy as np\n",
    "from nltk.corpus import stopwords\n",
    "from nltk.tokenize import word_tokenize\n",
    "from nltk.stem import WordNetLemmatizer\n",
    "from nltk.stem import PorterStemmer\n",
    "\n",
    "# Download NLTK resources\n",
    "nltk.download('punkt')\n",
    "nltk.download('wordnet')\n",
    "nltk.download('stopwords')\n",
    "\n",
    "from sklearn.model_selection import train_test_split\n",
    "from sklearn.feature_extraction.text import TfidfVectorizer, CountVectorizer\n",
    "from sklearn.svm import SVC\n",
    "from sklearn.naive_bayes import MultinomialNB\n",
    "from sklearn.ensemble import RandomForestClassifier\n",
    "from sklearn.metrics import classification_report, accuracy_score, confusion_matrix, f1_score, make_scorer\n",
    "from imblearn.pipeline import Pipeline\n",
    "from imblearn.over_sampling import RandomOverSampler, ADASYN, SMOTE\n",
    "from imblearn.under_sampling import RandomUnderSampler, NearMiss\n",
    "import optuna\n",
    "\n",
    "#not needed\n",
    "\n",
    "from sklearn.utils.multiclass import unique_labels\n",
    "from sklearn.pipeline import make_pipeline\n",
    "from sklearn.model_selection import train_test_split, StratifiedKFold, cross_val_predict, GridSearchCV\n",
    "from sklearn.linear_model import LogisticRegression\n",
    "\n",
    "\n",
    "\n"
   ]
  },
  {
   "cell_type": "markdown",
   "metadata": {
    "id": "oV_0vj2yi2c3"
   },
   "source": [
    "### Loading Downsampled Dataset"
   ]
  },
  {
   "cell_type": "code",
   "execution_count": 4,
   "metadata": {
    "executionInfo": {
     "elapsed": 509,
     "status": "ok",
     "timestamp": 1715881079560,
     "user": {
      "displayName": "Jahanvi Panchal",
      "userId": "01209420393961994162"
     },
     "user_tz": -120
    },
    "id": "NKNXYFJYi2c6"
   },
   "outputs": [],
   "source": [
    "# Load the dataset\n",
    "df = pd.read_csv(\"downsampled_dataset_10k.csv\")"
   ]
  },
  {
   "cell_type": "markdown",
   "metadata": {
    "id": "2203YuKPi2c-"
   },
   "source": [
    "## **Text Preprocessing**"
   ]
  },
  {
   "cell_type": "code",
   "execution_count": 5,
   "metadata": {
    "colab": {
     "base_uri": "https://localhost:8080/",
     "height": 363
    },
    "executionInfo": {
     "elapsed": 225,
     "status": "ok",
     "timestamp": 1715881082805,
     "user": {
      "displayName": "Jahanvi Panchal",
      "userId": "01209420393961994162"
     },
     "user_tz": -120
    },
    "id": "loYBrAlEi2c_",
    "outputId": "aed81676-fec2-4a09-acbb-f28b86323ad9"
   },
   "outputs": [
    {
     "data": {
      "application/vnd.google.colaboratory.intrinsic+json": {
       "summary": "{\n  \"name\": \"df\",\n  \"rows\": 9999,\n  \"fields\": [\n    {\n      \"column\": \"review_body\",\n      \"properties\": {\n        \"dtype\": \"string\",\n        \"num_unique_values\": 9365,\n        \"samples\": [\n          \"These stands work with the VIZIO speakers I got very well. The ONLY thing I had to do is widen the rear wire supports to make room for the RCA plug. Buy them for you're speakers as they are heavy cast iron, and absorb vibrations.\",\n          \"People keep griping over how thin the wire is.... I don't know what they were expecting for $30, but it obviously wasn't this. That being said, I found the wire to be more than sufficient and the plugs were very easy to solder together. I loved this kit and the patch cables I made with it wonderfully transmit the tone from my guitar. I used this in conjunction with some patch cables I had laying around to link 9 pedals together on a small homemade board and I ended up with at least 6 feet of cable left over. I am very pleased with the result and will definitely order this again in the future for all of my cabling needs. It's far far far cheaper to do this than it is to buy pre-made cables. If you have cable runs that are super long, this probably won't work, but as far as short applications, this cable is more than sufficient for your needs.\",\n          \"For how cheap these headphones were, these things are WARRIORS! I am an avid runner, biker and hiker - I have taken these things on treadmills, trails, around town, worn them while working out and even in a torrential downpour while on a 3-mile run outside. These things have survived some serious sweat and water drenchings and performance has not suffered. The sound quality is less than, for example, standard Apple headphones, but for an active lifestyle and cheap price, they are great. Given that the sound quality is just ok, the only other knock on them is that, even at their smallest setting, they are slightly big on my year. Perhaps I have small ears. But for the price, these little guys are champs and are still kicking!\"\n        ],\n        \"semantic_type\": \"\",\n        \"description\": \"\"\n      }\n    },\n    {\n      \"column\": \"sentiment\",\n      \"properties\": {\n        \"dtype\": \"category\",\n        \"num_unique_values\": 3,\n        \"samples\": [\n          \"Positive\",\n          \"Negative\",\n          \"Neutral\"\n        ],\n        \"semantic_type\": \"\",\n        \"description\": \"\"\n      }\n    }\n  ]\n}",
       "type": "dataframe",
       "variable_name": "df"
      },
      "text/html": [
       "\n",
       "  <div id=\"df-02d0b2b8-f072-4964-8e63-e23e4d09266e\" class=\"colab-df-container\">\n",
       "    <div>\n",
       "<style scoped>\n",
       "    .dataframe tbody tr th:only-of-type {\n",
       "        vertical-align: middle;\n",
       "    }\n",
       "\n",
       "    .dataframe tbody tr th {\n",
       "        vertical-align: top;\n",
       "    }\n",
       "\n",
       "    .dataframe thead th {\n",
       "        text-align: right;\n",
       "    }\n",
       "</style>\n",
       "<table border=\"1\" class=\"dataframe\">\n",
       "  <thead>\n",
       "    <tr style=\"text-align: right;\">\n",
       "      <th></th>\n",
       "      <th>review_body</th>\n",
       "      <th>sentiment</th>\n",
       "    </tr>\n",
       "  </thead>\n",
       "  <tbody>\n",
       "    <tr>\n",
       "      <th>0</th>\n",
       "      <td>Great tv signal very good buy.I like it</td>\n",
       "      <td>Positive</td>\n",
       "    </tr>\n",
       "    <tr>\n",
       "      <th>1</th>\n",
       "      <td>Good sound. Fine Material. Simply perfect!</td>\n",
       "      <td>Positive</td>\n",
       "    </tr>\n",
       "    <tr>\n",
       "      <th>2</th>\n",
       "      <td>looks good as shown lots of base. BTW fast shi...</td>\n",
       "      <td>Positive</td>\n",
       "    </tr>\n",
       "    <tr>\n",
       "      <th>3</th>\n",
       "      <td>This player is totally awesome! I has all the ...</td>\n",
       "      <td>Positive</td>\n",
       "    </tr>\n",
       "    <tr>\n",
       "      <th>4</th>\n",
       "      <td>Very quick delivery and high quality. Sound is...</td>\n",
       "      <td>Positive</td>\n",
       "    </tr>\n",
       "    <tr>\n",
       "      <th>5</th>\n",
       "      <td>Awesome</td>\n",
       "      <td>Positive</td>\n",
       "    </tr>\n",
       "    <tr>\n",
       "      <th>6</th>\n",
       "      <td>Extremely nice quality, especially for the pri...</td>\n",
       "      <td>Positive</td>\n",
       "    </tr>\n",
       "    <tr>\n",
       "      <th>7</th>\n",
       "      <td>Identical to the one from Verizon that we some...</td>\n",
       "      <td>Positive</td>\n",
       "    </tr>\n",
       "    <tr>\n",
       "      <th>8</th>\n",
       "      <td>These are so handy and sound really awesome! P...</td>\n",
       "      <td>Positive</td>\n",
       "    </tr>\n",
       "    <tr>\n",
       "      <th>9</th>\n",
       "      <td>Works great!</td>\n",
       "      <td>Positive</td>\n",
       "    </tr>\n",
       "  </tbody>\n",
       "</table>\n",
       "</div>\n",
       "    <div class=\"colab-df-buttons\">\n",
       "\n",
       "  <div class=\"colab-df-container\">\n",
       "    <button class=\"colab-df-convert\" onclick=\"convertToInteractive('df-02d0b2b8-f072-4964-8e63-e23e4d09266e')\"\n",
       "            title=\"Convert this dataframe to an interactive table.\"\n",
       "            style=\"display:none;\">\n",
       "\n",
       "  <svg xmlns=\"http://www.w3.org/2000/svg\" height=\"24px\" viewBox=\"0 -960 960 960\">\n",
       "    <path d=\"M120-120v-720h720v720H120Zm60-500h600v-160H180v160Zm220 220h160v-160H400v160Zm0 220h160v-160H400v160ZM180-400h160v-160H180v160Zm440 0h160v-160H620v160ZM180-180h160v-160H180v160Zm440 0h160v-160H620v160Z\"/>\n",
       "  </svg>\n",
       "    </button>\n",
       "\n",
       "  <style>\n",
       "    .colab-df-container {\n",
       "      display:flex;\n",
       "      gap: 12px;\n",
       "    }\n",
       "\n",
       "    .colab-df-convert {\n",
       "      background-color: #E8F0FE;\n",
       "      border: none;\n",
       "      border-radius: 50%;\n",
       "      cursor: pointer;\n",
       "      display: none;\n",
       "      fill: #1967D2;\n",
       "      height: 32px;\n",
       "      padding: 0 0 0 0;\n",
       "      width: 32px;\n",
       "    }\n",
       "\n",
       "    .colab-df-convert:hover {\n",
       "      background-color: #E2EBFA;\n",
       "      box-shadow: 0px 1px 2px rgba(60, 64, 67, 0.3), 0px 1px 3px 1px rgba(60, 64, 67, 0.15);\n",
       "      fill: #174EA6;\n",
       "    }\n",
       "\n",
       "    .colab-df-buttons div {\n",
       "      margin-bottom: 4px;\n",
       "    }\n",
       "\n",
       "    [theme=dark] .colab-df-convert {\n",
       "      background-color: #3B4455;\n",
       "      fill: #D2E3FC;\n",
       "    }\n",
       "\n",
       "    [theme=dark] .colab-df-convert:hover {\n",
       "      background-color: #434B5C;\n",
       "      box-shadow: 0px 1px 3px 1px rgba(0, 0, 0, 0.15);\n",
       "      filter: drop-shadow(0px 1px 2px rgba(0, 0, 0, 0.3));\n",
       "      fill: #FFFFFF;\n",
       "    }\n",
       "  </style>\n",
       "\n",
       "    <script>\n",
       "      const buttonEl =\n",
       "        document.querySelector('#df-02d0b2b8-f072-4964-8e63-e23e4d09266e button.colab-df-convert');\n",
       "      buttonEl.style.display =\n",
       "        google.colab.kernel.accessAllowed ? 'block' : 'none';\n",
       "\n",
       "      async function convertToInteractive(key) {\n",
       "        const element = document.querySelector('#df-02d0b2b8-f072-4964-8e63-e23e4d09266e');\n",
       "        const dataTable =\n",
       "          await google.colab.kernel.invokeFunction('convertToInteractive',\n",
       "                                                    [key], {});\n",
       "        if (!dataTable) return;\n",
       "\n",
       "        const docLinkHtml = 'Like what you see? Visit the ' +\n",
       "          '<a target=\"_blank\" href=https://colab.research.google.com/notebooks/data_table.ipynb>data table notebook</a>'\n",
       "          + ' to learn more about interactive tables.';\n",
       "        element.innerHTML = '';\n",
       "        dataTable['output_type'] = 'display_data';\n",
       "        await google.colab.output.renderOutput(dataTable, element);\n",
       "        const docLink = document.createElement('div');\n",
       "        docLink.innerHTML = docLinkHtml;\n",
       "        element.appendChild(docLink);\n",
       "      }\n",
       "    </script>\n",
       "  </div>\n",
       "\n",
       "\n",
       "<div id=\"df-1e883c34-d8d9-4c8f-8ce5-cb75fd014923\">\n",
       "  <button class=\"colab-df-quickchart\" onclick=\"quickchart('df-1e883c34-d8d9-4c8f-8ce5-cb75fd014923')\"\n",
       "            title=\"Suggest charts\"\n",
       "            style=\"display:none;\">\n",
       "\n",
       "<svg xmlns=\"http://www.w3.org/2000/svg\" height=\"24px\"viewBox=\"0 0 24 24\"\n",
       "     width=\"24px\">\n",
       "    <g>\n",
       "        <path d=\"M19 3H5c-1.1 0-2 .9-2 2v14c0 1.1.9 2 2 2h14c1.1 0 2-.9 2-2V5c0-1.1-.9-2-2-2zM9 17H7v-7h2v7zm4 0h-2V7h2v10zm4 0h-2v-4h2v4z\"/>\n",
       "    </g>\n",
       "</svg>\n",
       "  </button>\n",
       "\n",
       "<style>\n",
       "  .colab-df-quickchart {\n",
       "      --bg-color: #E8F0FE;\n",
       "      --fill-color: #1967D2;\n",
       "      --hover-bg-color: #E2EBFA;\n",
       "      --hover-fill-color: #174EA6;\n",
       "      --disabled-fill-color: #AAA;\n",
       "      --disabled-bg-color: #DDD;\n",
       "  }\n",
       "\n",
       "  [theme=dark] .colab-df-quickchart {\n",
       "      --bg-color: #3B4455;\n",
       "      --fill-color: #D2E3FC;\n",
       "      --hover-bg-color: #434B5C;\n",
       "      --hover-fill-color: #FFFFFF;\n",
       "      --disabled-bg-color: #3B4455;\n",
       "      --disabled-fill-color: #666;\n",
       "  }\n",
       "\n",
       "  .colab-df-quickchart {\n",
       "    background-color: var(--bg-color);\n",
       "    border: none;\n",
       "    border-radius: 50%;\n",
       "    cursor: pointer;\n",
       "    display: none;\n",
       "    fill: var(--fill-color);\n",
       "    height: 32px;\n",
       "    padding: 0;\n",
       "    width: 32px;\n",
       "  }\n",
       "\n",
       "  .colab-df-quickchart:hover {\n",
       "    background-color: var(--hover-bg-color);\n",
       "    box-shadow: 0 1px 2px rgba(60, 64, 67, 0.3), 0 1px 3px 1px rgba(60, 64, 67, 0.15);\n",
       "    fill: var(--button-hover-fill-color);\n",
       "  }\n",
       "\n",
       "  .colab-df-quickchart-complete:disabled,\n",
       "  .colab-df-quickchart-complete:disabled:hover {\n",
       "    background-color: var(--disabled-bg-color);\n",
       "    fill: var(--disabled-fill-color);\n",
       "    box-shadow: none;\n",
       "  }\n",
       "\n",
       "  .colab-df-spinner {\n",
       "    border: 2px solid var(--fill-color);\n",
       "    border-color: transparent;\n",
       "    border-bottom-color: var(--fill-color);\n",
       "    animation:\n",
       "      spin 1s steps(1) infinite;\n",
       "  }\n",
       "\n",
       "  @keyframes spin {\n",
       "    0% {\n",
       "      border-color: transparent;\n",
       "      border-bottom-color: var(--fill-color);\n",
       "      border-left-color: var(--fill-color);\n",
       "    }\n",
       "    20% {\n",
       "      border-color: transparent;\n",
       "      border-left-color: var(--fill-color);\n",
       "      border-top-color: var(--fill-color);\n",
       "    }\n",
       "    30% {\n",
       "      border-color: transparent;\n",
       "      border-left-color: var(--fill-color);\n",
       "      border-top-color: var(--fill-color);\n",
       "      border-right-color: var(--fill-color);\n",
       "    }\n",
       "    40% {\n",
       "      border-color: transparent;\n",
       "      border-right-color: var(--fill-color);\n",
       "      border-top-color: var(--fill-color);\n",
       "    }\n",
       "    60% {\n",
       "      border-color: transparent;\n",
       "      border-right-color: var(--fill-color);\n",
       "    }\n",
       "    80% {\n",
       "      border-color: transparent;\n",
       "      border-right-color: var(--fill-color);\n",
       "      border-bottom-color: var(--fill-color);\n",
       "    }\n",
       "    90% {\n",
       "      border-color: transparent;\n",
       "      border-bottom-color: var(--fill-color);\n",
       "    }\n",
       "  }\n",
       "</style>\n",
       "\n",
       "  <script>\n",
       "    async function quickchart(key) {\n",
       "      const quickchartButtonEl =\n",
       "        document.querySelector('#' + key + ' button');\n",
       "      quickchartButtonEl.disabled = true;  // To prevent multiple clicks.\n",
       "      quickchartButtonEl.classList.add('colab-df-spinner');\n",
       "      try {\n",
       "        const charts = await google.colab.kernel.invokeFunction(\n",
       "            'suggestCharts', [key], {});\n",
       "      } catch (error) {\n",
       "        console.error('Error during call to suggestCharts:', error);\n",
       "      }\n",
       "      quickchartButtonEl.classList.remove('colab-df-spinner');\n",
       "      quickchartButtonEl.classList.add('colab-df-quickchart-complete');\n",
       "    }\n",
       "    (() => {\n",
       "      let quickchartButtonEl =\n",
       "        document.querySelector('#df-1e883c34-d8d9-4c8f-8ce5-cb75fd014923 button');\n",
       "      quickchartButtonEl.style.display =\n",
       "        google.colab.kernel.accessAllowed ? 'block' : 'none';\n",
       "    })();\n",
       "  </script>\n",
       "</div>\n",
       "    </div>\n",
       "  </div>\n"
      ],
      "text/plain": [
       "                                         review_body sentiment\n",
       "0            Great tv signal very good buy.I like it  Positive\n",
       "1         Good sound. Fine Material. Simply perfect!  Positive\n",
       "2  looks good as shown lots of base. BTW fast shi...  Positive\n",
       "3  This player is totally awesome! I has all the ...  Positive\n",
       "4  Very quick delivery and high quality. Sound is...  Positive\n",
       "5                                            Awesome  Positive\n",
       "6  Extremely nice quality, especially for the pri...  Positive\n",
       "7  Identical to the one from Verizon that we some...  Positive\n",
       "8  These are so handy and sound really awesome! P...  Positive\n",
       "9                                       Works great!  Positive"
      ]
     },
     "execution_count": 5,
     "metadata": {},
     "output_type": "execute_result"
    }
   ],
   "source": [
    "# Actually we only need the content(i.e. review) & the sentiment for classification\n",
    "df = df[[\"review_body\", \"sentiment\"]]\n",
    "df.head(10)"
   ]
  },
  {
   "cell_type": "code",
   "execution_count": 6,
   "metadata": {
    "executionInfo": {
     "elapsed": 220,
     "status": "ok",
     "timestamp": 1715881085818,
     "user": {
      "displayName": "Jahanvi Panchal",
      "userId": "01209420393961994162"
     },
     "user_tz": -120
    },
    "id": "96yOinBJi2dC",
    "scrolled": true
   },
   "outputs": [],
   "source": [
    "# Text normalization\n",
    "def normalize_text(text):\n",
    "    # Convert text to lowercase\n",
    "    text = text.lower()\n",
    "    return text\n",
    "\n",
    "# Removing punctuation (not used)\n",
    "def remove_punctuation(text):\n",
    "    text = str(text)\n",
    "    punctuations = string.punctuation\n",
    "    return text.translate(str.maketrans('', '', punctuations))\n",
    "\n",
    "# Removing special characters (not used)\n",
    "def remove_spec_char(text):\n",
    "    text = str(text)\n",
    "    text = re.sub('[^a-zA-Z0-9]', ' ', text)\n",
    "    text = re.sub('\\s+', ' ', text)\n",
    "    return text\n",
    "\n",
    "# Tokenization & Stopword removal\n",
    "def remove_stopwords(text):\n",
    "    stop_words = set(stopwords.words('english'))\n",
    "    tokens = word_tokenize(text)\n",
    "    return ' '.join([word for word in tokens if word not in stop_words])\n",
    "\n",
    "# Lemmatization (not used)\n",
    "def lemmatize_text(text):\n",
    "    tokens = word_tokenize(text)\n",
    "    lemmatizer = WordNetLemmatizer()\n",
    "    return ' '.join([lemmatizer.lemmatize(word) for word in tokens])\n",
    "    #return lemmatized_tokens\n",
    "\n",
    "# Stemming\n",
    "def stem_words(text):\n",
    "    ps = PorterStemmer()\n",
    "    return ' '.join([ps.stem(word) for word in text.split()])\n"
   ]
  },
  {
   "cell_type": "code",
   "execution_count": 7,
   "metadata": {
    "executionInfo": {
     "elapsed": 12549,
     "status": "ok",
     "timestamp": 1715881102625,
     "user": {
      "displayName": "Jahanvi Panchal",
      "userId": "01209420393961994162"
     },
     "user_tz": -120
    },
    "id": "fFCd-MRii2dF"
   },
   "outputs": [],
   "source": [
    "# Apply preprocessing steps\n",
    "\n",
    "# lowercase words, remove punctuation & special characters\n",
    "df[\"review_body\"] = df[\"review_body\"].apply(normalize_text)\n",
    "#df[\"review_body\"] = df[\"review_body\"].apply(remove_punctuation)\n",
    "#df[\"review_body\"] = df[\"review_body\"].apply(remove_spec_char)\n",
    "\n",
    "#tokenization and stopwords removal, stemming or lemmatization\n",
    "df[\"review_body\"] = df[\"review_body\"].apply(remove_stopwords)\n",
    "#df[\"review_body\"] = df[\"review_body\"].apply(lemmatize_text)\n",
    "df[\"review_body\"] = df[\"review_body\"].apply(stem_words)"
   ]
  },
  {
   "cell_type": "code",
   "execution_count": 8,
   "metadata": {
    "colab": {
     "base_uri": "https://localhost:8080/",
     "height": 363
    },
    "executionInfo": {
     "elapsed": 218,
     "status": "ok",
     "timestamp": 1715881111285,
     "user": {
      "displayName": "Jahanvi Panchal",
      "userId": "01209420393961994162"
     },
     "user_tz": -120
    },
    "id": "-LJPfJ55i2dI",
    "outputId": "846d5592-f59f-4a05-b776-063f4da6b87e",
    "scrolled": true
   },
   "outputs": [
    {
     "data": {
      "application/vnd.google.colaboratory.intrinsic+json": {
       "summary": "{\n  \"name\": \"df\",\n  \"rows\": 9999,\n  \"fields\": [\n    {\n      \"column\": \"review_body\",\n      \"properties\": {\n        \"dtype\": \"string\",\n        \"num_unique_values\": 9053,\n        \"samples\": [\n          \"holi smoke receiv sound amaz ! super easi setup , even better super easi oper . two small children low volum sound qualiti even tv view realli import . receiv incred job produc dynam rang sound low volum . sound great turn 11 listen alic chain , main concern well daili show hous card sound daili basi definit exceed expect . 'm run 5.1 system mordant short front center channel , cambridg audio rear channel martinlogan subwoof ( purchas amazon ) could n't happier .\",\n          \"great price , batteri work perfect , easi instal , problem fast ship .\",\n          \"great price . buy\"\n        ],\n        \"semantic_type\": \"\",\n        \"description\": \"\"\n      }\n    },\n    {\n      \"column\": \"sentiment\",\n      \"properties\": {\n        \"dtype\": \"category\",\n        \"num_unique_values\": 3,\n        \"samples\": [\n          \"Positive\",\n          \"Negative\",\n          \"Neutral\"\n        ],\n        \"semantic_type\": \"\",\n        \"description\": \"\"\n      }\n    }\n  ]\n}",
       "type": "dataframe",
       "variable_name": "df"
      },
      "text/html": [
       "\n",
       "  <div id=\"df-b041bd23-5444-4640-8b2f-a1ded0782b37\" class=\"colab-df-container\">\n",
       "    <div>\n",
       "<style scoped>\n",
       "    .dataframe tbody tr th:only-of-type {\n",
       "        vertical-align: middle;\n",
       "    }\n",
       "\n",
       "    .dataframe tbody tr th {\n",
       "        vertical-align: top;\n",
       "    }\n",
       "\n",
       "    .dataframe thead th {\n",
       "        text-align: right;\n",
       "    }\n",
       "</style>\n",
       "<table border=\"1\" class=\"dataframe\">\n",
       "  <thead>\n",
       "    <tr style=\"text-align: right;\">\n",
       "      <th></th>\n",
       "      <th>review_body</th>\n",
       "      <th>sentiment</th>\n",
       "    </tr>\n",
       "  </thead>\n",
       "  <tbody>\n",
       "    <tr>\n",
       "      <th>0</th>\n",
       "      <td>great tv signal good buy.i like</td>\n",
       "      <td>Positive</td>\n",
       "    </tr>\n",
       "    <tr>\n",
       "      <th>1</th>\n",
       "      <td>good sound . fine materi . simpli perfect !</td>\n",
       "      <td>Positive</td>\n",
       "    </tr>\n",
       "    <tr>\n",
       "      <th>2</th>\n",
       "      <td>look good shown lot base . btw fast ship recei...</td>\n",
       "      <td>Positive</td>\n",
       "    </tr>\n",
       "    <tr>\n",
       "      <th>3</th>\n",
       "      <td>player total awesom ! featur need , ( somehow ...</td>\n",
       "      <td>Positive</td>\n",
       "    </tr>\n",
       "    <tr>\n",
       "      <th>4</th>\n",
       "      <td>quick deliveri high qualiti . sound great cabl...</td>\n",
       "      <td>Positive</td>\n",
       "    </tr>\n",
       "    <tr>\n",
       "      <th>5</th>\n",
       "      <td>awesom</td>\n",
       "      <td>Positive</td>\n",
       "    </tr>\n",
       "    <tr>\n",
       "      <th>6</th>\n",
       "      <td>extrem nice qualiti , especi price . boyfriend...</td>\n",
       "      <td>Positive</td>\n",
       "    </tr>\n",
       "    <tr>\n",
       "      <th>7</th>\n",
       "      <td>ident one verizon somehow misplac , fraction c...</td>\n",
       "      <td>Positive</td>\n",
       "    </tr>\n",
       "    <tr>\n",
       "      <th>8</th>\n",
       "      <td>handi sound realli awesom ! perfect phone game...</td>\n",
       "      <td>Positive</td>\n",
       "    </tr>\n",
       "    <tr>\n",
       "      <th>9</th>\n",
       "      <td>work great !</td>\n",
       "      <td>Positive</td>\n",
       "    </tr>\n",
       "  </tbody>\n",
       "</table>\n",
       "</div>\n",
       "    <div class=\"colab-df-buttons\">\n",
       "\n",
       "  <div class=\"colab-df-container\">\n",
       "    <button class=\"colab-df-convert\" onclick=\"convertToInteractive('df-b041bd23-5444-4640-8b2f-a1ded0782b37')\"\n",
       "            title=\"Convert this dataframe to an interactive table.\"\n",
       "            style=\"display:none;\">\n",
       "\n",
       "  <svg xmlns=\"http://www.w3.org/2000/svg\" height=\"24px\" viewBox=\"0 -960 960 960\">\n",
       "    <path d=\"M120-120v-720h720v720H120Zm60-500h600v-160H180v160Zm220 220h160v-160H400v160Zm0 220h160v-160H400v160ZM180-400h160v-160H180v160Zm440 0h160v-160H620v160ZM180-180h160v-160H180v160Zm440 0h160v-160H620v160Z\"/>\n",
       "  </svg>\n",
       "    </button>\n",
       "\n",
       "  <style>\n",
       "    .colab-df-container {\n",
       "      display:flex;\n",
       "      gap: 12px;\n",
       "    }\n",
       "\n",
       "    .colab-df-convert {\n",
       "      background-color: #E8F0FE;\n",
       "      border: none;\n",
       "      border-radius: 50%;\n",
       "      cursor: pointer;\n",
       "      display: none;\n",
       "      fill: #1967D2;\n",
       "      height: 32px;\n",
       "      padding: 0 0 0 0;\n",
       "      width: 32px;\n",
       "    }\n",
       "\n",
       "    .colab-df-convert:hover {\n",
       "      background-color: #E2EBFA;\n",
       "      box-shadow: 0px 1px 2px rgba(60, 64, 67, 0.3), 0px 1px 3px 1px rgba(60, 64, 67, 0.15);\n",
       "      fill: #174EA6;\n",
       "    }\n",
       "\n",
       "    .colab-df-buttons div {\n",
       "      margin-bottom: 4px;\n",
       "    }\n",
       "\n",
       "    [theme=dark] .colab-df-convert {\n",
       "      background-color: #3B4455;\n",
       "      fill: #D2E3FC;\n",
       "    }\n",
       "\n",
       "    [theme=dark] .colab-df-convert:hover {\n",
       "      background-color: #434B5C;\n",
       "      box-shadow: 0px 1px 3px 1px rgba(0, 0, 0, 0.15);\n",
       "      filter: drop-shadow(0px 1px 2px rgba(0, 0, 0, 0.3));\n",
       "      fill: #FFFFFF;\n",
       "    }\n",
       "  </style>\n",
       "\n",
       "    <script>\n",
       "      const buttonEl =\n",
       "        document.querySelector('#df-b041bd23-5444-4640-8b2f-a1ded0782b37 button.colab-df-convert');\n",
       "      buttonEl.style.display =\n",
       "        google.colab.kernel.accessAllowed ? 'block' : 'none';\n",
       "\n",
       "      async function convertToInteractive(key) {\n",
       "        const element = document.querySelector('#df-b041bd23-5444-4640-8b2f-a1ded0782b37');\n",
       "        const dataTable =\n",
       "          await google.colab.kernel.invokeFunction('convertToInteractive',\n",
       "                                                    [key], {});\n",
       "        if (!dataTable) return;\n",
       "\n",
       "        const docLinkHtml = 'Like what you see? Visit the ' +\n",
       "          '<a target=\"_blank\" href=https://colab.research.google.com/notebooks/data_table.ipynb>data table notebook</a>'\n",
       "          + ' to learn more about interactive tables.';\n",
       "        element.innerHTML = '';\n",
       "        dataTable['output_type'] = 'display_data';\n",
       "        await google.colab.output.renderOutput(dataTable, element);\n",
       "        const docLink = document.createElement('div');\n",
       "        docLink.innerHTML = docLinkHtml;\n",
       "        element.appendChild(docLink);\n",
       "      }\n",
       "    </script>\n",
       "  </div>\n",
       "\n",
       "\n",
       "<div id=\"df-3e73e2a5-7330-4966-a7e6-75efb9b9733e\">\n",
       "  <button class=\"colab-df-quickchart\" onclick=\"quickchart('df-3e73e2a5-7330-4966-a7e6-75efb9b9733e')\"\n",
       "            title=\"Suggest charts\"\n",
       "            style=\"display:none;\">\n",
       "\n",
       "<svg xmlns=\"http://www.w3.org/2000/svg\" height=\"24px\"viewBox=\"0 0 24 24\"\n",
       "     width=\"24px\">\n",
       "    <g>\n",
       "        <path d=\"M19 3H5c-1.1 0-2 .9-2 2v14c0 1.1.9 2 2 2h14c1.1 0 2-.9 2-2V5c0-1.1-.9-2-2-2zM9 17H7v-7h2v7zm4 0h-2V7h2v10zm4 0h-2v-4h2v4z\"/>\n",
       "    </g>\n",
       "</svg>\n",
       "  </button>\n",
       "\n",
       "<style>\n",
       "  .colab-df-quickchart {\n",
       "      --bg-color: #E8F0FE;\n",
       "      --fill-color: #1967D2;\n",
       "      --hover-bg-color: #E2EBFA;\n",
       "      --hover-fill-color: #174EA6;\n",
       "      --disabled-fill-color: #AAA;\n",
       "      --disabled-bg-color: #DDD;\n",
       "  }\n",
       "\n",
       "  [theme=dark] .colab-df-quickchart {\n",
       "      --bg-color: #3B4455;\n",
       "      --fill-color: #D2E3FC;\n",
       "      --hover-bg-color: #434B5C;\n",
       "      --hover-fill-color: #FFFFFF;\n",
       "      --disabled-bg-color: #3B4455;\n",
       "      --disabled-fill-color: #666;\n",
       "  }\n",
       "\n",
       "  .colab-df-quickchart {\n",
       "    background-color: var(--bg-color);\n",
       "    border: none;\n",
       "    border-radius: 50%;\n",
       "    cursor: pointer;\n",
       "    display: none;\n",
       "    fill: var(--fill-color);\n",
       "    height: 32px;\n",
       "    padding: 0;\n",
       "    width: 32px;\n",
       "  }\n",
       "\n",
       "  .colab-df-quickchart:hover {\n",
       "    background-color: var(--hover-bg-color);\n",
       "    box-shadow: 0 1px 2px rgba(60, 64, 67, 0.3), 0 1px 3px 1px rgba(60, 64, 67, 0.15);\n",
       "    fill: var(--button-hover-fill-color);\n",
       "  }\n",
       "\n",
       "  .colab-df-quickchart-complete:disabled,\n",
       "  .colab-df-quickchart-complete:disabled:hover {\n",
       "    background-color: var(--disabled-bg-color);\n",
       "    fill: var(--disabled-fill-color);\n",
       "    box-shadow: none;\n",
       "  }\n",
       "\n",
       "  .colab-df-spinner {\n",
       "    border: 2px solid var(--fill-color);\n",
       "    border-color: transparent;\n",
       "    border-bottom-color: var(--fill-color);\n",
       "    animation:\n",
       "      spin 1s steps(1) infinite;\n",
       "  }\n",
       "\n",
       "  @keyframes spin {\n",
       "    0% {\n",
       "      border-color: transparent;\n",
       "      border-bottom-color: var(--fill-color);\n",
       "      border-left-color: var(--fill-color);\n",
       "    }\n",
       "    20% {\n",
       "      border-color: transparent;\n",
       "      border-left-color: var(--fill-color);\n",
       "      border-top-color: var(--fill-color);\n",
       "    }\n",
       "    30% {\n",
       "      border-color: transparent;\n",
       "      border-left-color: var(--fill-color);\n",
       "      border-top-color: var(--fill-color);\n",
       "      border-right-color: var(--fill-color);\n",
       "    }\n",
       "    40% {\n",
       "      border-color: transparent;\n",
       "      border-right-color: var(--fill-color);\n",
       "      border-top-color: var(--fill-color);\n",
       "    }\n",
       "    60% {\n",
       "      border-color: transparent;\n",
       "      border-right-color: var(--fill-color);\n",
       "    }\n",
       "    80% {\n",
       "      border-color: transparent;\n",
       "      border-right-color: var(--fill-color);\n",
       "      border-bottom-color: var(--fill-color);\n",
       "    }\n",
       "    90% {\n",
       "      border-color: transparent;\n",
       "      border-bottom-color: var(--fill-color);\n",
       "    }\n",
       "  }\n",
       "</style>\n",
       "\n",
       "  <script>\n",
       "    async function quickchart(key) {\n",
       "      const quickchartButtonEl =\n",
       "        document.querySelector('#' + key + ' button');\n",
       "      quickchartButtonEl.disabled = true;  // To prevent multiple clicks.\n",
       "      quickchartButtonEl.classList.add('colab-df-spinner');\n",
       "      try {\n",
       "        const charts = await google.colab.kernel.invokeFunction(\n",
       "            'suggestCharts', [key], {});\n",
       "      } catch (error) {\n",
       "        console.error('Error during call to suggestCharts:', error);\n",
       "      }\n",
       "      quickchartButtonEl.classList.remove('colab-df-spinner');\n",
       "      quickchartButtonEl.classList.add('colab-df-quickchart-complete');\n",
       "    }\n",
       "    (() => {\n",
       "      let quickchartButtonEl =\n",
       "        document.querySelector('#df-3e73e2a5-7330-4966-a7e6-75efb9b9733e button');\n",
       "      quickchartButtonEl.style.display =\n",
       "        google.colab.kernel.accessAllowed ? 'block' : 'none';\n",
       "    })();\n",
       "  </script>\n",
       "</div>\n",
       "    </div>\n",
       "  </div>\n"
      ],
      "text/plain": [
       "                                         review_body sentiment\n",
       "0                    great tv signal good buy.i like  Positive\n",
       "1        good sound . fine materi . simpli perfect !  Positive\n",
       "2  look good shown lot base . btw fast ship recei...  Positive\n",
       "3  player total awesom ! featur need , ( somehow ...  Positive\n",
       "4  quick deliveri high qualiti . sound great cabl...  Positive\n",
       "5                                             awesom  Positive\n",
       "6  extrem nice qualiti , especi price . boyfriend...  Positive\n",
       "7  ident one verizon somehow misplac , fraction c...  Positive\n",
       "8  handi sound realli awesom ! perfect phone game...  Positive\n",
       "9                                       work great !  Positive"
      ]
     },
     "execution_count": 8,
     "metadata": {},
     "output_type": "execute_result"
    }
   ],
   "source": [
    "df.head(10)"
   ]
  },
  {
   "cell_type": "markdown",
   "metadata": {
    "id": "GZd8qumZi2dL"
   },
   "source": [
    "## Train/Validation/Test Split"
   ]
  },
  {
   "cell_type": "code",
   "execution_count": 9,
   "metadata": {
    "colab": {
     "base_uri": "https://localhost:8080/"
    },
    "executionInfo": {
     "elapsed": 204,
     "status": "ok",
     "timestamp": 1715881115270,
     "user": {
      "displayName": "Jahanvi Panchal",
      "userId": "01209420393961994162"
     },
     "user_tz": -120
    },
    "id": "N18_gEGii2dN",
    "outputId": "faca852e-6bde-49fd-bb93-1cc56ca0a50b"
   },
   "outputs": [
    {
     "name": "stdout",
     "output_type": "stream",
     "text": [
      "y_train: (7999,)/ x_train: (7999,)\n",
      "y_train: (1000,)/ x_train: (1000,)\n",
      "y_test: (1000,)/ x_test: (1000,)\n"
     ]
    }
   ],
   "source": [
    "# split into train, val and test data\n",
    "X_train, X_test = train_test_split(df, test_size=0.2, random_state = 42, stratify=df['sentiment'])\n",
    "X_val, X_test = train_test_split(X_test, test_size=0.5, random_state = 42, stratify=X_test['sentiment'])\n",
    "\n",
    "\n",
    "y_train = X_train['sentiment']\n",
    "y_val = X_val['sentiment']\n",
    "y_test = X_test['sentiment']\n",
    "\n",
    "\n",
    "X_train.drop(columns = ['sentiment'], inplace= True)\n",
    "X_val.drop(columns = ['sentiment'], inplace= True)\n",
    "X_test.drop(columns = ['sentiment'], inplace= True)\n",
    "X_train = X_train['review_body']\n",
    "X_val = X_val['review_body']\n",
    "X_test = X_test['review_body']\n",
    "\n",
    "\n",
    "print (f\"y_train: {y_train.shape}/ x_train: {X_train.shape}\")\n",
    "print (f\"y_train: {y_val.shape}/ x_train: {X_val.shape}\")\n",
    "print (f\"y_test: {y_test.shape}/ x_test: {X_test.shape}\")\n",
    "\n"
   ]
  },
  {
   "cell_type": "markdown",
   "metadata": {
    "id": "v6iq1fUEi2dT"
   },
   "source": [
    "## Count Vectorization  "
   ]
  },
  {
   "cell_type": "code",
   "execution_count": 10,
   "metadata": {
    "colab": {
     "base_uri": "https://localhost:8080/"
    },
    "executionInfo": {
     "elapsed": 506,
     "status": "ok",
     "timestamp": 1715881119406,
     "user": {
      "displayName": "Jahanvi Panchal",
      "userId": "01209420393961994162"
     },
     "user_tz": -120
    },
    "id": "QEsAwfQii2dU",
    "outputId": "31fc2c66-c12a-4bda-f10f-d06ff4c897be"
   },
   "outputs": [
    {
     "name": "stdout",
     "output_type": "stream",
     "text": [
      "number of terms: 9114\n"
     ]
    }
   ],
   "source": [
    "# creating count vectors\n",
    "count_vectorizer = CountVectorizer()\n",
    "\n",
    "X_train_count = count_vectorizer.fit_transform(X_train)\n",
    "X_val_count = count_vectorizer.transform(X_val)\n",
    "X_test_count = count_vectorizer.transform(X_test)\n",
    "\n",
    "print(f\"number of terms: {len(count_vectorizer.get_feature_names_out())}\")"
   ]
  },
  {
   "cell_type": "markdown",
   "metadata": {
    "id": "CxfVXY8Wi2dW"
   },
   "source": [
    "## Balancing Methods (used in Pipeline)"
   ]
  },
  {
   "cell_type": "code",
   "execution_count": 11,
   "metadata": {
    "executionInfo": {
     "elapsed": 199,
     "status": "ok",
     "timestamp": 1715881123345,
     "user": {
      "displayName": "Jahanvi Panchal",
      "userId": "01209420393961994162"
     },
     "user_tz": -120
    },
    "id": "tQIXFO8_i2dY"
   },
   "outputs": [],
   "source": [
    "# Define oversampling and undersampling techniques\n",
    "oversampler = RandomOverSampler(random_state=42)\n",
    "undersampler = RandomUnderSampler(random_state=42)\n",
    "balancing = oversampler"
   ]
  },
  {
   "cell_type": "markdown",
   "metadata": {
    "id": "8_K6Ts1Ji2da"
   },
   "source": [
    "## Naive Bayes"
   ]
  },
  {
   "cell_type": "code",
   "execution_count": 12,
   "metadata": {
    "colab": {
     "base_uri": "https://localhost:8080/"
    },
    "executionInfo": {
     "elapsed": 5819,
     "status": "ok",
     "timestamp": 1715881149101,
     "user": {
      "displayName": "Jahanvi Panchal",
      "userId": "01209420393961994162"
     },
     "user_tz": -120
    },
    "id": "zERh7PkVi2db",
    "outputId": "8f0e0ed3-f31a-4558-feb9-456264e7eaa9",
    "scrolled": true
   },
   "outputs": [
    {
     "name": "stderr",
     "output_type": "stream",
     "text": [
      "[I 2024-05-16 17:39:06,336] A new study created in memory with name: no-name-7f59e0ba-5fad-48dd-9796-e76654cc2749\n",
      "[I 2024-05-16 17:39:06,469] Trial 0 finished with value: 0.47770706929898765 and parameters: {'alpha': 84.55325033762426}. Best is trial 0 with value: 0.47770706929898765.\n",
      "[I 2024-05-16 17:39:06,518] Trial 1 finished with value: 0.39292327276299216 and parameters: {'alpha': 386.36305166545765}. Best is trial 0 with value: 0.47770706929898765.\n",
      "[I 2024-05-16 17:39:06,568] Trial 2 finished with value: 0.6396796788400535 and parameters: {'alpha': 17.60332307226462}. Best is trial 2 with value: 0.6396796788400535.\n",
      "[I 2024-05-16 17:39:06,619] Trial 3 finished with value: 0.7603244680851063 and parameters: {'alpha': 0.00844999098023753}. Best is trial 3 with value: 0.7603244680851063.\n",
      "[I 2024-05-16 17:39:06,670] Trial 4 finished with value: 0.45485599759982137 and parameters: {'alpha': 115.99142409225333}. Best is trial 3 with value: 0.7603244680851063.\n",
      "[I 2024-05-16 17:39:06,719] Trial 5 finished with value: 0.7597473925117824 and parameters: {'alpha': 0.0012113747468459324}. Best is trial 3 with value: 0.7603244680851063.\n",
      "[I 2024-05-16 17:39:06,772] Trial 6 finished with value: 0.5975519398813609 and parameters: {'alpha': 25.226551267913774}. Best is trial 3 with value: 0.7603244680851063.\n",
      "[I 2024-05-16 17:39:06,820] Trial 7 finished with value: 0.4144147301100883 and parameters: {'alpha': 281.81761916324064}. Best is trial 3 with value: 0.7603244680851063.\n",
      "[I 2024-05-16 17:39:06,873] Trial 8 finished with value: 0.7622130772180279 and parameters: {'alpha': 0.0033326054960086384}. Best is trial 8 with value: 0.7622130772180279.\n",
      "[I 2024-05-16 17:39:06,922] Trial 9 finished with value: 0.6473209771135986 and parameters: {'alpha': 16.971293035236137}. Best is trial 8 with value: 0.7622130772180279.\n",
      "[I 2024-05-16 17:39:06,975] Trial 10 finished with value: 0.7646193761911606 and parameters: {'alpha': 0.08365769605304085}. Best is trial 10 with value: 0.7646193761911606.\n",
      "[I 2024-05-16 17:39:07,030] Trial 11 finished with value: 0.7650906864490696 and parameters: {'alpha': 0.11439438027352207}. Best is trial 11 with value: 0.7650906864490696.\n",
      "[I 2024-05-16 17:39:07,114] Trial 12 finished with value: 0.7646193761911606 and parameters: {'alpha': 0.09076303903733227}. Best is trial 11 with value: 0.7650906864490696.\n",
      "[I 2024-05-16 17:39:07,181] Trial 13 finished with value: 0.7738220412910729 and parameters: {'alpha': 0.32998897270536587}. Best is trial 13 with value: 0.7738220412910729.\n",
      "[I 2024-05-16 17:39:07,246] Trial 14 finished with value: 0.7751529249321909 and parameters: {'alpha': 0.45273467360428205}. Best is trial 14 with value: 0.7751529249321909.\n",
      "[I 2024-05-16 17:39:07,300] Trial 15 finished with value: 0.7704285380277073 and parameters: {'alpha': 1.7271982584576335}. Best is trial 14 with value: 0.7751529249321909.\n",
      "[I 2024-05-16 17:39:07,353] Trial 16 finished with value: 0.775328304344994 and parameters: {'alpha': 1.0680690946445899}. Best is trial 16 with value: 0.775328304344994.\n",
      "[I 2024-05-16 17:39:07,413] Trial 17 finished with value: 0.7708795610356578 and parameters: {'alpha': 2.1162198360276214}. Best is trial 16 with value: 0.775328304344994.\n",
      "[I 2024-05-16 17:39:07,466] Trial 18 finished with value: 0.7593896633387508 and parameters: {'alpha': 0.021439218657190787}. Best is trial 16 with value: 0.775328304344994.\n",
      "[I 2024-05-16 17:39:07,518] Trial 19 finished with value: 0.7627552805054739 and parameters: {'alpha': 3.9436426433081064}. Best is trial 16 with value: 0.775328304344994.\n",
      "[I 2024-05-16 17:39:07,571] Trial 20 finished with value: 0.7749198477744301 and parameters: {'alpha': 0.37692842985649777}. Best is trial 16 with value: 0.775328304344994.\n",
      "[I 2024-05-16 17:39:07,627] Trial 21 finished with value: 0.7738730986768302 and parameters: {'alpha': 0.5397722755377569}. Best is trial 16 with value: 0.775328304344994.\n",
      "[I 2024-05-16 17:39:07,684] Trial 22 finished with value: 0.775798373362315 and parameters: {'alpha': 0.41183953736784656}. Best is trial 22 with value: 0.775798373362315.\n",
      "[I 2024-05-16 17:39:07,753] Trial 23 finished with value: 0.7575436369895846 and parameters: {'alpha': 5.190462600229569}. Best is trial 22 with value: 0.775798373362315.\n",
      "[I 2024-05-16 17:39:07,819] Trial 24 finished with value: 0.7593896633387508 and parameters: {'alpha': 0.031157996643909485}. Best is trial 22 with value: 0.775798373362315.\n",
      "[I 2024-05-16 17:39:07,876] Trial 25 finished with value: 0.7746586280775509 and parameters: {'alpha': 0.8985667404453024}. Best is trial 22 with value: 0.775798373362315.\n",
      "[I 2024-05-16 17:39:07,932] Trial 26 finished with value: 0.7721686023764622 and parameters: {'alpha': 0.29111380437838125}. Best is trial 22 with value: 0.775798373362315.\n",
      "[I 2024-05-16 17:39:07,986] Trial 27 finished with value: 0.7563353950334343 and parameters: {'alpha': 4.979055798876808}. Best is trial 22 with value: 0.775798373362315.\n",
      "[I 2024-05-16 17:39:08,042] Trial 28 finished with value: 0.7654782680110375 and parameters: {'alpha': 0.12540615529359644}. Best is trial 22 with value: 0.775798373362315.\n",
      "[I 2024-05-16 17:39:08,098] Trial 29 finished with value: 0.7593896633387508 and parameters: {'alpha': 0.022557800516527376}. Best is trial 22 with value: 0.775798373362315.\n",
      "[I 2024-05-16 17:39:08,153] Trial 30 finished with value: 0.7746586280775509 and parameters: {'alpha': 0.9288781571199035}. Best is trial 22 with value: 0.775798373362315.\n",
      "[I 2024-05-16 17:39:08,207] Trial 31 finished with value: 0.7725587574642959 and parameters: {'alpha': 0.302374504168473}. Best is trial 22 with value: 0.775798373362315.\n",
      "[I 2024-05-16 17:39:08,273] Trial 32 finished with value: 0.7706796004157392 and parameters: {'alpha': 2.04955041932022}. Best is trial 22 with value: 0.775798373362315.\n",
      "[I 2024-05-16 17:39:08,326] Trial 33 finished with value: 0.7688607061583855 and parameters: {'alpha': 0.18555617167365995}. Best is trial 22 with value: 0.775798373362315.\n",
      "[I 2024-05-16 17:39:08,380] Trial 34 finished with value: 0.7179440227559423 and parameters: {'alpha': 10.516888504077627}. Best is trial 22 with value: 0.775798373362315.\n",
      "[I 2024-05-16 17:39:08,434] Trial 35 finished with value: 0.761635313310214 and parameters: {'alpha': 0.05258368338461866}. Best is trial 22 with value: 0.775798373362315.\n",
      "[I 2024-05-16 17:39:08,487] Trial 36 finished with value: 0.7738730986768302 and parameters: {'alpha': 0.6300096721753745}. Best is trial 22 with value: 0.775798373362315.\n",
      "[I 2024-05-16 17:39:08,548] Trial 37 finished with value: 0.7603244680851063 and parameters: {'alpha': 0.008370675297426038}. Best is trial 22 with value: 0.775798373362315.\n",
      "[I 2024-05-16 17:39:08,603] Trial 38 finished with value: 0.775798373362315 and parameters: {'alpha': 0.3979727195575709}. Best is trial 22 with value: 0.775798373362315.\n",
      "[I 2024-05-16 17:39:08,660] Trial 39 finished with value: 0.48260001546464726 and parameters: {'alpha': 77.73808182422701}. Best is trial 22 with value: 0.775798373362315.\n",
      "[I 2024-05-16 17:39:08,719] Trial 40 finished with value: 0.7704285380277073 and parameters: {'alpha': 1.6568433916119165}. Best is trial 22 with value: 0.775798373362315.\n",
      "[I 2024-05-16 17:39:08,774] Trial 41 finished with value: 0.7738730986768302 and parameters: {'alpha': 0.5335151279742294}. Best is trial 22 with value: 0.775798373362315.\n",
      "[I 2024-05-16 17:39:08,828] Trial 42 finished with value: 0.7697173645421076 and parameters: {'alpha': 0.2147802249073681}. Best is trial 22 with value: 0.775798373362315.\n",
      "[I 2024-05-16 17:39:08,883] Trial 43 finished with value: 0.7642343798676773 and parameters: {'alpha': 0.05860476090369625}. Best is trial 22 with value: 0.775798373362315.\n",
      "[I 2024-05-16 17:39:08,936] Trial 44 finished with value: 0.775798373362315 and parameters: {'alpha': 0.41403456537346534}. Best is trial 22 with value: 0.775798373362315.\n",
      "[I 2024-05-16 17:39:08,993] Trial 45 finished with value: 0.775328304344994 and parameters: {'alpha': 1.006102970419414}. Best is trial 22 with value: 0.775798373362315.\n",
      "[I 2024-05-16 17:39:09,046] Trial 46 finished with value: 0.37405136750045276 and parameters: {'alpha': 763.743402380911}. Best is trial 22 with value: 0.775798373362315.\n",
      "[I 2024-05-16 17:39:09,099] Trial 47 finished with value: 0.7232506400607054 and parameters: {'alpha': 9.272915853954673}. Best is trial 22 with value: 0.775798373362315.\n",
      "[I 2024-05-16 17:39:09,154] Trial 48 finished with value: 0.542916096615115 and parameters: {'alpha': 43.42703676248808}. Best is trial 22 with value: 0.775798373362315.\n",
      "[I 2024-05-16 17:39:09,213] Trial 49 finished with value: 0.7777096732974453 and parameters: {'alpha': 1.205855507196238}. Best is trial 49 with value: 0.7777096732974453.\n",
      "[I 2024-05-16 17:39:09,280] Trial 50 finished with value: 0.768172316041458 and parameters: {'alpha': 3.125745913498315}. Best is trial 49 with value: 0.7777096732974453.\n",
      "[I 2024-05-16 17:39:09,336] Trial 51 finished with value: 0.7746586280775509 and parameters: {'alpha': 1.0811462369437022}. Best is trial 49 with value: 0.7777096732974453.\n",
      "[I 2024-05-16 17:39:09,393] Trial 52 finished with value: 0.7788758803522702 and parameters: {'alpha': 1.1461602037291925}. Best is trial 52 with value: 0.7788758803522702.\n",
      "[I 2024-05-16 17:39:09,448] Trial 53 finished with value: 0.7693302634381909 and parameters: {'alpha': 0.1753118220703977}. Best is trial 52 with value: 0.7788758803522702.\n",
      "[I 2024-05-16 17:39:09,502] Trial 54 finished with value: 0.7676638986013986 and parameters: {'alpha': 2.8932191678238928}. Best is trial 52 with value: 0.7788758803522702.\n",
      "[I 2024-05-16 17:39:09,558] Trial 55 finished with value: 0.7785790122761522 and parameters: {'alpha': 1.1954889068030539}. Best is trial 52 with value: 0.7788758803522702.\n",
      "[I 2024-05-16 17:39:09,617] Trial 56 finished with value: 0.7258969429393272 and parameters: {'alpha': 9.055418717956767}. Best is trial 52 with value: 0.7788758803522702.\n",
      "[I 2024-05-16 17:39:09,672] Trial 57 finished with value: 0.7709292698956121 and parameters: {'alpha': 1.6066872893466886}. Best is trial 52 with value: 0.7788758803522702.\n",
      "[I 2024-05-16 17:39:09,725] Trial 58 finished with value: 0.7732259498524787 and parameters: {'alpha': 0.6708198445721689}. Best is trial 52 with value: 0.7788758803522702.\n",
      "[I 2024-05-16 17:39:09,780] Trial 59 finished with value: 0.7654782680110375 and parameters: {'alpha': 0.12517301687805082}. Best is trial 52 with value: 0.7788758803522702.\n",
      "[I 2024-05-16 17:39:09,839] Trial 60 finished with value: 0.7568219263552014 and parameters: {'alpha': 5.935256876141061}. Best is trial 52 with value: 0.7788758803522702.\n",
      "[I 2024-05-16 17:39:09,892] Trial 61 finished with value: 0.7765350268634851 and parameters: {'alpha': 1.2551807314505639}. Best is trial 52 with value: 0.7788758803522702.\n",
      "[I 2024-05-16 17:39:09,947] Trial 62 finished with value: 0.7749198477744301 and parameters: {'alpha': 0.37328680654319263}. Best is trial 52 with value: 0.7788758803522702.\n",
      "[I 2024-05-16 17:39:10,003] Trial 63 finished with value: 0.7792510369798245 and parameters: {'alpha': 1.1570636110086092}. Best is trial 63 with value: 0.7792510369798245.\n",
      "[I 2024-05-16 17:39:10,056] Trial 64 finished with value: 0.7673720757188485 and parameters: {'alpha': 2.3906476824521006}. Best is trial 63 with value: 0.7792510369798245.\n",
      "[I 2024-05-16 17:39:10,110] Trial 65 finished with value: 0.7765350268634851 and parameters: {'alpha': 1.2555005569166275}. Best is trial 63 with value: 0.7792510369798245.\n",
      "[I 2024-05-16 17:39:10,175] Trial 66 finished with value: 0.7729871017835548 and parameters: {'alpha': 1.4117655773782274}. Best is trial 63 with value: 0.7792510369798245.\n",
      "[I 2024-05-16 17:39:10,235] Trial 67 finished with value: 0.7648709894443799 and parameters: {'alpha': 3.5987439518246798}. Best is trial 63 with value: 0.7792510369798245.\n",
      "[I 2024-05-16 17:39:10,303] Trial 68 finished with value: 0.7754341954495163 and parameters: {'alpha': 0.7065467494909518}. Best is trial 63 with value: 0.7792510369798245.\n",
      "[I 2024-05-16 17:39:10,359] Trial 69 finished with value: 0.6720887527818028 and parameters: {'alpha': 14.01763218473816}. Best is trial 63 with value: 0.7792510369798245.\n",
      "[I 2024-05-16 17:39:10,413] Trial 70 finished with value: 0.7476930088737984 and parameters: {'alpha': 6.905673022980501}. Best is trial 63 with value: 0.7792510369798245.\n",
      "[I 2024-05-16 17:39:10,467] Trial 71 finished with value: 0.7719279835462877 and parameters: {'alpha': 0.2505033753278769}. Best is trial 63 with value: 0.7792510369798245.\n",
      "[I 2024-05-16 17:39:10,523] Trial 72 finished with value: 0.7723109354381058 and parameters: {'alpha': 1.4253117221593192}. Best is trial 63 with value: 0.7792510369798245.\n",
      "[I 2024-05-16 17:39:10,576] Trial 73 finished with value: 0.7734736368966192 and parameters: {'alpha': 0.8707412052283501}. Best is trial 63 with value: 0.7792510369798245.\n",
      "[I 2024-05-16 17:39:10,638] Trial 74 finished with value: 0.7681368126848575 and parameters: {'alpha': 2.5268070450067683}. Best is trial 63 with value: 0.7792510369798245.\n",
      "[I 2024-05-16 17:39:10,692] Trial 75 finished with value: 0.7755982096861069 and parameters: {'alpha': 0.4928768992480373}. Best is trial 63 with value: 0.7792510369798245.\n",
      "[I 2024-05-16 17:39:10,745] Trial 76 finished with value: 0.7785790122761522 and parameters: {'alpha': 1.1734808138754724}. Best is trial 63 with value: 0.7792510369798245.\n",
      "[I 2024-05-16 17:39:10,798] Trial 77 finished with value: 0.7785790122761522 and parameters: {'alpha': 1.1700688566238593}. Best is trial 63 with value: 0.7792510369798245.\n",
      "[I 2024-05-16 17:39:10,852] Trial 78 finished with value: 0.7578046585557379 and parameters: {'alpha': 4.52519361932169}. Best is trial 63 with value: 0.7792510369798245.\n",
      "[I 2024-05-16 17:39:10,906] Trial 79 finished with value: 0.7702925634836632 and parameters: {'alpha': 2.0407614772430724}. Best is trial 63 with value: 0.7792510369798245.\n",
      "[I 2024-05-16 17:39:10,960] Trial 80 finished with value: 0.5988562117349265 and parameters: {'alpha': 24.754308572747743}. Best is trial 63 with value: 0.7792510369798245.\n",
      "[I 2024-05-16 17:39:11,014] Trial 81 finished with value: 0.7768409926062954 and parameters: {'alpha': 1.2149959839323365}. Best is trial 63 with value: 0.7792510369798245.\n",
      "[I 2024-05-16 17:39:11,069] Trial 82 finished with value: 0.775328304344994 and parameters: {'alpha': 1.0463342409805596}. Best is trial 63 with value: 0.7792510369798245.\n",
      "[I 2024-05-16 17:39:11,123] Trial 83 finished with value: 0.7765350268634851 and parameters: {'alpha': 1.2767684534881107}. Best is trial 63 with value: 0.7792510369798245.\n",
      "[I 2024-05-16 17:39:11,182] Trial 84 finished with value: 0.7754708035991311 and parameters: {'alpha': 0.766099037224969}. Best is trial 63 with value: 0.7792510369798245.\n",
      "[I 2024-05-16 17:39:11,237] Trial 85 finished with value: 0.7659598110170268 and parameters: {'alpha': 3.3957111970775062}. Best is trial 63 with value: 0.7792510369798245.\n",
      "[I 2024-05-16 17:39:11,293] Trial 86 finished with value: 0.7704285380277073 and parameters: {'alpha': 1.667746838423812}. Best is trial 63 with value: 0.7792510369798245.\n",
      "[I 2024-05-16 17:39:11,359] Trial 87 finished with value: 0.7738730986768302 and parameters: {'alpha': 0.5894789976445731}. Best is trial 63 with value: 0.7792510369798245.\n",
      "[I 2024-05-16 17:39:11,416] Trial 88 finished with value: 0.7768409926062954 and parameters: {'alpha': 1.223470919897018}. Best is trial 63 with value: 0.7792510369798245.\n",
      "[I 2024-05-16 17:39:11,471] Trial 89 finished with value: 0.7681491421465997 and parameters: {'alpha': 2.1601219437247616}. Best is trial 63 with value: 0.7792510369798245.\n",
      "[I 2024-05-16 17:39:11,529] Trial 90 finished with value: 0.7605955158983442 and parameters: {'alpha': 0.0021099220435109893}. Best is trial 63 with value: 0.7792510369798245.\n",
      "[I 2024-05-16 17:39:11,582] Trial 91 finished with value: 0.7765350268634851 and parameters: {'alpha': 1.256898329911064}. Best is trial 63 with value: 0.7792510369798245.\n",
      "[I 2024-05-16 17:39:11,638] Trial 92 finished with value: 0.7754708035991311 and parameters: {'alpha': 0.7935790806598182}. Best is trial 63 with value: 0.7792510369798245.\n",
      "[I 2024-05-16 17:39:11,691] Trial 93 finished with value: 0.7725587574642959 and parameters: {'alpha': 0.31092183877465873}. Best is trial 63 with value: 0.7792510369798245.\n",
      "[I 2024-05-16 17:39:11,749] Trial 94 finished with value: 0.7608126712512921 and parameters: {'alpha': 4.371200314961867}. Best is trial 63 with value: 0.7792510369798245.\n",
      "[I 2024-05-16 17:39:11,802] Trial 95 finished with value: 0.7695476599367339 and parameters: {'alpha': 2.772433808671425}. Best is trial 63 with value: 0.7792510369798245.\n",
      "[I 2024-05-16 17:39:11,856] Trial 96 finished with value: 0.7703420877887859 and parameters: {'alpha': 1.8708083623043303}. Best is trial 63 with value: 0.7792510369798245.\n",
      "[I 2024-05-16 17:39:11,913] Trial 97 finished with value: 0.7738730986768302 and parameters: {'alpha': 0.5865531805483173}. Best is trial 63 with value: 0.7792510369798245.\n",
      "[I 2024-05-16 17:39:11,974] Trial 98 finished with value: 0.7746586280775509 and parameters: {'alpha': 0.9391331805911084}. Best is trial 63 with value: 0.7792510369798245.\n",
      "[I 2024-05-16 17:39:12,032] Trial 99 finished with value: 0.7788758803522702 and parameters: {'alpha': 1.143730464148003}. Best is trial 63 with value: 0.7792510369798245.\n"
     ]
    },
    {
     "name": "stdout",
     "output_type": "stream",
     "text": [
      "Best Naive Bayes Hyperparameters: {'alpha': 1.1570636110086092}\n",
      "Naive Bayes F1 Score: 0.7792510369798245\n"
     ]
    }
   ],
   "source": [
    "# Define the objective function for hyperparameter optimization\n",
    "def objective_nb(trial):\n",
    "    alpha = trial.suggest_float('alpha', 1e-3, 1e3, log = True)\n",
    "    clf = MultinomialNB(alpha=alpha)\n",
    "    clf.fit(X_train_count_resampled, y_train_resampled)\n",
    "    f1 = f1_score(y_val, clf.predict(X_val_count), average=\"weighted\")\n",
    "    return f1\n",
    "\n",
    "\n",
    "# Define the hyperparameter optimization study\n",
    "study_nb = optuna.create_study(direction='maximize')\n",
    "\n",
    "# Define Naive Bayes pipeline with oversampling\n",
    "nb_pipeline = Pipeline([\n",
    "    ('balancing', balancing ),\n",
    "    ('classifier', MultinomialNB())\n",
    "])\n",
    "\n",
    "\n",
    "# Fit and optimize Naive Bayes pipeline\n",
    "nb_pipeline.fit(X_train_count, y_train)\n",
    "X_train_count_resampled, y_train_resampled = balancing.fit_resample(X_train_count, y_train)\n",
    "study_nb.optimize(objective_nb, n_trials=100)\n",
    "\n",
    "\n",
    "\n",
    "# Print the best hyperparameters and corresponding accuracies\n",
    "print(\"Best Naive Bayes Hyperparameters:\", study_nb.best_params)\n",
    "print(\"Naive Bayes F1 Score:\", study_nb.best_value)\n",
    "\n"
   ]
  },
  {
   "cell_type": "markdown",
   "metadata": {},
   "source": [
    "### Evaluating Model with best Hyperparameters on Test set "
   ]
  },
  {
   "cell_type": "code",
   "execution_count": 13,
   "metadata": {
    "colab": {
     "base_uri": "https://localhost:8080/"
    },
    "executionInfo": {
     "elapsed": 200,
     "status": "ok",
     "timestamp": 1715881154179,
     "user": {
      "displayName": "Jahanvi Panchal",
      "userId": "01209420393961994162"
     },
     "user_tz": -120
    },
    "id": "zZSqMa9Hi2de",
    "outputId": "bd340979-3caf-4581-fbe4-4e9e7b90b307"
   },
   "outputs": [
    {
     "name": "stdout",
     "output_type": "stream",
     "text": [
      "Naive Bayes F1 score on test set: 0.7699999999999999\n",
      "\n",
      "NB Classification Report:\n",
      "              precision    recall  f1-score   support\n",
      "\n",
      "    Negative       0.58      0.73      0.65       168\n",
      "     Neutral       0.18      0.28      0.22        69\n",
      "    Positive       0.92      0.82      0.87       763\n",
      "\n",
      "    accuracy                           0.77      1000\n",
      "   macro avg       0.56      0.61      0.58      1000\n",
      "weighted avg       0.81      0.77      0.79      1000\n",
      "\n"
     ]
    }
   ],
   "source": [
    "# Get the best hyperparameters\n",
    "best_alpha = study_nb.best_params['alpha']\n",
    "\n",
    "# Train the model with the best hyperparameters\n",
    "nb_model = MultinomialNB(alpha=best_alpha)\n",
    "nb_model.fit(X_train_count_resampled, y_train_resampled)\n",
    "\n",
    "# Evaluate the final model on the test set\n",
    "nb_pred = nb_model.predict(X_test_count)\n",
    "\n",
    "f1_test = f1_score(y_test, nb_pred, average='micro')\n",
    "print(\"Naive Bayes F1 score on test set:\", f1_test)\n",
    "print(\"\\nNB Classification Report:\")\n",
    "print(classification_report(y_test, nb_pred))"
   ]
  },
  {
   "cell_type": "markdown",
   "metadata": {
    "id": "becL3zl3i2dk"
   },
   "source": [
    "## SVM"
   ]
  },
  {
   "cell_type": "code",
   "execution_count": 18,
   "metadata": {
    "colab": {
     "base_uri": "https://localhost:8080/"
    },
    "executionInfo": {
     "elapsed": 3810318,
     "status": "ok",
     "timestamp": 1715885428072,
     "user": {
      "displayName": "Jahanvi Panchal",
      "userId": "01209420393961994162"
     },
     "user_tz": -120
    },
    "id": "8qadKiu2i2dm",
    "outputId": "9f308731-32df-44ed-e162-eaf1736e0951"
   },
   "outputs": [
    {
     "name": "stderr",
     "output_type": "stream",
     "text": [
      "[I 2024-05-16 17:47:00,812] A new study created in memory with name: no-name-9b78cb16-9a81-450c-8605-272fb755a7e9\n",
      "[I 2024-05-16 17:47:57,991] Trial 0 finished with value: 0.795730080581036 and parameters: {'C': 12.823795457517726, 'gamma': 0.03400040593618988}. Best is trial 0 with value: 0.795730080581036.\n",
      "[I 2024-05-16 17:48:26,363] Trial 1 finished with value: 0.8040227050244733 and parameters: {'C': 4.077006319748199, 'gamma': 0.010763681180202257}. Best is trial 1 with value: 0.8040227050244733.\n",
      "[I 2024-05-16 17:49:48,909] Trial 2 finished with value: 0.07049712860817192 and parameters: {'C': 0.014276195044310212, 'gamma': 45.80548872080507}. Best is trial 1 with value: 0.8040227050244733.\n",
      "[I 2024-05-16 17:51:22,763] Trial 3 finished with value: 0.6775139747962156 and parameters: {'C': 0.5086699610953508, 'gamma': 195.97239627838286}. Best is trial 1 with value: 0.8040227050244733.\n",
      "[I 2024-05-16 17:52:54,367] Trial 4 finished with value: 0.6775139747962156 and parameters: {'C': 10.585762787575106, 'gamma': 75.62249937658137}. Best is trial 1 with value: 0.8040227050244733.\n",
      "[I 2024-05-16 17:54:25,419] Trial 5 finished with value: 0.6775139747962156 and parameters: {'C': 98.3598291975904, 'gamma': 51.94679141491102}. Best is trial 1 with value: 0.8040227050244733.\n",
      "[I 2024-05-16 17:55:45,941] Trial 6 finished with value: 0.2003568166821795 and parameters: {'C': 0.09983740912312074, 'gamma': 12.840116691020038}. Best is trial 1 with value: 0.8040227050244733.\n",
      "[I 2024-05-16 17:57:31,865] Trial 7 finished with value: 0.6775139747962156 and parameters: {'C': 0.5140110505999433, 'gamma': 44.918498209877264}. Best is trial 1 with value: 0.8040227050244733.\n",
      "[I 2024-05-16 17:59:06,403] Trial 8 finished with value: 0.6861622414712163 and parameters: {'C': 0.4587892706310919, 'gamma': 1.1786192715424484}. Best is trial 1 with value: 0.8040227050244733.\n",
      "[I 2024-05-16 17:59:41,218] Trial 9 finished with value: 0.7889844109058555 and parameters: {'C': 0.8858729302253193, 'gamma': 0.07149953695714241}. Best is trial 1 with value: 0.8040227050244733.\n",
      "[I 2024-05-16 18:00:36,925] Trial 10 finished with value: 0.7007864819177406 and parameters: {'C': 525.7821432462025, 'gamma': 0.4765301638180645}. Best is trial 1 with value: 0.8040227050244733.\n",
      "[I 2024-05-16 18:01:00,257] Trial 11 finished with value: 0.8053736223688573 and parameters: {'C': 11.009504442346918, 'gamma': 0.014534864161400434}. Best is trial 11 with value: 0.8053736223688573.\n",
      "[I 2024-05-16 18:01:21,722] Trial 12 finished with value: 0.8080001699973496 and parameters: {'C': 14.182934738231854, 'gamma': 0.010204743152345526}. Best is trial 12 with value: 0.8080001699973496.\n",
      "[I 2024-05-16 18:02:02,968] Trial 13 finished with value: 0.730267572176069 and parameters: {'C': 55.988142150420565, 'gamma': 0.20424542295366413}. Best is trial 12 with value: 0.8080001699973496.\n",
      "[I 2024-05-16 18:02:22,704] Trial 14 finished with value: 0.8009662219271716 and parameters: {'C': 73.11264707176056, 'gamma': 0.013736245791910028}. Best is trial 12 with value: 0.8080001699973496.\n",
      "[I 2024-05-16 18:03:42,559] Trial 15 finished with value: 0.6775139747962156 and parameters: {'C': 358.6402862459778, 'gamma': 3.496892723123679}. Best is trial 12 with value: 0.8080001699973496.\n",
      "[I 2024-05-16 18:04:07,323] Trial 16 finished with value: 0.7735314074956579 and parameters: {'C': 9.27724584081463, 'gamma': 0.08885170475361734}. Best is trial 12 with value: 0.8080001699973496.\n",
      "[I 2024-05-16 18:04:27,613] Trial 17 finished with value: 0.796319806292828 and parameters: {'C': 31.465894279788607, 'gamma': 0.03565368229532205}. Best is trial 12 with value: 0.8080001699973496.\n",
      "[I 2024-05-16 18:05:21,999] Trial 18 finished with value: 0.7204906326304515 and parameters: {'C': 2.1207294191667754, 'gamma': 0.3347061084890195}. Best is trial 12 with value: 0.8080001699973496.\n",
      "[I 2024-05-16 18:06:45,744] Trial 19 finished with value: 0.6775139747962156 and parameters: {'C': 212.78731278339544, 'gamma': 2.1896496833819605}. Best is trial 12 with value: 0.8080001699973496.\n",
      "[I 2024-05-16 18:07:50,082] Trial 20 finished with value: 0.7522438020124457 and parameters: {'C': 0.1133101660037231, 'gamma': 0.011719207475119288}. Best is trial 12 with value: 0.8080001699973496.\n",
      "[I 2024-05-16 18:09:20,338] Trial 21 finished with value: 0.6775139747962156 and parameters: {'C': 3.436271982146909, 'gamma': 883.9989121605236}. Best is trial 12 with value: 0.8080001699973496.\n",
      "[I 2024-05-16 18:09:45,715] Trial 22 finished with value: 0.8044198308663302 and parameters: {'C': 5.2995544054048045, 'gamma': 0.011919995744561235}. Best is trial 12 with value: 0.8080001699973496.\n",
      "[I 2024-05-16 18:10:08,126] Trial 23 finished with value: 0.7965042182710861 and parameters: {'C': 14.067156806548246, 'gamma': 0.040466612518318755}. Best is trial 12 with value: 0.8080001699973496.\n",
      "[I 2024-05-16 18:10:35,814] Trial 24 finished with value: 0.7449592214118269 and parameters: {'C': 29.862634277613356, 'gamma': 0.13299791310256767}. Best is trial 12 with value: 0.8080001699973496.\n",
      "[I 2024-05-16 18:10:59,954] Trial 25 finished with value: 0.799239360680124 and parameters: {'C': 5.218448870323844, 'gamma': 0.031011571082786266}. Best is trial 12 with value: 0.8080001699973496.\n",
      "[I 2024-05-16 18:11:28,049] Trial 26 finished with value: 0.7943591429357774 and parameters: {'C': 2.3428739873696243, 'gamma': 0.024413286920606216}. Best is trial 12 with value: 0.8080001699973496.\n",
      "[I 2024-05-16 18:12:35,523] Trial 27 finished with value: 0.7020320574910169 and parameters: {'C': 1.5066774349702696, 'gamma': 0.48951025454259994}. Best is trial 12 with value: 0.8080001699973496.\n",
      "[I 2024-05-16 18:12:59,981] Trial 28 finished with value: 0.7737731539091666 and parameters: {'C': 29.09219894466903, 'gamma': 0.09159508942967184}. Best is trial 12 with value: 0.8080001699973496.\n",
      "[I 2024-05-16 18:13:18,744] Trial 29 finished with value: 0.7912573768745653 and parameters: {'C': 164.34812077894824, 'gamma': 0.017821855036991616}. Best is trial 12 with value: 0.8080001699973496.\n",
      "[I 2024-05-16 18:13:41,460] Trial 30 finished with value: 0.7876195109622797 and parameters: {'C': 19.387265674628008, 'gamma': 0.05118142021128475}. Best is trial 12 with value: 0.8080001699973496.\n",
      "[I 2024-05-16 18:14:08,467] Trial 31 finished with value: 0.804223794144862 and parameters: {'C': 5.218570462422434, 'gamma': 0.010642545472912572}. Best is trial 12 with value: 0.8080001699973496.\n",
      "[I 2024-05-16 18:14:33,483] Trial 32 finished with value: 0.803939874939875 and parameters: {'C': 7.085573196034559, 'gamma': 0.010147519638948754}. Best is trial 12 with value: 0.8080001699973496.\n",
      "[I 2024-05-16 18:14:58,825] Trial 33 finished with value: 0.8030573100194108 and parameters: {'C': 3.839041445871534, 'gamma': 0.02159253220302716}. Best is trial 12 with value: 0.8080001699973496.\n",
      "[I 2024-05-16 18:15:58,290] Trial 34 finished with value: 0.7403903523577231 and parameters: {'C': 1.012292822139729, 'gamma': 0.1829705213190887}. Best is trial 12 with value: 0.8080001699973496.\n",
      "[I 2024-05-16 18:16:20,162] Trial 35 finished with value: 0.8089453174088747 and parameters: {'C': 15.824898021513187, 'gamma': 0.01101828997781551}. Best is trial 35 with value: 0.8089453174088747.\n",
      "[I 2024-05-16 18:16:41,542] Trial 36 finished with value: 0.7944079205513481 and parameters: {'C': 16.61474719907057, 'gamma': 0.04374884917011957}. Best is trial 35 with value: 0.8089453174088747.\n",
      "[I 2024-05-16 18:17:02,360] Trial 37 finished with value: 0.7980653441956626 and parameters: {'C': 42.82865156953553, 'gamma': 0.024950946070607997}. Best is trial 35 with value: 0.8089453174088747.\n",
      "[I 2024-05-16 18:18:23,367] Trial 38 finished with value: 0.6775139747962156 and parameters: {'C': 122.56427294803706, 'gamma': 6.339815261323734}. Best is trial 35 with value: 0.8089453174088747.\n",
      "[I 2024-05-16 18:19:18,969] Trial 39 finished with value: 0.7722868176110546 and parameters: {'C': 0.2514878303771082, 'gamma': 0.020601076070411513}. Best is trial 35 with value: 0.8089453174088747.\n",
      "[I 2024-05-16 18:20:36,994] Trial 40 finished with value: 0.5808038640333633 and parameters: {'C': 0.010226595214400941, 'gamma': 0.0717034425000306}. Best is trial 35 with value: 0.8089453174088747.\n",
      "[I 2024-05-16 18:21:02,051] Trial 41 finished with value: 0.803939874939875 and parameters: {'C': 6.536246478009559, 'gamma': 0.010415731993671979}. Best is trial 35 with value: 0.8089453174088747.\n",
      "[I 2024-05-16 18:21:25,297] Trial 42 finished with value: 0.7998130839600551 and parameters: {'C': 10.791352860795648, 'gamma': 0.010465726728654236}. Best is trial 35 with value: 0.8089453174088747.\n",
      "[I 2024-05-16 18:21:45,689] Trial 43 finished with value: 0.8029046962920788 and parameters: {'C': 19.964381337379063, 'gamma': 0.020725221630125565}. Best is trial 35 with value: 0.8089453174088747.\n",
      "[I 2024-05-16 18:22:10,152] Trial 44 finished with value: 0.8007611465692486 and parameters: {'C': 5.134694738281054, 'gamma': 0.05159778329293376}. Best is trial 35 with value: 0.8089453174088747.\n",
      "[I 2024-05-16 18:23:39,488] Trial 45 finished with value: 0.6775139747962156 and parameters: {'C': 1.6908921616899122, 'gamma': 16.04229926616816}. Best is trial 35 with value: 0.8089453174088747.\n",
      "[I 2024-05-16 18:23:58,853] Trial 46 finished with value: 0.8039879432839007 and parameters: {'C': 62.21180871851387, 'gamma': 0.01555651568343878}. Best is trial 35 with value: 0.8089453174088747.\n",
      "[I 2024-05-16 18:24:24,498] Trial 47 finished with value: 0.7613813564246737 and parameters: {'C': 10.756404130691848, 'gamma': 0.1124008571327634}. Best is trial 35 with value: 0.8089453174088747.\n",
      "[I 2024-05-16 18:25:01,275] Trial 48 finished with value: 0.7826510414653869 and parameters: {'C': 0.8929281573474094, 'gamma': 0.03299051148652799}. Best is trial 35 with value: 0.8089453174088747.\n",
      "[I 2024-05-16 18:25:52,346] Trial 49 finished with value: 0.723420938686968 and parameters: {'C': 3.3162912786441563, 'gamma': 0.2863557656970472}. Best is trial 35 with value: 0.8089453174088747.\n",
      "[I 2024-05-16 18:27:22,285] Trial 50 finished with value: 0.6775139747962156 and parameters: {'C': 961.5503459066757, 'gamma': 175.8536399503604}. Best is trial 35 with value: 0.8089453174088747.\n",
      "[I 2024-05-16 18:27:46,167] Trial 51 finished with value: 0.8025374575463569 and parameters: {'C': 7.707101122152942, 'gamma': 0.015060903187425399}. Best is trial 35 with value: 0.8089453174088747.\n",
      "[I 2024-05-16 18:28:18,157] Trial 52 finished with value: 0.8028682524166395 and parameters: {'C': 2.5514822820547964, 'gamma': 0.010066924546563473}. Best is trial 35 with value: 0.8089453174088747.\n",
      "[I 2024-05-16 18:28:43,512] Trial 53 finished with value: 0.7921136150032511 and parameters: {'C': 4.240124151428614, 'gamma': 0.06321735068187703}. Best is trial 35 with value: 0.8089453174088747.\n",
      "[I 2024-05-16 18:30:10,235] Trial 54 finished with value: 0.6875672183844312 and parameters: {'C': 0.448714713314992, 'gamma': 0.8355300348773909}. Best is trial 35 with value: 0.8089453174088747.\n",
      "[I 2024-05-16 18:30:31,427] Trial 55 finished with value: 0.7973708112718099 and parameters: {'C': 22.093002094620847, 'gamma': 0.03460064803615365}. Best is trial 35 with value: 0.8089453174088747.\n",
      "[I 2024-05-16 18:30:50,330] Trial 56 finished with value: 0.8061161516752948 and parameters: {'C': 46.27248776127025, 'gamma': 0.016244447278430402}. Best is trial 35 with value: 0.8089453174088747.\n",
      "[I 2024-05-16 18:31:10,111] Trial 57 finished with value: 0.8025781469825376 and parameters: {'C': 51.605934767872135, 'gamma': 0.01715604421221764}. Best is trial 35 with value: 0.8089453174088747.\n",
      "[I 2024-05-16 18:31:29,765] Trial 58 finished with value: 0.7945648150545028 and parameters: {'C': 85.0211527454137, 'gamma': 0.02872502346660501}. Best is trial 35 with value: 0.8089453174088747.\n",
      "[I 2024-05-16 18:31:49,860] Trial 59 finished with value: 0.805963498788416 and parameters: {'C': 35.854289947342814, 'gamma': 0.015596737244469559}. Best is trial 35 with value: 0.8089453174088747.\n",
      "[I 2024-05-16 18:33:04,735] Trial 60 finished with value: 0.6247847661280271 and parameters: {'C': 0.02555843029388498, 'gamma': 0.06479200265657846}. Best is trial 35 with value: 0.8089453174088747.\n",
      "[I 2024-05-16 18:33:23,838] Trial 61 finished with value: 0.8086664321505059 and parameters: {'C': 41.769434001080924, 'gamma': 0.01521931351912361}. Best is trial 35 with value: 0.8089453174088747.\n",
      "[I 2024-05-16 18:33:43,467] Trial 62 finished with value: 0.8048473760231103 and parameters: {'C': 34.54135842225799, 'gamma': 0.017000489819307234}. Best is trial 35 with value: 0.8089453174088747.\n",
      "[I 2024-05-16 18:34:04,607] Trial 63 finished with value: 0.8072156134464264 and parameters: {'C': 38.02153891608219, 'gamma': 0.015361075954366359}. Best is trial 35 with value: 0.8089453174088747.\n",
      "[I 2024-05-16 18:34:24,094] Trial 64 finished with value: 0.7899985686632057 and parameters: {'C': 267.6994015664915, 'gamma': 0.02730360698535065}. Best is trial 35 with value: 0.8089453174088747.\n",
      "[I 2024-05-16 18:34:45,981] Trial 65 finished with value: 0.7911195055844342 and parameters: {'C': 98.9042110448848, 'gamma': 0.04203575939698676}. Best is trial 35 with value: 0.8089453174088747.\n",
      "[I 2024-05-16 18:35:05,415] Trial 66 finished with value: 0.8072156134464264 and parameters: {'C': 39.377866290511236, 'gamma': 0.015256946287064721}. Best is trial 35 with value: 0.8089453174088747.\n",
      "[I 2024-05-16 18:35:35,032] Trial 67 finished with value: 0.7387870482410741 and parameters: {'C': 145.78446034736126, 'gamma': 0.13837540017695052}. Best is trial 35 with value: 0.8089453174088747.\n",
      "[I 2024-05-16 18:35:55,651] Trial 68 finished with value: 0.8049473840934911 and parameters: {'C': 25.71182877428669, 'gamma': 0.015647850115079465}. Best is trial 35 with value: 0.8089453174088747.\n",
      "[I 2024-05-16 18:36:15,640] Trial 69 finished with value: 0.796244618748808 and parameters: {'C': 47.184431724730615, 'gamma': 0.02503848403780607}. Best is trial 35 with value: 0.8089453174088747.\n",
      "[I 2024-05-16 18:36:37,834] Trial 70 finished with value: 0.7952642728903696 and parameters: {'C': 14.328564258083862, 'gamma': 0.0437258347092223}. Best is trial 35 with value: 0.8089453174088747.\n",
      "[I 2024-05-16 18:36:57,617] Trial 71 finished with value: 0.8086664321505059 and parameters: {'C': 37.86593697118082, 'gamma': 0.01472072713445751}. Best is trial 35 with value: 0.8089453174088747.\n",
      "[I 2024-05-16 18:37:16,340] Trial 72 finished with value: 0.8021123263336805 and parameters: {'C': 69.52094485733255, 'gamma': 0.014510850504729132}. Best is trial 35 with value: 0.8089453174088747.\n",
      "[I 2024-05-16 18:37:37,175] Trial 73 finished with value: 0.8016152402223233 and parameters: {'C': 36.03416269846766, 'gamma': 0.022640159739249155}. Best is trial 35 with value: 0.8089453174088747.\n",
      "[I 2024-05-16 18:37:56,007] Trial 74 finished with value: 0.7948183168833218 and parameters: {'C': 103.68160964828644, 'gamma': 0.013914540531777642}. Best is trial 35 with value: 0.8089453174088747.\n",
      "[I 2024-05-16 18:38:17,563] Trial 75 finished with value: 0.7986602006302564 and parameters: {'C': 25.01330453438211, 'gamma': 0.03283767659421661}. Best is trial 35 with value: 0.8089453174088747.\n",
      "[I 2024-05-16 18:38:42,109] Trial 76 finished with value: 0.776631720308316 and parameters: {'C': 46.583067084300595, 'gamma': 0.09060732903961993}. Best is trial 35 with value: 0.8089453174088747.\n",
      "[I 2024-05-16 18:39:03,970] Trial 77 finished with value: 0.8094485464720649 and parameters: {'C': 13.812739437627854, 'gamma': 0.018517527480119103}. Best is trial 77 with value: 0.8094485464720649.\n",
      "[I 2024-05-16 18:39:26,362] Trial 78 finished with value: 0.7901360894708565 and parameters: {'C': 15.239457199767497, 'gamma': 0.056092207157520536}. Best is trial 77 with value: 0.8094485464720649.\n",
      "[I 2024-05-16 18:39:46,680] Trial 79 finished with value: 0.7951302473371575 and parameters: {'C': 211.94611148716, 'gamma': 0.02298709762071196}. Best is trial 77 with value: 0.8094485464720649.\n",
      "[I 2024-05-16 18:40:07,368] Trial 80 finished with value: 0.8084110442912954 and parameters: {'C': 17.669018061716788, 'gamma': 0.012484653271987136}. Best is trial 77 with value: 0.8094485464720649.\n",
      "[I 2024-05-16 18:40:30,470] Trial 81 finished with value: 0.8038211937635015 and parameters: {'C': 8.821439544580226, 'gamma': 0.020384695847131793}. Best is trial 77 with value: 0.8094485464720649.\n",
      "[I 2024-05-16 18:40:51,082] Trial 82 finished with value: 0.8079409430339236 and parameters: {'C': 18.221812911344912, 'gamma': 0.012868747395798788}. Best is trial 77 with value: 0.8094485464720649.\n",
      "[I 2024-05-16 18:41:14,337] Trial 83 finished with value: 0.8034888545173324 and parameters: {'C': 12.247931590793613, 'gamma': 0.01045683043277879}. Best is trial 77 with value: 0.8094485464720649.\n",
      "[I 2024-05-16 18:41:34,903] Trial 84 finished with value: 0.8005466447682991 and parameters: {'C': 17.783130888306275, 'gamma': 0.030585903348268068}. Best is trial 77 with value: 0.8094485464720649.\n",
      "[I 2024-05-16 18:41:54,701] Trial 85 finished with value: 0.8027283906280576 and parameters: {'C': 70.40547121587107, 'gamma': 0.01281833744959695}. Best is trial 77 with value: 0.8094485464720649.\n",
      "[I 2024-05-16 18:43:28,561] Trial 86 finished with value: 0.6775139747962156 and parameters: {'C': 28.192119523109316, 'gamma': 20.01217794784219}. Best is trial 77 with value: 0.8094485464720649.\n",
      "[I 2024-05-16 18:44:59,740] Trial 87 finished with value: 0.6775139747962156 and parameters: {'C': 19.14759160327758, 'gamma': 833.4291861990629}. Best is trial 77 with value: 0.8094485464720649.\n",
      "[I 2024-05-16 18:45:22,378] Trial 88 finished with value: 0.804287264619204 and parameters: {'C': 8.905640585607266, 'gamma': 0.020190564235986343}. Best is trial 77 with value: 0.8094485464720649.\n",
      "[I 2024-05-16 18:45:44,770] Trial 89 finished with value: 0.8119165292308386 and parameters: {'C': 14.304497187304761, 'gamma': 0.013550621221294414}. Best is trial 89 with value: 0.8119165292308386.\n",
      "[I 2024-05-16 18:47:07,528] Trial 90 finished with value: 0.6775139747962156 and parameters: {'C': 6.817628826595368, 'gamma': 2.6981325129530966}. Best is trial 89 with value: 0.8119165292308386.\n",
      "[I 2024-05-16 18:47:30,841] Trial 91 finished with value: 0.8108848057402506 and parameters: {'C': 12.158868517094861, 'gamma': 0.012089935371285252}. Best is trial 89 with value: 0.8119165292308386.\n",
      "[I 2024-05-16 18:47:52,414] Trial 92 finished with value: 0.8086991035069747 and parameters: {'C': 13.11588670511809, 'gamma': 0.013099308404531529}. Best is trial 89 with value: 0.8119165292308386.\n",
      "[I 2024-05-16 18:48:14,706] Trial 93 finished with value: 0.8088938265641562 and parameters: {'C': 12.559088536163683, 'gamma': 0.012627852552465435}. Best is trial 89 with value: 0.8119165292308386.\n",
      "[I 2024-05-16 18:48:37,427] Trial 94 finished with value: 0.7965920799963544 and parameters: {'C': 13.329282480381718, 'gamma': 0.039989687463314674}. Best is trial 89 with value: 0.8119165292308386.\n",
      "[I 2024-05-16 18:48:59,652] Trial 95 finished with value: 0.8033902989937292 and parameters: {'C': 11.242865550479403, 'gamma': 0.011285459011631752}. Best is trial 89 with value: 0.8119165292308386.\n",
      "[I 2024-05-16 18:49:20,723] Trial 96 finished with value: 0.8056453850936939 and parameters: {'C': 22.635257644961936, 'gamma': 0.020524822050205203}. Best is trial 89 with value: 0.8119165292308386.\n",
      "[I 2024-05-16 18:49:46,254] Trial 97 finished with value: 0.8066700301536839 and parameters: {'C': 6.296581411635957, 'gamma': 0.010183427922388855}. Best is trial 89 with value: 0.8119165292308386.\n",
      "[I 2024-05-16 18:50:09,215] Trial 98 finished with value: 0.799796249534215 and parameters: {'C': 7.996671037189474, 'gamma': 0.027065994664686475}. Best is trial 89 with value: 0.8119165292308386.\n",
      "[I 2024-05-16 18:50:30,940] Trial 99 finished with value: 0.8101813757036771 and parameters: {'C': 15.611838301864086, 'gamma': 0.01852974747622711}. Best is trial 89 with value: 0.8119165292308386.\n"
     ]
    },
    {
     "name": "stdout",
     "output_type": "stream",
     "text": [
      "Best SVM Hyperparameters: {'C': 14.304497187304761, 'gamma': 0.013550621221294414}\n",
      "SVM F1 Score: 0.8119165292308386\n"
     ]
    }
   ],
   "source": [
    "# Define the objective function for hyperparameter optimization\n",
    "def objective_svm(trial):\n",
    "    C = trial.suggest_float('C', 1e-2, 1e3, log = True)\n",
    "    gamma = trial.suggest_float('gamma', 1e-2, 1e3, log = True)\n",
    "    clf = SVC(C=C, gamma=gamma, random_state=42)\n",
    "    clf.fit(X_train_count_resampled, y_train_resampled)\n",
    "    f1 = f1_score(y_val, clf.predict(X_val_count), average=\"weighted\")\n",
    "    return f1\n",
    "\n",
    "# Define the hyperparameter optimization study\n",
    "study_svm = optuna.create_study(direction='maximize')\n",
    "\n",
    "# Define SVM pipeline with oversampling\n",
    "svm_pipeline = Pipeline([\n",
    "    ('balancing', balancing),\n",
    "    ('classifier', SVC(random_state=42))\n",
    "])\n",
    "\n",
    "# Fit and optimize SVM pipeline\n",
    "svm_pipeline.fit(X_train_count, y_train)\n",
    "X_train_count_resampled, y_train_resampled = balancing.fit_resample(X_train_count, y_train)\n",
    "study_svm.optimize(objective_svm, n_trials=100)\n",
    "\n",
    "\n",
    "# Print the best hyperparameters and corresponding accuracies\n",
    "print(\"Best SVM Hyperparameters:\", study_svm.best_params)\n",
    "print(\"SVM F1 Score:\", study_svm.best_value)\n",
    "\n"
   ]
  },
  {
   "cell_type": "markdown",
   "metadata": {},
   "source": [
    "### Evaluating Model with best Hyperparameters on Test set "
   ]
  },
  {
   "cell_type": "code",
   "execution_count": 19,
   "metadata": {
    "colab": {
     "base_uri": "https://localhost:8080/"
    },
    "executionInfo": {
     "elapsed": 22756,
     "status": "ok",
     "timestamp": 1715887755993,
     "user": {
      "displayName": "Jahanvi Panchal",
      "userId": "01209420393961994162"
     },
     "user_tz": -120
    },
    "id": "7kkgwymDi2do",
    "outputId": "a5320060-3787-47cd-9fbd-fa5e79781025"
   },
   "outputs": [
    {
     "name": "stdout",
     "output_type": "stream",
     "text": [
      "SVM F1 score on test set: 0.818\n",
      "\n",
      "SVM Classification Report:\n",
      "              precision    recall  f1-score   support\n",
      "\n",
      "    Negative       0.65      0.73      0.69       168\n",
      "     Neutral       0.21      0.16      0.18        69\n",
      "    Positive       0.90      0.90      0.90       763\n",
      "\n",
      "    accuracy                           0.82      1000\n",
      "   macro avg       0.59      0.59      0.59      1000\n",
      "weighted avg       0.81      0.82      0.81      1000\n",
      "\n"
     ]
    }
   ],
   "source": [
    "# Get the best hyperparameters and retrain the model on the training set\n",
    "best_svm_params = study_svm.best_params\n",
    "svm_model = SVC(**best_svm_params, random_state=42)\n",
    "svm_model.fit(X_train_count_resampled, y_train_resampled)\n",
    "\n",
    "# Evaluate the model on the test set\n",
    "svm_pred = svm_model.predict(X_test_count)\n",
    "\n",
    "f1_test = f1_score(y_test, svm_pred, average='micro')\n",
    "print(\"SVM F1 score on test set:\", f1_test)\n",
    "print(\"\\nSVM Classification Report:\")\n",
    "print(classification_report(y_test, svm_pred))"
   ]
  },
  {
   "cell_type": "markdown",
   "metadata": {
    "id": "Y7L7Uq2ji2dq"
   },
   "source": [
    "## Random Forest"
   ]
  },
  {
   "cell_type": "code",
   "execution_count": 16,
   "metadata": {
    "colab": {
     "base_uri": "https://localhost:8080/"
    },
    "executionInfo": {
     "elapsed": 286893,
     "status": "ok",
     "timestamp": 1715881587006,
     "user": {
      "displayName": "Jahanvi Panchal",
      "userId": "01209420393961994162"
     },
     "user_tz": -120
    },
    "id": "6UoPvm96i2dr",
    "outputId": "d397e507-f11b-45a4-fb1c-778570e03071",
    "scrolled": true
   },
   "outputs": [
    {
     "name": "stderr",
     "output_type": "stream",
     "text": [
      "[I 2024-05-16 17:41:43,192] A new study created in memory with name: no-name-12656549-c92f-4928-926a-9c8f9d38dcbf\n",
      "[I 2024-05-16 17:42:06,207] Trial 0 finished with value: 0.8131772017190239 and parameters: {'n_estimators': 88, 'max_depth': 45, 'min_samples_split': 12, 'min_samples_leaf': 4}. Best is trial 0 with value: 0.8131772017190239.\n",
      "[I 2024-05-16 17:42:08,799] Trial 1 finished with value: 0.8049921214679291 and parameters: {'n_estimators': 163, 'max_depth': 30, 'min_samples_split': 9, 'min_samples_leaf': 4}. Best is trial 0 with value: 0.8131772017190239.\n",
      "[I 2024-05-16 17:42:11,831] Trial 2 finished with value: 0.8024669765907176 and parameters: {'n_estimators': 165, 'max_depth': 46, 'min_samples_split': 10, 'min_samples_leaf': 5}. Best is trial 0 with value: 0.8131772017190239.\n",
      "[I 2024-05-16 17:42:12,231] Trial 3 finished with value: 0.7637932402766392 and parameters: {'n_estimators': 75, 'max_depth': 8, 'min_samples_split': 18, 'min_samples_leaf': 5}. Best is trial 0 with value: 0.8131772017190239.\n",
      "[I 2024-05-16 17:42:13,639] Trial 4 finished with value: 0.8000038456955888 and parameters: {'n_estimators': 112, 'max_depth': 25, 'min_samples_split': 3, 'min_samples_leaf': 5}. Best is trial 0 with value: 0.8131772017190239.\n",
      "[I 2024-05-16 17:42:14,637] Trial 5 finished with value: 0.8009374988745835 and parameters: {'n_estimators': 126, 'max_depth': 17, 'min_samples_split': 11, 'min_samples_leaf': 8}. Best is trial 0 with value: 0.8131772017190239.\n",
      "[I 2024-05-16 17:42:15,586] Trial 6 finished with value: 0.8007594535842054 and parameters: {'n_estimators': 66, 'max_depth': 45, 'min_samples_split': 3, 'min_samples_leaf': 9}. Best is trial 0 with value: 0.8131772017190239.\n",
      "[I 2024-05-16 17:42:17,338] Trial 7 finished with value: 0.8218158387156891 and parameters: {'n_estimators': 56, 'max_depth': 36, 'min_samples_split': 10, 'min_samples_leaf': 2}. Best is trial 7 with value: 0.8218158387156891.\n",
      "[I 2024-05-16 17:42:18,427] Trial 8 finished with value: 0.8000199354386048 and parameters: {'n_estimators': 74, 'max_depth': 28, 'min_samples_split': 19, 'min_samples_leaf': 10}. Best is trial 7 with value: 0.8218158387156891.\n",
      "[I 2024-05-16 17:42:19,498] Trial 9 finished with value: 0.794954594901746 and parameters: {'n_estimators': 112, 'max_depth': 15, 'min_samples_split': 13, 'min_samples_leaf': 8}. Best is trial 7 with value: 0.8218158387156891.\n",
      "[I 2024-05-16 17:42:25,864] Trial 10 finished with value: 0.8022238353166621 and parameters: {'n_estimators': 197, 'max_depth': 36, 'min_samples_split': 7, 'min_samples_leaf': 1}. Best is trial 7 with value: 0.8218158387156891.\n",
      "[I 2024-05-16 17:42:26,978] Trial 11 finished with value: 0.8082376798467664 and parameters: {'n_estimators': 52, 'max_depth': 39, 'min_samples_split': 15, 'min_samples_leaf': 2}. Best is trial 7 with value: 0.8218158387156891.\n",
      "[I 2024-05-16 17:42:29,420] Trial 12 finished with value: 0.7993115830366578 and parameters: {'n_estimators': 92, 'max_depth': 49, 'min_samples_split': 7, 'min_samples_leaf': 3}. Best is trial 7 with value: 0.8218158387156891.\n",
      "[I 2024-05-16 17:42:33,078] Trial 13 finished with value: 0.8216470654937903 and parameters: {'n_estimators': 93, 'max_depth': 38, 'min_samples_split': 16, 'min_samples_leaf': 1}. Best is trial 7 with value: 0.8218158387156891.\n",
      "[I 2024-05-16 17:42:34,647] Trial 14 finished with value: 0.8153492033894794 and parameters: {'n_estimators': 57, 'max_depth': 36, 'min_samples_split': 15, 'min_samples_leaf': 1}. Best is trial 7 with value: 0.8218158387156891.\n",
      "[I 2024-05-16 17:42:36,651] Trial 15 finished with value: 0.8225720348675084 and parameters: {'n_estimators': 95, 'max_depth': 39, 'min_samples_split': 16, 'min_samples_leaf': 2}. Best is trial 15 with value: 0.8225720348675084.\n",
      "[I 2024-05-16 17:42:38,363] Trial 16 finished with value: 0.8113441450366555 and parameters: {'n_estimators': 139, 'max_depth': 23, 'min_samples_split': 20, 'min_samples_leaf': 3}. Best is trial 15 with value: 0.8225720348675084.\n",
      "[I 2024-05-16 17:42:39,689] Trial 17 finished with value: 0.8068407590400049 and parameters: {'n_estimators': 105, 'max_depth': 31, 'min_samples_split': 8, 'min_samples_leaf': 7}. Best is trial 15 with value: 0.8225720348675084.\n",
      "[I 2024-05-16 17:42:40,900] Trial 18 finished with value: 0.8116381749308585 and parameters: {'n_estimators': 51, 'max_depth': 41, 'min_samples_split': 5, 'min_samples_leaf': 3}. Best is trial 15 with value: 0.8225720348675084.\n",
      "[I 2024-05-16 17:42:43,697] Trial 19 finished with value: 0.8090338295223968 and parameters: {'n_estimators': 136, 'max_depth': 34, 'min_samples_split': 13, 'min_samples_leaf': 2}. Best is trial 15 with value: 0.8225720348675084.\n",
      "[I 2024-05-16 17:42:44,862] Trial 20 finished with value: 0.799583504993185 and parameters: {'n_estimators': 79, 'max_depth': 21, 'min_samples_split': 16, 'min_samples_leaf': 6}. Best is trial 15 with value: 0.8225720348675084.\n",
      "[I 2024-05-16 17:42:48,682] Trial 21 finished with value: 0.8028479972958167 and parameters: {'n_estimators': 93, 'max_depth': 40, 'min_samples_split': 16, 'min_samples_leaf': 1}. Best is trial 15 with value: 0.8225720348675084.\n",
      "[I 2024-05-16 17:42:50,811] Trial 22 finished with value: 0.8168351632226584 and parameters: {'n_estimators': 97, 'max_depth': 41, 'min_samples_split': 17, 'min_samples_leaf': 2}. Best is trial 15 with value: 0.8225720348675084.\n",
      "[I 2024-05-16 17:42:52,148] Trial 23 finished with value: 0.8052849451187718 and parameters: {'n_estimators': 69, 'max_depth': 33, 'min_samples_split': 13, 'min_samples_leaf': 2}. Best is trial 15 with value: 0.8225720348675084.\n",
      "[I 2024-05-16 17:42:55,490] Trial 24 finished with value: 0.815858673503631 and parameters: {'n_estimators': 122, 'max_depth': 37, 'min_samples_split': 14, 'min_samples_leaf': 1}. Best is trial 15 with value: 0.8225720348675084.\n",
      "[I 2024-05-16 17:42:57,312] Trial 25 finished with value: 0.8065167809651024 and parameters: {'n_estimators': 86, 'max_depth': 50, 'min_samples_split': 11, 'min_samples_leaf': 4}. Best is trial 15 with value: 0.8225720348675084.\n",
      "[I 2024-05-16 17:42:58,965] Trial 26 finished with value: 0.8086002963823483 and parameters: {'n_estimators': 61, 'max_depth': 43, 'min_samples_split': 18, 'min_samples_leaf': 3}. Best is trial 15 with value: 0.8225720348675084.\n",
      "[I 2024-05-16 17:43:01,770] Trial 27 finished with value: 0.8092371818630009 and parameters: {'n_estimators': 103, 'max_depth': 32, 'min_samples_split': 10, 'min_samples_leaf': 2}. Best is trial 15 with value: 0.8225720348675084.\n",
      "[I 2024-05-16 17:43:03,404] Trial 28 finished with value: 0.8052551144254696 and parameters: {'n_estimators': 80, 'max_depth': 27, 'min_samples_split': 20, 'min_samples_leaf': 1}. Best is trial 15 with value: 0.8225720348675084.\n",
      "[I 2024-05-16 17:43:06,504] Trial 29 finished with value: 0.812126139213143 and parameters: {'n_estimators': 148, 'max_depth': 45, 'min_samples_split': 12, 'min_samples_leaf': 4}. Best is trial 15 with value: 0.8225720348675084.\n",
      "[I 2024-05-16 17:43:08,174] Trial 30 finished with value: 0.8134099070833576 and parameters: {'n_estimators': 84, 'max_depth': 38, 'min_samples_split': 15, 'min_samples_leaf': 3}. Best is trial 15 with value: 0.8225720348675084.\n",
      "[I 2024-05-16 17:43:10,331] Trial 31 finished with value: 0.8124575102442537 and parameters: {'n_estimators': 98, 'max_depth': 42, 'min_samples_split': 17, 'min_samples_leaf': 2}. Best is trial 15 with value: 0.8225720348675084.\n",
      "[I 2024-05-16 17:43:12,978] Trial 32 finished with value: 0.8136827616179082 and parameters: {'n_estimators': 115, 'max_depth': 35, 'min_samples_split': 17, 'min_samples_leaf': 2}. Best is trial 15 with value: 0.8225720348675084.\n",
      "[I 2024-05-16 17:43:17,027] Trial 33 finished with value: 0.811427684688616 and parameters: {'n_estimators': 97, 'max_depth': 48, 'min_samples_split': 18, 'min_samples_leaf': 1}. Best is trial 15 with value: 0.8225720348675084.\n",
      "[I 2024-05-16 17:43:19,512] Trial 34 finished with value: 0.8080355273408769 and parameters: {'n_estimators': 124, 'max_depth': 43, 'min_samples_split': 9, 'min_samples_leaf': 4}. Best is trial 15 with value: 0.8225720348675084.\n",
      "[I 2024-05-16 17:43:22,195] Trial 35 finished with value: 0.8171483408036015 and parameters: {'n_estimators': 163, 'max_depth': 30, 'min_samples_split': 17, 'min_samples_leaf': 2}. Best is trial 15 with value: 0.8225720348675084.\n",
      "[I 2024-05-16 17:43:24,780] Trial 36 finished with value: 0.808883332531246 and parameters: {'n_estimators': 174, 'max_depth': 29, 'min_samples_split': 14, 'min_samples_leaf': 3}. Best is trial 15 with value: 0.8225720348675084.\n",
      "[I 2024-05-16 17:43:25,686] Trial 37 finished with value: 0.7782793143664067 and parameters: {'n_estimators': 174, 'max_depth': 7, 'min_samples_split': 19, 'min_samples_leaf': 5}. Best is trial 15 with value: 0.8225720348675084.\n",
      "[I 2024-05-16 17:43:28,741] Trial 38 finished with value: 0.7994116101473477 and parameters: {'n_estimators': 158, 'max_depth': 31, 'min_samples_split': 12, 'min_samples_leaf': 6}. Best is trial 15 with value: 0.8225720348675084.\n",
      "[I 2024-05-16 17:43:32,131] Trial 39 finished with value: 0.8095454918394738 and parameters: {'n_estimators': 191, 'max_depth': 26, 'min_samples_split': 16, 'min_samples_leaf': 1}. Best is trial 15 with value: 0.8225720348675084.\n",
      "[I 2024-05-16 17:43:32,677] Trial 40 finished with value: 0.7771285161251221 and parameters: {'n_estimators': 69, 'max_depth': 13, 'min_samples_split': 10, 'min_samples_leaf': 4}. Best is trial 15 with value: 0.8225720348675084.\n",
      "[I 2024-05-16 17:43:34,922] Trial 41 finished with value: 0.8120945481984533 and parameters: {'n_estimators': 107, 'max_depth': 39, 'min_samples_split': 17, 'min_samples_leaf': 2}. Best is trial 15 with value: 0.8225720348675084.\n",
      "[I 2024-05-16 17:43:37,339] Trial 42 finished with value: 0.8053699976810147 and parameters: {'n_estimators': 135, 'max_depth': 34, 'min_samples_split': 19, 'min_samples_leaf': 2}. Best is trial 15 with value: 0.8225720348675084.\n",
      "[I 2024-05-16 17:43:40,647] Trial 43 finished with value: 0.821488886652578 and parameters: {'n_estimators': 116, 'max_depth': 45, 'min_samples_split': 14, 'min_samples_leaf': 2}. Best is trial 15 with value: 0.8225720348675084.\n",
      "[I 2024-05-16 17:43:45,775] Trial 44 finished with value: 0.8200034228121703 and parameters: {'n_estimators': 118, 'max_depth': 47, 'min_samples_split': 14, 'min_samples_leaf': 1}. Best is trial 15 with value: 0.8225720348675084.\n",
      "[I 2024-05-16 17:43:49,973] Trial 45 finished with value: 0.817710378225563 and parameters: {'n_estimators': 115, 'max_depth': 47, 'min_samples_split': 14, 'min_samples_leaf': 1}. Best is trial 15 with value: 0.8225720348675084.\n",
      "[I 2024-05-16 17:43:55,451] Trial 46 finished with value: 0.8087323274789413 and parameters: {'n_estimators': 128, 'max_depth': 45, 'min_samples_split': 11, 'min_samples_leaf': 1}. Best is trial 15 with value: 0.8225720348675084.\n",
      "[I 2024-05-16 17:43:57,506] Trial 47 finished with value: 0.7973944545320706 and parameters: {'n_estimators': 119, 'max_depth': 44, 'min_samples_split': 15, 'min_samples_leaf': 10}. Best is trial 15 with value: 0.8225720348675084.\n",
      "[I 2024-05-16 17:43:59,889] Trial 48 finished with value: 0.8105078064695583 and parameters: {'n_estimators': 109, 'max_depth': 47, 'min_samples_split': 13, 'min_samples_leaf': 3}. Best is trial 15 with value: 0.8225720348675084.\n",
      "[I 2024-05-16 17:44:03,469] Trial 49 finished with value: 0.8127330780582237 and parameters: {'n_estimators': 130, 'max_depth': 37, 'min_samples_split': 14, 'min_samples_leaf': 1}. Best is trial 15 with value: 0.8225720348675084.\n",
      "[I 2024-05-16 17:44:05,427] Trial 50 finished with value: 0.8065169913164244 and parameters: {'n_estimators': 145, 'max_depth': 49, 'min_samples_split': 2, 'min_samples_leaf': 9}. Best is trial 15 with value: 0.8225720348675084.\n",
      "[I 2024-05-16 17:44:10,796] Trial 51 finished with value: 0.8200034228121703 and parameters: {'n_estimators': 118, 'max_depth': 47, 'min_samples_split': 14, 'min_samples_leaf': 1}. Best is trial 15 with value: 0.8225720348675084.\n",
      "[I 2024-05-16 17:44:14,909] Trial 52 finished with value: 0.8015134654486965 and parameters: {'n_estimators': 102, 'max_depth': 47, 'min_samples_split': 12, 'min_samples_leaf': 1}. Best is trial 15 with value: 0.8225720348675084.\n",
      "[I 2024-05-16 17:44:18,282] Trial 53 finished with value: 0.8057762613055286 and parameters: {'n_estimators': 117, 'max_depth': 40, 'min_samples_split': 16, 'min_samples_leaf': 1}. Best is trial 15 with value: 0.8225720348675084.\n",
      "[I 2024-05-16 17:44:20,397] Trial 54 finished with value: 0.8176487957542034 and parameters: {'n_estimators': 90, 'max_depth': 42, 'min_samples_split': 13, 'min_samples_leaf': 2}. Best is trial 15 with value: 0.8225720348675084.\n",
      "[I 2024-05-16 17:44:22,611] Trial 55 finished with value: 0.8107937502626066 and parameters: {'n_estimators': 74, 'max_depth': 45, 'min_samples_split': 15, 'min_samples_leaf': 2}. Best is trial 15 with value: 0.8225720348675084.\n",
      "[I 2024-05-16 17:44:28,529] Trial 56 finished with value: 0.8056491487118757 and parameters: {'n_estimators': 110, 'max_depth': 50, 'min_samples_split': 9, 'min_samples_leaf': 1}. Best is trial 15 with value: 0.8225720348675084.\n",
      "[I 2024-05-16 17:44:29,785] Trial 57 finished with value: 0.802972075008184 and parameters: {'n_estimators': 56, 'max_depth': 39, 'min_samples_split': 6, 'min_samples_leaf': 3}. Best is trial 15 with value: 0.8225720348675084.\n",
      "[I 2024-05-16 17:44:32,558] Trial 58 finished with value: 0.8168288074085578 and parameters: {'n_estimators': 132, 'max_depth': 46, 'min_samples_split': 16, 'min_samples_leaf': 3}. Best is trial 15 with value: 0.8225720348675084.\n",
      "[I 2024-05-16 17:44:36,301] Trial 59 finished with value: 0.813679910747897 and parameters: {'n_estimators': 144, 'max_depth': 43, 'min_samples_split': 12, 'min_samples_leaf': 2}. Best is trial 15 with value: 0.8225720348675084.\n",
      "[I 2024-05-16 17:44:39,430] Trial 60 finished with value: 0.807560637259388 and parameters: {'n_estimators': 82, 'max_depth': 35, 'min_samples_split': 14, 'min_samples_leaf': 1}. Best is trial 15 with value: 0.8225720348675084.\n",
      "[I 2024-05-16 17:44:43,593] Trial 61 finished with value: 0.8184025882927586 and parameters: {'n_estimators': 114, 'max_depth': 47, 'min_samples_split': 14, 'min_samples_leaf': 1}. Best is trial 15 with value: 0.8225720348675084.\n",
      "[I 2024-05-16 17:44:48,189] Trial 62 finished with value: 0.8044850317721652 and parameters: {'n_estimators': 124, 'max_depth': 48, 'min_samples_split': 15, 'min_samples_leaf': 1}. Best is trial 15 with value: 0.8225720348675084.\n",
      "[I 2024-05-16 17:44:52,198] Trial 63 finished with value: 0.8212418566592814 and parameters: {'n_estimators': 120, 'max_depth': 50, 'min_samples_split': 13, 'min_samples_leaf': 2}. Best is trial 15 with value: 0.8225720348675084.\n",
      "[I 2024-05-16 17:44:55,335] Trial 64 finished with value: 0.8070026636506311 and parameters: {'n_estimators': 101, 'max_depth': 50, 'min_samples_split': 11, 'min_samples_leaf': 2}. Best is trial 15 with value: 0.8225720348675084.\n",
      "[I 2024-05-16 17:44:58,062] Trial 65 finished with value: 0.8193907681250427 and parameters: {'n_estimators': 119, 'max_depth': 41, 'min_samples_split': 13, 'min_samples_leaf': 2}. Best is trial 15 with value: 0.8225720348675084.\n",
      "[I 2024-05-16 17:45:00,762] Trial 66 finished with value: 0.8064670188771963 and parameters: {'n_estimators': 94, 'max_depth': 49, 'min_samples_split': 8, 'min_samples_leaf': 2}. Best is trial 15 with value: 0.8225720348675084.\n",
      "[I 2024-05-16 17:45:03,815] Trial 67 finished with value: 0.8086079607819693 and parameters: {'n_estimators': 139, 'max_depth': 44, 'min_samples_split': 15, 'min_samples_leaf': 3}. Best is trial 15 with value: 0.8225720348675084.\n",
      "[I 2024-05-16 17:45:07,341] Trial 68 finished with value: 0.8193207799233676 and parameters: {'n_estimators': 88, 'max_depth': 37, 'min_samples_split': 13, 'min_samples_leaf': 1}. Best is trial 15 with value: 0.8225720348675084.\n",
      "[I 2024-05-16 17:45:08,352] Trial 69 finished with value: 0.7989091633840677 and parameters: {'n_estimators': 63, 'max_depth': 46, 'min_samples_split': 16, 'min_samples_leaf': 7}. Best is trial 15 with value: 0.8225720348675084.\n",
      "[I 2024-05-16 17:45:10,279] Trial 70 finished with value: 0.8136902136276738 and parameters: {'n_estimators': 105, 'max_depth': 42, 'min_samples_split': 10, 'min_samples_leaf': 5}. Best is trial 15 with value: 0.8225720348675084.\n",
      "[I 2024-05-16 17:45:13,028] Trial 71 finished with value: 0.8176348784048032 and parameters: {'n_estimators': 120, 'max_depth': 41, 'min_samples_split': 13, 'min_samples_leaf': 2}. Best is trial 15 with value: 0.8225720348675084.\n",
      "[I 2024-05-16 17:45:15,777] Trial 72 finished with value: 0.809241173455901 and parameters: {'n_estimators': 126, 'max_depth': 40, 'min_samples_split': 14, 'min_samples_leaf': 2}. Best is trial 15 with value: 0.8225720348675084.\n",
      "[I 2024-05-16 17:45:18,871] Trial 73 finished with value: 0.8159437778004398 and parameters: {'n_estimators': 121, 'max_depth': 44, 'min_samples_split': 11, 'min_samples_leaf': 3}. Best is trial 15 with value: 0.8225720348675084.\n",
      "[I 2024-05-16 17:45:22,168] Trial 74 finished with value: 0.8225994748047674 and parameters: {'n_estimators': 112, 'max_depth': 38, 'min_samples_split': 12, 'min_samples_leaf': 2}. Best is trial 74 with value: 0.8225994748047674.\n",
      "[I 2024-05-16 17:45:24,297] Trial 75 finished with value: 0.8115991749512781 and parameters: {'n_estimators': 109, 'max_depth': 33, 'min_samples_split': 12, 'min_samples_leaf': 2}. Best is trial 74 with value: 0.8225994748047674.\n",
      "[I 2024-05-16 17:45:26,648] Trial 76 finished with value: 0.8050165450742656 and parameters: {'n_estimators': 76, 'max_depth': 38, 'min_samples_split': 11, 'min_samples_leaf': 1}. Best is trial 74 with value: 0.8225994748047674.\n",
      "[I 2024-05-16 17:45:28,221] Trial 77 finished with value: 0.8084825798186148 and parameters: {'n_estimators': 113, 'max_depth': 24, 'min_samples_split': 10, 'min_samples_leaf': 3}. Best is trial 74 with value: 0.8225994748047674.\n",
      "[I 2024-05-16 17:45:30,160] Trial 78 finished with value: 0.8157535741667794 and parameters: {'n_estimators': 98, 'max_depth': 35, 'min_samples_split': 15, 'min_samples_leaf': 2}. Best is trial 74 with value: 0.8225994748047674.\n",
      "[I 2024-05-16 17:45:35,907] Trial 79 finished with value: 0.8098107536335276 and parameters: {'n_estimators': 132, 'max_depth': 48, 'min_samples_split': 18, 'min_samples_leaf': 1}. Best is trial 74 with value: 0.8225994748047674.\n",
      "[I 2024-05-16 17:45:38,222] Trial 80 finished with value: 0.8191466455004353 and parameters: {'n_estimators': 106, 'max_depth': 38, 'min_samples_split': 12, 'min_samples_leaf': 2}. Best is trial 74 with value: 0.8225994748047674.\n",
      "[I 2024-05-16 17:45:40,885] Trial 81 finished with value: 0.7988839128933874 and parameters: {'n_estimators': 116, 'max_depth': 40, 'min_samples_split': 13, 'min_samples_leaf': 2}. Best is trial 74 with value: 0.8225994748047674.\n",
      "[I 2024-05-16 17:45:43,438] Trial 82 finished with value: 0.8150772591261024 and parameters: {'n_estimators': 123, 'max_depth': 42, 'min_samples_split': 13, 'min_samples_leaf': 3}. Best is trial 74 with value: 0.8225994748047674.\n",
      "[I 2024-05-16 17:45:47,321] Trial 83 finished with value: 0.811758383193531 and parameters: {'n_estimators': 128, 'max_depth': 36, 'min_samples_split': 14, 'min_samples_leaf': 1}. Best is trial 74 with value: 0.8225994748047674.\n",
      "[I 2024-05-16 17:45:49,403] Trial 84 finished with value: 0.8020565637723578 and parameters: {'n_estimators': 120, 'max_depth': 21, 'min_samples_split': 16, 'min_samples_leaf': 2}. Best is trial 74 with value: 0.8225994748047674.\n",
      "[I 2024-05-16 17:45:53,425] Trial 85 finished with value: 0.8182344426890149 and parameters: {'n_estimators': 112, 'max_depth': 44, 'min_samples_split': 14, 'min_samples_leaf': 1}. Best is trial 74 with value: 0.8225994748047674.\n",
      "[I 2024-05-16 17:45:55,779] Trial 86 finished with value: 0.8160337051842621 and parameters: {'n_estimators': 101, 'max_depth': 41, 'min_samples_split': 12, 'min_samples_leaf': 2}. Best is trial 74 with value: 0.8225994748047674.\n",
      "[I 2024-05-16 17:45:57,729] Trial 87 finished with value: 0.815461425848921 and parameters: {'n_estimators': 93, 'max_depth': 46, 'min_samples_split': 15, 'min_samples_leaf': 3}. Best is trial 74 with value: 0.8225994748047674.\n",
      "[I 2024-05-16 17:46:03,198] Trial 88 finished with value: 0.808628027537867 and parameters: {'n_estimators': 111, 'max_depth': 49, 'min_samples_split': 13, 'min_samples_leaf': 1}. Best is trial 74 with value: 0.8225994748047674.\n",
      "[I 2024-05-16 17:46:03,926] Trial 89 finished with value: 0.770162376237624 and parameters: {'n_estimators': 135, 'max_depth': 5, 'min_samples_split': 11, 'min_samples_leaf': 2}. Best is trial 74 with value: 0.8225994748047674.\n",
      "[I 2024-05-16 17:46:07,636] Trial 90 finished with value: 0.8091308533827486 and parameters: {'n_estimators': 141, 'max_depth': 38, 'min_samples_split': 17, 'min_samples_leaf': 1}. Best is trial 74 with value: 0.8225994748047674.\n",
      "[I 2024-05-16 17:46:10,168] Trial 91 finished with value: 0.8160311630113248 and parameters: {'n_estimators': 89, 'max_depth': 37, 'min_samples_split': 13, 'min_samples_leaf': 1}. Best is trial 74 with value: 0.8225994748047674.\n",
      "[I 2024-05-16 17:46:12,491] Trial 92 finished with value: 0.8208462731067383 and parameters: {'n_estimators': 85, 'max_depth': 36, 'min_samples_split': 14, 'min_samples_leaf': 1}. Best is trial 74 with value: 0.8225994748047674.\n",
      "[I 2024-05-16 17:46:14,825] Trial 93 finished with value: 0.8090490713863533 and parameters: {'n_estimators': 85, 'max_depth': 32, 'min_samples_split': 14, 'min_samples_leaf': 1}. Best is trial 74 with value: 0.8225994748047674.\n",
      "[I 2024-05-16 17:46:16,878] Trial 94 finished with value: 0.8067509377471164 and parameters: {'n_estimators': 71, 'max_depth': 36, 'min_samples_split': 15, 'min_samples_leaf': 2}. Best is trial 74 with value: 0.8225994748047674.\n",
      "[I 2024-05-16 17:46:18,078] Trial 95 finished with value: 0.8137001408578466 and parameters: {'n_estimators': 50, 'max_depth': 34, 'min_samples_split': 12, 'min_samples_leaf': 2}. Best is trial 74 with value: 0.8225994748047674.\n",
      "[I 2024-05-16 17:46:21,993] Trial 96 finished with value: 0.8136381939432076 and parameters: {'n_estimators': 117, 'max_depth': 43, 'min_samples_split': 14, 'min_samples_leaf': 1}. Best is trial 74 with value: 0.8225994748047674.\n",
      "[I 2024-05-16 17:46:23,376] Trial 97 finished with value: 0.8046539197261202 and parameters: {'n_estimators': 56, 'max_depth': 40, 'min_samples_split': 9, 'min_samples_leaf': 2}. Best is trial 74 with value: 0.8225994748047674.\n",
      "[I 2024-05-16 17:46:24,735] Trial 98 finished with value: 0.809758671292424 and parameters: {'n_estimators': 79, 'max_depth': 39, 'min_samples_split': 16, 'min_samples_leaf': 4}. Best is trial 74 with value: 0.8225994748047674.\n",
      "[I 2024-05-16 17:46:29,878] Trial 99 finished with value: 0.8024488749545203 and parameters: {'n_estimators': 98, 'max_depth': 48, 'min_samples_split': 8, 'min_samples_leaf': 1}. Best is trial 74 with value: 0.8225994748047674.\n"
     ]
    },
    {
     "name": "stdout",
     "output_type": "stream",
     "text": [
      "Best Random Forest Hyperparameters: {'n_estimators': 112, 'max_depth': 38, 'min_samples_split': 12, 'min_samples_leaf': 2}\n",
      "Random Forest F1 Score: 0.8225994748047674\n"
     ]
    }
   ],
   "source": [
    "\n",
    "# Define the objective function for hyperparameter optimization\n",
    "\n",
    "def objective_rf(trial):\n",
    "    n_estimators = trial.suggest_int('n_estimators', 50, 200)\n",
    "    max_depth = trial.suggest_int('max_depth', 5, 50)\n",
    "    min_samples_split = trial.suggest_int('min_samples_split', 2, 20)\n",
    "    min_samples_leaf = trial.suggest_int('min_samples_leaf', 1, 10)\n",
    "    clf = RandomForestClassifier(n_estimators=n_estimators, max_depth=max_depth,\n",
    "                                  min_samples_split=min_samples_split, min_samples_leaf=min_samples_leaf,\n",
    "                                  random_state=42)\n",
    "    clf.fit(X_train_count_resampled, y_train_resampled)\n",
    "    f1 = f1_score(y_val, clf.predict(X_val_count), average=\"weighted\")\n",
    "    return f1\n",
    "\n",
    "# Define the hyperparameter optimization study\n",
    "study_rf = optuna.create_study(direction='maximize')\n",
    "\n",
    "\n",
    "# Define Random Forest pipeline with oversampling\n",
    "rf_pipeline = Pipeline([\n",
    "    ('balancing', balancing),\n",
    "    ('classifier', RandomForestClassifier(random_state=42))\n",
    "])\n",
    "\n",
    "\n",
    "# Fit and optimize Random Forest pipeline\n",
    "rf_pipeline.fit(X_train_count, y_train)\n",
    "X_train_count_resampled, y_train_resampled = balancing.fit_resample(X_train_count, y_train)\n",
    "study_rf.optimize(objective_rf, n_trials=100)\n",
    "\n",
    "# Print the best hyperparameters and corresponding accuracies\n",
    "print(\"Best Random Forest Hyperparameters:\", study_rf.best_params)\n",
    "print(\"Random Forest F1 Score:\", study_rf.best_value)\n"
   ]
  },
  {
   "cell_type": "markdown",
   "metadata": {},
   "source": [
    "### Evaluating Model with best Hyperparameters on Test set  "
   ]
  },
  {
   "cell_type": "code",
   "execution_count": 17,
   "metadata": {
    "colab": {
     "base_uri": "https://localhost:8080/"
    },
    "executionInfo": {
     "elapsed": 3726,
     "status": "ok",
     "timestamp": 1715881598839,
     "user": {
      "displayName": "Jahanvi Panchal",
      "userId": "01209420393961994162"
     },
     "user_tz": -120
    },
    "id": "3TjuxT1wi2du",
    "outputId": "ee9ba652-b43f-4e57-bcdd-d768f47df318"
   },
   "outputs": [
    {
     "name": "stdout",
     "output_type": "stream",
     "text": [
      "Random Forest F1 score on test set: 0.827\n",
      "\n",
      "Random Forest Classification Report:\n",
      "              precision    recall  f1-score   support\n",
      "\n",
      "    Negative       0.66      0.69      0.67       168\n",
      "     Neutral       0.29      0.12      0.16        69\n",
      "    Positive       0.88      0.92      0.90       763\n",
      "\n",
      "    accuracy                           0.83      1000\n",
      "   macro avg       0.61      0.58      0.58      1000\n",
      "weighted avg       0.80      0.83      0.81      1000\n",
      "\n"
     ]
    }
   ],
   "source": [
    "# Get the best hyperparameters and retrain the model on the training set\n",
    "best_rf_params = study_rf.best_params\n",
    "rf_model = RandomForestClassifier(**best_rf_params, random_state=42)\n",
    "rf_model.fit(X_train_count_resampled, y_train_resampled)\n",
    "\n",
    "# Evaluate the model on the test set\n",
    "rf_pred = rf_model.predict(X_test_count)\n",
    "\n",
    "f1_test = f1_score(y_test, rf_pred, average='micro')\n",
    "print(\"Random Forest F1 score on test set:\", f1_test)\n",
    "print(\"\\nRandom Forest Classification Report:\")\n",
    "print(classification_report(y_test, rf_pred))"
   ]
  },
  {
   "cell_type": "code",
   "execution_count": null,
   "metadata": {
    "id": "IIH-0Nusi2dx"
   },
   "outputs": [],
   "source": []
  },
  {
   "cell_type": "code",
   "execution_count": null,
   "metadata": {
    "id": "IQX98P7Ni2dz"
   },
   "outputs": [],
   "source": []
  },
  {
   "cell_type": "code",
   "execution_count": null,
   "metadata": {
    "id": "p0ayXVzli2d0"
   },
   "outputs": [],
   "source": []
  },
  {
   "cell_type": "code",
   "execution_count": null,
   "metadata": {
    "id": "D-1049Ngi2d1"
   },
   "outputs": [],
   "source": []
  }
 ],
 "metadata": {
  "accelerator": "GPU",
  "colab": {
   "gpuType": "T4",
   "provenance": []
  },
  "kernelspec": {
   "display_name": "Python 3 (ipykernel)",
   "language": "python",
   "name": "python3"
  },
  "language_info": {
   "codemirror_mode": {
    "name": "ipython",
    "version": 3
   },
   "file_extension": ".py",
   "mimetype": "text/x-python",
   "name": "python",
   "nbconvert_exporter": "python",
   "pygments_lexer": "ipython3",
   "version": "3.9.12"
  }
 },
 "nbformat": 4,
 "nbformat_minor": 1
}
