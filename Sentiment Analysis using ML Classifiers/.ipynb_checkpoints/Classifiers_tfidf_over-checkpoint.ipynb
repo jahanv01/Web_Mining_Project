{
 "cells": [
  {
   "cell_type": "markdown",
   "metadata": {
    "id": "Xo9iUIbV4mvh"
   },
   "source": [
    "# **ML Classifiers with Tf-Idf Vectorization & Oversampling**"
   ]
  },
  {
   "cell_type": "code",
   "execution_count": 1,
   "metadata": {
    "colab": {
     "base_uri": "https://localhost:8080/"
    },
    "executionInfo": {
     "elapsed": 25046,
     "status": "ok",
     "timestamp": 1715947395268,
     "user": {
      "displayName": "Jahanvi Panchal",
      "userId": "01209420393961994162"
     },
     "user_tz": -120
    },
    "id": "fuF-WXxo4psi",
    "outputId": "524f6d49-1801-4b3f-fad4-0bf409dd3a30"
   },
   "outputs": [
    {
     "name": "stdout",
     "output_type": "stream",
     "text": [
      "Mounted at /content/drive/\n",
      "/content/drive/My Drive/WEB_MINING_PROJECT/ML_CLASSIFIERS\n"
     ]
    }
   ],
   "source": [
    "try:\n",
    "    from google.colab import drive\n",
    "    drive.mount('/content/drive/')\n",
    "    %cd 'drive/My Drive/WEB_MINING_PROJECT/ML_CLASSIFIERS'\n",
    "except ImportError as e:\n",
    "    pass"
   ]
  },
  {
   "cell_type": "code",
   "execution_count": 2,
   "metadata": {
    "colab": {
     "base_uri": "https://localhost:8080/"
    },
    "executionInfo": {
     "elapsed": 17689,
     "status": "ok",
     "timestamp": 1715947416582,
     "user": {
      "displayName": "Jahanvi Panchal",
      "userId": "01209420393961994162"
     },
     "user_tz": -120
    },
    "id": "dKDzgLvc4mvj",
    "outputId": "1d4ab0f2-fcfe-4c85-c728-af737efdefb8"
   },
   "outputs": [
    {
     "name": "stdout",
     "output_type": "stream",
     "text": [
      "Collecting optuna\n",
      "  Downloading optuna-3.6.1-py3-none-any.whl (380 kB)\n",
      "\u001b[2K     \u001b[90m━━━━━━━━━━━━━━━━━━━━━━━━━━━━━━━━━━━━━━━━\u001b[0m \u001b[32m380.1/380.1 kB\u001b[0m \u001b[31m9.6 MB/s\u001b[0m eta \u001b[36m0:00:00\u001b[0m\n",
      "\u001b[?25hCollecting alembic>=1.5.0 (from optuna)\n",
      "  Downloading alembic-1.13.1-py3-none-any.whl (233 kB)\n",
      "\u001b[2K     \u001b[90m━━━━━━━━━━━━━━━━━━━━━━━━━━━━━━━━━━━━━━━━\u001b[0m \u001b[32m233.4/233.4 kB\u001b[0m \u001b[31m25.8 MB/s\u001b[0m eta \u001b[36m0:00:00\u001b[0m\n",
      "\u001b[?25hCollecting colorlog (from optuna)\n",
      "  Downloading colorlog-6.8.2-py3-none-any.whl (11 kB)\n",
      "Requirement already satisfied: numpy in /usr/local/lib/python3.10/dist-packages (from optuna) (1.25.2)\n",
      "Requirement already satisfied: packaging>=20.0 in /usr/local/lib/python3.10/dist-packages (from optuna) (24.0)\n",
      "Requirement already satisfied: sqlalchemy>=1.3.0 in /usr/local/lib/python3.10/dist-packages (from optuna) (2.0.30)\n",
      "Requirement already satisfied: tqdm in /usr/local/lib/python3.10/dist-packages (from optuna) (4.66.4)\n",
      "Requirement already satisfied: PyYAML in /usr/local/lib/python3.10/dist-packages (from optuna) (6.0.1)\n",
      "Collecting Mako (from alembic>=1.5.0->optuna)\n",
      "  Downloading Mako-1.3.5-py3-none-any.whl (78 kB)\n",
      "\u001b[2K     \u001b[90m━━━━━━━━━━━━━━━━━━━━━━━━━━━━━━━━━━━━━━━━\u001b[0m \u001b[32m78.6/78.6 kB\u001b[0m \u001b[31m9.5 MB/s\u001b[0m eta \u001b[36m0:00:00\u001b[0m\n",
      "\u001b[?25hRequirement already satisfied: typing-extensions>=4 in /usr/local/lib/python3.10/dist-packages (from alembic>=1.5.0->optuna) (4.11.0)\n",
      "Requirement already satisfied: greenlet!=0.4.17 in /usr/local/lib/python3.10/dist-packages (from sqlalchemy>=1.3.0->optuna) (3.0.3)\n",
      "Requirement already satisfied: MarkupSafe>=0.9.2 in /usr/local/lib/python3.10/dist-packages (from Mako->alembic>=1.5.0->optuna) (2.1.5)\n",
      "Installing collected packages: Mako, colorlog, alembic, optuna\n",
      "Successfully installed Mako-1.3.5 alembic-1.13.1 colorlog-6.8.2 optuna-3.6.1\n",
      "Collecting imblearn\n",
      "  Downloading imblearn-0.0-py2.py3-none-any.whl (1.9 kB)\n",
      "Requirement already satisfied: imbalanced-learn in /usr/local/lib/python3.10/dist-packages (from imblearn) (0.10.1)\n",
      "Requirement already satisfied: numpy>=1.17.3 in /usr/local/lib/python3.10/dist-packages (from imbalanced-learn->imblearn) (1.25.2)\n",
      "Requirement already satisfied: scipy>=1.3.2 in /usr/local/lib/python3.10/dist-packages (from imbalanced-learn->imblearn) (1.11.4)\n",
      "Requirement already satisfied: scikit-learn>=1.0.2 in /usr/local/lib/python3.10/dist-packages (from imbalanced-learn->imblearn) (1.2.2)\n",
      "Requirement already satisfied: joblib>=1.1.1 in /usr/local/lib/python3.10/dist-packages (from imbalanced-learn->imblearn) (1.4.2)\n",
      "Requirement already satisfied: threadpoolctl>=2.0.0 in /usr/local/lib/python3.10/dist-packages (from imbalanced-learn->imblearn) (3.5.0)\n",
      "Installing collected packages: imblearn\n",
      "Successfully installed imblearn-0.0\n"
     ]
    }
   ],
   "source": [
    "! pip install optuna\n",
    "! pip install imblearn"
   ]
  },
  {
   "cell_type": "code",
   "execution_count": 3,
   "metadata": {
    "colab": {
     "base_uri": "https://localhost:8080/"
    },
    "executionInfo": {
     "elapsed": 8350,
     "status": "ok",
     "timestamp": 1715947447971,
     "user": {
      "displayName": "Jahanvi Panchal",
      "userId": "01209420393961994162"
     },
     "user_tz": -120
    },
    "id": "FZUnavjP4mvm",
    "outputId": "e711e57b-0b9c-4a5a-b16d-3e40c10539a5",
    "scrolled": true
   },
   "outputs": [
    {
     "name": "stderr",
     "output_type": "stream",
     "text": [
      "[nltk_data] Downloading package punkt to /root/nltk_data...\n",
      "[nltk_data]   Unzipping tokenizers/punkt.zip.\n",
      "[nltk_data] Downloading package wordnet to /root/nltk_data...\n",
      "[nltk_data] Downloading package stopwords to /root/nltk_data...\n",
      "[nltk_data]   Unzipping corpora/stopwords.zip.\n"
     ]
    }
   ],
   "source": [
    "import pandas as pd\n",
    "import nltk\n",
    "import random\n",
    "import numpy as np\n",
    "from nltk.corpus import stopwords\n",
    "from nltk.tokenize import word_tokenize\n",
    "from nltk.stem import WordNetLemmatizer\n",
    "from nltk.stem import PorterStemmer\n",
    "\n",
    "# Download NLTK resources\n",
    "nltk.download('punkt')\n",
    "nltk.download('wordnet')\n",
    "nltk.download('stopwords')\n",
    "\n",
    "from sklearn.model_selection import train_test_split\n",
    "from sklearn.feature_extraction.text import TfidfVectorizer, CountVectorizer\n",
    "from sklearn.svm import SVC\n",
    "from sklearn.naive_bayes import MultinomialNB\n",
    "from sklearn.ensemble import RandomForestClassifier\n",
    "from sklearn.metrics import classification_report, accuracy_score, confusion_matrix, f1_score, make_scorer\n",
    "from imblearn.pipeline import Pipeline\n",
    "from imblearn.over_sampling import RandomOverSampler, ADASYN, SMOTE\n",
    "from imblearn.under_sampling import RandomUnderSampler, NearMiss\n",
    "import optuna\n",
    "\n",
    "#not needed\n",
    "\n",
    "from sklearn.utils.multiclass import unique_labels\n",
    "from sklearn.pipeline import make_pipeline\n",
    "from sklearn.model_selection import train_test_split, StratifiedKFold, cross_val_predict, GridSearchCV\n",
    "from sklearn.linear_model import LogisticRegression\n",
    "\n",
    "\n",
    "\n"
   ]
  },
  {
   "cell_type": "markdown",
   "metadata": {
    "id": "2udGA-pg4mvn"
   },
   "source": [
    "### Loading Downsampled Dataset"
   ]
  },
  {
   "cell_type": "code",
   "execution_count": 4,
   "metadata": {
    "executionInfo": {
     "elapsed": 1300,
     "status": "ok",
     "timestamp": 1715947464914,
     "user": {
      "displayName": "Jahanvi Panchal",
      "userId": "01209420393961994162"
     },
     "user_tz": -120
    },
    "id": "-UTSyD984mvn"
   },
   "outputs": [],
   "source": [
    "# Load the dataset\n",
    "df = pd.read_csv(\"downsampled_dataset_10k.csv\")"
   ]
  },
  {
   "cell_type": "markdown",
   "metadata": {
    "id": "RAhqzUkz4mvo"
   },
   "source": [
    "# **Text Preprocessing**"
   ]
  },
  {
   "cell_type": "code",
   "execution_count": 5,
   "metadata": {
    "colab": {
     "base_uri": "https://localhost:8080/",
     "height": 363
    },
    "executionInfo": {
     "elapsed": 238,
     "status": "ok",
     "timestamp": 1715947471833,
     "user": {
      "displayName": "Jahanvi Panchal",
      "userId": "01209420393961994162"
     },
     "user_tz": -120
    },
    "id": "r8ELxOyw4mvo",
    "outputId": "2ad92878-622d-4d4b-80ed-78526ac74712"
   },
   "outputs": [
    {
     "data": {
      "application/vnd.google.colaboratory.intrinsic+json": {
       "summary": "{\n  \"name\": \"df\",\n  \"rows\": 9999,\n  \"fields\": [\n    {\n      \"column\": \"review_body\",\n      \"properties\": {\n        \"dtype\": \"string\",\n        \"num_unique_values\": 9365,\n        \"samples\": [\n          \"These stands work with the VIZIO speakers I got very well. The ONLY thing I had to do is widen the rear wire supports to make room for the RCA plug. Buy them for you're speakers as they are heavy cast iron, and absorb vibrations.\",\n          \"People keep griping over how thin the wire is.... I don't know what they were expecting for $30, but it obviously wasn't this. That being said, I found the wire to be more than sufficient and the plugs were very easy to solder together. I loved this kit and the patch cables I made with it wonderfully transmit the tone from my guitar. I used this in conjunction with some patch cables I had laying around to link 9 pedals together on a small homemade board and I ended up with at least 6 feet of cable left over. I am very pleased with the result and will definitely order this again in the future for all of my cabling needs. It's far far far cheaper to do this than it is to buy pre-made cables. If you have cable runs that are super long, this probably won't work, but as far as short applications, this cable is more than sufficient for your needs.\",\n          \"For how cheap these headphones were, these things are WARRIORS! I am an avid runner, biker and hiker - I have taken these things on treadmills, trails, around town, worn them while working out and even in a torrential downpour while on a 3-mile run outside. These things have survived some serious sweat and water drenchings and performance has not suffered. The sound quality is less than, for example, standard Apple headphones, but for an active lifestyle and cheap price, they are great. Given that the sound quality is just ok, the only other knock on them is that, even at their smallest setting, they are slightly big on my year. Perhaps I have small ears. But for the price, these little guys are champs and are still kicking!\"\n        ],\n        \"semantic_type\": \"\",\n        \"description\": \"\"\n      }\n    },\n    {\n      \"column\": \"sentiment\",\n      \"properties\": {\n        \"dtype\": \"category\",\n        \"num_unique_values\": 3,\n        \"samples\": [\n          \"Positive\",\n          \"Negative\",\n          \"Neutral\"\n        ],\n        \"semantic_type\": \"\",\n        \"description\": \"\"\n      }\n    }\n  ]\n}",
       "type": "dataframe",
       "variable_name": "df"
      },
      "text/html": [
       "\n",
       "  <div id=\"df-547b53df-888b-48db-8cea-557e5c41f659\" class=\"colab-df-container\">\n",
       "    <div>\n",
       "<style scoped>\n",
       "    .dataframe tbody tr th:only-of-type {\n",
       "        vertical-align: middle;\n",
       "    }\n",
       "\n",
       "    .dataframe tbody tr th {\n",
       "        vertical-align: top;\n",
       "    }\n",
       "\n",
       "    .dataframe thead th {\n",
       "        text-align: right;\n",
       "    }\n",
       "</style>\n",
       "<table border=\"1\" class=\"dataframe\">\n",
       "  <thead>\n",
       "    <tr style=\"text-align: right;\">\n",
       "      <th></th>\n",
       "      <th>review_body</th>\n",
       "      <th>sentiment</th>\n",
       "    </tr>\n",
       "  </thead>\n",
       "  <tbody>\n",
       "    <tr>\n",
       "      <th>0</th>\n",
       "      <td>Great tv signal very good buy.I like it</td>\n",
       "      <td>Positive</td>\n",
       "    </tr>\n",
       "    <tr>\n",
       "      <th>1</th>\n",
       "      <td>Good sound. Fine Material. Simply perfect!</td>\n",
       "      <td>Positive</td>\n",
       "    </tr>\n",
       "    <tr>\n",
       "      <th>2</th>\n",
       "      <td>looks good as shown lots of base. BTW fast shi...</td>\n",
       "      <td>Positive</td>\n",
       "    </tr>\n",
       "    <tr>\n",
       "      <th>3</th>\n",
       "      <td>This player is totally awesome! I has all the ...</td>\n",
       "      <td>Positive</td>\n",
       "    </tr>\n",
       "    <tr>\n",
       "      <th>4</th>\n",
       "      <td>Very quick delivery and high quality. Sound is...</td>\n",
       "      <td>Positive</td>\n",
       "    </tr>\n",
       "    <tr>\n",
       "      <th>5</th>\n",
       "      <td>Awesome</td>\n",
       "      <td>Positive</td>\n",
       "    </tr>\n",
       "    <tr>\n",
       "      <th>6</th>\n",
       "      <td>Extremely nice quality, especially for the pri...</td>\n",
       "      <td>Positive</td>\n",
       "    </tr>\n",
       "    <tr>\n",
       "      <th>7</th>\n",
       "      <td>Identical to the one from Verizon that we some...</td>\n",
       "      <td>Positive</td>\n",
       "    </tr>\n",
       "    <tr>\n",
       "      <th>8</th>\n",
       "      <td>These are so handy and sound really awesome! P...</td>\n",
       "      <td>Positive</td>\n",
       "    </tr>\n",
       "    <tr>\n",
       "      <th>9</th>\n",
       "      <td>Works great!</td>\n",
       "      <td>Positive</td>\n",
       "    </tr>\n",
       "  </tbody>\n",
       "</table>\n",
       "</div>\n",
       "    <div class=\"colab-df-buttons\">\n",
       "\n",
       "  <div class=\"colab-df-container\">\n",
       "    <button class=\"colab-df-convert\" onclick=\"convertToInteractive('df-547b53df-888b-48db-8cea-557e5c41f659')\"\n",
       "            title=\"Convert this dataframe to an interactive table.\"\n",
       "            style=\"display:none;\">\n",
       "\n",
       "  <svg xmlns=\"http://www.w3.org/2000/svg\" height=\"24px\" viewBox=\"0 -960 960 960\">\n",
       "    <path d=\"M120-120v-720h720v720H120Zm60-500h600v-160H180v160Zm220 220h160v-160H400v160Zm0 220h160v-160H400v160ZM180-400h160v-160H180v160Zm440 0h160v-160H620v160ZM180-180h160v-160H180v160Zm440 0h160v-160H620v160Z\"/>\n",
       "  </svg>\n",
       "    </button>\n",
       "\n",
       "  <style>\n",
       "    .colab-df-container {\n",
       "      display:flex;\n",
       "      gap: 12px;\n",
       "    }\n",
       "\n",
       "    .colab-df-convert {\n",
       "      background-color: #E8F0FE;\n",
       "      border: none;\n",
       "      border-radius: 50%;\n",
       "      cursor: pointer;\n",
       "      display: none;\n",
       "      fill: #1967D2;\n",
       "      height: 32px;\n",
       "      padding: 0 0 0 0;\n",
       "      width: 32px;\n",
       "    }\n",
       "\n",
       "    .colab-df-convert:hover {\n",
       "      background-color: #E2EBFA;\n",
       "      box-shadow: 0px 1px 2px rgba(60, 64, 67, 0.3), 0px 1px 3px 1px rgba(60, 64, 67, 0.15);\n",
       "      fill: #174EA6;\n",
       "    }\n",
       "\n",
       "    .colab-df-buttons div {\n",
       "      margin-bottom: 4px;\n",
       "    }\n",
       "\n",
       "    [theme=dark] .colab-df-convert {\n",
       "      background-color: #3B4455;\n",
       "      fill: #D2E3FC;\n",
       "    }\n",
       "\n",
       "    [theme=dark] .colab-df-convert:hover {\n",
       "      background-color: #434B5C;\n",
       "      box-shadow: 0px 1px 3px 1px rgba(0, 0, 0, 0.15);\n",
       "      filter: drop-shadow(0px 1px 2px rgba(0, 0, 0, 0.3));\n",
       "      fill: #FFFFFF;\n",
       "    }\n",
       "  </style>\n",
       "\n",
       "    <script>\n",
       "      const buttonEl =\n",
       "        document.querySelector('#df-547b53df-888b-48db-8cea-557e5c41f659 button.colab-df-convert');\n",
       "      buttonEl.style.display =\n",
       "        google.colab.kernel.accessAllowed ? 'block' : 'none';\n",
       "\n",
       "      async function convertToInteractive(key) {\n",
       "        const element = document.querySelector('#df-547b53df-888b-48db-8cea-557e5c41f659');\n",
       "        const dataTable =\n",
       "          await google.colab.kernel.invokeFunction('convertToInteractive',\n",
       "                                                    [key], {});\n",
       "        if (!dataTable) return;\n",
       "\n",
       "        const docLinkHtml = 'Like what you see? Visit the ' +\n",
       "          '<a target=\"_blank\" href=https://colab.research.google.com/notebooks/data_table.ipynb>data table notebook</a>'\n",
       "          + ' to learn more about interactive tables.';\n",
       "        element.innerHTML = '';\n",
       "        dataTable['output_type'] = 'display_data';\n",
       "        await google.colab.output.renderOutput(dataTable, element);\n",
       "        const docLink = document.createElement('div');\n",
       "        docLink.innerHTML = docLinkHtml;\n",
       "        element.appendChild(docLink);\n",
       "      }\n",
       "    </script>\n",
       "  </div>\n",
       "\n",
       "\n",
       "<div id=\"df-ebdb3c19-501d-4e12-8ab5-2e85365a7647\">\n",
       "  <button class=\"colab-df-quickchart\" onclick=\"quickchart('df-ebdb3c19-501d-4e12-8ab5-2e85365a7647')\"\n",
       "            title=\"Suggest charts\"\n",
       "            style=\"display:none;\">\n",
       "\n",
       "<svg xmlns=\"http://www.w3.org/2000/svg\" height=\"24px\"viewBox=\"0 0 24 24\"\n",
       "     width=\"24px\">\n",
       "    <g>\n",
       "        <path d=\"M19 3H5c-1.1 0-2 .9-2 2v14c0 1.1.9 2 2 2h14c1.1 0 2-.9 2-2V5c0-1.1-.9-2-2-2zM9 17H7v-7h2v7zm4 0h-2V7h2v10zm4 0h-2v-4h2v4z\"/>\n",
       "    </g>\n",
       "</svg>\n",
       "  </button>\n",
       "\n",
       "<style>\n",
       "  .colab-df-quickchart {\n",
       "      --bg-color: #E8F0FE;\n",
       "      --fill-color: #1967D2;\n",
       "      --hover-bg-color: #E2EBFA;\n",
       "      --hover-fill-color: #174EA6;\n",
       "      --disabled-fill-color: #AAA;\n",
       "      --disabled-bg-color: #DDD;\n",
       "  }\n",
       "\n",
       "  [theme=dark] .colab-df-quickchart {\n",
       "      --bg-color: #3B4455;\n",
       "      --fill-color: #D2E3FC;\n",
       "      --hover-bg-color: #434B5C;\n",
       "      --hover-fill-color: #FFFFFF;\n",
       "      --disabled-bg-color: #3B4455;\n",
       "      --disabled-fill-color: #666;\n",
       "  }\n",
       "\n",
       "  .colab-df-quickchart {\n",
       "    background-color: var(--bg-color);\n",
       "    border: none;\n",
       "    border-radius: 50%;\n",
       "    cursor: pointer;\n",
       "    display: none;\n",
       "    fill: var(--fill-color);\n",
       "    height: 32px;\n",
       "    padding: 0;\n",
       "    width: 32px;\n",
       "  }\n",
       "\n",
       "  .colab-df-quickchart:hover {\n",
       "    background-color: var(--hover-bg-color);\n",
       "    box-shadow: 0 1px 2px rgba(60, 64, 67, 0.3), 0 1px 3px 1px rgba(60, 64, 67, 0.15);\n",
       "    fill: var(--button-hover-fill-color);\n",
       "  }\n",
       "\n",
       "  .colab-df-quickchart-complete:disabled,\n",
       "  .colab-df-quickchart-complete:disabled:hover {\n",
       "    background-color: var(--disabled-bg-color);\n",
       "    fill: var(--disabled-fill-color);\n",
       "    box-shadow: none;\n",
       "  }\n",
       "\n",
       "  .colab-df-spinner {\n",
       "    border: 2px solid var(--fill-color);\n",
       "    border-color: transparent;\n",
       "    border-bottom-color: var(--fill-color);\n",
       "    animation:\n",
       "      spin 1s steps(1) infinite;\n",
       "  }\n",
       "\n",
       "  @keyframes spin {\n",
       "    0% {\n",
       "      border-color: transparent;\n",
       "      border-bottom-color: var(--fill-color);\n",
       "      border-left-color: var(--fill-color);\n",
       "    }\n",
       "    20% {\n",
       "      border-color: transparent;\n",
       "      border-left-color: var(--fill-color);\n",
       "      border-top-color: var(--fill-color);\n",
       "    }\n",
       "    30% {\n",
       "      border-color: transparent;\n",
       "      border-left-color: var(--fill-color);\n",
       "      border-top-color: var(--fill-color);\n",
       "      border-right-color: var(--fill-color);\n",
       "    }\n",
       "    40% {\n",
       "      border-color: transparent;\n",
       "      border-right-color: var(--fill-color);\n",
       "      border-top-color: var(--fill-color);\n",
       "    }\n",
       "    60% {\n",
       "      border-color: transparent;\n",
       "      border-right-color: var(--fill-color);\n",
       "    }\n",
       "    80% {\n",
       "      border-color: transparent;\n",
       "      border-right-color: var(--fill-color);\n",
       "      border-bottom-color: var(--fill-color);\n",
       "    }\n",
       "    90% {\n",
       "      border-color: transparent;\n",
       "      border-bottom-color: var(--fill-color);\n",
       "    }\n",
       "  }\n",
       "</style>\n",
       "\n",
       "  <script>\n",
       "    async function quickchart(key) {\n",
       "      const quickchartButtonEl =\n",
       "        document.querySelector('#' + key + ' button');\n",
       "      quickchartButtonEl.disabled = true;  // To prevent multiple clicks.\n",
       "      quickchartButtonEl.classList.add('colab-df-spinner');\n",
       "      try {\n",
       "        const charts = await google.colab.kernel.invokeFunction(\n",
       "            'suggestCharts', [key], {});\n",
       "      } catch (error) {\n",
       "        console.error('Error during call to suggestCharts:', error);\n",
       "      }\n",
       "      quickchartButtonEl.classList.remove('colab-df-spinner');\n",
       "      quickchartButtonEl.classList.add('colab-df-quickchart-complete');\n",
       "    }\n",
       "    (() => {\n",
       "      let quickchartButtonEl =\n",
       "        document.querySelector('#df-ebdb3c19-501d-4e12-8ab5-2e85365a7647 button');\n",
       "      quickchartButtonEl.style.display =\n",
       "        google.colab.kernel.accessAllowed ? 'block' : 'none';\n",
       "    })();\n",
       "  </script>\n",
       "</div>\n",
       "    </div>\n",
       "  </div>\n"
      ],
      "text/plain": [
       "                                         review_body sentiment\n",
       "0            Great tv signal very good buy.I like it  Positive\n",
       "1         Good sound. Fine Material. Simply perfect!  Positive\n",
       "2  looks good as shown lots of base. BTW fast shi...  Positive\n",
       "3  This player is totally awesome! I has all the ...  Positive\n",
       "4  Very quick delivery and high quality. Sound is...  Positive\n",
       "5                                            Awesome  Positive\n",
       "6  Extremely nice quality, especially for the pri...  Positive\n",
       "7  Identical to the one from Verizon that we some...  Positive\n",
       "8  These are so handy and sound really awesome! P...  Positive\n",
       "9                                       Works great!  Positive"
      ]
     },
     "execution_count": 5,
     "metadata": {},
     "output_type": "execute_result"
    }
   ],
   "source": [
    "# Actually we only need the content(i.e. review) & the sentiment for classification\n",
    "df = df[[\"review_body\", \"sentiment\"]]\n",
    "df.head(10)"
   ]
  },
  {
   "cell_type": "code",
   "execution_count": 6,
   "metadata": {
    "executionInfo": {
     "elapsed": 234,
     "status": "ok",
     "timestamp": 1715947476588,
     "user": {
      "displayName": "Jahanvi Panchal",
      "userId": "01209420393961994162"
     },
     "user_tz": -120
    },
    "id": "VAAv5r4g4mvo",
    "scrolled": true
   },
   "outputs": [],
   "source": [
    "# Text normalization\n",
    "def normalize_text(text):\n",
    "    # Convert text to lowercase\n",
    "    text = text.lower()\n",
    "    return text\n",
    "\n",
    "# Removing punctuation (not used)\n",
    "def remove_punctuation(text):\n",
    "    text = str(text)\n",
    "    punctuations = string.punctuation\n",
    "    return text.translate(str.maketrans('', '', punctuations))\n",
    "\n",
    "# Removing special characters (not used)\n",
    "def remove_spec_char(text):\n",
    "    text = str(text)\n",
    "    text = re.sub('[^a-zA-Z0-9]', ' ', text)\n",
    "    text = re.sub('\\s+', ' ', text)\n",
    "    return text\n",
    "\n",
    "# Tokenization & Stopword removal\n",
    "def remove_stopwords(text):\n",
    "    stop_words = set(stopwords.words('english'))\n",
    "    tokens = word_tokenize(text)\n",
    "    return ' '.join([word for word in tokens if word not in stop_words])\n",
    "\n",
    "# Lemmatization (not used)\n",
    "def lemmatize_text(text):\n",
    "    tokens = word_tokenize(text)\n",
    "    lemmatizer = WordNetLemmatizer()\n",
    "    return ' '.join([lemmatizer.lemmatize(word) for word in tokens])\n",
    "    #return lemmatized_tokens\n",
    "\n",
    "# Stemming\n",
    "def stem_words(text):\n",
    "    ps = PorterStemmer()\n",
    "    return ' '.join([ps.stem(word) for word in text.split()])\n"
   ]
  },
  {
   "cell_type": "code",
   "execution_count": 7,
   "metadata": {
    "executionInfo": {
     "elapsed": 12324,
     "status": "ok",
     "timestamp": 1715947497272,
     "user": {
      "displayName": "Jahanvi Panchal",
      "userId": "01209420393961994162"
     },
     "user_tz": -120
    },
    "id": "AmyrMCfK4mvo"
   },
   "outputs": [],
   "source": [
    "# Apply preprocessing steps\n",
    "\n",
    "# lowercase words, remove punctuation & special characters\n",
    "df[\"review_body\"] = df[\"review_body\"].apply(normalize_text)\n",
    "#df[\"review_body\"] = df[\"review_body\"].apply(remove_punctuation)\n",
    "#df[\"review_body\"] = df[\"review_body\"].apply(remove_spec_char)\n",
    "\n",
    "#tokenization and stopwords removal, stemming or lemmatization\n",
    "df[\"review_body\"] = df[\"review_body\"].apply(remove_stopwords)\n",
    "#df[\"review_body\"] = df[\"review_body\"].apply(lemmatize_text)\n",
    "df[\"review_body\"] = df[\"review_body\"].apply(stem_words)"
   ]
  },
  {
   "cell_type": "code",
   "execution_count": 8,
   "metadata": {
    "colab": {
     "base_uri": "https://localhost:8080/",
     "height": 363
    },
    "executionInfo": {
     "elapsed": 237,
     "status": "ok",
     "timestamp": 1715947524078,
     "user": {
      "displayName": "Jahanvi Panchal",
      "userId": "01209420393961994162"
     },
     "user_tz": -120
    },
    "id": "zuEGWyJE4mvp",
    "outputId": "eaf37b33-5681-4328-d4a7-08d4ab28baf0",
    "scrolled": true
   },
   "outputs": [
    {
     "data": {
      "application/vnd.google.colaboratory.intrinsic+json": {
       "summary": "{\n  \"name\": \"df\",\n  \"rows\": 9999,\n  \"fields\": [\n    {\n      \"column\": \"review_body\",\n      \"properties\": {\n        \"dtype\": \"string\",\n        \"num_unique_values\": 9053,\n        \"samples\": [\n          \"holi smoke receiv sound amaz ! super easi setup , even better super easi oper . two small children low volum sound qualiti even tv view realli import . receiv incred job produc dynam rang sound low volum . sound great turn 11 listen alic chain , main concern well daili show hous card sound daili basi definit exceed expect . 'm run 5.1 system mordant short front center channel , cambridg audio rear channel martinlogan subwoof ( purchas amazon ) could n't happier .\",\n          \"great price , batteri work perfect , easi instal , problem fast ship .\",\n          \"great price . buy\"\n        ],\n        \"semantic_type\": \"\",\n        \"description\": \"\"\n      }\n    },\n    {\n      \"column\": \"sentiment\",\n      \"properties\": {\n        \"dtype\": \"category\",\n        \"num_unique_values\": 3,\n        \"samples\": [\n          \"Positive\",\n          \"Negative\",\n          \"Neutral\"\n        ],\n        \"semantic_type\": \"\",\n        \"description\": \"\"\n      }\n    }\n  ]\n}",
       "type": "dataframe",
       "variable_name": "df"
      },
      "text/html": [
       "\n",
       "  <div id=\"df-93d59b99-4dcc-4d3f-8079-33f50b16d72e\" class=\"colab-df-container\">\n",
       "    <div>\n",
       "<style scoped>\n",
       "    .dataframe tbody tr th:only-of-type {\n",
       "        vertical-align: middle;\n",
       "    }\n",
       "\n",
       "    .dataframe tbody tr th {\n",
       "        vertical-align: top;\n",
       "    }\n",
       "\n",
       "    .dataframe thead th {\n",
       "        text-align: right;\n",
       "    }\n",
       "</style>\n",
       "<table border=\"1\" class=\"dataframe\">\n",
       "  <thead>\n",
       "    <tr style=\"text-align: right;\">\n",
       "      <th></th>\n",
       "      <th>review_body</th>\n",
       "      <th>sentiment</th>\n",
       "    </tr>\n",
       "  </thead>\n",
       "  <tbody>\n",
       "    <tr>\n",
       "      <th>0</th>\n",
       "      <td>great tv signal good buy.i like</td>\n",
       "      <td>Positive</td>\n",
       "    </tr>\n",
       "    <tr>\n",
       "      <th>1</th>\n",
       "      <td>good sound . fine materi . simpli perfect !</td>\n",
       "      <td>Positive</td>\n",
       "    </tr>\n",
       "    <tr>\n",
       "      <th>2</th>\n",
       "      <td>look good shown lot base . btw fast ship recei...</td>\n",
       "      <td>Positive</td>\n",
       "    </tr>\n",
       "    <tr>\n",
       "      <th>3</th>\n",
       "      <td>player total awesom ! featur need , ( somehow ...</td>\n",
       "      <td>Positive</td>\n",
       "    </tr>\n",
       "    <tr>\n",
       "      <th>4</th>\n",
       "      <td>quick deliveri high qualiti . sound great cabl...</td>\n",
       "      <td>Positive</td>\n",
       "    </tr>\n",
       "    <tr>\n",
       "      <th>5</th>\n",
       "      <td>awesom</td>\n",
       "      <td>Positive</td>\n",
       "    </tr>\n",
       "    <tr>\n",
       "      <th>6</th>\n",
       "      <td>extrem nice qualiti , especi price . boyfriend...</td>\n",
       "      <td>Positive</td>\n",
       "    </tr>\n",
       "    <tr>\n",
       "      <th>7</th>\n",
       "      <td>ident one verizon somehow misplac , fraction c...</td>\n",
       "      <td>Positive</td>\n",
       "    </tr>\n",
       "    <tr>\n",
       "      <th>8</th>\n",
       "      <td>handi sound realli awesom ! perfect phone game...</td>\n",
       "      <td>Positive</td>\n",
       "    </tr>\n",
       "    <tr>\n",
       "      <th>9</th>\n",
       "      <td>work great !</td>\n",
       "      <td>Positive</td>\n",
       "    </tr>\n",
       "  </tbody>\n",
       "</table>\n",
       "</div>\n",
       "    <div class=\"colab-df-buttons\">\n",
       "\n",
       "  <div class=\"colab-df-container\">\n",
       "    <button class=\"colab-df-convert\" onclick=\"convertToInteractive('df-93d59b99-4dcc-4d3f-8079-33f50b16d72e')\"\n",
       "            title=\"Convert this dataframe to an interactive table.\"\n",
       "            style=\"display:none;\">\n",
       "\n",
       "  <svg xmlns=\"http://www.w3.org/2000/svg\" height=\"24px\" viewBox=\"0 -960 960 960\">\n",
       "    <path d=\"M120-120v-720h720v720H120Zm60-500h600v-160H180v160Zm220 220h160v-160H400v160Zm0 220h160v-160H400v160ZM180-400h160v-160H180v160Zm440 0h160v-160H620v160ZM180-180h160v-160H180v160Zm440 0h160v-160H620v160Z\"/>\n",
       "  </svg>\n",
       "    </button>\n",
       "\n",
       "  <style>\n",
       "    .colab-df-container {\n",
       "      display:flex;\n",
       "      gap: 12px;\n",
       "    }\n",
       "\n",
       "    .colab-df-convert {\n",
       "      background-color: #E8F0FE;\n",
       "      border: none;\n",
       "      border-radius: 50%;\n",
       "      cursor: pointer;\n",
       "      display: none;\n",
       "      fill: #1967D2;\n",
       "      height: 32px;\n",
       "      padding: 0 0 0 0;\n",
       "      width: 32px;\n",
       "    }\n",
       "\n",
       "    .colab-df-convert:hover {\n",
       "      background-color: #E2EBFA;\n",
       "      box-shadow: 0px 1px 2px rgba(60, 64, 67, 0.3), 0px 1px 3px 1px rgba(60, 64, 67, 0.15);\n",
       "      fill: #174EA6;\n",
       "    }\n",
       "\n",
       "    .colab-df-buttons div {\n",
       "      margin-bottom: 4px;\n",
       "    }\n",
       "\n",
       "    [theme=dark] .colab-df-convert {\n",
       "      background-color: #3B4455;\n",
       "      fill: #D2E3FC;\n",
       "    }\n",
       "\n",
       "    [theme=dark] .colab-df-convert:hover {\n",
       "      background-color: #434B5C;\n",
       "      box-shadow: 0px 1px 3px 1px rgba(0, 0, 0, 0.15);\n",
       "      filter: drop-shadow(0px 1px 2px rgba(0, 0, 0, 0.3));\n",
       "      fill: #FFFFFF;\n",
       "    }\n",
       "  </style>\n",
       "\n",
       "    <script>\n",
       "      const buttonEl =\n",
       "        document.querySelector('#df-93d59b99-4dcc-4d3f-8079-33f50b16d72e button.colab-df-convert');\n",
       "      buttonEl.style.display =\n",
       "        google.colab.kernel.accessAllowed ? 'block' : 'none';\n",
       "\n",
       "      async function convertToInteractive(key) {\n",
       "        const element = document.querySelector('#df-93d59b99-4dcc-4d3f-8079-33f50b16d72e');\n",
       "        const dataTable =\n",
       "          await google.colab.kernel.invokeFunction('convertToInteractive',\n",
       "                                                    [key], {});\n",
       "        if (!dataTable) return;\n",
       "\n",
       "        const docLinkHtml = 'Like what you see? Visit the ' +\n",
       "          '<a target=\"_blank\" href=https://colab.research.google.com/notebooks/data_table.ipynb>data table notebook</a>'\n",
       "          + ' to learn more about interactive tables.';\n",
       "        element.innerHTML = '';\n",
       "        dataTable['output_type'] = 'display_data';\n",
       "        await google.colab.output.renderOutput(dataTable, element);\n",
       "        const docLink = document.createElement('div');\n",
       "        docLink.innerHTML = docLinkHtml;\n",
       "        element.appendChild(docLink);\n",
       "      }\n",
       "    </script>\n",
       "  </div>\n",
       "\n",
       "\n",
       "<div id=\"df-edd02fba-a537-4d07-b9a9-829056b95ba3\">\n",
       "  <button class=\"colab-df-quickchart\" onclick=\"quickchart('df-edd02fba-a537-4d07-b9a9-829056b95ba3')\"\n",
       "            title=\"Suggest charts\"\n",
       "            style=\"display:none;\">\n",
       "\n",
       "<svg xmlns=\"http://www.w3.org/2000/svg\" height=\"24px\"viewBox=\"0 0 24 24\"\n",
       "     width=\"24px\">\n",
       "    <g>\n",
       "        <path d=\"M19 3H5c-1.1 0-2 .9-2 2v14c0 1.1.9 2 2 2h14c1.1 0 2-.9 2-2V5c0-1.1-.9-2-2-2zM9 17H7v-7h2v7zm4 0h-2V7h2v10zm4 0h-2v-4h2v4z\"/>\n",
       "    </g>\n",
       "</svg>\n",
       "  </button>\n",
       "\n",
       "<style>\n",
       "  .colab-df-quickchart {\n",
       "      --bg-color: #E8F0FE;\n",
       "      --fill-color: #1967D2;\n",
       "      --hover-bg-color: #E2EBFA;\n",
       "      --hover-fill-color: #174EA6;\n",
       "      --disabled-fill-color: #AAA;\n",
       "      --disabled-bg-color: #DDD;\n",
       "  }\n",
       "\n",
       "  [theme=dark] .colab-df-quickchart {\n",
       "      --bg-color: #3B4455;\n",
       "      --fill-color: #D2E3FC;\n",
       "      --hover-bg-color: #434B5C;\n",
       "      --hover-fill-color: #FFFFFF;\n",
       "      --disabled-bg-color: #3B4455;\n",
       "      --disabled-fill-color: #666;\n",
       "  }\n",
       "\n",
       "  .colab-df-quickchart {\n",
       "    background-color: var(--bg-color);\n",
       "    border: none;\n",
       "    border-radius: 50%;\n",
       "    cursor: pointer;\n",
       "    display: none;\n",
       "    fill: var(--fill-color);\n",
       "    height: 32px;\n",
       "    padding: 0;\n",
       "    width: 32px;\n",
       "  }\n",
       "\n",
       "  .colab-df-quickchart:hover {\n",
       "    background-color: var(--hover-bg-color);\n",
       "    box-shadow: 0 1px 2px rgba(60, 64, 67, 0.3), 0 1px 3px 1px rgba(60, 64, 67, 0.15);\n",
       "    fill: var(--button-hover-fill-color);\n",
       "  }\n",
       "\n",
       "  .colab-df-quickchart-complete:disabled,\n",
       "  .colab-df-quickchart-complete:disabled:hover {\n",
       "    background-color: var(--disabled-bg-color);\n",
       "    fill: var(--disabled-fill-color);\n",
       "    box-shadow: none;\n",
       "  }\n",
       "\n",
       "  .colab-df-spinner {\n",
       "    border: 2px solid var(--fill-color);\n",
       "    border-color: transparent;\n",
       "    border-bottom-color: var(--fill-color);\n",
       "    animation:\n",
       "      spin 1s steps(1) infinite;\n",
       "  }\n",
       "\n",
       "  @keyframes spin {\n",
       "    0% {\n",
       "      border-color: transparent;\n",
       "      border-bottom-color: var(--fill-color);\n",
       "      border-left-color: var(--fill-color);\n",
       "    }\n",
       "    20% {\n",
       "      border-color: transparent;\n",
       "      border-left-color: var(--fill-color);\n",
       "      border-top-color: var(--fill-color);\n",
       "    }\n",
       "    30% {\n",
       "      border-color: transparent;\n",
       "      border-left-color: var(--fill-color);\n",
       "      border-top-color: var(--fill-color);\n",
       "      border-right-color: var(--fill-color);\n",
       "    }\n",
       "    40% {\n",
       "      border-color: transparent;\n",
       "      border-right-color: var(--fill-color);\n",
       "      border-top-color: var(--fill-color);\n",
       "    }\n",
       "    60% {\n",
       "      border-color: transparent;\n",
       "      border-right-color: var(--fill-color);\n",
       "    }\n",
       "    80% {\n",
       "      border-color: transparent;\n",
       "      border-right-color: var(--fill-color);\n",
       "      border-bottom-color: var(--fill-color);\n",
       "    }\n",
       "    90% {\n",
       "      border-color: transparent;\n",
       "      border-bottom-color: var(--fill-color);\n",
       "    }\n",
       "  }\n",
       "</style>\n",
       "\n",
       "  <script>\n",
       "    async function quickchart(key) {\n",
       "      const quickchartButtonEl =\n",
       "        document.querySelector('#' + key + ' button');\n",
       "      quickchartButtonEl.disabled = true;  // To prevent multiple clicks.\n",
       "      quickchartButtonEl.classList.add('colab-df-spinner');\n",
       "      try {\n",
       "        const charts = await google.colab.kernel.invokeFunction(\n",
       "            'suggestCharts', [key], {});\n",
       "      } catch (error) {\n",
       "        console.error('Error during call to suggestCharts:', error);\n",
       "      }\n",
       "      quickchartButtonEl.classList.remove('colab-df-spinner');\n",
       "      quickchartButtonEl.classList.add('colab-df-quickchart-complete');\n",
       "    }\n",
       "    (() => {\n",
       "      let quickchartButtonEl =\n",
       "        document.querySelector('#df-edd02fba-a537-4d07-b9a9-829056b95ba3 button');\n",
       "      quickchartButtonEl.style.display =\n",
       "        google.colab.kernel.accessAllowed ? 'block' : 'none';\n",
       "    })();\n",
       "  </script>\n",
       "</div>\n",
       "    </div>\n",
       "  </div>\n"
      ],
      "text/plain": [
       "                                         review_body sentiment\n",
       "0                    great tv signal good buy.i like  Positive\n",
       "1        good sound . fine materi . simpli perfect !  Positive\n",
       "2  look good shown lot base . btw fast ship recei...  Positive\n",
       "3  player total awesom ! featur need , ( somehow ...  Positive\n",
       "4  quick deliveri high qualiti . sound great cabl...  Positive\n",
       "5                                             awesom  Positive\n",
       "6  extrem nice qualiti , especi price . boyfriend...  Positive\n",
       "7  ident one verizon somehow misplac , fraction c...  Positive\n",
       "8  handi sound realli awesom ! perfect phone game...  Positive\n",
       "9                                       work great !  Positive"
      ]
     },
     "execution_count": 8,
     "metadata": {},
     "output_type": "execute_result"
    }
   ],
   "source": [
    "df.head(10)"
   ]
  },
  {
   "cell_type": "markdown",
   "metadata": {
    "id": "XnL9BlOf4mvp"
   },
   "source": [
    "## Train/Validation/Test Split"
   ]
  },
  {
   "cell_type": "code",
   "execution_count": 9,
   "metadata": {
    "colab": {
     "base_uri": "https://localhost:8080/"
    },
    "executionInfo": {
     "elapsed": 254,
     "status": "ok",
     "timestamp": 1715947527500,
     "user": {
      "displayName": "Jahanvi Panchal",
      "userId": "01209420393961994162"
     },
     "user_tz": -120
    },
    "id": "VvSqn0x04mvp",
    "outputId": "2282c7c1-5b74-4910-b8ff-b635464aa1d8"
   },
   "outputs": [
    {
     "name": "stdout",
     "output_type": "stream",
     "text": [
      "y_train: (7999,)/ x_train: (7999,)\n",
      "y_train: (1000,)/ x_train: (1000,)\n",
      "y_test: (1000,)/ x_test: (1000,)\n"
     ]
    }
   ],
   "source": [
    "# split into train, val and test data\n",
    "X_train, X_test = train_test_split(df, test_size=0.2, random_state = 42, stratify=df['sentiment'])\n",
    "X_val, X_test = train_test_split(X_test, test_size=0.5, random_state = 42, stratify=X_test['sentiment'])\n",
    "\n",
    "\n",
    "y_train = X_train['sentiment']\n",
    "y_val = X_val['sentiment']\n",
    "y_test = X_test['sentiment']\n",
    "\n",
    "\n",
    "X_train.drop(columns = ['sentiment'], inplace= True)\n",
    "X_val.drop(columns = ['sentiment'], inplace= True)\n",
    "X_test.drop(columns = ['sentiment'], inplace= True)\n",
    "X_train = X_train['review_body']\n",
    "X_val = X_val['review_body']\n",
    "X_test = X_test['review_body']\n",
    "\n",
    "\n",
    "print (f\"y_train: {y_train.shape}/ x_train: {X_train.shape}\")\n",
    "print (f\"y_train: {y_val.shape}/ x_train: {X_val.shape}\")\n",
    "print (f\"y_test: {y_test.shape}/ x_test: {X_test.shape}\")\n",
    "\n"
   ]
  },
  {
   "cell_type": "markdown",
   "metadata": {
    "id": "mJR1VFwr4mvp"
   },
   "source": [
    "## Tf-Idf Vectorization  "
   ]
  },
  {
   "cell_type": "code",
   "execution_count": 10,
   "metadata": {
    "executionInfo": {
     "elapsed": 654,
     "status": "ok",
     "timestamp": 1715947531657,
     "user": {
      "displayName": "Jahanvi Panchal",
      "userId": "01209420393961994162"
     },
     "user_tz": -120
    },
    "id": "lNy-HxQ94mvq"
   },
   "outputs": [],
   "source": [
    "# Vectorize the text data using TF-IDF\n",
    "tfidf_vectorizer = TfidfVectorizer()\n",
    "X_train_tfidf = tfidf_vectorizer.fit_transform(X_train)\n",
    "X_val_tfidf = tfidf_vectorizer.transform(X_val)\n",
    "X_test_tfidf = tfidf_vectorizer.transform(X_test)\n"
   ]
  },
  {
   "cell_type": "markdown",
   "metadata": {
    "id": "0VZdNME84mvq"
   },
   "source": [
    "## Balancing Methods (used in Pipeline)"
   ]
  },
  {
   "cell_type": "code",
   "execution_count": 11,
   "metadata": {
    "executionInfo": {
     "elapsed": 250,
     "status": "ok",
     "timestamp": 1715947534891,
     "user": {
      "displayName": "Jahanvi Panchal",
      "userId": "01209420393961994162"
     },
     "user_tz": -120
    },
    "id": "jVcZ7owK4mvq"
   },
   "outputs": [],
   "source": [
    "# Define oversampling and undersampling techniques\n",
    "oversampler = RandomOverSampler(random_state=42)\n",
    "undersampler = RandomUnderSampler(random_state=42)\n",
    "balancing = oversampler"
   ]
  },
  {
   "cell_type": "markdown",
   "metadata": {
    "id": "TkCNS7vS4mvq"
   },
   "source": [
    "## Naive Bayes"
   ]
  },
  {
   "cell_type": "code",
   "execution_count": 12,
   "metadata": {
    "colab": {
     "base_uri": "https://localhost:8080/"
    },
    "executionInfo": {
     "elapsed": 10840,
     "status": "ok",
     "timestamp": 1715947548437,
     "user": {
      "displayName": "Jahanvi Panchal",
      "userId": "01209420393961994162"
     },
     "user_tz": -120
    },
    "id": "Vl0nV3CQ4mvq",
    "outputId": "c0377ab7-3252-4f48-a49e-e8da433c3819",
    "scrolled": true
   },
   "outputs": [
    {
     "name": "stderr",
     "output_type": "stream",
     "text": [
      "[I 2024-05-17 12:05:41,419] A new study created in memory with name: no-name-06af328b-6529-41e2-b070-ae71ad2d79d1\n",
      "[I 2024-05-17 12:05:41,575] Trial 0 finished with value: 0.761242598397144 and parameters: {'alpha': 0.001351870301054873}. Best is trial 0 with value: 0.761242598397144.\n",
      "[I 2024-05-17 12:05:41,636] Trial 1 finished with value: 0.7690601463554142 and parameters: {'alpha': 0.06384571070451203}. Best is trial 1 with value: 0.7690601463554142.\n",
      "[I 2024-05-17 12:05:41,695] Trial 2 finished with value: 0.7114153024627116 and parameters: {'alpha': 88.46860261962992}. Best is trial 1 with value: 0.7690601463554142.\n",
      "[I 2024-05-17 12:05:41,756] Trial 3 finished with value: 0.7062529050512486 and parameters: {'alpha': 50.19277813858076}. Best is trial 1 with value: 0.7690601463554142.\n",
      "[I 2024-05-17 12:05:41,815] Trial 4 finished with value: 0.708926731481879 and parameters: {'alpha': 70.62551851291335}. Best is trial 1 with value: 0.7690601463554142.\n",
      "[I 2024-05-17 12:05:41,895] Trial 5 finished with value: 0.7683436922739176 and parameters: {'alpha': 0.042394298991149826}. Best is trial 1 with value: 0.7690601463554142.\n",
      "[I 2024-05-17 12:05:41,954] Trial 6 finished with value: 0.7683436922739176 and parameters: {'alpha': 0.041252594890486674}. Best is trial 1 with value: 0.7690601463554142.\n",
      "[I 2024-05-17 12:05:42,019] Trial 7 finished with value: 0.761242598397144 and parameters: {'alpha': 0.0012953203913340409}. Best is trial 1 with value: 0.7690601463554142.\n",
      "[I 2024-05-17 12:05:42,086] Trial 8 finished with value: 0.7674461237428091 and parameters: {'alpha': 0.26053770336653037}. Best is trial 1 with value: 0.7690601463554142.\n",
      "[I 2024-05-17 12:05:42,147] Trial 9 finished with value: 0.7632564356369529 and parameters: {'alpha': 0.007195177684291401}. Best is trial 1 with value: 0.7690601463554142.\n",
      "[I 2024-05-17 12:05:42,222] Trial 10 finished with value: 0.739656501283148 and parameters: {'alpha': 3.021007213198998}. Best is trial 1 with value: 0.7690601463554142.\n",
      "[I 2024-05-17 12:05:42,289] Trial 11 finished with value: 0.7656050357469224 and parameters: {'alpha': 0.74679079082625}. Best is trial 1 with value: 0.7690601463554142.\n",
      "[I 2024-05-17 12:05:42,354] Trial 12 finished with value: 0.7690601463554142 and parameters: {'alpha': 0.06358645110283483}. Best is trial 1 with value: 0.7690601463554142.\n",
      "[I 2024-05-17 12:05:42,430] Trial 13 finished with value: 0.7368493763930891 and parameters: {'alpha': 3.7709889314644487}. Best is trial 1 with value: 0.7690601463554142.\n",
      "[I 2024-05-17 12:05:42,500] Trial 14 finished with value: 0.7694595669581409 and parameters: {'alpha': 0.09612259118189666}. Best is trial 14 with value: 0.7694595669581409.\n",
      "[I 2024-05-17 12:05:42,571] Trial 15 finished with value: 0.767926878355576 and parameters: {'alpha': 0.23376798944110092}. Best is trial 14 with value: 0.7694595669581409.\n",
      "[I 2024-05-17 12:05:42,644] Trial 16 finished with value: 0.7637390763747761 and parameters: {'alpha': 0.008879624859755375}. Best is trial 14 with value: 0.7694595669581409.\n",
      "[I 2024-05-17 12:05:42,715] Trial 17 finished with value: 0.7165685070961211 and parameters: {'alpha': 9.687767333772122}. Best is trial 14 with value: 0.7694595669581409.\n",
      "[I 2024-05-17 12:05:42,787] Trial 18 finished with value: 0.7642181818181818 and parameters: {'alpha': 0.011064472658478985}. Best is trial 14 with value: 0.7694595669581409.\n",
      "[I 2024-05-17 12:05:42,865] Trial 19 finished with value: 0.7308691846420554 and parameters: {'alpha': 836.7720038627863}. Best is trial 14 with value: 0.7694595669581409.\n",
      "[I 2024-05-17 12:05:42,947] Trial 20 finished with value: 0.767926878355576 and parameters: {'alpha': 0.22916466067447064}. Best is trial 14 with value: 0.7694595669581409.\n",
      "[I 2024-05-17 12:05:43,019] Trial 21 finished with value: 0.7681347842550935 and parameters: {'alpha': 0.05350841833213336}. Best is trial 14 with value: 0.7694595669581409.\n",
      "[I 2024-05-17 12:05:43,094] Trial 22 finished with value: 0.7690601463554142 and parameters: {'alpha': 0.06637796873670326}. Best is trial 14 with value: 0.7694595669581409.\n",
      "[I 2024-05-17 12:05:43,164] Trial 23 finished with value: 0.7670820879212881 and parameters: {'alpha': 0.6383407880339362}. Best is trial 14 with value: 0.7694595669581409.\n",
      "[I 2024-05-17 12:05:43,232] Trial 24 finished with value: 0.7624276496458444 and parameters: {'alpha': 0.019005116834965863}. Best is trial 14 with value: 0.7694595669581409.\n",
      "[I 2024-05-17 12:05:43,306] Trial 25 finished with value: 0.7687657639809459 and parameters: {'alpha': 0.15295952336779106}. Best is trial 14 with value: 0.7694595669581409.\n",
      "[I 2024-05-17 12:05:43,374] Trial 26 finished with value: 0.7617428429299837 and parameters: {'alpha': 0.002493588180485417}. Best is trial 14 with value: 0.7694595669581409.\n",
      "[I 2024-05-17 12:05:43,446] Trial 27 finished with value: 0.7573564272299084 and parameters: {'alpha': 1.2367141802447386}. Best is trial 14 with value: 0.7694595669581409.\n",
      "[I 2024-05-17 12:05:43,530] Trial 28 finished with value: 0.7640235872197848 and parameters: {'alpha': 0.004031649290611746}. Best is trial 14 with value: 0.7694595669581409.\n",
      "[I 2024-05-17 12:05:43,644] Trial 29 finished with value: 0.7624276496458444 and parameters: {'alpha': 0.02027556185716574}. Best is trial 14 with value: 0.7694595669581409.\n",
      "[I 2024-05-17 12:05:43,764] Trial 30 finished with value: 0.7701825100083567 and parameters: {'alpha': 0.11588272035287228}. Best is trial 30 with value: 0.7701825100083567.\n",
      "[I 2024-05-17 12:05:43,881] Trial 31 finished with value: 0.7694595669581409 and parameters: {'alpha': 0.0864611123585701}. Best is trial 30 with value: 0.7701825100083567.\n",
      "[I 2024-05-17 12:05:44,007] Trial 32 finished with value: 0.7705647834876049 and parameters: {'alpha': 0.11766402612286286}. Best is trial 32 with value: 0.7705647834876049.\n",
      "[I 2024-05-17 12:05:44,130] Trial 33 finished with value: 0.7676649219756041 and parameters: {'alpha': 0.1440860693268264}. Best is trial 32 with value: 0.7705647834876049.\n",
      "[I 2024-05-17 12:05:44,251] Trial 34 finished with value: 0.7650812244062245 and parameters: {'alpha': 0.5826963047700243}. Best is trial 32 with value: 0.7705647834876049.\n",
      "[I 2024-05-17 12:05:44,368] Trial 35 finished with value: 0.7508620727621251 and parameters: {'alpha': 1.7409159700325947}. Best is trial 32 with value: 0.7705647834876049.\n",
      "[I 2024-05-17 12:05:44,493] Trial 36 finished with value: 0.7701825100083567 and parameters: {'alpha': 0.10597487640926948}. Best is trial 32 with value: 0.7705647834876049.\n",
      "[I 2024-05-17 12:05:44,612] Trial 37 finished with value: 0.7655935953335977 and parameters: {'alpha': 0.02309315194974626}. Best is trial 32 with value: 0.7705647834876049.\n",
      "[I 2024-05-17 12:05:44,736] Trial 38 finished with value: 0.7676216185319887 and parameters: {'alpha': 0.3273639508106427}. Best is trial 32 with value: 0.7705647834876049.\n",
      "[I 2024-05-17 12:05:44,861] Trial 39 finished with value: 0.7701825100083567 and parameters: {'alpha': 0.10316292051933788}. Best is trial 32 with value: 0.7705647834876049.\n",
      "[I 2024-05-17 12:05:44,994] Trial 40 finished with value: 0.7316533793781139 and parameters: {'alpha': 6.266713824360602}. Best is trial 32 with value: 0.7705647834876049.\n",
      "[I 2024-05-17 12:05:45,126] Trial 41 finished with value: 0.7701825100083567 and parameters: {'alpha': 0.10761140692175802}. Best is trial 32 with value: 0.7705647834876049.\n",
      "[I 2024-05-17 12:05:45,253] Trial 42 finished with value: 0.7689457419302087 and parameters: {'alpha': 0.02729281526261016}. Best is trial 32 with value: 0.7705647834876049.\n",
      "[I 2024-05-17 12:05:45,366] Trial 43 finished with value: 0.7683460955244908 and parameters: {'alpha': 0.3607575389809413}. Best is trial 32 with value: 0.7705647834876049.\n",
      "[I 2024-05-17 12:05:45,693] Trial 44 finished with value: 0.7701825100083567 and parameters: {'alpha': 0.1110339712511799}. Best is trial 32 with value: 0.7705647834876049.\n",
      "[I 2024-05-17 12:05:46,352] Trial 45 finished with value: 0.7678341634454935 and parameters: {'alpha': 0.035908567432838705}. Best is trial 32 with value: 0.7705647834876049.\n",
      "[I 2024-05-17 12:05:46,717] Trial 46 finished with value: 0.7658866986119944 and parameters: {'alpha': 0.4898816441062318}. Best is trial 32 with value: 0.7705647834876049.\n",
      "[I 2024-05-17 12:05:46,834] Trial 47 finished with value: 0.7691518280660246 and parameters: {'alpha': 0.1565954726019788}. Best is trial 32 with value: 0.7705647834876049.\n",
      "[I 2024-05-17 12:05:46,967] Trial 48 finished with value: 0.7508620727621251 and parameters: {'alpha': 1.6514771530892256}. Best is trial 32 with value: 0.7705647834876049.\n",
      "[I 2024-05-17 12:05:47,109] Trial 49 finished with value: 0.763946232955532 and parameters: {'alpha': 0.014900315605768813}. Best is trial 32 with value: 0.7705647834876049.\n",
      "[I 2024-05-17 12:05:47,243] Trial 50 finished with value: 0.7644013959133695 and parameters: {'alpha': 0.005225939558569747}. Best is trial 32 with value: 0.7705647834876049.\n",
      "[I 2024-05-17 12:05:47,374] Trial 51 finished with value: 0.7701825100083567 and parameters: {'alpha': 0.10618230383481606}. Best is trial 32 with value: 0.7705647834876049.\n",
      "[I 2024-05-17 12:05:47,488] Trial 52 finished with value: 0.7667858417774274 and parameters: {'alpha': 0.04404219799855052}. Best is trial 32 with value: 0.7705647834876049.\n",
      "[I 2024-05-17 12:05:47,609] Trial 53 finished with value: 0.7672442841226241 and parameters: {'alpha': 0.23770105825411375}. Best is trial 32 with value: 0.7705647834876049.\n",
      "[I 2024-05-17 12:05:47,753] Trial 54 finished with value: 0.7694595669581409 and parameters: {'alpha': 0.09392993425588991}. Best is trial 32 with value: 0.7705647834876049.\n",
      "[I 2024-05-17 12:05:47,894] Trial 55 finished with value: 0.7674755678800762 and parameters: {'alpha': 0.04339871084419222}. Best is trial 32 with value: 0.7705647834876049.\n",
      "[I 2024-05-17 12:05:48,007] Trial 56 finished with value: 0.7689481832342714 and parameters: {'alpha': 0.16531054891969904}. Best is trial 32 with value: 0.7705647834876049.\n",
      "[I 2024-05-17 12:05:48,148] Trial 57 finished with value: 0.7666492988514317 and parameters: {'alpha': 0.4212078471033546}. Best is trial 32 with value: 0.7705647834876049.\n",
      "[I 2024-05-17 12:05:48,303] Trial 58 finished with value: 0.765769912812693 and parameters: {'alpha': 0.8384995582654425}. Best is trial 32 with value: 0.7705647834876049.\n",
      "[I 2024-05-17 12:05:48,429] Trial 59 finished with value: 0.7120189306614824 and parameters: {'alpha': 15.480132939813382}. Best is trial 32 with value: 0.7705647834876049.\n",
      "[I 2024-05-17 12:05:48,562] Trial 60 finished with value: 0.7679429223653147 and parameters: {'alpha': 0.06024056019611952}. Best is trial 32 with value: 0.7705647834876049.\n",
      "[I 2024-05-17 12:05:48,695] Trial 61 finished with value: 0.7694595669581409 and parameters: {'alpha': 0.09157041002165243}. Best is trial 32 with value: 0.7705647834876049.\n",
      "[I 2024-05-17 12:05:48,847] Trial 62 finished with value: 0.7701825100083567 and parameters: {'alpha': 0.10981314703024288}. Best is trial 32 with value: 0.7705647834876049.\n",
      "[I 2024-05-17 12:05:48,966] Trial 63 finished with value: 0.7672442841226241 and parameters: {'alpha': 0.24144343158124199}. Best is trial 32 with value: 0.7705647834876049.\n",
      "[I 2024-05-17 12:05:49,091] Trial 64 finished with value: 0.770440183725301 and parameters: {'alpha': 0.032280931439287314}. Best is trial 32 with value: 0.7705647834876049.\n",
      "[I 2024-05-17 12:05:49,233] Trial 65 finished with value: 0.7687020983815596 and parameters: {'alpha': 0.03489437407498874}. Best is trial 32 with value: 0.7705647834876049.\n",
      "[I 2024-05-17 12:05:49,361] Trial 66 finished with value: 0.7606534628369604 and parameters: {'alpha': 0.016499818066488297}. Best is trial 32 with value: 0.7705647834876049.\n",
      "[I 2024-05-17 12:05:49,484] Trial 67 finished with value: 0.7648693168762105 and parameters: {'alpha': 0.01043921129841751}. Best is trial 32 with value: 0.7705647834876049.\n",
      "[I 2024-05-17 12:05:49,587] Trial 68 finished with value: 0.7241360057527705 and parameters: {'alpha': 270.3299248496164}. Best is trial 32 with value: 0.7705647834876049.\n",
      "[I 2024-05-17 12:05:49,661] Trial 69 finished with value: 0.7610758031559824 and parameters: {'alpha': 0.0010139784950136993}. Best is trial 32 with value: 0.7705647834876049.\n",
      "[I 2024-05-17 12:05:49,736] Trial 70 finished with value: 0.7690601463554142 and parameters: {'alpha': 0.06441947451984353}. Best is trial 32 with value: 0.7705647834876049.\n",
      "[I 2024-05-17 12:05:49,837] Trial 71 finished with value: 0.7705647834876049 and parameters: {'alpha': 0.13374580040661457}. Best is trial 32 with value: 0.7705647834876049.\n",
      "[I 2024-05-17 12:05:49,907] Trial 72 finished with value: 0.7669219180355069 and parameters: {'alpha': 0.19379168938337119}. Best is trial 32 with value: 0.7705647834876049.\n",
      "[I 2024-05-17 12:05:49,975] Trial 73 finished with value: 0.7705647834876049 and parameters: {'alpha': 0.13157723592128892}. Best is trial 32 with value: 0.7705647834876049.\n",
      "[I 2024-05-17 12:05:50,064] Trial 74 finished with value: 0.7678967804010772 and parameters: {'alpha': 0.2963013812980263}. Best is trial 32 with value: 0.7705647834876049.\n",
      "[I 2024-05-17 12:05:50,142] Trial 75 finished with value: 0.7689457419302087 and parameters: {'alpha': 0.025376548343959672}. Best is trial 32 with value: 0.7705647834876049.\n",
      "[I 2024-05-17 12:05:50,216] Trial 76 finished with value: 0.7690601463554142 and parameters: {'alpha': 0.062307884041185986}. Best is trial 32 with value: 0.7705647834876049.\n",
      "[I 2024-05-17 12:05:50,295] Trial 77 finished with value: 0.7587732439028192 and parameters: {'alpha': 1.126324618798742}. Best is trial 32 with value: 0.7705647834876049.\n",
      "[I 2024-05-17 12:05:50,406] Trial 78 finished with value: 0.7676649219756041 and parameters: {'alpha': 0.1457490515249018}. Best is trial 32 with value: 0.7705647834876049.\n",
      "[I 2024-05-17 12:05:50,480] Trial 79 finished with value: 0.7687020983815596 and parameters: {'alpha': 0.03458024349525409}. Best is trial 32 with value: 0.7705647834876049.\n",
      "[I 2024-05-17 12:05:50,551] Trial 80 finished with value: 0.7643901294794757 and parameters: {'alpha': 0.007520737641580495}. Best is trial 32 with value: 0.7705647834876049.\n",
      "[I 2024-05-17 12:05:50,636] Trial 81 finished with value: 0.7705647834876049 and parameters: {'alpha': 0.1239707129391648}. Best is trial 32 with value: 0.7705647834876049.\n",
      "[I 2024-05-17 12:05:50,710] Trial 82 finished with value: 0.7709731299465713 and parameters: {'alpha': 0.07723004535677724}. Best is trial 82 with value: 0.7709731299465713.\n",
      "[I 2024-05-17 12:05:50,778] Trial 83 finished with value: 0.7683460955244908 and parameters: {'alpha': 0.34896364930607177}. Best is trial 82 with value: 0.7709731299465713.\n",
      "[I 2024-05-17 12:05:50,846] Trial 84 finished with value: 0.7681347842550935 and parameters: {'alpha': 0.05211652990436784}. Best is trial 82 with value: 0.7709731299465713.\n",
      "[I 2024-05-17 12:05:50,925] Trial 85 finished with value: 0.7716480083389174 and parameters: {'alpha': 0.07477901849366936}. Best is trial 85 with value: 0.7716480083389174.\n",
      "[I 2024-05-17 12:05:51,003] Trial 86 finished with value: 0.7694356506471989 and parameters: {'alpha': 0.0716318103763469}. Best is trial 85 with value: 0.7716480083389174.\n",
      "[I 2024-05-17 12:05:51,102] Trial 87 finished with value: 0.7650790522197218 and parameters: {'alpha': 0.012586218201363429}. Best is trial 85 with value: 0.7716480083389174.\n",
      "[I 2024-05-17 12:05:51,176] Trial 88 finished with value: 0.770440183725301 and parameters: {'alpha': 0.028652408510741724}. Best is trial 85 with value: 0.7716480083389174.\n",
      "[I 2024-05-17 12:05:51,245] Trial 89 finished with value: 0.7689457419302087 and parameters: {'alpha': 0.02708604282390798}. Best is trial 85 with value: 0.7716480083389174.\n",
      "[I 2024-05-17 12:05:51,330] Trial 90 finished with value: 0.7609208168437376 and parameters: {'alpha': 0.01770405362646359}. Best is trial 85 with value: 0.7716480083389174.\n",
      "[I 2024-05-17 12:05:51,415] Trial 91 finished with value: 0.7678004043569711 and parameters: {'alpha': 0.18722390078612555}. Best is trial 85 with value: 0.7716480083389174.\n",
      "[I 2024-05-17 12:05:51,485] Trial 92 finished with value: 0.7705647834876049 and parameters: {'alpha': 0.13252765516144716}. Best is trial 85 with value: 0.7716480083389174.\n",
      "[I 2024-05-17 12:05:51,560] Trial 93 finished with value: 0.7683436922739176 and parameters: {'alpha': 0.03964274497347642}. Best is trial 85 with value: 0.7716480083389174.\n",
      "[I 2024-05-17 12:05:51,659] Trial 94 finished with value: 0.764387788157228 and parameters: {'alpha': 0.6027502860218252}. Best is trial 85 with value: 0.7716480083389174.\n",
      "[I 2024-05-17 12:05:51,730] Trial 95 finished with value: 0.7716480083389174 and parameters: {'alpha': 0.07494685357440824}. Best is trial 85 with value: 0.7716480083389174.\n",
      "[I 2024-05-17 12:05:51,802] Trial 96 finished with value: 0.7704264006839556 and parameters: {'alpha': 0.07929815072332487}. Best is trial 85 with value: 0.7716480083389174.\n",
      "[I 2024-05-17 12:05:51,888] Trial 97 finished with value: 0.770440183725301 and parameters: {'alpha': 0.02886188123634794}. Best is trial 85 with value: 0.7716480083389174.\n",
      "[I 2024-05-17 12:05:51,971] Trial 98 finished with value: 0.7669929232939648 and parameters: {'alpha': 0.05104590474719063}. Best is trial 85 with value: 0.7716480083389174.\n",
      "[I 2024-05-17 12:05:52,041] Trial 99 finished with value: 0.7676649219756041 and parameters: {'alpha': 0.14651752614279506}. Best is trial 85 with value: 0.7716480083389174.\n"
     ]
    },
    {
     "name": "stdout",
     "output_type": "stream",
     "text": [
      "Best Naive Bayes Hyperparameters: {'alpha': 0.07477901849366936}\n",
      "Naive Bayes F1 Score: 0.7716480083389174\n"
     ]
    }
   ],
   "source": [
    "# Define the objective function for hyperparameter optimization\n",
    "def objective_nb(trial):\n",
    "    alpha = trial.suggest_float('alpha', 1e-3, 1e3, log = True)\n",
    "    clf = MultinomialNB(alpha=alpha)\n",
    "    clf.fit(X_train_tfidf_resampled, y_train_resampled)\n",
    "    f1 = f1_score(y_val, clf.predict(X_val_tfidf), average=\"weighted\")\n",
    "    return f1\n",
    "\n",
    "\n",
    "# Define the hyperparameter optimization study\n",
    "study_nb = optuna.create_study(direction='maximize')\n",
    "\n",
    "# Define Naive Bayes pipeline with oversampling\n",
    "nb_pipeline = Pipeline([\n",
    "    ('balancing', balancing ),\n",
    "    ('classifier', MultinomialNB())\n",
    "])\n",
    "\n",
    "\n",
    "# Fit and optimize Naive Bayes pipeline\n",
    "nb_pipeline.fit(X_train_tfidf, y_train)\n",
    "X_train_tfidf_resampled, y_train_resampled = balancing.fit_resample(X_train_tfidf, y_train)\n",
    "study_nb.optimize(objective_nb, n_trials=100)\n",
    "\n",
    "\n",
    "\n",
    "# Print the best hyperparameters and corresponding accuracies\n",
    "print(\"Best Naive Bayes Hyperparameters:\", study_nb.best_params)\n",
    "print(\"Naive Bayes F1 Score:\", study_nb.best_value)\n",
    "\n"
   ]
  },
  {
   "cell_type": "markdown",
   "metadata": {},
   "source": [
    "### Evaluating Model with Best Hyperparameters on Test set"
   ]
  },
  {
   "cell_type": "code",
   "execution_count": 13,
   "metadata": {
    "colab": {
     "base_uri": "https://localhost:8080/"
    },
    "executionInfo": {
     "elapsed": 277,
     "status": "ok",
     "timestamp": 1715947607852,
     "user": {
      "displayName": "Jahanvi Panchal",
      "userId": "01209420393961994162"
     },
     "user_tz": -120
    },
    "id": "92IecUS74mvq",
    "outputId": "18bc60ac-d2cb-4bb4-9b29-32a94cb0ce5b"
   },
   "outputs": [
    {
     "name": "stdout",
     "output_type": "stream",
     "text": [
      "Naive Bayes F1 score on test set: 0.7875099505327245\n",
      "\n",
      "NB Classification Report:\n",
      "              precision    recall  f1-score   support\n",
      "\n",
      "    Negative       0.59      0.69      0.64       168\n",
      "     Neutral       0.21      0.38      0.27        69\n",
      "    Positive       0.92      0.82      0.87       763\n",
      "\n",
      "    accuracy                           0.77      1000\n",
      "   macro avg       0.57      0.63      0.59      1000\n",
      "weighted avg       0.82      0.77      0.79      1000\n",
      "\n"
     ]
    }
   ],
   "source": [
    "# Get the best hyperparameters\n",
    "best_alpha = study_nb.best_params['alpha']\n",
    "\n",
    "# Train the model with the best hyperparameters\n",
    "nb_model = MultinomialNB(alpha=best_alpha)\n",
    "nb_model.fit(X_train_tfidf_resampled, y_train_resampled)\n",
    "\n",
    "# Evaluate the final model on the test set\n",
    "nb_pred = nb_model.predict(X_test_tfidf)\n",
    "\n",
    "f1_test = f1_score(y_test, nb_pred, average='weighted')\n",
    "print(\"Naive Bayes F1 score on test set:\", f1_test)\n",
    "print(\"\\nNB Classification Report:\")\n",
    "print(classification_report(y_test, nb_pred))"
   ]
  },
  {
   "cell_type": "code",
   "execution_count": null,
   "metadata": {
    "id": "JhDKsqlz4mvr"
   },
   "outputs": [],
   "source": []
  },
  {
   "cell_type": "markdown",
   "metadata": {
    "id": "1vLl08cl4mvr"
   },
   "source": [
    "## SVM"
   ]
  },
  {
   "cell_type": "code",
   "execution_count": 16,
   "metadata": {
    "colab": {
     "base_uri": "https://localhost:8080/"
    },
    "executionInfo": {
     "elapsed": 4976182,
     "status": "ok",
     "timestamp": 1715953707844,
     "user": {
      "displayName": "Jahanvi Panchal",
      "userId": "01209420393961994162"
     },
     "user_tz": -120
    },
    "id": "qPgfHm8F4mvr",
    "outputId": "fda562cc-395a-43cd-b542-35a284fdc0ed"
   },
   "outputs": [
    {
     "name": "stderr",
     "output_type": "stream",
     "text": [
      "[I 2024-05-17 12:25:35,467] A new study created in memory with name: no-name-c4ae0482-ff78-4aef-8333-a93e32d14821\n",
      "[I 2024-05-17 12:26:46,478] Trial 0 finished with value: 0.8168062616836035 and parameters: {'C': 15.860466944210888, 'gamma': 0.09679090670643395}. Best is trial 0 with value: 0.8168062616836035.\n",
      "[I 2024-05-17 12:27:11,170] Trial 1 finished with value: 0.809771634414119 and parameters: {'C': 68.33916860125272, 'gamma': 0.2047802044362455}. Best is trial 0 with value: 0.8168062616836035.\n",
      "[I 2024-05-17 12:28:01,458] Trial 2 finished with value: 0.8025082015987969 and parameters: {'C': 3.0471425367417555, 'gamma': 0.08170986115071353}. Best is trial 0 with value: 0.8168062616836035.\n",
      "[I 2024-05-17 12:29:45,793] Trial 3 finished with value: 0.22885511949694218 and parameters: {'C': 0.011237486498511487, 'gamma': 0.2385451619550573}. Best is trial 0 with value: 0.8168062616836035.\n",
      "[I 2024-05-17 12:31:35,377] Trial 4 finished with value: 0.6775139747962156 and parameters: {'C': 8.807587342959991, 'gamma': 308.5796685041543}. Best is trial 0 with value: 0.8168062616836035.\n",
      "[I 2024-05-17 12:33:17,114] Trial 5 finished with value: 0.07236215952711358 and parameters: {'C': 0.010682143321501537, 'gamma': 690.3959275145374}. Best is trial 0 with value: 0.8168062616836035.\n",
      "[I 2024-05-17 12:35:02,531] Trial 6 finished with value: 0.6775139747962156 and parameters: {'C': 22.555616552388845, 'gamma': 29.41423916805701}. Best is trial 0 with value: 0.8168062616836035.\n",
      "[I 2024-05-17 12:35:41,382] Trial 7 finished with value: 0.808909655290449 and parameters: {'C': 9.141085867750947, 'gamma': 0.05741352238959141}. Best is trial 0 with value: 0.8168062616836035.\n",
      "[I 2024-05-17 12:36:07,625] Trial 8 finished with value: 0.7965248518213474 and parameters: {'C': 715.7033168830026, 'gamma': 0.012727352475561858}. Best is trial 0 with value: 0.8168062616836035.\n",
      "[I 2024-05-17 12:37:58,510] Trial 9 finished with value: 0.6775139747962156 and parameters: {'C': 793.2183119632826, 'gamma': 165.99746908192728}. Best is trial 0 with value: 0.8168062616836035.\n",
      "[I 2024-05-17 12:39:24,448] Trial 10 finished with value: 0.7494440967283071 and parameters: {'C': 0.3187680419269743, 'gamma': 2.654915127732066}. Best is trial 0 with value: 0.8168062616836035.\n",
      "[I 2024-05-17 12:39:56,341] Trial 11 finished with value: 0.8059974067648288 and parameters: {'C': 89.50571273289859, 'gamma': 1.0730237434252627}. Best is trial 0 with value: 0.8168062616836035.\n",
      "[I 2024-05-17 12:40:20,323] Trial 12 finished with value: 0.8205709371897721 and parameters: {'C': 74.50501216564035, 'gamma': 0.43480340090766545}. Best is trial 12 with value: 0.8205709371897721.\n",
      "[I 2024-05-17 12:42:11,655] Trial 13 finished with value: 0.6797054410558231 and parameters: {'C': 0.6644625443365894, 'gamma': 11.329249459518136}. Best is trial 12 with value: 0.8205709371897721.\n",
      "[I 2024-05-17 12:42:37,556] Trial 14 finished with value: 0.8189595283325085 and parameters: {'C': 147.78205491279357, 'gamma': 0.5822088832814171}. Best is trial 12 with value: 0.8205709371897721.\n",
      "[I 2024-05-17 12:43:08,301] Trial 15 finished with value: 0.8140825231243184 and parameters: {'C': 197.14067815673093, 'gamma': 0.9302705119978778}. Best is trial 12 with value: 0.8205709371897721.\n",
      "[I 2024-05-17 12:44:44,892] Trial 16 finished with value: 0.6797054410558231 and parameters: {'C': 212.18821824895878, 'gamma': 9.87541400848216}. Best is trial 12 with value: 0.8205709371897721.\n",
      "[I 2024-05-17 12:45:24,304] Trial 17 finished with value: 0.8250352585200659 and parameters: {'C': 0.9621990626572698, 'gamma': 0.6246952403704188}. Best is trial 17 with value: 0.8250352585200659.\n",
      "[I 2024-05-17 12:47:06,532] Trial 18 finished with value: 0.2647290540102871 and parameters: {'C': 0.12515338277388494, 'gamma': 0.01671375311970478}. Best is trial 17 with value: 0.8250352585200659.\n",
      "[I 2024-05-17 12:48:30,101] Trial 19 finished with value: 0.6948651547604727 and parameters: {'C': 2.286537008208376, 'gamma': 3.4458881803218318}. Best is trial 17 with value: 0.8250352585200659.\n",
      "[I 2024-05-17 12:50:10,257] Trial 20 finished with value: 0.1329673990818553 and parameters: {'C': 0.045472719556701, 'gamma': 25.13018586016248}. Best is trial 17 with value: 0.8250352585200659.\n",
      "[I 2024-05-17 12:50:55,235] Trial 21 finished with value: 0.821964884729303 and parameters: {'C': 0.6714401090600474, 'gamma': 0.85473280910438}. Best is trial 17 with value: 0.8250352585200659.\n",
      "[I 2024-05-17 12:51:45,520] Trial 22 finished with value: 0.8177294844295214 and parameters: {'C': 0.7336988276752017, 'gamma': 0.39543442578031934}. Best is trial 17 with value: 0.8250352585200659.\n",
      "[I 2024-05-17 12:52:53,215] Trial 23 finished with value: 0.7750218343058596 and parameters: {'C': 1.4860634362329512, 'gamma': 1.9753925917509663}. Best is trial 17 with value: 0.8250352585200659.\n",
      "[I 2024-05-17 12:54:31,341] Trial 24 finished with value: 0.6797054410558231 and parameters: {'C': 0.2690148308272517, 'gamma': 5.120424007938157}. Best is trial 17 with value: 0.8250352585200659.\n",
      "[I 2024-05-17 12:56:16,915] Trial 25 finished with value: 0.2639250861561261 and parameters: {'C': 0.06311539428633853, 'gamma': 0.03395160676934284}. Best is trial 17 with value: 0.8250352585200659.\n",
      "[I 2024-05-17 12:56:47,450] Trial 26 finished with value: 0.8221993658119492 and parameters: {'C': 5.00773669714861, 'gamma': 0.2076843009615265}. Best is trial 17 with value: 0.8250352585200659.\n",
      "[I 2024-05-17 12:57:51,672] Trial 27 finished with value: 0.798924590821365 and parameters: {'C': 0.7478273157806928, 'gamma': 0.17369178516323866}. Best is trial 17 with value: 0.8250352585200659.\n",
      "[I 2024-05-17 12:58:36,178] Trial 28 finished with value: 0.7953197130650399 and parameters: {'C': 5.967954153163316, 'gamma': 1.3615568055340201}. Best is trial 17 with value: 0.8250352585200659.\n",
      "[I 2024-05-17 12:59:53,609] Trial 29 finished with value: 0.7614005119869334 and parameters: {'C': 1.4673360466874203, 'gamma': 0.03533904784958813}. Best is trial 17 with value: 0.8250352585200659.\n",
      "[I 2024-05-17 13:00:19,130] Trial 30 finished with value: 0.8123591273283448 and parameters: {'C': 18.263419962511325, 'gamma': 0.17259889813935494}. Best is trial 17 with value: 0.8250352585200659.\n",
      "[I 2024-05-17 13:00:43,934] Trial 31 finished with value: 0.8232433004276766 and parameters: {'C': 29.495647706216417, 'gamma': 0.5029299524982139}. Best is trial 17 with value: 0.8250352585200659.\n",
      "[I 2024-05-17 13:01:11,437] Trial 32 finished with value: 0.8197796017188638 and parameters: {'C': 5.167718631788262, 'gamma': 0.6765282341712544}. Best is trial 17 with value: 0.8250352585200659.\n",
      "[I 2024-05-17 13:01:36,176] Trial 33 finished with value: 0.8174395942955496 and parameters: {'C': 33.431690882814195, 'gamma': 0.2566700835531174}. Best is trial 17 with value: 0.8250352585200659.\n",
      "[I 2024-05-17 13:02:01,072] Trial 34 finished with value: 0.8123575015063267 and parameters: {'C': 35.88008835486975, 'gamma': 0.10552486733936181}. Best is trial 17 with value: 0.8250352585200659.\n",
      "[I 2024-05-17 13:02:54,987] Trial 35 finished with value: 0.8004382239948387 and parameters: {'C': 2.326063382472605, 'gamma': 0.08672502273780741}. Best is trial 17 with value: 0.8250352585200659.\n",
      "[I 2024-05-17 13:04:06,049] Trial 36 finished with value: 0.7969519620781041 and parameters: {'C': 0.31238276714601265, 'gamma': 0.3268733667513542}. Best is trial 17 with value: 0.8250352585200659.\n",
      "[I 2024-05-17 13:05:01,404] Trial 37 finished with value: 0.7887023911005251 and parameters: {'C': 5.264243524681726, 'gamma': 1.6172827649069872}. Best is trial 17 with value: 0.8250352585200659.\n",
      "[I 2024-05-17 13:06:41,527] Trial 38 finished with value: 0.6818770832601337 and parameters: {'C': 11.722576194828823, 'gamma': 4.586277346039951}. Best is trial 17 with value: 0.8250352585200659.\n",
      "[I 2024-05-17 13:07:21,897] Trial 39 finished with value: 0.8100464785248619 and parameters: {'C': 3.455105390836602, 'gamma': 0.12086229070586109}. Best is trial 17 with value: 0.8250352585200659.\n",
      "[I 2024-05-17 13:07:56,815] Trial 40 finished with value: 0.8170201801412791 and parameters: {'C': 1.198764000370356, 'gamma': 0.7568663863357493}. Best is trial 17 with value: 0.8250352585200659.\n",
      "[I 2024-05-17 13:08:22,977] Trial 41 finished with value: 0.8241950918383297 and parameters: {'C': 80.22437196037987, 'gamma': 0.3950562037762655}. Best is trial 17 with value: 0.8250352585200659.\n",
      "[I 2024-05-17 13:08:48,397] Trial 42 finished with value: 0.8174924856457639 and parameters: {'C': 366.46598640780576, 'gamma': 0.27211197626637845}. Best is trial 17 with value: 0.8250352585200659.\n",
      "[I 2024-05-17 13:09:14,650] Trial 43 finished with value: 0.8149466061533677 and parameters: {'C': 37.37714706470353, 'gamma': 0.0616337903831401}. Best is trial 17 with value: 0.8250352585200659.\n",
      "[I 2024-05-17 13:10:35,600] Trial 44 finished with value: 0.7729632082123145 and parameters: {'C': 0.1645255079625927, 'gamma': 0.45352251453496906}. Best is trial 17 with value: 0.8250352585200659.\n",
      "[I 2024-05-17 13:10:59,662] Trial 45 finished with value: 0.8114846319209021 and parameters: {'C': 50.590244566009424, 'gamma': 0.17828950521928458}. Best is trial 17 with value: 0.8250352585200659.\n",
      "[I 2024-05-17 13:11:31,977] Trial 46 finished with value: 0.8032763144635562 and parameters: {'C': 23.007371428481935, 'gamma': 1.1391262062735004}. Best is trial 17 with value: 0.8250352585200659.\n",
      "[I 2024-05-17 13:11:58,412] Trial 47 finished with value: 0.8192517578308466 and parameters: {'C': 11.088252857808204, 'gamma': 0.6508470128600766}. Best is trial 17 with value: 0.8250352585200659.\n",
      "[I 2024-05-17 13:13:44,579] Trial 48 finished with value: 0.6797054410558231 and parameters: {'C': 101.67788560980364, 'gamma': 8.769158353331454}. Best is trial 17 with value: 0.8250352585200659.\n",
      "[I 2024-05-17 13:14:58,511] Trial 49 finished with value: 0.7414826131334087 and parameters: {'C': 513.8760123074726, 'gamma': 2.4885972588228085}. Best is trial 17 with value: 0.8250352585200659.\n",
      "[I 2024-05-17 13:16:52,018] Trial 50 finished with value: 0.6775139747962156 and parameters: {'C': 3.7063331338405665, 'gamma': 123.58152813793657}. Best is trial 17 with value: 0.8250352585200659.\n",
      "[I 2024-05-17 13:17:17,225] Trial 51 finished with value: 0.8217032572593155 and parameters: {'C': 70.44832628783804, 'gamma': 0.43189887238009644}. Best is trial 17 with value: 0.8250352585200659.\n",
      "[I 2024-05-17 13:17:43,234] Trial 52 finished with value: 0.8209619476362969 and parameters: {'C': 124.56739245439988, 'gamma': 0.4540816251552324}. Best is trial 17 with value: 0.8250352585200659.\n",
      "[I 2024-05-17 13:18:14,607] Trial 53 finished with value: 0.8066975536910919 and parameters: {'C': 69.90092833411174, 'gamma': 0.9864814399196518}. Best is trial 17 with value: 0.8250352585200659.\n",
      "[I 2024-05-17 13:18:38,577] Trial 54 finished with value: 0.8133645940303302 and parameters: {'C': 290.8950916079379, 'gamma': 0.25113988399778475}. Best is trial 17 with value: 0.8250352585200659.\n",
      "[I 2024-05-17 13:19:56,831] Trial 55 finished with value: 0.7620845556181045 and parameters: {'C': 0.4425423833837076, 'gamma': 0.12832187169176418}. Best is trial 17 with value: 0.8250352585200659.\n",
      "[I 2024-05-17 13:20:24,244] Trial 56 finished with value: 0.8117431475229042 and parameters: {'C': 54.2682818763409, 'gamma': 0.04049015451503015}. Best is trial 17 with value: 0.8250352585200659.\n",
      "[I 2024-05-17 13:21:04,436] Trial 57 finished with value: 0.8252663008056259 and parameters: {'C': 1.0956562780450525, 'gamma': 0.46264070110255034}. Best is trial 57 with value: 0.8252663008056259.\n",
      "[I 2024-05-17 13:22:05,663] Trial 58 finished with value: 0.783773214775442 and parameters: {'C': 1.0311925735017082, 'gamma': 1.7666968543504888}. Best is trial 57 with value: 0.8252663008056259.\n",
      "[I 2024-05-17 13:23:40,181] Trial 59 finished with value: 0.6315203467595447 and parameters: {'C': 0.5399064555457744, 'gamma': 0.021540262771748565}. Best is trial 57 with value: 0.8252663008056259.\n",
      "[I 2024-05-17 13:24:12,482] Trial 60 finished with value: 0.8155212221656265 and parameters: {'C': 2.3337518229794596, 'gamma': 0.8487961697419559}. Best is trial 57 with value: 0.8252663008056259.\n",
      "[I 2024-05-17 13:24:37,644] Trial 61 finished with value: 0.8226247474747475 and parameters: {'C': 8.230912021463704, 'gamma': 0.4040048912990609}. Best is trial 57 with value: 0.8252663008056259.\n",
      "[I 2024-05-17 13:25:04,196] Trial 62 finished with value: 0.8200901048951049 and parameters: {'C': 7.493030981680841, 'gamma': 0.615693785096511}. Best is trial 57 with value: 0.8252663008056259.\n",
      "[I 2024-05-17 13:25:29,355] Trial 63 finished with value: 0.8244756390828363 and parameters: {'C': 13.60445199475534, 'gamma': 0.3135557011585161}. Best is trial 57 with value: 0.8252663008056259.\n",
      "[I 2024-05-17 13:25:53,018] Trial 64 finished with value: 0.8140033664690806 and parameters: {'C': 20.609912279564053, 'gamma': 0.19621328732955992}. Best is trial 57 with value: 0.8252663008056259.\n",
      "[I 2024-05-17 13:26:29,067] Trial 65 finished with value: 0.8072672111970937 and parameters: {'C': 12.821400249951452, 'gamma': 0.05753538352923789}. Best is trial 57 with value: 0.8252663008056259.\n",
      "[I 2024-05-17 13:26:53,872] Trial 66 finished with value: 0.8228438189213851 and parameters: {'C': 25.170083988050433, 'gamma': 0.35659456389500666}. Best is trial 57 with value: 0.8252663008056259.\n",
      "[I 2024-05-17 13:27:19,677] Trial 67 finished with value: 0.8202988449848024 and parameters: {'C': 29.264371198989682, 'gamma': 0.3214155423490678}. Best is trial 57 with value: 0.8252663008056259.\n",
      "[I 2024-05-17 13:27:51,634] Trial 68 finished with value: 0.7988786368376395 and parameters: {'C': 163.93559409294272, 'gamma': 1.2549530559042963}. Best is trial 57 with value: 0.8252663008056259.\n",
      "[I 2024-05-17 13:28:18,557] Trial 69 finished with value: 0.8200451901844604 and parameters: {'C': 8.109903871784818, 'gamma': 0.5577706665268115}. Best is trial 57 with value: 0.8252663008056259.\n",
      "[I 2024-05-17 13:28:43,397] Trial 70 finished with value: 0.8130890530975755 and parameters: {'C': 43.88795820337654, 'gamma': 0.13104422578735853}. Best is trial 57 with value: 0.8252663008056259.\n",
      "[I 2024-05-17 13:29:07,663] Trial 71 finished with value: 0.8235036289047195 and parameters: {'C': 15.908392884611631, 'gamma': 0.31200209107521987}. Best is trial 57 with value: 0.8252663008056259.\n",
      "[I 2024-05-17 13:29:32,977] Trial 72 finished with value: 0.8220571404420507 and parameters: {'C': 17.94111336115655, 'gamma': 0.3583057503760597}. Best is trial 57 with value: 0.8252663008056259.\n",
      "[I 2024-05-17 13:30:01,253] Trial 73 finished with value: 0.8158023490885438 and parameters: {'C': 25.284859928922582, 'gamma': 0.07245043842608564}. Best is trial 57 with value: 0.8252663008056259.\n",
      "[I 2024-05-17 13:30:27,456] Trial 74 finished with value: 0.8137036654539905 and parameters: {'C': 13.943482627359202, 'gamma': 0.1510466213458124}. Best is trial 57 with value: 0.8252663008056259.\n",
      "[I 2024-05-17 13:31:07,689] Trial 75 finished with value: 0.8216961349712283 and parameters: {'C': 1.7270685056313257, 'gamma': 0.24697903982221026}. Best is trial 57 with value: 0.8252663008056259.\n",
      "[I 2024-05-17 13:31:33,950] Trial 76 finished with value: 0.8243640361908822 and parameters: {'C': 7.258751703922116, 'gamma': 0.5173533221576336}. Best is trial 57 with value: 0.8252663008056259.\n",
      "[I 2024-05-17 13:32:47,223] Trial 77 finished with value: 0.7301937918635546 and parameters: {'C': 16.03241952098073, 'gamma': 2.7128416448946457}. Best is trial 57 with value: 0.8252663008056259.\n",
      "[I 2024-05-17 13:33:14,361] Trial 78 finished with value: 0.8231488950126978 and parameters: {'C': 6.518327329011779, 'gamma': 0.5451612788176986}. Best is trial 57 with value: 0.8252663008056259.\n",
      "[I 2024-05-17 13:34:06,704] Trial 79 finished with value: 0.7927826545848778 and parameters: {'C': 3.0692755737275887, 'gamma': 1.4339553521947919}. Best is trial 57 with value: 0.8252663008056259.\n",
      "[I 2024-05-17 13:34:33,674] Trial 80 finished with value: 0.8200823560651923 and parameters: {'C': 4.164256823559384, 'gamma': 0.5388816139703541}. Best is trial 57 with value: 0.8252663008056259.\n",
      "[I 2024-05-17 13:35:03,733] Trial 81 finished with value: 0.8140825231243184 and parameters: {'C': 9.754901410833192, 'gamma': 0.9212319905530093}. Best is trial 57 with value: 0.8252663008056259.\n",
      "[I 2024-05-17 13:36:11,838] Trial 82 finished with value: 0.7886290142920168 and parameters: {'C': 0.9619856359452226, 'gamma': 0.09458028480219702}. Best is trial 57 with value: 0.8252663008056259.\n",
      "[I 2024-05-17 13:36:38,875] Trial 83 finished with value: 0.8224659191193004 and parameters: {'C': 6.100800703038556, 'gamma': 0.26649877666954086}. Best is trial 57 with value: 0.8252663008056259.\n",
      "[I 2024-05-17 13:37:09,782] Trial 84 finished with value: 0.8194023592662734 and parameters: {'C': 1.9015083405890294, 'gamma': 0.7589552405147614}. Best is trial 57 with value: 0.8252663008056259.\n",
      "[I 2024-05-17 13:37:33,799] Trial 85 finished with value: 0.8202988449848024 and parameters: {'C': 98.35462829041941, 'gamma': 0.31095774196458326}. Best is trial 57 with value: 0.8252663008056259.\n",
      "[I 2024-05-17 13:39:14,593] Trial 86 finished with value: 0.44235135108169676 and parameters: {'C': 0.023417158984982988, 'gamma': 0.5717017827271553}. Best is trial 57 with value: 0.8252663008056259.\n",
      "[I 2024-05-17 13:39:39,395] Trial 87 finished with value: 0.8129062197457837 and parameters: {'C': 28.35625254471422, 'gamma': 0.17984166968407336}. Best is trial 57 with value: 0.8252663008056259.\n",
      "[I 2024-05-17 13:40:03,719] Trial 88 finished with value: 0.8234018120666067 and parameters: {'C': 46.54974696903373, 'gamma': 0.37314048364210795}. Best is trial 57 with value: 0.8252663008056259.\n",
      "[I 2024-05-17 13:41:09,650] Trial 89 finished with value: 0.7621317554339572 and parameters: {'C': 56.783149526974, 'gamma': 2.174994106252864}. Best is trial 57 with value: 0.8252663008056259.\n",
      "[I 2024-05-17 13:41:40,028] Trial 90 finished with value: 0.8071912066337262 and parameters: {'C': 36.34722026017794, 'gamma': 1.0594407933358467}. Best is trial 57 with value: 0.8252663008056259.\n",
      "[I 2024-05-17 13:42:04,582] Trial 91 finished with value: 0.8222699077179502 and parameters: {'C': 15.053226044339672, 'gamma': 0.4453104494519949}. Best is trial 57 with value: 0.8252663008056259.\n",
      "[I 2024-05-17 13:42:29,349] Trial 92 finished with value: 0.823721512173359 and parameters: {'C': 20.91202610898416, 'gamma': 0.37791905259110775}. Best is trial 57 with value: 0.8252663008056259.\n",
      "[I 2024-05-17 13:42:54,852] Trial 93 finished with value: 0.814987902551555 and parameters: {'C': 10.541211419177209, 'gamma': 0.20412369603257793}. Best is trial 57 with value: 0.8252663008056259.\n",
      "[I 2024-05-17 13:44:17,774] Trial 94 finished with value: 0.6928051674066298 and parameters: {'C': 6.167863600291742, 'gamma': 3.549015654997041}. Best is trial 57 with value: 0.8252663008056259.\n",
      "[I 2024-05-17 13:44:43,866] Trial 95 finished with value: 0.8171384859069765 and parameters: {'C': 43.46482242527748, 'gamma': 0.7204719193174277}. Best is trial 57 with value: 0.8252663008056259.\n",
      "[I 2024-05-17 13:45:09,372] Trial 96 finished with value: 0.8209619476362969 and parameters: {'C': 19.740759372629643, 'gamma': 0.4520346939533765}. Best is trial 57 with value: 0.8252663008056259.\n",
      "[I 2024-05-17 13:45:37,409] Trial 97 finished with value: 0.8226434476457191 and parameters: {'C': 4.306540717402595, 'gamma': 0.3230219789589188}. Best is trial 57 with value: 0.8252663008056259.\n",
      "[I 2024-05-17 13:46:38,450] Trial 98 finished with value: 0.8000346039639747 and parameters: {'C': 0.46544648600578614, 'gamma': 1.6030867624522902}. Best is trial 57 with value: 0.8252663008056259.\n",
      "[I 2024-05-17 13:48:31,280] Trial 99 finished with value: 0.6775139747962156 and parameters: {'C': 85.49040693757487, 'gamma': 913.6686565307934}. Best is trial 57 with value: 0.8252663008056259.\n"
     ]
    },
    {
     "name": "stdout",
     "output_type": "stream",
     "text": [
      "Best SVM Hyperparameters: {'C': 1.0956562780450525, 'gamma': 0.46264070110255034}\n",
      "SVM F1 Score: 0.8252663008056259\n"
     ]
    }
   ],
   "source": [
    "# Define the objective function for hyperparameter optimization\n",
    "def objective_svm(trial):\n",
    "    C = trial.suggest_float('C', 1e-2, 1e3, log = True)\n",
    "    gamma = trial.suggest_float('gamma', 1e-2, 1e3, log = True)\n",
    "    clf = SVC(C=C, gamma=gamma, random_state=42)\n",
    "    clf.fit(X_train_tfidf_resampled, y_train_resampled)\n",
    "    f1 = f1_score(y_val, clf.predict(X_val_tfidf), average=\"weighted\")\n",
    "    return f1\n",
    "\n",
    "# Define the hyperparameter optimization study\n",
    "study_svm = optuna.create_study(direction='maximize')\n",
    "\n",
    "# Define SVM pipeline with oversampling\n",
    "svm_pipeline = Pipeline([\n",
    "    ('balancing', balancing),\n",
    "    ('classifier', SVC(random_state=42))\n",
    "])\n",
    "\n",
    "# Fit and optimize SVM pipeline\n",
    "svm_pipeline.fit(X_train_tfidf, y_train)\n",
    "X_train_tfidf_resampled, y_train_resampled = balancing.fit_resample(X_train_tfidf, y_train)\n",
    "study_svm.optimize(objective_svm, n_trials=100)\n",
    "\n",
    "\n",
    "# Print the best hyperparameters and corresponding accuracies\n",
    "print(\"Best SVM Hyperparameters:\", study_svm.best_params)\n",
    "print(\"SVM F1 Score:\", study_svm.best_value)\n",
    "\n"
   ]
  },
  {
   "cell_type": "markdown",
   "metadata": {
    "id": "O8z_5RiM5syQ"
   },
   "source": [
    "### Evaluating Model with Best Hyperparameters on Test set"
   ]
  },
  {
   "cell_type": "code",
   "execution_count": 17,
   "metadata": {
    "colab": {
     "base_uri": "https://localhost:8080/"
    },
    "executionInfo": {
     "elapsed": 40506,
     "status": "ok",
     "timestamp": 1715953776068,
     "user": {
      "displayName": "Jahanvi Panchal",
      "userId": "01209420393961994162"
     },
     "user_tz": -120
    },
    "id": "1OY8_Za74mvr",
    "outputId": "1c27c871-637d-4057-94e4-de0953dda498"
   },
   "outputs": [
    {
     "name": "stdout",
     "output_type": "stream",
     "text": [
      "SVM F1 score on test set: 0.8293834454474838\n",
      "\n",
      "SVM Classification Report:\n",
      "              precision    recall  f1-score   support\n",
      "\n",
      "    Negative       0.67      0.74      0.70       168\n",
      "     Neutral       0.29      0.17      0.22        69\n",
      "    Positive       0.91      0.92      0.91       763\n",
      "\n",
      "    accuracy                           0.84      1000\n",
      "   macro avg       0.62      0.61      0.61      1000\n",
      "weighted avg       0.82      0.84      0.83      1000\n",
      "\n"
     ]
    }
   ],
   "source": [
    "# Get the best hyperparameters and retrain the model on the training set\n",
    "best_svm_params = study_svm.best_params\n",
    "svm_model = SVC(**best_svm_params, random_state=42)\n",
    "svm_model.fit(X_train_tfidf_resampled, y_train_resampled)\n",
    "\n",
    "# Evaluate the model on the test set\n",
    "svm_pred = svm_model.predict(X_test_tfidf)\n",
    "\n",
    "f1_test = f1_score(y_test, svm_pred, average='weighted')\n",
    "print(\"SVM F1 score on test set:\", f1_test)\n",
    "print(\"\\nSVM Classification Report:\")\n",
    "print(classification_report(y_test, svm_pred))"
   ]
  },
  {
   "cell_type": "markdown",
   "metadata": {
    "id": "dd56P9gK4mvr"
   },
   "source": [
    "## Random Forest"
   ]
  },
  {
   "cell_type": "code",
   "execution_count": 14,
   "metadata": {
    "colab": {
     "base_uri": "https://localhost:8080/"
    },
    "executionInfo": {
     "elapsed": 453160,
     "status": "ok",
     "timestamp": 1715948623771,
     "user": {
      "displayName": "Jahanvi Panchal",
      "userId": "01209420393961994162"
     },
     "user_tz": -120
    },
    "id": "3uIeD90L4mvr",
    "outputId": "3a1e0554-2eb4-48ba-c047-20ca7d4e6d55",
    "scrolled": true
   },
   "outputs": [
    {
     "name": "stderr",
     "output_type": "stream",
     "text": [
      "[I 2024-05-17 12:16:14,411] A new study created in memory with name: no-name-8d98641a-1587-4e89-9cd8-a920642a5e3d\n",
      "[I 2024-05-17 12:16:39,784] Trial 0 finished with value: 0.7981677612191426 and parameters: {'n_estimators': 167, 'max_depth': 18, 'min_samples_split': 7, 'min_samples_leaf': 8}. Best is trial 0 with value: 0.7981677612191426.\n",
      "[I 2024-05-17 12:16:41,193] Trial 1 finished with value: 0.7711298701424117 and parameters: {'n_estimators': 186, 'max_depth': 7, 'min_samples_split': 11, 'min_samples_leaf': 3}. Best is trial 0 with value: 0.7981677612191426.\n",
      "[I 2024-05-17 12:16:42,321] Trial 2 finished with value: 0.7970291357919964 and parameters: {'n_estimators': 50, 'max_depth': 43, 'min_samples_split': 16, 'min_samples_leaf': 8}. Best is trial 0 with value: 0.7981677612191426.\n",
      "[I 2024-05-17 12:16:44,646] Trial 3 finished with value: 0.8150066336646328 and parameters: {'n_estimators': 53, 'max_depth': 42, 'min_samples_split': 15, 'min_samples_leaf': 1}. Best is trial 3 with value: 0.8150066336646328.\n",
      "[I 2024-05-17 12:16:47,748] Trial 4 finished with value: 0.8044103585657371 and parameters: {'n_estimators': 113, 'max_depth': 27, 'min_samples_split': 5, 'min_samples_leaf': 6}. Best is trial 3 with value: 0.8150066336646328.\n",
      "[I 2024-05-17 12:16:50,923] Trial 5 finished with value: 0.8074360890544711 and parameters: {'n_estimators': 120, 'max_depth': 38, 'min_samples_split': 7, 'min_samples_leaf': 6}. Best is trial 3 with value: 0.8150066336646328.\n",
      "[I 2024-05-17 12:16:53,289] Trial 6 finished with value: 0.8049996575228962 and parameters: {'n_estimators': 116, 'max_depth': 41, 'min_samples_split': 7, 'min_samples_leaf': 8}. Best is trial 3 with value: 0.8150066336646328.\n",
      "[I 2024-05-17 12:16:54,266] Trial 7 finished with value: 0.790962975426142 and parameters: {'n_estimators': 57, 'max_depth': 29, 'min_samples_split': 12, 'min_samples_leaf': 8}. Best is trial 3 with value: 0.8150066336646328.\n",
      "[I 2024-05-17 12:16:57,956] Trial 8 finished with value: 0.808500921505831 and parameters: {'n_estimators': 161, 'max_depth': 45, 'min_samples_split': 15, 'min_samples_leaf': 7}. Best is trial 3 with value: 0.8150066336646328.\n",
      "[I 2024-05-17 12:17:01,294] Trial 9 finished with value: 0.7890499988805753 and parameters: {'n_estimators': 167, 'max_depth': 26, 'min_samples_split': 4, 'min_samples_leaf': 9}. Best is trial 3 with value: 0.8150066336646328.\n",
      "[I 2024-05-17 12:17:06,307] Trial 10 finished with value: 0.810615079729641 and parameters: {'n_estimators': 87, 'max_depth': 49, 'min_samples_split': 20, 'min_samples_leaf': 1}. Best is trial 3 with value: 0.8150066336646328.\n",
      "[I 2024-05-17 12:17:09,818] Trial 11 finished with value: 0.8091052045284863 and parameters: {'n_estimators': 77, 'max_depth': 49, 'min_samples_split': 20, 'min_samples_leaf': 1}. Best is trial 3 with value: 0.8150066336646328.\n",
      "[I 2024-05-17 12:17:14,051] Trial 12 finished with value: 0.8111678023546939 and parameters: {'n_estimators': 88, 'max_depth': 50, 'min_samples_split': 20, 'min_samples_leaf': 1}. Best is trial 3 with value: 0.8150066336646328.\n",
      "[I 2024-05-17 12:17:16,971] Trial 13 finished with value: 0.8059094064437375 and parameters: {'n_estimators': 85, 'max_depth': 35, 'min_samples_split': 17, 'min_samples_leaf': 3}. Best is trial 3 with value: 0.8150066336646328.\n",
      "[I 2024-05-17 12:17:20,026] Trial 14 finished with value: 0.803695089430145 and parameters: {'n_estimators': 70, 'max_depth': 50, 'min_samples_split': 13, 'min_samples_leaf': 3}. Best is trial 3 with value: 0.8150066336646328.\n",
      "[I 2024-05-17 12:17:22,193] Trial 15 finished with value: 0.8123050847457628 and parameters: {'n_estimators': 99, 'max_depth': 33, 'min_samples_split': 18, 'min_samples_leaf': 4}. Best is trial 3 with value: 0.8150066336646328.\n",
      "[I 2024-05-17 12:17:25,366] Trial 16 finished with value: 0.8098783983368344 and parameters: {'n_estimators': 142, 'max_depth': 34, 'min_samples_split': 17, 'min_samples_leaf': 4}. Best is trial 3 with value: 0.8150066336646328.\n",
      "[I 2024-05-17 12:17:27,001] Trial 17 finished with value: 0.8032109608059043 and parameters: {'n_estimators': 100, 'max_depth': 21, 'min_samples_split': 14, 'min_samples_leaf': 4}. Best is trial 3 with value: 0.8150066336646328.\n",
      "[I 2024-05-17 12:17:31,457] Trial 18 finished with value: 0.8237982789763216 and parameters: {'n_estimators': 137, 'max_depth': 33, 'min_samples_split': 10, 'min_samples_leaf': 2}. Best is trial 18 with value: 0.8237982789763216.\n",
      "[I 2024-05-17 12:17:34,000] Trial 19 finished with value: 0.8071639571175752 and parameters: {'n_estimators': 135, 'max_depth': 13, 'min_samples_split': 9, 'min_samples_leaf': 2}. Best is trial 18 with value: 0.8237982789763216.\n",
      "[I 2024-05-17 12:17:38,756] Trial 20 finished with value: 0.806873072851842 and parameters: {'n_estimators': 149, 'max_depth': 39, 'min_samples_split': 10, 'min_samples_leaf': 2}. Best is trial 18 with value: 0.8237982789763216.\n",
      "[I 2024-05-17 12:17:41,097] Trial 21 finished with value: 0.8057580771846776 and parameters: {'n_estimators': 99, 'max_depth': 34, 'min_samples_split': 17, 'min_samples_leaf': 4}. Best is trial 18 with value: 0.8237982789763216.\n",
      "[I 2024-05-17 12:17:48,435] Trial 22 finished with value: 0.8196519628151095 and parameters: {'n_estimators': 199, 'max_depth': 34, 'min_samples_split': 2, 'min_samples_leaf': 2}. Best is trial 18 with value: 0.8237982789763216.\n",
      "[I 2024-05-17 12:17:53,832] Trial 23 finished with value: 0.8067132307931378 and parameters: {'n_estimators': 195, 'max_depth': 30, 'min_samples_split': 2, 'min_samples_leaf': 2}. Best is trial 18 with value: 0.8237982789763216.\n",
      "[I 2024-05-17 12:17:57,515] Trial 24 finished with value: 0.8132982444456038 and parameters: {'n_estimators': 179, 'max_depth': 23, 'min_samples_split': 2, 'min_samples_leaf': 2}. Best is trial 18 with value: 0.8237982789763216.\n",
      "[I 2024-05-17 12:18:09,104] Trial 25 finished with value: 0.8106422832032845 and parameters: {'n_estimators': 197, 'max_depth': 44, 'min_samples_split': 9, 'min_samples_leaf': 1}. Best is trial 18 with value: 0.8237982789763216.\n",
      "[I 2024-05-17 12:18:12,380] Trial 26 finished with value: 0.8003935283165065 and parameters: {'n_estimators': 132, 'max_depth': 38, 'min_samples_split': 5, 'min_samples_leaf': 5}. Best is trial 18 with value: 0.8237982789763216.\n",
      "[I 2024-05-17 12:18:15,398] Trial 27 finished with value: 0.795223303916161 and parameters: {'n_estimators': 159, 'max_depth': 30, 'min_samples_split': 13, 'min_samples_leaf': 10}. Best is trial 18 with value: 0.8237982789763216.\n",
      "[I 2024-05-17 12:18:18,133] Trial 28 finished with value: 0.8064392146228987 and parameters: {'n_estimators': 69, 'max_depth': 37, 'min_samples_split': 15, 'min_samples_leaf': 3}. Best is trial 18 with value: 0.8237982789763216.\n",
      "[I 2024-05-17 12:18:20,651] Trial 29 finished with value: 0.8135873363477129 and parameters: {'n_estimators': 180, 'max_depth': 16, 'min_samples_split': 8, 'min_samples_leaf': 2}. Best is trial 18 with value: 0.8237982789763216.\n",
      "[I 2024-05-17 12:18:23,351] Trial 30 finished with value: 0.8066483842596531 and parameters: {'n_estimators': 148, 'max_depth': 24, 'min_samples_split': 4, 'min_samples_leaf': 5}. Best is trial 18 with value: 0.8237982789763216.\n",
      "[I 2024-05-17 12:18:25,716] Trial 31 finished with value: 0.8135873363477129 and parameters: {'n_estimators': 180, 'max_depth': 16, 'min_samples_split': 8, 'min_samples_leaf': 2}. Best is trial 18 with value: 0.8237982789763216.\n",
      "[I 2024-05-17 12:18:27,165] Trial 32 finished with value: 0.7721530706086621 and parameters: {'n_estimators': 188, 'max_depth': 7, 'min_samples_split': 11, 'min_samples_leaf': 1}. Best is trial 18 with value: 0.8237982789763216.\n",
      "[I 2024-05-17 12:18:29,522] Trial 33 finished with value: 0.7985960942760942 and parameters: {'n_estimators': 175, 'max_depth': 12, 'min_samples_split': 11, 'min_samples_leaf': 2}. Best is trial 18 with value: 0.8237982789763216.\n",
      "[I 2024-05-17 12:18:33,576] Trial 34 finished with value: 0.8104134404562686 and parameters: {'n_estimators': 187, 'max_depth': 18, 'min_samples_split': 9, 'min_samples_leaf': 3}. Best is trial 18 with value: 0.8237982789763216.\n",
      "[I 2024-05-17 12:18:39,672] Trial 35 finished with value: 0.8105984686330032 and parameters: {'n_estimators': 173, 'max_depth': 32, 'min_samples_split': 6, 'min_samples_leaf': 1}. Best is trial 18 with value: 0.8237982789763216.\n",
      "[I 2024-05-17 12:18:48,728] Trial 36 finished with value: 0.8157443786027878 and parameters: {'n_estimators': 199, 'max_depth': 41, 'min_samples_split': 3, 'min_samples_leaf': 2}. Best is trial 18 with value: 0.8237982789763216.\n",
      "[I 2024-05-17 12:18:56,406] Trial 37 finished with value: 0.8151029455018356 and parameters: {'n_estimators': 199, 'max_depth': 41, 'min_samples_split': 3, 'min_samples_leaf': 3}. Best is trial 18 with value: 0.8237982789763216.\n",
      "[I 2024-05-17 12:19:04,196] Trial 38 finished with value: 0.8135138253667654 and parameters: {'n_estimators': 199, 'max_depth': 40, 'min_samples_split': 3, 'min_samples_leaf': 3}. Best is trial 18 with value: 0.8237982789763216.\n",
      "[I 2024-05-17 12:19:09,355] Trial 39 finished with value: 0.8129018631201298 and parameters: {'n_estimators': 190, 'max_depth': 45, 'min_samples_split': 3, 'min_samples_leaf': 5}. Best is trial 18 with value: 0.8237982789763216.\n",
      "[I 2024-05-17 12:19:15,127] Trial 40 finished with value: 0.8124765118682132 and parameters: {'n_estimators': 200, 'max_depth': 36, 'min_samples_split': 5, 'min_samples_leaf': 3}. Best is trial 18 with value: 0.8237982789763216.\n",
      "[I 2024-05-17 12:19:18,079] Trial 41 finished with value: 0.8005385993564634 and parameters: {'n_estimators': 53, 'max_depth': 42, 'min_samples_split': 3, 'min_samples_leaf': 2}. Best is trial 18 with value: 0.8237982789763216.\n",
      "[I 2024-05-17 12:19:24,547] Trial 42 finished with value: 0.805716354192403 and parameters: {'n_estimators': 110, 'max_depth': 46, 'min_samples_split': 6, 'min_samples_leaf': 1}. Best is trial 18 with value: 0.8237982789763216.\n",
      "[I 2024-05-17 12:19:28,075] Trial 43 finished with value: 0.8075867147124969 and parameters: {'n_estimators': 166, 'max_depth': 41, 'min_samples_split': 2, 'min_samples_leaf': 7}. Best is trial 18 with value: 0.8237982789763216.\n",
      "[I 2024-05-17 12:19:36,227] Trial 44 finished with value: 0.8067614711607417 and parameters: {'n_estimators': 127, 'max_depth': 43, 'min_samples_split': 5, 'min_samples_leaf': 1}. Best is trial 18 with value: 0.8237982789763216.\n",
      "[I 2024-05-17 12:19:40,710] Trial 45 finished with value: 0.806545246148415 and parameters: {'n_estimators': 192, 'max_depth': 27, 'min_samples_split': 4, 'min_samples_leaf': 2}. Best is trial 18 with value: 0.8237982789763216.\n",
      "[I 2024-05-17 12:19:51,479] Trial 46 finished with value: 0.8052502936200449 and parameters: {'n_estimators': 159, 'max_depth': 46, 'min_samples_split': 6, 'min_samples_leaf': 1}. Best is trial 18 with value: 0.8237982789763216.\n",
      "[I 2024-05-17 12:19:52,923] Trial 47 finished with value: 0.8127966101694915 and parameters: {'n_estimators': 64, 'max_depth': 32, 'min_samples_split': 12, 'min_samples_leaf': 4}. Best is trial 18 with value: 0.8237982789763216.\n",
      "[I 2024-05-17 12:19:57,956] Trial 48 finished with value: 0.8115326916434942 and parameters: {'n_estimators': 182, 'max_depth': 37, 'min_samples_split': 4, 'min_samples_leaf': 3}. Best is trial 18 with value: 0.8237982789763216.\n",
      "[I 2024-05-17 12:20:03,192] Trial 49 finished with value: 0.8181962350422127 and parameters: {'n_estimators': 107, 'max_depth': 47, 'min_samples_split': 19, 'min_samples_leaf': 2}. Best is trial 18 with value: 0.8237982789763216.\n",
      "[I 2024-05-17 12:20:07,502] Trial 50 finished with value: 0.8110593550917821 and parameters: {'n_estimators': 121, 'max_depth': 48, 'min_samples_split': 3, 'min_samples_leaf': 3}. Best is trial 18 with value: 0.8237982789763216.\n",
      "[I 2024-05-17 12:20:10,218] Trial 51 finished with value: 0.8200286838977511 and parameters: {'n_estimators': 84, 'max_depth': 47, 'min_samples_split': 19, 'min_samples_leaf': 2}. Best is trial 18 with value: 0.8237982789763216.\n",
      "[I 2024-05-17 12:20:14,019] Trial 52 finished with value: 0.8165955786136331 and parameters: {'n_estimators': 108, 'max_depth': 47, 'min_samples_split': 19, 'min_samples_leaf': 2}. Best is trial 18 with value: 0.8237982789763216.\n",
      "[I 2024-05-17 12:20:19,034] Trial 53 finished with value: 0.8135212927298807 and parameters: {'n_estimators': 112, 'max_depth': 47, 'min_samples_split': 19, 'min_samples_leaf': 2}. Best is trial 18 with value: 0.8237982789763216.\n",
      "[I 2024-05-17 12:20:22,718] Trial 54 finished with value: 0.8160357665151305 and parameters: {'n_estimators': 106, 'max_depth': 50, 'min_samples_split': 19, 'min_samples_leaf': 2}. Best is trial 18 with value: 0.8237982789763216.\n",
      "[I 2024-05-17 12:20:26,272] Trial 55 finished with value: 0.8140152183311717 and parameters: {'n_estimators': 104, 'max_depth': 50, 'min_samples_split': 19, 'min_samples_leaf': 2}. Best is trial 18 with value: 0.8237982789763216.\n",
      "[I 2024-05-17 12:20:28,699] Trial 56 finished with value: 0.8085677748659885 and parameters: {'n_estimators': 94, 'max_depth': 47, 'min_samples_split': 18, 'min_samples_leaf': 7}. Best is trial 18 with value: 0.8237982789763216.\n",
      "[I 2024-05-17 12:20:32,651] Trial 57 finished with value: 0.8113226024753997 and parameters: {'n_estimators': 91, 'max_depth': 48, 'min_samples_split': 16, 'min_samples_leaf': 4}. Best is trial 18 with value: 0.8237982789763216.\n",
      "[I 2024-05-17 12:20:36,092] Trial 58 finished with value: 0.8147194878487406 and parameters: {'n_estimators': 78, 'max_depth': 44, 'min_samples_split': 19, 'min_samples_leaf': 1}. Best is trial 18 with value: 0.8237982789763216.\n",
      "[I 2024-05-17 12:20:39,751] Trial 59 finished with value: 0.8192195840382128 and parameters: {'n_estimators': 106, 'max_depth': 50, 'min_samples_split': 18, 'min_samples_leaf': 2}. Best is trial 18 with value: 0.8237982789763216.\n",
      "[I 2024-05-17 12:20:42,228] Trial 60 finished with value: 0.8097965856560336 and parameters: {'n_estimators': 84, 'max_depth': 44, 'min_samples_split': 18, 'min_samples_leaf': 3}. Best is trial 18 with value: 0.8237982789763216.\n",
      "[I 2024-05-17 12:20:47,157] Trial 61 finished with value: 0.8153713807219519 and parameters: {'n_estimators': 106, 'max_depth': 50, 'min_samples_split': 20, 'min_samples_leaf': 2}. Best is trial 18 with value: 0.8237982789763216.\n",
      "[I 2024-05-17 12:20:51,338] Trial 62 finished with value: 0.8169994324409088 and parameters: {'n_estimators': 119, 'max_depth': 49, 'min_samples_split': 19, 'min_samples_leaf': 2}. Best is trial 18 with value: 0.8237982789763216.\n",
      "[I 2024-05-17 12:20:56,959] Trial 63 finished with value: 0.8123261696634153 and parameters: {'n_estimators': 118, 'max_depth': 48, 'min_samples_split': 16, 'min_samples_leaf': 1}. Best is trial 18 with value: 0.8237982789763216.\n",
      "[I 2024-05-17 12:21:02,721] Trial 64 finished with value: 0.8146795126973004 and parameters: {'n_estimators': 126, 'max_depth': 46, 'min_samples_split': 18, 'min_samples_leaf': 2}. Best is trial 18 with value: 0.8237982789763216.\n",
      "[I 2024-05-17 12:21:06,901] Trial 65 finished with value: 0.8216697049887288 and parameters: {'n_estimators': 138, 'max_depth': 48, 'min_samples_split': 17, 'min_samples_leaf': 3}. Best is trial 18 with value: 0.8237982789763216.\n",
      "[I 2024-05-17 12:21:09,826] Trial 66 finished with value: 0.815318250377074 and parameters: {'n_estimators': 136, 'max_depth': 29, 'min_samples_split': 17, 'min_samples_leaf': 3}. Best is trial 18 with value: 0.8237982789763216.\n",
      "[I 2024-05-17 12:21:17,453] Trial 67 finished with value: 0.8203384899194407 and parameters: {'n_estimators': 153, 'max_depth': 43, 'min_samples_split': 20, 'min_samples_leaf': 1}. Best is trial 18 with value: 0.8237982789763216.\n",
      "[I 2024-05-17 12:21:22,764] Trial 68 finished with value: 0.808206994385869 and parameters: {'n_estimators': 147, 'max_depth': 39, 'min_samples_split': 20, 'min_samples_leaf': 1}. Best is trial 18 with value: 0.8237982789763216.\n",
      "[I 2024-05-17 12:21:28,924] Trial 69 finished with value: 0.8144565080113962 and parameters: {'n_estimators': 134, 'max_depth': 43, 'min_samples_split': 17, 'min_samples_leaf': 1}. Best is trial 18 with value: 0.8237982789763216.\n",
      "[I 2024-05-17 12:21:36,310] Trial 70 finished with value: 0.8169786582088774 and parameters: {'n_estimators': 141, 'max_depth': 45, 'min_samples_split': 15, 'min_samples_leaf': 1}. Best is trial 18 with value: 0.8237982789763216.\n",
      "[I 2024-05-17 12:21:41,314] Trial 71 finished with value: 0.8188688866626594 and parameters: {'n_estimators': 153, 'max_depth': 49, 'min_samples_split': 20, 'min_samples_leaf': 2}. Best is trial 18 with value: 0.8237982789763216.\n",
      "[I 2024-05-17 12:21:47,475] Trial 72 finished with value: 0.8270906681528267 and parameters: {'n_estimators': 153, 'max_depth': 48, 'min_samples_split': 20, 'min_samples_leaf': 3}. Best is trial 72 with value: 0.8270906681528267.\n",
      "[I 2024-05-17 12:21:51,598] Trial 73 finished with value: 0.8184177409647186 and parameters: {'n_estimators': 152, 'max_depth': 49, 'min_samples_split': 20, 'min_samples_leaf': 4}. Best is trial 72 with value: 0.8270906681528267.\n",
      "[I 2024-05-17 12:21:55,180] Trial 74 finished with value: 0.8144157235742152 and parameters: {'n_estimators': 156, 'max_depth': 35, 'min_samples_split': 20, 'min_samples_leaf': 3}. Best is trial 72 with value: 0.8270906681528267.\n",
      "[I 2024-05-17 12:22:00,175] Trial 75 finished with value: 0.8154192251367532 and parameters: {'n_estimators': 139, 'max_depth': 45, 'min_samples_split': 18, 'min_samples_leaf': 3}. Best is trial 72 with value: 0.8270906681528267.\n",
      "[I 2024-05-17 12:22:05,464] Trial 76 finished with value: 0.8181756919949781 and parameters: {'n_estimators': 145, 'max_depth': 48, 'min_samples_split': 20, 'min_samples_leaf': 2}. Best is trial 72 with value: 0.8270906681528267.\n",
      "[I 2024-05-17 12:22:09,731] Trial 77 finished with value: 0.8171700600643241 and parameters: {'n_estimators': 165, 'max_depth': 43, 'min_samples_split': 18, 'min_samples_leaf': 4}. Best is trial 72 with value: 0.8270906681528267.\n",
      "[I 2024-05-17 12:22:12,053] Trial 78 finished with value: 0.7920787721583742 and parameters: {'n_estimators': 153, 'max_depth': 24, 'min_samples_split': 14, 'min_samples_leaf': 10}. Best is trial 72 with value: 0.8270906681528267.\n",
      "[I 2024-05-17 12:22:17,456] Trial 79 finished with value: 0.8146804572704598 and parameters: {'n_estimators': 171, 'max_depth': 31, 'min_samples_split': 10, 'min_samples_leaf': 3}. Best is trial 72 with value: 0.8270906681528267.\n",
      "[I 2024-05-17 12:22:23,353] Trial 80 finished with value: 0.8080385315654872 and parameters: {'n_estimators': 163, 'max_depth': 39, 'min_samples_split': 20, 'min_samples_leaf': 1}. Best is trial 72 with value: 0.8270906681528267.\n",
      "[I 2024-05-17 12:22:27,989] Trial 81 finished with value: 0.819054283044499 and parameters: {'n_estimators': 150, 'max_depth': 49, 'min_samples_split': 20, 'min_samples_leaf': 4}. Best is trial 72 with value: 0.8270906681528267.\n",
      "[I 2024-05-17 12:22:33,258] Trial 82 finished with value: 0.8220256087915876 and parameters: {'n_estimators': 144, 'max_depth': 50, 'min_samples_split': 20, 'min_samples_leaf': 4}. Best is trial 72 with value: 0.8270906681528267.\n",
      "[I 2024-05-17 12:22:36,744] Trial 83 finished with value: 0.8148373838818602 and parameters: {'n_estimators': 129, 'max_depth': 50, 'min_samples_split': 16, 'min_samples_leaf': 5}. Best is trial 72 with value: 0.8270906681528267.\n",
      "[I 2024-05-17 12:22:40,538] Trial 84 finished with value: 0.8159121336548857 and parameters: {'n_estimators': 143, 'max_depth': 46, 'min_samples_split': 19, 'min_samples_leaf': 4}. Best is trial 72 with value: 0.8270906681528267.\n",
      "[I 2024-05-17 12:22:44,692] Trial 85 finished with value: 0.8091516073921793 and parameters: {'n_estimators': 130, 'max_depth': 48, 'min_samples_split': 20, 'min_samples_leaf': 6}. Best is trial 72 with value: 0.8270906681528267.\n",
      "[I 2024-05-17 12:22:48,576] Trial 86 finished with value: 0.8079083314837903 and parameters: {'n_estimators': 123, 'max_depth': 45, 'min_samples_split': 17, 'min_samples_leaf': 4}. Best is trial 72 with value: 0.8270906681528267.\n",
      "[I 2024-05-17 12:22:51,809] Trial 87 finished with value: 0.818978841216454 and parameters: {'n_estimators': 138, 'max_depth': 42, 'min_samples_split': 18, 'min_samples_leaf': 5}. Best is trial 72 with value: 0.8270906681528267.\n",
      "[I 2024-05-17 12:22:56,628] Trial 88 finished with value: 0.8195642349479771 and parameters: {'n_estimators': 158, 'max_depth': 49, 'min_samples_split': 19, 'min_samples_leaf': 3}. Best is trial 72 with value: 0.8270906681528267.\n",
      "[I 2024-05-17 12:23:02,285] Trial 89 finished with value: 0.8189633528687029 and parameters: {'n_estimators': 146, 'max_depth': 47, 'min_samples_split': 19, 'min_samples_leaf': 3}. Best is trial 72 with value: 0.8270906681528267.\n",
      "[I 2024-05-17 12:23:06,261] Trial 90 finished with value: 0.8177966101694915 and parameters: {'n_estimators': 171, 'max_depth': 34, 'min_samples_split': 18, 'min_samples_leaf': 3}. Best is trial 72 with value: 0.8270906681528267.\n",
      "[I 2024-05-17 12:23:10,397] Trial 91 finished with value: 0.8190382820493624 and parameters: {'n_estimators': 150, 'max_depth': 49, 'min_samples_split': 19, 'min_samples_leaf': 4}. Best is trial 72 with value: 0.8270906681528267.\n",
      "[I 2024-05-17 12:23:16,904] Trial 92 finished with value: 0.8182305128049374 and parameters: {'n_estimators': 160, 'max_depth': 50, 'min_samples_split': 20, 'min_samples_leaf': 3}. Best is trial 72 with value: 0.8270906681528267.\n",
      "[I 2024-05-17 12:23:21,012] Trial 93 finished with value: 0.8133039378059315 and parameters: {'n_estimators': 157, 'max_depth': 48, 'min_samples_split': 19, 'min_samples_leaf': 5}. Best is trial 72 with value: 0.8270906681528267.\n",
      "[I 2024-05-17 12:23:23,969] Trial 94 finished with value: 0.8054557934937224 and parameters: {'n_estimators': 141, 'max_depth': 46, 'min_samples_split': 17, 'min_samples_leaf': 9}. Best is trial 72 with value: 0.8270906681528267.\n",
      "[I 2024-05-17 12:23:30,469] Trial 95 finished with value: 0.8166938433450063 and parameters: {'n_estimators': 133, 'max_depth': 49, 'min_samples_split': 8, 'min_samples_leaf': 2}. Best is trial 72 with value: 0.8270906681528267.\n",
      "[I 2024-05-17 12:23:35,333] Trial 96 finished with value: 0.8127139296491578 and parameters: {'n_estimators': 149, 'max_depth': 47, 'min_samples_split': 12, 'min_samples_leaf': 3}. Best is trial 72 with value: 0.8270906681528267.\n",
      "[I 2024-05-17 12:23:38,606] Trial 97 finished with value: 0.8111832362589542 and parameters: {'n_estimators': 115, 'max_depth': 50, 'min_samples_split': 20, 'min_samples_leaf': 3}. Best is trial 72 with value: 0.8270906681528267.\n",
      "[I 2024-05-17 12:23:42,977] Trial 98 finished with value: 0.8181305329773318 and parameters: {'n_estimators': 143, 'max_depth': 44, 'min_samples_split': 18, 'min_samples_leaf': 4}. Best is trial 72 with value: 0.8270906681528267.\n",
      "[I 2024-05-17 12:23:47,289] Trial 99 finished with value: 0.8084409487899954 and parameters: {'n_estimators': 156, 'max_depth': 29, 'min_samples_split': 19, 'min_samples_leaf': 2}. Best is trial 72 with value: 0.8270906681528267.\n"
     ]
    },
    {
     "name": "stdout",
     "output_type": "stream",
     "text": [
      "Best Random Forest Hyperparameters: {'n_estimators': 153, 'max_depth': 48, 'min_samples_split': 20, 'min_samples_leaf': 3}\n",
      "Random Forest F1 Score: 0.8270906681528267\n"
     ]
    }
   ],
   "source": [
    "\n",
    "# Define the objective function for hyperparameter optimization\n",
    "\n",
    "def objective_rf(trial):\n",
    "    n_estimators = trial.suggest_int('n_estimators', 50, 200)\n",
    "    max_depth = trial.suggest_int('max_depth', 5, 50)\n",
    "    min_samples_split = trial.suggest_int('min_samples_split', 2, 20)\n",
    "    min_samples_leaf = trial.suggest_int('min_samples_leaf', 1, 10)\n",
    "    clf = RandomForestClassifier(n_estimators=n_estimators, max_depth=max_depth,\n",
    "                                  min_samples_split=min_samples_split, min_samples_leaf=min_samples_leaf,\n",
    "                                  random_state=42)\n",
    "    clf.fit(X_train_tfidf_resampled, y_train_resampled)\n",
    "    f1 = f1_score(y_val, clf.predict(X_val_tfidf), average=\"weighted\")\n",
    "    return f1\n",
    "\n",
    "# Define the hyperparameter optimization study\n",
    "study_rf = optuna.create_study(direction='maximize')\n",
    "\n",
    "\n",
    "# Define Random Forest pipeline with oversampling\n",
    "rf_pipeline = Pipeline([\n",
    "    ('balancing', balancing),\n",
    "    ('classifier', RandomForestClassifier(random_state=42))\n",
    "])\n",
    "\n",
    "\n",
    "# Fit and optimize Random Forest pipeline\n",
    "rf_pipeline.fit(X_train_tfidf, y_train)\n",
    "X_train_tfidf_resampled, y_train_resampled = balancing.fit_resample(X_train_tfidf, y_train)\n",
    "study_rf.optimize(objective_rf, n_trials=100)\n",
    "\n",
    "# Print the best hyperparameters and corresponding accuracies\n",
    "print(\"Best Random Forest Hyperparameters:\", study_rf.best_params)\n",
    "print(\"Random Forest F1 Score:\", study_rf.best_value)\n"
   ]
  },
  {
   "cell_type": "markdown",
   "metadata": {
    "id": "kqHGoLVp5cYB"
   },
   "source": [
    "### Evaluating Model with best Hyperparameters on Test set"
   ]
  },
  {
   "cell_type": "code",
   "execution_count": 15,
   "metadata": {
    "colab": {
     "base_uri": "https://localhost:8080/"
    },
    "executionInfo": {
     "elapsed": 6026,
     "status": "ok",
     "timestamp": 1715948714508,
     "user": {
      "displayName": "Jahanvi Panchal",
      "userId": "01209420393961994162"
     },
     "user_tz": -120
    },
    "id": "_DUR-uSE4mvr",
    "outputId": "c5d6e8e5-1228-43ea-a916-3287544272ab"
   },
   "outputs": [
    {
     "name": "stdout",
     "output_type": "stream",
     "text": [
      "Random Forest F1 score on test set: 0.8220251748251749\n",
      "\n",
      "Random Forest Classification Report:\n",
      "              precision    recall  f1-score   support\n",
      "\n",
      "    Negative       0.63      0.74      0.68       168\n",
      "     Neutral       0.34      0.20      0.25        69\n",
      "    Positive       0.90      0.90      0.90       763\n",
      "\n",
      "    accuracy                           0.83      1000\n",
      "   macro avg       0.63      0.62      0.61      1000\n",
      "weighted avg       0.82      0.83      0.82      1000\n",
      "\n"
     ]
    }
   ],
   "source": [
    "# Get the best hyperparameters and retrain the model on the training set\n",
    "best_rf_params = study_rf.best_params\n",
    "rf_model = RandomForestClassifier(**best_rf_params, random_state=42)\n",
    "rf_model.fit(X_train_tfidf_resampled, y_train_resampled)\n",
    "\n",
    "# Evaluate the model on the test set\n",
    "rf_pred = rf_model.predict(X_test_tfidf)\n",
    "\n",
    "f1_test = f1_score(y_test, rf_pred, average='weighted')\n",
    "print(\"Random Forest F1 score on test set:\", f1_test)\n",
    "print(\"\\nRandom Forest Classification Report:\")\n",
    "print(classification_report(y_test, rf_pred))"
   ]
  }
 ],
 "metadata": {
  "colab": {
   "provenance": []
  },
  "kernelspec": {
   "display_name": "Python 3 (ipykernel)",
   "language": "python",
   "name": "python3"
  },
  "language_info": {
   "codemirror_mode": {
    "name": "ipython",
    "version": 3
   },
   "file_extension": ".py",
   "mimetype": "text/x-python",
   "name": "python",
   "nbconvert_exporter": "python",
   "pygments_lexer": "ipython3",
   "version": "3.9.12"
  }
 },
 "nbformat": 4,
 "nbformat_minor": 1
}
