{
 "cells": [
  {
   "cell_type": "markdown",
   "metadata": {},
   "source": [
    "# **Exploratory Data Analysis (Original Dataset)**"
   ]
  },
  {
   "cell_type": "code",
   "execution_count": 1,
   "metadata": {},
   "outputs": [],
   "source": [
    "import pandas as pd\n",
    "import matplotlib.pyplot as plt\n",
    "import seaborn as sns\n",
    "from datetime import datetime"
   ]
  },
  {
   "cell_type": "markdown",
   "metadata": {},
   "source": [
    "### Loading Data and Exploration "
   ]
  },
  {
   "cell_type": "code",
   "execution_count": 2,
   "metadata": {},
   "outputs": [],
   "source": [
    "# Load the dataset\n",
    "df = pd.read_csv(\"amazon_reviews_us_Electronics_v1_00.tsv\", sep=\"\\t\",  on_bad_lines=\"skip\")"
   ]
  },
  {
   "cell_type": "code",
   "execution_count": 3,
   "metadata": {},
   "outputs": [
    {
     "name": "stdout",
     "output_type": "stream",
     "text": [
      "(3091024, 15)\n"
     ]
    },
    {
     "data": {
      "text/html": [
       "<div>\n",
       "<style scoped>\n",
       "    .dataframe tbody tr th:only-of-type {\n",
       "        vertical-align: middle;\n",
       "    }\n",
       "\n",
       "    .dataframe tbody tr th {\n",
       "        vertical-align: top;\n",
       "    }\n",
       "\n",
       "    .dataframe thead th {\n",
       "        text-align: right;\n",
       "    }\n",
       "</style>\n",
       "<table border=\"1\" class=\"dataframe\">\n",
       "  <thead>\n",
       "    <tr style=\"text-align: right;\">\n",
       "      <th></th>\n",
       "      <th>marketplace</th>\n",
       "      <th>customer_id</th>\n",
       "      <th>review_id</th>\n",
       "      <th>product_id</th>\n",
       "      <th>product_parent</th>\n",
       "      <th>product_title</th>\n",
       "      <th>product_category</th>\n",
       "      <th>star_rating</th>\n",
       "      <th>helpful_votes</th>\n",
       "      <th>total_votes</th>\n",
       "      <th>vine</th>\n",
       "      <th>verified_purchase</th>\n",
       "      <th>review_headline</th>\n",
       "      <th>review_body</th>\n",
       "      <th>review_date</th>\n",
       "    </tr>\n",
       "  </thead>\n",
       "  <tbody>\n",
       "    <tr>\n",
       "      <th>0</th>\n",
       "      <td>US</td>\n",
       "      <td>41409413</td>\n",
       "      <td>R2MTG1GCZLR2DK</td>\n",
       "      <td>B00428R89M</td>\n",
       "      <td>112201306</td>\n",
       "      <td>yoomall 5M Antenna WIFI RP-SMA Female to Male ...</td>\n",
       "      <td>Electronics</td>\n",
       "      <td>5</td>\n",
       "      <td>0</td>\n",
       "      <td>0</td>\n",
       "      <td>N</td>\n",
       "      <td>Y</td>\n",
       "      <td>Five Stars</td>\n",
       "      <td>As described.</td>\n",
       "      <td>2015-08-31</td>\n",
       "    </tr>\n",
       "    <tr>\n",
       "      <th>1</th>\n",
       "      <td>US</td>\n",
       "      <td>49668221</td>\n",
       "      <td>R2HBOEM8LE9928</td>\n",
       "      <td>B000068O48</td>\n",
       "      <td>734576678</td>\n",
       "      <td>Hosa GPM-103 3.5mm TRS to 1/4\" TRS Adaptor</td>\n",
       "      <td>Electronics</td>\n",
       "      <td>5</td>\n",
       "      <td>0</td>\n",
       "      <td>0</td>\n",
       "      <td>N</td>\n",
       "      <td>Y</td>\n",
       "      <td>It works as advertising.</td>\n",
       "      <td>It works as advertising.</td>\n",
       "      <td>2015-08-31</td>\n",
       "    </tr>\n",
       "    <tr>\n",
       "      <th>2</th>\n",
       "      <td>US</td>\n",
       "      <td>12338275</td>\n",
       "      <td>R1P4RW1R9FDPEE</td>\n",
       "      <td>B000GGKOG8</td>\n",
       "      <td>614448099</td>\n",
       "      <td>Channel Master Titan 2 Antenna Preamplifier</td>\n",
       "      <td>Electronics</td>\n",
       "      <td>5</td>\n",
       "      <td>1</td>\n",
       "      <td>1</td>\n",
       "      <td>N</td>\n",
       "      <td>Y</td>\n",
       "      <td>Five Stars</td>\n",
       "      <td>Works pissa</td>\n",
       "      <td>2015-08-31</td>\n",
       "    </tr>\n",
       "    <tr>\n",
       "      <th>3</th>\n",
       "      <td>US</td>\n",
       "      <td>38487968</td>\n",
       "      <td>R1EBPM82ENI67M</td>\n",
       "      <td>B000NU4OTA</td>\n",
       "      <td>72265257</td>\n",
       "      <td>LIMTECH Wall charger + USB Hotsync &amp; Charging ...</td>\n",
       "      <td>Electronics</td>\n",
       "      <td>1</td>\n",
       "      <td>0</td>\n",
       "      <td>0</td>\n",
       "      <td>N</td>\n",
       "      <td>Y</td>\n",
       "      <td>One Star</td>\n",
       "      <td>Did not work at all.</td>\n",
       "      <td>2015-08-31</td>\n",
       "    </tr>\n",
       "    <tr>\n",
       "      <th>4</th>\n",
       "      <td>US</td>\n",
       "      <td>23732619</td>\n",
       "      <td>R372S58V6D11AT</td>\n",
       "      <td>B00JOQIO6S</td>\n",
       "      <td>308169188</td>\n",
       "      <td>Skullcandy Air Raid Portable Bluetooth Speaker</td>\n",
       "      <td>Electronics</td>\n",
       "      <td>5</td>\n",
       "      <td>1</td>\n",
       "      <td>1</td>\n",
       "      <td>N</td>\n",
       "      <td>Y</td>\n",
       "      <td>Overall pleased with the item</td>\n",
       "      <td>Works well. Bass is somewhat lacking but is pr...</td>\n",
       "      <td>2015-08-31</td>\n",
       "    </tr>\n",
       "  </tbody>\n",
       "</table>\n",
       "</div>"
      ],
      "text/plain": [
       "  marketplace  customer_id       review_id  product_id  product_parent  \\\n",
       "0          US     41409413  R2MTG1GCZLR2DK  B00428R89M       112201306   \n",
       "1          US     49668221  R2HBOEM8LE9928  B000068O48       734576678   \n",
       "2          US     12338275  R1P4RW1R9FDPEE  B000GGKOG8       614448099   \n",
       "3          US     38487968  R1EBPM82ENI67M  B000NU4OTA        72265257   \n",
       "4          US     23732619  R372S58V6D11AT  B00JOQIO6S       308169188   \n",
       "\n",
       "                                       product_title product_category  \\\n",
       "0  yoomall 5M Antenna WIFI RP-SMA Female to Male ...      Electronics   \n",
       "1         Hosa GPM-103 3.5mm TRS to 1/4\" TRS Adaptor      Electronics   \n",
       "2        Channel Master Titan 2 Antenna Preamplifier      Electronics   \n",
       "3  LIMTECH Wall charger + USB Hotsync & Charging ...      Electronics   \n",
       "4     Skullcandy Air Raid Portable Bluetooth Speaker      Electronics   \n",
       "\n",
       "   star_rating  helpful_votes  total_votes vine verified_purchase  \\\n",
       "0            5              0            0    N                 Y   \n",
       "1            5              0            0    N                 Y   \n",
       "2            5              1            1    N                 Y   \n",
       "3            1              0            0    N                 Y   \n",
       "4            5              1            1    N                 Y   \n",
       "\n",
       "                 review_headline  \\\n",
       "0                     Five Stars   \n",
       "1       It works as advertising.   \n",
       "2                     Five Stars   \n",
       "3                       One Star   \n",
       "4  Overall pleased with the item   \n",
       "\n",
       "                                         review_body review_date  \n",
       "0                                      As described.  2015-08-31  \n",
       "1                           It works as advertising.  2015-08-31  \n",
       "2                                        Works pissa  2015-08-31  \n",
       "3                               Did not work at all.  2015-08-31  \n",
       "4  Works well. Bass is somewhat lacking but is pr...  2015-08-31  "
      ]
     },
     "execution_count": 3,
     "metadata": {},
     "output_type": "execute_result"
    }
   ],
   "source": [
    "print(df.shape)\n",
    "df.head()"
   ]
  },
  {
   "cell_type": "code",
   "execution_count": 4,
   "metadata": {
    "scrolled": true
   },
   "outputs": [
    {
     "data": {
      "text/plain": [
       "<bound method DataFrame.info of         marketplace  customer_id       review_id  product_id  product_parent  \\\n",
       "0                US     41409413  R2MTG1GCZLR2DK  B00428R89M       112201306   \n",
       "1                US     49668221  R2HBOEM8LE9928  B000068O48       734576678   \n",
       "2                US     12338275  R1P4RW1R9FDPEE  B000GGKOG8       614448099   \n",
       "3                US     38487968  R1EBPM82ENI67M  B000NU4OTA        72265257   \n",
       "4                US     23732619  R372S58V6D11AT  B00JOQIO6S       308169188   \n",
       "...             ...          ...             ...         ...             ...   \n",
       "3091019          US     51216847   RZ3LLAKIZQ3RR  B00000JBAT       738692522   \n",
       "3091020          US     52953714  R1V8GVI67B7V0K  B00000JBAT       738692522   \n",
       "3091021          US     51764094  R3BDESK5VUNK8C  B00000J4FY       503765214   \n",
       "3091022          US     52011360  R1JJGM0JWVT7DV  B00000JHWN       662358399   \n",
       "3091023          US     51807224  R30PZG0PCGR2V0  0966185056       435880663   \n",
       "\n",
       "                                             product_title product_category  \\\n",
       "0        yoomall 5M Antenna WIFI RP-SMA Female to Male ...      Electronics   \n",
       "1               Hosa GPM-103 3.5mm TRS to 1/4\" TRS Adaptor      Electronics   \n",
       "2              Channel Master Titan 2 Antenna Preamplifier      Electronics   \n",
       "3        LIMTECH Wall charger + USB Hotsync & Charging ...      Electronics   \n",
       "4           Skullcandy Air Raid Portable Bluetooth Speaker      Electronics   \n",
       "...                                                    ...              ...   \n",
       "3091019                         Diamond Rio Digital Player      Electronics   \n",
       "3091020                         Diamond Rio Digital Player      Electronics   \n",
       "3091021             JVC RVB90 Urban Assault Kaboom (Green)      Electronics   \n",
       "3091022                                 Sony DE441 Discman      Electronics   \n",
       "3091023  The Sights and Sounds of Christmas: The Comple...      Electronics   \n",
       "\n",
       "         star_rating  helpful_votes  total_votes vine verified_purchase  \\\n",
       "0                  5              0            0    N                 Y   \n",
       "1                  5              0            0    N                 Y   \n",
       "2                  5              1            1    N                 Y   \n",
       "3                  1              0            0    N                 Y   \n",
       "4                  5              1            1    N                 Y   \n",
       "...              ...            ...          ...  ...               ...   \n",
       "3091019            5              0            0    N                 N   \n",
       "3091020            5              0            0    N                 N   \n",
       "3091021            5              5            5    N                 N   \n",
       "3091022            5              3            3    N                 N   \n",
       "3091023            1              7            9    N                 N   \n",
       "\n",
       "                                   review_headline  \\\n",
       "0                                       Five Stars   \n",
       "1                         It works as advertising.   \n",
       "2                                       Five Stars   \n",
       "3                                         One Star   \n",
       "4                    Overall pleased with the item   \n",
       "...                                            ...   \n",
       "3091019        Next Millenium Consumer Electronics   \n",
       "3091020    WOW! THE BEST THING TO HAPPEN TO MUSIC!   \n",
       "3091021       The most powerful boombox ever made.   \n",
       "3091022                                  very nice   \n",
       "3091023  The complete collection of what? By whom?   \n",
       "\n",
       "                                               review_body review_date  \n",
       "0                                            As described.  2015-08-31  \n",
       "1                                 It works as advertising.  2015-08-31  \n",
       "2                                              Works pissa  2015-08-31  \n",
       "3                                     Did not work at all.  2015-08-31  \n",
       "4        Works well. Bass is somewhat lacking but is pr...  2015-08-31  \n",
       "...                                                    ...         ...  \n",
       "3091019  Diamond's RIO is the current, silicon-state ni...  1999-06-14  \n",
       "3091020  The RIO rocks! It is so great that Diamond Mul...  1999-06-13  \n",
       "3091021  I have listened to practically every boombox a...  1999-06-12  \n",
       "3091022  compared to my old discman this one is really ...  1999-06-12  \n",
       "3091023  I love Christmas videos and music, but I usual...  1999-06-09  \n",
       "\n",
       "[3091024 rows x 15 columns]>"
      ]
     },
     "execution_count": 4,
     "metadata": {},
     "output_type": "execute_result"
    }
   ],
   "source": [
    "df.info"
   ]
  },
  {
   "cell_type": "code",
   "execution_count": 5,
   "metadata": {
    "scrolled": true
   },
   "outputs": [
    {
     "name": "stdout",
     "output_type": "stream",
     "text": [
      "marketplace          object\n",
      "customer_id           int64\n",
      "review_id            object\n",
      "product_id           object\n",
      "product_parent        int64\n",
      "product_title        object\n",
      "product_category     object\n",
      "star_rating           int64\n",
      "helpful_votes         int64\n",
      "total_votes           int64\n",
      "vine                 object\n",
      "verified_purchase    object\n",
      "review_headline      object\n",
      "review_body          object\n",
      "review_date          object\n",
      "dtype: object\n"
     ]
    }
   ],
   "source": [
    "print(df.dtypes)"
   ]
  },
  {
   "cell_type": "markdown",
   "metadata": {},
   "source": [
    "### Checking for missing values "
   ]
  },
  {
   "cell_type": "code",
   "execution_count": 7,
   "metadata": {
    "scrolled": true
   },
   "outputs": [
    {
     "name": "stdout",
     "output_type": "stream",
     "text": [
      "marketplace          False\n",
      "customer_id          False\n",
      "review_id            False\n",
      "product_id           False\n",
      "product_parent       False\n",
      "product_title         True\n",
      "product_category     False\n",
      "star_rating          False\n",
      "helpful_votes        False\n",
      "total_votes          False\n",
      "vine                 False\n",
      "verified_purchase    False\n",
      "review_headline       True\n",
      "review_body           True\n",
      "review_date           True\n",
      "dtype: bool\n"
     ]
    }
   ],
   "source": [
    "print(df.isnull().any())\n"
   ]
  },
  {
   "cell_type": "code",
   "execution_count": 8,
   "metadata": {},
   "outputs": [
    {
     "data": {
      "image/png": "[encoded data removed]",
      "text/plain": [
       "<Figure size 432x288 with 1 Axes>"
      ]
     },
     "metadata": {
      "needs_background": "light"
     },
     "output_type": "display_data"
    }
   ],
   "source": [
    "# bar plot showing number of missing values per column\n",
    "df.isna().sum().plot(kind='bar', title='number of missing values per column')\n",
    "\n",
    "plt.show()"
   ]
  },
  {
   "cell_type": "code",
   "execution_count": 9,
   "metadata": {},
   "outputs": [
    {
     "data": {
      "text/plain": [
       "min   1999-06-09\n",
       "max   2015-08-31\n",
       "Name: review_date, dtype: datetime64[ns]"
      ]
     },
     "execution_count": 9,
     "metadata": {},
     "output_type": "execute_result"
    }
   ],
   "source": [
    "# first and last review date\n",
    "df['review_date'] = pd.to_datetime(df['review_date'])\n",
    "df[\"review_date\"].agg([\"min\", \"max\"])"
   ]
  },
  {
   "cell_type": "code",
   "execution_count": 10,
   "metadata": {},
   "outputs": [
    {
     "data": {
      "image/png": "[encoded data removed]",
      "text/plain": [
       "<Figure size 432x288 with 1 Axes>"
      ]
     },
     "metadata": {
      "needs_background": "light"
     },
     "output_type": "display_data"
    }
   ],
   "source": [
    "# histogram of number of reviews per date\n",
    "fig, ax = plt.subplots()\n",
    "df[\"review_date\"].dt.year.plot(kind=\"hist\", title=\"number of reviews per date\", ax=ax)\n",
    "\n",
    "plt.show()"
   ]
  },
  {
   "cell_type": "code",
   "execution_count": 11,
   "metadata": {},
   "outputs": [
    {
     "data": {
      "text/plain": [
       "count    2.152773e+06\n",
       "mean     1.435834e+00\n",
       "std      1.470075e+00\n",
       "min      1.000000e+00\n",
       "25%      1.000000e+00\n",
       "50%      1.000000e+00\n",
       "75%      1.000000e+00\n",
       "max      2.340000e+02\n",
       "Name: customer_id, dtype: float64"
      ]
     },
     "execution_count": 11,
     "metadata": {},
     "output_type": "execute_result"
    }
   ],
   "source": [
    "# number of reviews per customer\n",
    "df[\"customer_id\"].value_counts().describe()"
   ]
  },
  {
   "cell_type": "code",
   "execution_count": 12,
   "metadata": {},
   "outputs": [
    {
     "data": {
      "image/png": "[encoded data removed]",
      "text/plain": [
       "<Figure size 432x288 with 1 Axes>"
      ]
     },
     "metadata": {},
     "output_type": "display_data"
    }
   ],
   "source": [
    "# number of verified vs. unverified purchases\n",
    "df[\"verified_purchase\"].value_counts().plot(kind=\"pie\", autopct='%1.1f%%', title=\"share of verified vs. unverified purchases\")\n",
    "\n",
    "plt.show()"
   ]
  },
  {
   "cell_type": "markdown",
   "metadata": {},
   "source": [
    "### Distribution of Rating "
   ]
  },
  {
   "cell_type": "code",
   "execution_count": 13,
   "metadata": {},
   "outputs": [
    {
     "data": {
      "image/png": "[encoded data removed]",
      "text/plain": [
       "<Figure size 432x288 with 1 Axes>"
      ]
     },
     "metadata": {
      "needs_background": "light"
     },
     "output_type": "display_data"
    }
   ],
   "source": [
    "# distribution of rating\n",
    "sns.countplot(x=df['star_rating'], palette=\"Blues\")\n",
    "\n",
    "plt.title('Distribution of rating scores')\n",
    "plt.xlabel('Rating')\n",
    "plt.ylabel('Count')\n",
    "plt.show()"
   ]
  },
  {
   "cell_type": "code",
   "execution_count": 14,
   "metadata": {},
   "outputs": [
    {
     "data": {
      "image/png": "[encoded data removed]",
      "text/plain": [
       "<Figure size 432x288 with 1 Axes>"
      ]
     },
     "metadata": {},
     "output_type": "display_data"
    }
   ],
   "source": [
    "# pie chart for number of reviews per star rating\n",
    "df[\"star_rating\"].value_counts().sort_index().plot(kind=\"pie\", autopct='%1.1f%%', title=\"share of reviews per star rating\")\n",
    "\n",
    "plt.show()"
   ]
  },
  {
   "cell_type": "markdown",
   "metadata": {},
   "source": [
    "### Function for mapping sentiment"
   ]
  },
  {
   "cell_type": "code",
   "execution_count": 15,
   "metadata": {},
   "outputs": [],
   "source": [
    "#Since the distribution of rating is highly imbalanced, we can convert the score into 3 categories: negative(<3), neutral(=3), positive(>3)\n",
    "\n",
    "def map_sentiment(rating):\n",
    "    if rating >= 4:\n",
    "        return 'Positive'\n",
    "    elif rating <= 2:\n",
    "        return 'Negative'\n",
    "    else:\n",
    "        return 'Neutral'\n",
    "    \n",
    "df['sentiment'] = df['star_rating'].apply(map_sentiment)\n"
   ]
  },
  {
   "cell_type": "markdown",
   "metadata": {},
   "source": [
    "### Distribution of Sentiments "
   ]
  },
  {
   "cell_type": "code",
   "execution_count": 17,
   "metadata": {},
   "outputs": [
    {
     "data": {
      "image/png": "[encoded data removed]",
      "text/plain": [
       "<Figure size 432x288 with 1 Axes>"
      ]
     },
     "metadata": {
      "needs_background": "light"
     },
     "output_type": "display_data"
    }
   ],
   "source": [
    "# Plot the score distribution after conversion\n",
    "sns.countplot(x=df['sentiment'])\n",
    "\n",
    "plt.title('Distribution of Sentiment Labels')\n",
    "plt.xlabel('Sentiment')\n",
    "plt.ylabel('Count')\n",
    "plt.show()"
   ]
  },
  {
   "cell_type": "code",
   "execution_count": 18,
   "metadata": {},
   "outputs": [
    {
     "name": "stdout",
     "output_type": "stream",
     "text": [
      "Positive    0.749198\n",
      "Negative    0.173680\n",
      "Neutral     0.077122\n",
      "Name: sentiment, dtype: float64\n"
     ]
    }
   ],
   "source": [
    "# Calculate sentiment distribution\n",
    "sentiment_distribution = df['sentiment'].value_counts(normalize = True)\n",
    "print(sentiment_distribution)"
   ]
  },
  {
   "cell_type": "markdown",
   "metadata": {},
   "source": [
    "# **Basic Preprocessing of Dataset & Downsampling**\n",
    "\n",
    "Since the original dataset is very large, we need to do some preprocessing and downsample it.\n",
    "\n",
    "- filter dataset by review_date (with the most recent reviews), as the data set is very large\n",
    "- remove the rows with empty/missing text review field\n",
    "- only use relevant columns, including the review body and the star ratings"
   ]
  },
  {
   "cell_type": "code",
   "execution_count": 19,
   "metadata": {},
   "outputs": [],
   "source": [
    "filtered_data = df.copy()\n",
    "\n",
    "# filter by last month reviews based on review_date\n",
    "filtered_data['review_date'] = pd.to_datetime(filtered_data ['review_date'])\n",
    "filtered_data  = filtered_data [filtered_data ['review_date'] >= datetime(2015, 8, 15)] "
   ]
  },
  {
   "cell_type": "code",
   "execution_count": 20,
   "metadata": {},
   "outputs": [
    {
     "data": {
      "text/plain": [
       "(56743, 16)"
      ]
     },
     "execution_count": 20,
     "metadata": {},
     "output_type": "execute_result"
    }
   ],
   "source": [
    "filtered_data .shape"
   ]
  },
  {
   "cell_type": "code",
   "execution_count": 21,
   "metadata": {},
   "outputs": [
    {
     "name": "stdout",
     "output_type": "stream",
     "text": [
      "marketplace          False\n",
      "customer_id          False\n",
      "review_id            False\n",
      "product_id           False\n",
      "product_parent       False\n",
      "product_title        False\n",
      "product_category     False\n",
      "star_rating          False\n",
      "helpful_votes        False\n",
      "total_votes          False\n",
      "vine                 False\n",
      "verified_purchase    False\n",
      "review_headline      False\n",
      "review_body           True\n",
      "review_date          False\n",
      "sentiment            False\n",
      "dtype: bool\n"
     ]
    }
   ],
   "source": [
    "print(filtered_data.isnull().any())"
   ]
  },
  {
   "cell_type": "code",
   "execution_count": 22,
   "metadata": {},
   "outputs": [],
   "source": [
    "# Drop rows with missing review text\n",
    "filtered_data = filtered_data.dropna(subset=['review_body'])"
   ]
  },
  {
   "cell_type": "code",
   "execution_count": 23,
   "metadata": {},
   "outputs": [
    {
     "data": {
      "text/plain": [
       "(56738, 16)"
      ]
     },
     "execution_count": 23,
     "metadata": {},
     "output_type": "execute_result"
    }
   ],
   "source": [
    "filtered_data .shape"
   ]
  },
  {
   "cell_type": "code",
   "execution_count": 24,
   "metadata": {},
   "outputs": [
    {
     "name": "stdout",
     "output_type": "stream",
     "text": [
      "Positive    0.763509\n",
      "Negative    0.168000\n",
      "Neutral     0.068490\n",
      "Name: sentiment, dtype: float64\n"
     ]
    }
   ],
   "source": [
    "# Calculate sentiment distribution\n",
    "sentiment_distribution = filtered_data['sentiment'].value_counts(normalize = True)\n",
    "print(sentiment_distribution)"
   ]
  },
  {
   "cell_type": "code",
   "execution_count": 25,
   "metadata": {},
   "outputs": [],
   "source": [
    "# Determine target sample size for each class\n",
    "downsampled_size = 10000\n",
    "target_sample_sizes = (sentiment_distribution * downsampled_size).astype(int)\n",
    "\n",
    "# Downsampling each class to target sample size\n",
    "downsampled_data = pd.concat([filtered_data[filtered_data['sentiment'] == sentiment].sample(n=target_sample_sizes[sentiment], replace=False)\n",
    "                     for sentiment in target_sample_sizes.index])\n",
    "\n",
    "# Shuffle the downsampled_dataset\n",
    "downsampled_data = downsampled_data.sample(frac = 1).reset_index(drop = True)\n"
   ]
  },
  {
   "cell_type": "code",
   "execution_count": 26,
   "metadata": {},
   "outputs": [
    {
     "data": {
      "text/plain": [
       "(9999, 16)"
      ]
     },
     "execution_count": 26,
     "metadata": {},
     "output_type": "execute_result"
    }
   ],
   "source": [
    "downsampled_data.shape"
   ]
  },
  {
   "cell_type": "code",
   "execution_count": 27,
   "metadata": {},
   "outputs": [
    {
     "name": "stdout",
     "output_type": "stream",
     "text": [
      "marketplace          False\n",
      "customer_id          False\n",
      "review_id            False\n",
      "product_id           False\n",
      "product_parent       False\n",
      "product_title        False\n",
      "product_category     False\n",
      "star_rating          False\n",
      "helpful_votes        False\n",
      "total_votes          False\n",
      "vine                 False\n",
      "verified_purchase    False\n",
      "review_headline      False\n",
      "review_body          False\n",
      "review_date          False\n",
      "sentiment            False\n",
      "dtype: bool\n"
     ]
    }
   ],
   "source": [
    "print(downsampled_data.isnull().any())"
   ]
  },
  {
   "cell_type": "code",
   "execution_count": 28,
   "metadata": {},
   "outputs": [
    {
     "name": "stdout",
     "output_type": "stream",
     "text": [
      "Positive    0.763576\n",
      "Negative    0.168017\n",
      "Neutral     0.068407\n",
      "Name: sentiment, dtype: float64\n"
     ]
    }
   ],
   "source": [
    "# Calculate sentiment distribution\n",
    "sentiment_distribution = downsampled_data['sentiment'].value_counts(normalize = True)\n",
    "print(sentiment_distribution)"
   ]
  },
  {
   "cell_type": "markdown",
   "metadata": {},
   "source": [
    "### Sentiment Distribution after Downsampling "
   ]
  },
  {
   "cell_type": "code",
   "execution_count": 29,
   "metadata": {},
   "outputs": [
    {
     "data": {
      "image/png": "[encoded data removed]",
      "text/plain": [
       "<Figure size 432x288 with 1 Axes>"
      ]
     },
     "metadata": {
      "needs_background": "light"
     },
     "output_type": "display_data"
    }
   ],
   "source": [
    "# Plot the sentiment distribution after downsampling\n",
    "sns.countplot(x=df['sentiment'])\n",
    "\n",
    "plt.title('Distribution of Sentiment Labels')\n",
    "plt.xlabel('Sentiment')\n",
    "plt.ylabel('Count')\n",
    "plt.show()"
   ]
  },
  {
   "cell_type": "code",
   "execution_count": 30,
   "metadata": {},
   "outputs": [],
   "source": [
    "# Save the downsampled dataset to a new file\n",
    "#downsampled_data.to_csv('downsampled_dataset_10k.csv', index=False)"
   ]
  },
  {
   "cell_type": "code",
   "execution_count": 31,
   "metadata": {
    "scrolled": true
   },
   "outputs": [
    {
     "data": {
      "text/html": [
       "<div>\n",
       "<style scoped>\n",
       "    .dataframe tbody tr th:only-of-type {\n",
       "        vertical-align: middle;\n",
       "    }\n",
       "\n",
       "    .dataframe tbody tr th {\n",
       "        vertical-align: top;\n",
       "    }\n",
       "\n",
       "    .dataframe thead th {\n",
       "        text-align: right;\n",
       "    }\n",
       "</style>\n",
       "<table border=\"1\" class=\"dataframe\">\n",
       "  <thead>\n",
       "    <tr style=\"text-align: right;\">\n",
       "      <th></th>\n",
       "      <th>review_body</th>\n",
       "      <th>sentiment</th>\n",
       "    </tr>\n",
       "  </thead>\n",
       "  <tbody>\n",
       "    <tr>\n",
       "      <th>0</th>\n",
       "      <td>Very happy with this. Works perfect.</td>\n",
       "      <td>Positive</td>\n",
       "    </tr>\n",
       "    <tr>\n",
       "      <th>1</th>\n",
       "      <td>Had this for about 5 months now. Great sound, ...</td>\n",
       "      <td>Positive</td>\n",
       "    </tr>\n",
       "    <tr>\n",
       "      <th>2</th>\n",
       "      <td>Especially for the price!</td>\n",
       "      <td>Positive</td>\n",
       "    </tr>\n",
       "    <tr>\n",
       "      <th>3</th>\n",
       "      <td>Construction seemed OK.  Controls and connecti...</td>\n",
       "      <td>Neutral</td>\n",
       "    </tr>\n",
       "    <tr>\n",
       "      <th>4</th>\n",
       "      <td>It does build as strong at all as expected.</td>\n",
       "      <td>Neutral</td>\n",
       "    </tr>\n",
       "    <tr>\n",
       "      <th>5</th>\n",
       "      <td>This 2 pack of Male to Male stereo speaker cab...</td>\n",
       "      <td>Positive</td>\n",
       "    </tr>\n",
       "    <tr>\n",
       "      <th>6</th>\n",
       "      <td>Mixes the looks for an antique, but with the m...</td>\n",
       "      <td>Positive</td>\n",
       "    </tr>\n",
       "    <tr>\n",
       "      <th>7</th>\n",
       "      <td>Works Great, sound and video quality is terrif...</td>\n",
       "      <td>Positive</td>\n",
       "    </tr>\n",
       "    <tr>\n",
       "      <th>8</th>\n",
       "      <td>Excellent</td>\n",
       "      <td>Positive</td>\n",
       "    </tr>\n",
       "    <tr>\n",
       "      <th>9</th>\n",
       "      <td>This item was extremely NOT user friendly, it ...</td>\n",
       "      <td>Negative</td>\n",
       "    </tr>\n",
       "  </tbody>\n",
       "</table>\n",
       "</div>"
      ],
      "text/plain": [
       "                                         review_body sentiment\n",
       "0               Very happy with this. Works perfect.  Positive\n",
       "1  Had this for about 5 months now. Great sound, ...  Positive\n",
       "2                          Especially for the price!  Positive\n",
       "3  Construction seemed OK.  Controls and connecti...   Neutral\n",
       "4        It does build as strong at all as expected.   Neutral\n",
       "5  This 2 pack of Male to Male stereo speaker cab...  Positive\n",
       "6  Mixes the looks for an antique, but with the m...  Positive\n",
       "7  Works Great, sound and video quality is terrif...  Positive\n",
       "8                                          Excellent  Positive\n",
       "9  This item was extremely NOT user friendly, it ...  Negative"
      ]
     },
     "execution_count": 31,
     "metadata": {},
     "output_type": "execute_result"
    }
   ],
   "source": [
    "# Actually we only need the content(i.e. review) & the sentiment score for classification\n",
    "downsampled_data = downsampled_data[[\"review_body\", \"sentiment\"]]\n",
    "downsampled_data.head(10)"
   ]
  },
  {
   "cell_type": "code",
   "execution_count": null,
   "metadata": {},
   "outputs": [],
   "source": []
  },
  {
   "cell_type": "code",
   "execution_count": null,
   "metadata": {},
   "outputs": [],
   "source": []
  },
  {
   "cell_type": "code",
   "execution_count": null,
   "metadata": {},
   "outputs": [],
   "source": []
  }
 ],
 "metadata": {
  "kernelspec": {
   "display_name": "Python 3 (ipykernel)",
   "language": "python",
   "name": "python3"
  },
  "language_info": {
   "codemirror_mode": {
    "name": "ipython",
    "version": 3
   },
   "file_extension": ".py",
   "mimetype": "text/x-python",
   "name": "python",
   "nbconvert_exporter": "python",
   "pygments_lexer": "ipython3",
   "version": "3.9.12"
  }
 },
 "nbformat": 4,
 "nbformat_minor": 2
}
